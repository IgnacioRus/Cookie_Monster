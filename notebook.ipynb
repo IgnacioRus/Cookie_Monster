{
 "cells": [
  {
   "cell_type": "markdown",
   "source": "# Libraries",
   "metadata": {
    "tags": [],
    "cell_id": "00000-23363479-be33-4dc7-bfb6-49419988098b",
    "deepnote_cell_type": "text-cell-h1"
   }
  },
  {
   "cell_type": "code",
   "metadata": {
    "tags": [],
    "cell_id": "00000-869c006c-5a40-4f67-9575-033b81749e52",
    "deepnote_to_be_reexecuted": false,
    "source_hash": "68301009",
    "execution_start": 1620804853501,
    "execution_millis": 3366,
    "deepnote_cell_type": "code"
   },
   "source": "import pandas as pd\nimport numpy as np\nimport seaborn as sns\nimport matplotlib.pyplot as plt",
   "outputs": [],
   "execution_count": null
  },
  {
   "cell_type": "markdown",
   "source": "# Data Processing",
   "metadata": {
    "tags": [],
    "cell_id": "00002-8ea54177-bc91-4c4a-8887-7714a4a301e7",
    "deepnote_cell_type": "text-cell-h1"
   }
  },
  {
   "cell_type": "markdown",
   "source": "## Importing Data",
   "metadata": {
    "tags": [],
    "cell_id": "00003-35b7fa9e-9432-4cd3-b1fc-204af1db8fd6",
    "deepnote_cell_type": "text-cell-h2"
   }
  },
  {
   "cell_type": "code",
   "metadata": {
    "tags": [],
    "cell_id": "00001-8e09f010-636f-4475-8718-6083ea20e241",
    "deepnote_to_be_reexecuted": false,
    "source_hash": "4d7eb644",
    "execution_start": 1620804856876,
    "execution_millis": 78,
    "is_output_hidden": false,
    "deepnote_cell_type": "code"
   },
   "source": "PATH = './cookies.csv'\n\ndata = pd.read_csv(PATH)",
   "outputs": [],
   "execution_count": null
  },
  {
   "cell_type": "code",
   "metadata": {
    "tags": [],
    "cell_id": "00005-226173e6-2da0-4969-b57a-d1a01c23c90d",
    "deepnote_to_be_reexecuted": false,
    "source_hash": "e6928a8f",
    "execution_start": 1620804856957,
    "execution_millis": 423,
    "is_output_hidden": false,
    "deepnote_cell_type": "code"
   },
   "source": "data",
   "outputs": [
    {
     "output_type": "execute_result",
     "execution_count": 3,
     "data": {
      "application/vnd.deepnote.dataframe.v2+json": {
       "row_count": 5198,
       "column_count": 16,
       "columns": [
        {
         "name": "sugar to flour ratio",
         "dtype": "float64",
         "stats": {
          "unique_count": 89,
          "nan_count": 0,
          "min": "0.0",
          "max": "3.0",
          "histogram": [
           {
            "bin_start": 0,
            "bin_end": 0.3,
            "count": 2270
           },
           {
            "bin_start": 0.3,
            "bin_end": 0.6,
            "count": 2736
           },
           {
            "bin_start": 0.6,
            "bin_end": 0.8999999999999999,
            "count": 181
           },
           {
            "bin_start": 0.8999999999999999,
            "bin_end": 1.2,
            "count": 8
           },
           {
            "bin_start": 1.2,
            "bin_end": 1.5,
            "count": 1
           },
           {
            "bin_start": 1.5,
            "bin_end": 1.7999999999999998,
            "count": 1
           },
           {
            "bin_start": 1.7999999999999998,
            "bin_end": 2.1,
            "count": 0
           },
           {
            "bin_start": 2.1,
            "bin_end": 2.4,
            "count": 0
           },
           {
            "bin_start": 2.4,
            "bin_end": 2.6999999999999997,
            "count": 0
           },
           {
            "bin_start": 2.6999999999999997,
            "bin_end": 3,
            "count": 1
           }
          ]
         }
        },
        {
         "name": "sugar index",
         "dtype": "float64",
         "stats": {
          "unique_count": 300,
          "nan_count": 5,
          "min": "0.6",
          "max": "31.6",
          "histogram": [
           {
            "bin_start": 0.6,
            "bin_end": 3.7,
            "count": 2773
           },
           {
            "bin_start": 3.7,
            "bin_end": 6.8,
            "count": 776
           },
           {
            "bin_start": 6.8,
            "bin_end": 9.9,
            "count": 675
           },
           {
            "bin_start": 9.9,
            "bin_end": 13,
            "count": 458
           },
           {
            "bin_start": 13,
            "bin_end": 16.1,
            "count": 345
           },
           {
            "bin_start": 16.1,
            "bin_end": 19.200000000000003,
            "count": 136
           },
           {
            "bin_start": 19.200000000000003,
            "bin_end": 22.3,
            "count": 26
           },
           {
            "bin_start": 22.3,
            "bin_end": 25.400000000000002,
            "count": 2
           },
           {
            "bin_start": 25.400000000000002,
            "bin_end": 28.500000000000004,
            "count": 0
           },
           {
            "bin_start": 28.500000000000004,
            "bin_end": 31.6,
            "count": 2
           }
          ]
         }
        },
        {
         "name": "bake temp",
         "dtype": "int64",
         "stats": {
          "unique_count": 198,
          "nan_count": 0,
          "min": "90",
          "max": "6110",
          "histogram": [
           {
            "bin_start": 90,
            "bin_end": 692,
            "count": 4055
           },
           {
            "bin_start": 692,
            "bin_end": 1294,
            "count": 1019
           },
           {
            "bin_start": 1294,
            "bin_end": 1896,
            "count": 73
           },
           {
            "bin_start": 1896,
            "bin_end": 2498,
            "count": 25
           },
           {
            "bin_start": 2498,
            "bin_end": 3100,
            "count": 7
           },
           {
            "bin_start": 3100,
            "bin_end": 3702,
            "count": 7
           },
           {
            "bin_start": 3702,
            "bin_end": 4304,
            "count": 9
           },
           {
            "bin_start": 4304,
            "bin_end": 4906,
            "count": 1
           },
           {
            "bin_start": 4906,
            "bin_end": 5508,
            "count": 0
           },
           {
            "bin_start": 5508,
            "bin_end": 6110,
            "count": 2
           }
          ]
         }
        },
        {
         "name": "chill time",
         "dtype": "float64",
         "stats": {
          "unique_count": 129,
          "nan_count": 0,
          "min": "0.0",
          "max": "146.5",
          "histogram": [
           {
            "bin_start": 0,
            "bin_end": 14.65,
            "count": 1020
           },
           {
            "bin_start": 14.65,
            "bin_end": 29.3,
            "count": 1715
           },
           {
            "bin_start": 29.3,
            "bin_end": 43.95,
            "count": 1312
           },
           {
            "bin_start": 43.95,
            "bin_end": 58.6,
            "count": 830
           },
           {
            "bin_start": 58.6,
            "bin_end": 73.25,
            "count": 258
           },
           {
            "bin_start": 73.25,
            "bin_end": 87.9,
            "count": 40
           },
           {
            "bin_start": 87.9,
            "bin_end": 102.55,
            "count": 12
           },
           {
            "bin_start": 102.55,
            "bin_end": 117.2,
            "count": 5
           },
           {
            "bin_start": 117.2,
            "bin_end": 131.85,
            "count": 4
           },
           {
            "bin_start": 131.85,
            "bin_end": 146.5,
            "count": 2
           }
          ]
         }
        },
        {
         "name": "calories",
         "dtype": "float64",
         "stats": {
          "unique_count": 271,
          "nan_count": 0,
          "min": "-99.0",
          "max": "366.5",
          "histogram": [
           {
            "bin_start": -99,
            "bin_end": -52.45,
            "count": 5
           },
           {
            "bin_start": -52.45,
            "bin_end": -5.900000000000006,
            "count": 0
           },
           {
            "bin_start": -5.900000000000006,
            "bin_end": 40.64999999999998,
            "count": 707
           },
           {
            "bin_start": 40.64999999999998,
            "bin_end": 87.19999999999999,
            "count": 824
           },
           {
            "bin_start": 87.19999999999999,
            "bin_end": 133.75,
            "count": 1685
           },
           {
            "bin_start": 133.75,
            "bin_end": 180.29999999999995,
            "count": 1325
           },
           {
            "bin_start": 180.29999999999995,
            "bin_end": 226.84999999999997,
            "count": 556
           },
           {
            "bin_start": 226.84999999999997,
            "bin_end": 273.4,
            "count": 89
           },
           {
            "bin_start": 273.4,
            "bin_end": 319.95,
            "count": 5
           },
           {
            "bin_start": 319.95,
            "bin_end": 366.5,
            "count": 2
           }
          ]
         }
        },
        {
         "name": "density",
         "dtype": "float64",
         "stats": {
          "unique_count": 948,
          "nan_count": 0,
          "min": "0.98711",
          "max": "5.0",
          "histogram": [
           {
            "bin_start": 0.98711,
            "bin_end": 1.388399,
            "count": 5196
           },
           {
            "bin_start": 1.388399,
            "bin_end": 1.789688,
            "count": 0
           },
           {
            "bin_start": 1.789688,
            "bin_end": 2.1909769999999997,
            "count": 0
           },
           {
            "bin_start": 2.1909769999999997,
            "bin_end": 2.592266,
            "count": 0
           },
           {
            "bin_start": 2.592266,
            "bin_end": 2.9935549999999997,
            "count": 0
           },
           {
            "bin_start": 2.9935549999999997,
            "bin_end": 3.3948439999999995,
            "count": 1
           },
           {
            "bin_start": 3.3948439999999995,
            "bin_end": 3.7961329999999998,
            "count": 0
           },
           {
            "bin_start": 3.7961329999999998,
            "bin_end": 4.1974219999999995,
            "count": 0
           },
           {
            "bin_start": 4.1974219999999995,
            "bin_end": 4.598711,
            "count": 0
           },
           {
            "bin_start": 4.598711,
            "bin_end": 5,
            "count": 1
           }
          ]
         }
        },
        {
         "name": "pH",
         "dtype": "float64",
         "stats": {
          "unique_count": 108,
          "nan_count": 0,
          "min": "7.72",
          "max": "25.0",
          "histogram": [
           {
            "bin_start": 7.72,
            "bin_end": 9.448,
            "count": 5197
           },
           {
            "bin_start": 9.448,
            "bin_end": 11.176,
            "count": 0
           },
           {
            "bin_start": 11.176,
            "bin_end": 12.904,
            "count": 0
           },
           {
            "bin_start": 12.904,
            "bin_end": 14.632000000000001,
            "count": 0
           },
           {
            "bin_start": 14.632000000000001,
            "bin_end": 16.36,
            "count": 0
           },
           {
            "bin_start": 16.36,
            "bin_end": 18.088,
            "count": 0
           },
           {
            "bin_start": 18.088,
            "bin_end": 19.816000000000003,
            "count": 0
           },
           {
            "bin_start": 19.816000000000003,
            "bin_end": 21.544,
            "count": 0
           },
           {
            "bin_start": 21.544,
            "bin_end": 23.272000000000002,
            "count": 0
           },
           {
            "bin_start": 23.272000000000002,
            "bin_end": 25,
            "count": 1
           }
          ]
         }
        },
        {
         "name": "grams baking soda",
         "dtype": "float64",
         "stats": {
          "unique_count": 108,
          "nan_count": 0,
          "min": "0.22",
          "max": "2.0",
          "histogram": [
           {
            "bin_start": 0.22,
            "bin_end": 0.398,
            "count": 838
           },
           {
            "bin_start": 0.398,
            "bin_end": 0.576,
            "count": 2747
           },
           {
            "bin_start": 0.576,
            "bin_end": 0.754,
            "count": 1223
           },
           {
            "bin_start": 0.754,
            "bin_end": 0.9319999999999999,
            "count": 307
           },
           {
            "bin_start": 0.9319999999999999,
            "bin_end": 1.1099999999999999,
            "count": 51
           },
           {
            "bin_start": 1.1099999999999999,
            "bin_end": 1.288,
            "count": 19
           },
           {
            "bin_start": 1.288,
            "bin_end": 1.466,
            "count": 5
           },
           {
            "bin_start": 1.466,
            "bin_end": 1.644,
            "count": 4
           },
           {
            "bin_start": 1.644,
            "bin_end": 1.8219999999999998,
            "count": 0
           },
           {
            "bin_start": 1.8219999999999998,
            "bin_end": 2,
            "count": 4
           }
          ]
         }
        },
        {
         "name": "bake time",
         "dtype": "float64",
         "stats": {
          "unique_count": 105,
          "nan_count": 10,
          "min": "8.0",
          "max": "14.9",
          "histogram": [
           {
            "bin_start": 8,
            "bin_end": 8.69,
            "count": 35
           },
           {
            "bin_start": 8.69,
            "bin_end": 9.38,
            "count": 903
           },
           {
            "bin_start": 9.38,
            "bin_end": 10.07,
            "count": 1309
           },
           {
            "bin_start": 10.07,
            "bin_end": 10.76,
            "count": 938
           },
           {
            "bin_start": 10.76,
            "bin_end": 11.45,
            "count": 868
           },
           {
            "bin_start": 11.45,
            "bin_end": 12.14,
            "count": 503
           },
           {
            "bin_start": 12.14,
            "bin_end": 12.83,
            "count": 460
           },
           {
            "bin_start": 12.83,
            "bin_end": 13.52,
            "count": 138
           },
           {
            "bin_start": 13.52,
            "bin_end": 14.21,
            "count": 33
           },
           {
            "bin_start": 14.21,
            "bin_end": 14.9,
            "count": 1
           }
          ]
         }
        },
        {
         "name": "quality",
         "dtype": "int64",
         "stats": {
          "unique_count": 9,
          "nan_count": 0,
          "min": "3",
          "max": "11",
          "histogram": [
           {
            "bin_start": 3,
            "bin_end": 3.8,
            "count": 8
           },
           {
            "bin_start": 3.8,
            "bin_end": 4.6,
            "count": 44
           },
           {
            "bin_start": 4.6,
            "bin_end": 5.4,
            "count": 577
           },
           {
            "bin_start": 5.4,
            "bin_end": 6.2,
            "count": 617
           },
           {
            "bin_start": 6.2,
            "bin_end": 7,
            "count": 0
           },
           {
            "bin_start": 7,
            "bin_end": 7.800000000000001,
            "count": 1323
           },
           {
            "bin_start": 7.800000000000001,
            "bin_end": 8.600000000000001,
            "count": 1780
           },
           {
            "bin_start": 8.600000000000001,
            "bin_end": 9.4,
            "count": 707
           },
           {
            "bin_start": 9.4,
            "bin_end": 10.2,
            "count": 137
           },
           {
            "bin_start": 10.2,
            "bin_end": 11,
            "count": 5
           }
          ]
         }
        },
        {
         "name": "butter type",
         "dtype": "object",
         "stats": {
          "unique_count": 2,
          "nan_count": 0,
          "categories": [
           {
            "name": "melted",
            "count": 3920
           },
           {
            "name": "cubed",
            "count": 1278
           }
          ]
         }
        },
        {
         "name": "weight",
         "dtype": "float64",
         "stats": {
          "unique_count": 105,
          "nan_count": 0,
          "min": "-99.0",
          "max": "31.8",
          "histogram": [
           {
            "bin_start": -99,
            "bin_end": -85.92,
            "count": 1
           },
           {
            "bin_start": -85.92,
            "bin_end": -72.84,
            "count": 0
           },
           {
            "bin_start": -72.84,
            "bin_end": -59.75999999999999,
            "count": 0
           },
           {
            "bin_start": -59.75999999999999,
            "bin_end": -46.67999999999999,
            "count": 0
           },
           {
            "bin_start": -46.67999999999999,
            "bin_end": -33.599999999999994,
            "count": 0
           },
           {
            "bin_start": -33.599999999999994,
            "bin_end": -20.519999999999982,
            "count": 0
           },
           {
            "bin_start": -20.519999999999982,
            "bin_end": -7.4399999999999835,
            "count": 0
           },
           {
            "bin_start": -7.4399999999999835,
            "bin_end": 5.640000000000015,
            "count": 0
           },
           {
            "bin_start": 5.640000000000015,
            "bin_end": 18.720000000000013,
            "count": 4879
           },
           {
            "bin_start": 18.720000000000013,
            "bin_end": 31.8,
            "count": 318
           }
          ]
         }
        },
        {
         "name": "diameter",
         "dtype": "int64",
         "stats": {
          "unique_count": 1,
          "nan_count": 0,
          "min": "7",
          "max": "7",
          "histogram": [
           {
            "bin_start": 6.5,
            "bin_end": 6.6,
            "count": 0
           },
           {
            "bin_start": 6.6,
            "bin_end": 6.7,
            "count": 0
           },
           {
            "bin_start": 6.7,
            "bin_end": 6.8,
            "count": 0
           },
           {
            "bin_start": 6.8,
            "bin_end": 6.9,
            "count": 0
           },
           {
            "bin_start": 6.9,
            "bin_end": 7,
            "count": 0
           },
           {
            "bin_start": 7,
            "bin_end": 7.1,
            "count": 5198
           },
           {
            "bin_start": 7.1,
            "bin_end": 7.2,
            "count": 0
           },
           {
            "bin_start": 7.2,
            "bin_end": 7.3,
            "count": 0
           },
           {
            "bin_start": 7.3,
            "bin_end": 7.4,
            "count": 0
           },
           {
            "bin_start": 7.4,
            "bin_end": 7.5,
            "count": 0
           }
          ]
         }
        },
        {
         "name": "mixins",
         "dtype": "object",
         "stats": {
          "unique_count": 13,
          "nan_count": 2,
          "categories": [
           {
            "name": "chocolate",
            "count": 1893
           },
           {
            "name": "12 others",
            "count": 3303
           },
           {
            "name": "Missing",
            "count": 2
           }
          ]
         }
        },
        {
         "name": "crunch factor",
         "dtype": "float64",
         "stats": {
          "unique_count": 101,
          "nan_count": 0,
          "min": "1.0",
          "max": "2.0",
          "histogram": [
           {
            "bin_start": 1,
            "bin_end": 1.1,
            "count": 484
           },
           {
            "bin_start": 1.1,
            "bin_end": 1.2,
            "count": 520
           },
           {
            "bin_start": 1.2,
            "bin_end": 1.3,
            "count": 549
           },
           {
            "bin_start": 1.3,
            "bin_end": 1.4,
            "count": 514
           },
           {
            "bin_start": 1.4,
            "bin_end": 1.5,
            "count": 517
           },
           {
            "bin_start": 1.5,
            "bin_end": 1.6,
            "count": 514
           },
           {
            "bin_start": 1.6,
            "bin_end": 1.7000000000000002,
            "count": 580
           },
           {
            "bin_start": 1.7000000000000002,
            "bin_end": 1.8,
            "count": 457
           },
           {
            "bin_start": 1.8,
            "bin_end": 1.9,
            "count": 499
           },
           {
            "bin_start": 1.9,
            "bin_end": 2,
            "count": 564
           }
          ]
         }
        },
        {
         "name": "aesthetic appeal",
         "dtype": "int64",
         "stats": {
          "unique_count": 2,
          "nan_count": 0,
          "min": "3",
          "max": "4",
          "histogram": [
           {
            "bin_start": 3,
            "bin_end": 3.1,
            "count": 5195
           },
           {
            "bin_start": 3.1,
            "bin_end": 3.2,
            "count": 0
           },
           {
            "bin_start": 3.2,
            "bin_end": 3.3,
            "count": 0
           },
           {
            "bin_start": 3.3,
            "bin_end": 3.4,
            "count": 0
           },
           {
            "bin_start": 3.4,
            "bin_end": 3.5,
            "count": 0
           },
           {
            "bin_start": 3.5,
            "bin_end": 3.6,
            "count": 0
           },
           {
            "bin_start": 3.6,
            "bin_end": 3.7,
            "count": 0
           },
           {
            "bin_start": 3.7,
            "bin_end": 3.8,
            "count": 0
           },
           {
            "bin_start": 3.8,
            "bin_end": 3.9,
            "count": 0
           },
           {
            "bin_start": 3.9,
            "bin_end": 4,
            "count": 3
           }
          ]
         }
        },
        {
         "name": "_deepnote_index_column",
         "dtype": "int64"
        }
       ],
       "rows_top": [
        {
         "sugar to flour ratio": 0.25,
         "sugar index": "9.5",
         "bake temp": 300,
         "chill time": 15,
         "calories": 136,
         "density": 0.99367,
         "pH": 8.1,
         "grams baking soda": 0.44,
         "bake time": "12.1",
         "quality": 8,
         "butter type": "melted",
         "weight": 15.2,
         "diameter": 7,
         "mixins": "raisins",
         "crunch factor": 1.3,
         "aesthetic appeal": 3,
         "_deepnote_index_column": 0
        },
        {
         "sugar to flour ratio": 0.23,
         "sugar index": "3.3",
         "bake temp": 520,
         "chill time": 34,
         "calories": 113,
         "density": 0.99429,
         "pH": 8.16,
         "grams baking soda": 0.48,
         "bake time": "8.4",
         "quality": 7,
         "butter type": "melted",
         "weight": 12.4,
         "diameter": 7,
         "mixins": "raisins",
         "crunch factor": 1.71,
         "aesthetic appeal": 3,
         "_deepnote_index_column": 1
        },
        {
         "sugar to flour ratio": 0.18,
         "sugar index": "1.9",
         "bake temp": 360,
         "chill time": 33,
         "calories": 106,
         "density": 0.98746,
         "pH": 8.21,
         "grams baking soda": 0.83,
         "bake time": "14.0",
         "quality": 9,
         "butter type": "melted",
         "weight": 9.4,
         "diameter": 7,
         "mixins": "nuts, chocolate",
         "crunch factor": 1.78,
         "aesthetic appeal": 3,
         "_deepnote_index_column": 2
        },
        {
         "sugar to flour ratio": 0.18,
         "sugar index": "10.5",
         "bake temp": 490,
         "chill time": 41,
         "calories": 124,
         "density": 0.9963,
         "pH": 8.14,
         "grams baking soda": 0.35,
         "bake time": "10.5",
         "quality": 7,
         "butter type": "melted",
         "weight": 12.2,
         "diameter": 7,
         "mixins": "chocolate",
         "crunch factor": 1.59,
         "aesthetic appeal": 3,
         "_deepnote_index_column": 3
        },
        {
         "sugar to flour ratio": 0.24,
         "sugar index": "2.4",
         "bake temp": 770,
         "chill time": 6,
         "calories": 33,
         "density": 0.9974,
         "pH": 8.09,
         "grams baking soda": 0.57,
         "bake time": "9.4",
         "quality": 5,
         "butter type": "cubed",
         "weight": 19.8,
         "diameter": 7,
         "mixins": "nuts, oats, chocolate",
         "crunch factor": 1.3,
         "aesthetic appeal": 3,
         "_deepnote_index_column": 4
        },
        {
         "sugar to flour ratio": 0.22,
         "sugar index": "18.15",
         "bake temp": 500,
         "chill time": 23,
         "calories": 139,
         "density": 0.99904,
         "pH": 8.06,
         "grams baking soda": 0.5,
         "bake time": "9.2",
         "quality": 7,
         "butter type": "melted",
         "weight": 13.2,
         "diameter": 7,
         "mixins": "chocolate",
         "crunch factor": 1.16,
         "aesthetic appeal": 3,
         "_deepnote_index_column": 5
        },
        {
         "sugar to flour ratio": 0.39,
         "sugar index": "2.3",
         "bake temp": 410,
         "chill time": 31,
         "calories": 102,
         "density": 0.99221,
         "pH": 8.22,
         "grams baking soda": 0.58,
         "bake time": "10.9",
         "quality": 9,
         "butter type": "melted",
         "weight": 13.2,
         "diameter": 7,
         "mixins": "chocolate",
         "crunch factor": 1.93,
         "aesthetic appeal": 3,
         "_deepnote_index_column": 6
        },
        {
         "sugar to flour ratio": 0.39,
         "sugar index": "2.6",
         "bake temp": 440,
         "chill time": 30,
         "calories": 180,
         "density": 0.9941,
         "pH": 8.46,
         "grams baking soda": 0.44,
         "bake time": "10.8",
         "quality": 9,
         "butter type": "melted",
         "weight": 15.2,
         "diameter": 7,
         "mixins": "chocolate",
         "crunch factor": 1.51,
         "aesthetic appeal": 3,
         "_deepnote_index_column": 7
        },
        {
         "sugar to flour ratio": 0.18,
         "sugar index": "1.8",
         "bake temp": 700,
         "chill time": 13,
         "calories": 40,
         "density": 0.997,
         "pH": 8.44,
         "grams baking soda": 0.6,
         "bake time": "9.1",
         "quality": 5,
         "butter type": "cubed",
         "weight": 14.2,
         "diameter": 7,
         "mixins": "nuts, oats, chocolate",
         "crunch factor": 1.89,
         "aesthetic appeal": 3,
         "_deepnote_index_column": 8
        },
        {
         "sugar to flour ratio": 0.17,
         "sugar index": "12.9",
         "bake temp": 330,
         "chill time": 59,
         "calories": 186,
         "density": 0.99754,
         "pH": 8.08,
         "grams baking soda": 0.49,
         "bake time": "9.4",
         "quality": 7,
         "butter type": "melted",
         "weight": 13.8,
         "diameter": 7,
         "mixins": "nuts, chocolate",
         "crunch factor": 1.18,
         "aesthetic appeal": 3,
         "_deepnote_index_column": 9
        },
        {
         "sugar to flour ratio": 0.49,
         "sugar index": "9.6",
         "bake temp": 300,
         "chill time": 45,
         "calories": 197,
         "density": 0.9938,
         "pH": 8.13,
         "grams baking soda": 0.38,
         "bake time": "12.3",
         "quality": 9,
         "butter type": "melted",
         "weight": 15.2,
         "diameter": 7,
         "mixins": "chocolate",
         "crunch factor": 1.65,
         "aesthetic appeal": 3,
         "_deepnote_index_column": 10
        },
        {
         "sugar to flour ratio": 0.29,
         "sugar index": "3.3",
         "bake temp": 370,
         "chill time": 32,
         "calories": 140,
         "density": 0.9895,
         "pH": 8.17,
         "grams baking soda": 0.36,
         "bake time": "12.8",
         "quality": 9,
         "butter type": "melted",
         "weight": 12.6,
         "diameter": 7,
         "mixins": "chocolate",
         "crunch factor": 1.2,
         "aesthetic appeal": 3,
         "_deepnote_index_column": 11
        },
        {
         "sugar to flour ratio": 0.25,
         "sugar index": "7.5",
         "bake temp": 300,
         "chill time": 18,
         "calories": 117,
         "density": 0.99116,
         "pH": 8.09,
         "grams baking soda": 0.38,
         "bake time": "13.0",
         "quality": 8,
         "butter type": "melted",
         "weight": 13.8,
         "diameter": 7,
         "mixins": "chocolate",
         "crunch factor": 1.63,
         "aesthetic appeal": 3,
         "_deepnote_index_column": 12
        },
        {
         "sugar to flour ratio": 0.48,
         "sugar index": "4.0",
         "bake temp": 1860,
         "chill time": 64,
         "calories": 150,
         "density": 0.9945,
         "pH": 8.06,
         "grams baking soda": 0.4,
         "bake time": "nan",
         "quality": 7,
         "butter type": "melted",
         "weight": 12.8,
         "diameter": 7,
         "mixins": "chocolate, oats",
         "crunch factor": 1.05,
         "aesthetic appeal": 3,
         "_deepnote_index_column": 13
        },
        {
         "sugar to flour ratio": 0.58,
         "sugar index": "16.75",
         "bake temp": 500,
         "chill time": 43,
         "calories": 163,
         "density": 0.9999,
         "pH": 8.15,
         "grams baking soda": 0.54,
         "bake time": "9.2",
         "quality": 7,
         "butter type": "melted",
         "weight": 15.2,
         "diameter": 7,
         "mixins": "raisins",
         "crunch factor": 1.79,
         "aesthetic appeal": 3,
         "_deepnote_index_column": 14
        },
        {
         "sugar to flour ratio": 0.34,
         "sugar index": "3.4",
         "bake temp": 360,
         "chill time": 34,
         "calories": 200,
         "density": 0.9937,
         "pH": 8.14,
         "grams baking soda": 0.76,
         "bake time": "10.0",
         "quality": 7,
         "butter type": "melted",
         "weight": 13,
         "diameter": 7,
         "mixins": "raisins",
         "crunch factor": 1.29,
         "aesthetic appeal": 3,
         "_deepnote_index_column": 15
        },
        {
         "sugar to flour ratio": 0.02,
         "sugar index": "nan",
         "bake temp": 670,
         "chill time": 9,
         "calories": 23,
         "density": 3,
         "pH": 8.47,
         "grams baking soda": 0.67,
         "bake time": "9.4",
         "quality": 6,
         "butter type": "cubed",
         "weight": 14,
         "diameter": 7,
         "mixins": "nuts, oats, chocolate",
         "crunch factor": 1.95,
         "aesthetic appeal": 3,
         "_deepnote_index_column": 16
        },
        {
         "sugar to flour ratio": 0.34,
         "sugar index": "7.6",
         "bake temp": 450,
         "chill time": 25,
         "calories": 118,
         "density": 0.99222,
         "pH": 8.03,
         "grams baking soda": 0.37,
         "bake time": "11.0",
         "quality": 8,
         "butter type": "melted",
         "weight": 12,
         "diameter": 7,
         "mixins": "nuts, chocolate",
         "crunch factor": 1.94,
         "aesthetic appeal": 3,
         "_deepnote_index_column": 17
        },
        {
         "sugar to flour ratio": 0.26,
         "sugar index": "1.4",
         "bake temp": 410,
         "chill time": 40,
         "calories": 141,
         "density": 0.9941,
         "pH": 25,
         "grams baking soda": 0.72,
         "bake time": "9.5",
         "quality": 8,
         "butter type": "melted",
         "weight": 13,
         "diameter": 7,
         "mixins": "chocolate, oats",
         "crunch factor": 1.6,
         "aesthetic appeal": 3,
         "_deepnote_index_column": 18
        },
        {
         "sugar to flour ratio": 0.05,
         "sugar index": "2.1",
         "bake temp": 610,
         "chill time": 20,
         "calories": 49,
         "density": 0.99705,
         "pH": 8.31,
         "grams baking soda": 0.55,
         "bake time": "9.7",
         "quality": 3,
         "butter type": "cubed",
         "weight": 14.6,
         "diameter": 7,
         "mixins": "raisins, oats",
         "crunch factor": 1.48,
         "aesthetic appeal": 3,
         "_deepnote_index_column": 19
        },
        {
         "sugar to flour ratio": 0.33,
         "sugar index": "7.0",
         "bake temp": 240,
         "chill time": 14,
         "calories": 130,
         "density": 0.9918,
         "pH": 8.25,
         "grams baking soda": 0.45,
         "bake time": "12.5",
         "quality": 9,
         "butter type": "melted",
         "weight": 15.2,
         "diameter": 7,
         "mixins": "nuts, chocolate",
         "crunch factor": 1.97,
         "aesthetic appeal": 4,
         "_deepnote_index_column": 20
        },
        {
         "sugar to flour ratio": 0.35,
         "sugar index": "1.2",
         "bake temp": 500,
         "chill time": 36,
         "calories": 140,
         "density": 0.99138,
         "pH": 8.09,
         "grams baking soda": 0.45,
         "bake time": "11.2",
         "quality": 7,
         "butter type": "melted",
         "weight": 15.6,
         "diameter": 7,
         "mixins": "chocolate",
         "crunch factor": 1.15,
         "aesthetic appeal": 3,
         "_deepnote_index_column": 21
        },
        {
         "sugar to flour ratio": 0.28,
         "sugar index": "14.7",
         "bake temp": 510,
         "chill time": 29,
         "calories": -99,
         "density": 0.99792,
         "pH": 7.96,
         "grams baking soda": 0.39,
         "bake time": "9.0",
         "quality": 9,
         "butter type": "melted",
         "weight": 14,
         "diameter": 7,
         "mixins": "chocolate, oats",
         "crunch factor": 1.08,
         "aesthetic appeal": 3,
         "_deepnote_index_column": 22
        },
        {
         "sugar to flour ratio": 0.39,
         "sugar index": "1.0",
         "bake temp": 320,
         "chill time": 14,
         "calories": 71,
         "density": 0.98912,
         "pH": 8.31,
         "grams baking soda": 0.38,
         "bake time": "13.0",
         "quality": 9,
         "butter type": "melted",
         "weight": 13.4,
         "diameter": 7,
         "mixins": "chocolate, oats",
         "crunch factor": 1.55,
         "aesthetic appeal": 3,
         "_deepnote_index_column": 23
        },
        {
         "sugar to flour ratio": 0.29,
         "sugar index": "2.6",
         "bake temp": 1090,
         "chill time": 31,
         "calories": 119,
         "density": 0.99801,
         "pH": 8.15,
         "grams baking soda": 0.5,
         "bake time": "9.1",
         "quality": 5,
         "butter type": "cubed",
         "weight": 16.8,
         "diameter": 7,
         "mixins": "nuts,raisins",
         "crunch factor": 1.71,
         "aesthetic appeal": 3,
         "_deepnote_index_column": 24
        },
        {
         "sugar to flour ratio": 0.29,
         "sugar index": "1.6",
         "bake temp": 520,
         "chill time": 48,
         "calories": 185,
         "density": 0.9934,
         "pH": 8.21,
         "grams baking soda": 0.5,
         "bake time": "9.4",
         "quality": 7,
         "butter type": "melted",
         "weight": 12.6,
         "diameter": 7,
         "mixins": "chocolate",
         "crunch factor": 1.78,
         "aesthetic appeal": 3,
         "_deepnote_index_column": 25
        },
        {
         "sugar to flour ratio": 0.31,
         "sugar index": "14.5",
         "bake temp": 450,
         "chill time": 39,
         "calories": 193,
         "density": 0.9986,
         "pH": 8.1,
         "grams baking soda": 0.5,
         "bake time": "9.2",
         "quality": 8,
         "butter type": "melted",
         "weight": 14.8,
         "diameter": 7,
         "mixins": "chocolate, oats",
         "crunch factor": 1.99,
         "aesthetic appeal": 3,
         "_deepnote_index_column": 26
        },
        {
         "sugar to flour ratio": 0.32,
         "sugar index": "2.5",
         "bake temp": 420,
         "chill time": 23,
         "calories": 218.5,
         "density": 0.9935,
         "pH": 8.27,
         "grams baking soda": 0.6,
         "bake time": "9.8",
         "quality": 7,
         "butter type": "melted",
         "weight": 12.2,
         "diameter": 7,
         "mixins": "chocolate",
         "crunch factor": 1.73,
         "aesthetic appeal": 3,
         "_deepnote_index_column": 27
        },
        {
         "sugar to flour ratio": 0.32,
         "sugar index": "2.4",
         "bake temp": 480,
         "chill time": 35,
         "calories": 103,
         "density": 0.9911,
         "pH": 8.28,
         "grams baking soda": 0.46,
         "bake time": "12.0",
         "quality": 10,
         "butter type": "melted",
         "weight": 13.6,
         "diameter": 7,
         "mixins": "raisins",
         "crunch factor": 1.68,
         "aesthetic appeal": 3,
         "_deepnote_index_column": 28
        },
        {
         "sugar to flour ratio": 0.4,
         "sugar index": "2.7",
         "bake temp": 820,
         "chill time": 6,
         "calories": 11,
         "density": 0.99538,
         "pH": 8.44,
         "grams baking soda": 0.54,
         "bake time": "12.2",
         "quality": 6,
         "butter type": "cubed",
         "weight": 15.2,
         "diameter": 7,
         "mixins": "nuts, chocolate",
         "crunch factor": 1.82,
         "aesthetic appeal": 3,
         "_deepnote_index_column": 29
        },
        {
         "sugar to flour ratio": 0.49,
         "sugar index": "9.0",
         "bake temp": 440,
         "chill time": 31,
         "calories": 185,
         "density": 0.998,
         "pH": 8.34,
         "grams baking soda": 0.49,
         "bake time": "10.0",
         "quality": 8,
         "butter type": "melted",
         "weight": 16,
         "diameter": 7,
         "mixins": "chocolate",
         "crunch factor": 1.77,
         "aesthetic appeal": 3,
         "_deepnote_index_column": 30
        }
       ],
       "rows_bottom": [
        {
         "sugar to flour ratio": 0.17,
         "sugar index": 1.7,
         "bake temp": 650,
         "chill time": 15,
         "calories": 24,
         "density": 0.99514,
         "pH": 8.44,
         "grams baking soda": 0.68,
         "bake time": 10.55,
         "quality": 7,
         "butter type": "cubed",
         "weight": 14,
         "diameter": 7,
         "mixins": "nuts,raisins",
         "crunch factor": 1.22,
         "aesthetic appeal": 3,
         "_deepnote_index_column": 5167
        },
        {
         "sugar to flour ratio": 0.15,
         "sugar index": 1.8,
         "bake temp": 720,
         "chill time": 6,
         "calories": 19,
         "density": 0.9955,
         "pH": 8.42,
         "grams baking soda": 0.57,
         "bake time": 9.4,
         "quality": 5,
         "butter type": "cubed",
         "weight": 12.2,
         "diameter": 7,
         "mixins": "raisins",
         "crunch factor": 1.21,
         "aesthetic appeal": 3,
         "_deepnote_index_column": 5168
        },
        {
         "sugar to flour ratio": 0.29,
         "sugar index": 8.2,
         "bake temp": 430,
         "chill time": 32,
         "calories": 156,
         "density": 0.99453,
         "pH": 8.13,
         "grams baking soda": 0.7,
         "bake time": 10.1,
         "quality": 8,
         "butter type": "melted",
         "weight": 13,
         "diameter": 7,
         "mixins": "chocolate",
         "crunch factor": 1.76,
         "aesthetic appeal": 3,
         "_deepnote_index_column": 5169
        },
        {
         "sugar to flour ratio": 0.29,
         "sugar index": 3.1,
         "bake temp": 1940,
         "chill time": 14,
         "calories": 26,
         "density": 0.99536,
         "pH": 8.22,
         "grams baking soda": 0.78,
         "bake time": 12,
         "quality": 6,
         "butter type": "cubed",
         "weight": 16.8,
         "diameter": 7,
         "mixins": "raisins",
         "crunch factor": 1.3,
         "aesthetic appeal": 3,
         "_deepnote_index_column": 5170
        },
        {
         "sugar to flour ratio": 0.26,
         "sugar index": 5.4,
         "bake temp": 300,
         "chill time": 15,
         "calories": 94,
         "density": 0.99045,
         "pH": 8.15,
         "grams baking soda": 0.38,
         "bake time": 12.7,
         "quality": 8,
         "butter type": "melted",
         "weight": 13.4,
         "diameter": 7,
         "mixins": "chocolate",
         "crunch factor": 1.84,
         "aesthetic appeal": 3,
         "_deepnote_index_column": 5171
        },
        {
         "sugar to flour ratio": 0.29,
         "sugar index": 1.1,
         "bake temp": 680,
         "chill time": 39,
         "calories": 124,
         "density": 0.9914,
         "pH": 8.34,
         "grams baking soda": 0.58,
         "bake time": 11,
         "quality": 9,
         "butter type": "melted",
         "weight": 13.2,
         "diameter": 7,
         "mixins": "chocolate",
         "crunch factor": 1.36,
         "aesthetic appeal": 3,
         "_deepnote_index_column": 5172
        },
        {
         "sugar to flour ratio": 0.36,
         "sugar index": 1.4,
         "bake temp": 320,
         "chill time": 13,
         "calories": 145,
         "density": 0.99214,
         "pH": 8.07,
         "grams baking soda": 0.52,
         "bake time": 9.8,
         "quality": 7,
         "butter type": "melted",
         "weight": 13.8,
         "diameter": 7,
         "mixins": "raisins",
         "crunch factor": 1.63,
         "aesthetic appeal": 3,
         "_deepnote_index_column": 5173
        },
        {
         "sugar to flour ratio": 0.34,
         "sugar index": 7.5,
         "bake temp": 350,
         "chill time": 34,
         "calories": 177,
         "density": 0.99692,
         "pH": 8.33,
         "grams baking soda": 0.43,
         "bake time": 9.1,
         "quality": 7,
         "butter type": "melted",
         "weight": 13.6,
         "diameter": 7,
         "mixins": "chocolate",
         "crunch factor": 1.87,
         "aesthetic appeal": 3,
         "_deepnote_index_column": 5174
        },
        {
         "sugar to flour ratio": 0.12,
         "sugar index": 1.8,
         "bake temp": 720,
         "chill time": 38,
         "calories": 46,
         "density": 0.99504,
         "pH": 8.38,
         "grams baking soda": 0.89,
         "bake time": 11.8,
         "quality": 6,
         "butter type": "cubed",
         "weight": 16.8,
         "diameter": 7,
         "mixins": "nuts, oats, chocolate",
         "crunch factor": 1.78,
         "aesthetic appeal": 3,
         "_deepnote_index_column": 5175
        },
        {
         "sugar to flour ratio": 0.48,
         "sugar index": 2.1,
         "bake temp": 930,
         "chill time": 6,
         "calories": 12,
         "density": 0.99408,
         "pH": 8.26,
         "grams baking soda": 0.62,
         "bake time": 12.4,
         "quality": 7,
         "butter type": "cubed",
         "weight": 16.6,
         "diameter": 7,
         "mixins": "chocolate",
         "crunch factor": 1.19,
         "aesthetic appeal": 3,
         "_deepnote_index_column": 5176
        },
        {
         "sugar to flour ratio": 0.24,
         "sugar index": 1.7,
         "bake temp": 450,
         "chill time": 18,
         "calories": 161,
         "density": 0.99196,
         "pH": 8.25,
         "grams baking soda": 0.53,
         "bake time": 11.2,
         "quality": 8,
         "butter type": "melted",
         "weight": 14.4,
         "diameter": 7,
         "mixins": "chocolate",
         "crunch factor": 1.47,
         "aesthetic appeal": 3,
         "_deepnote_index_column": 5177
        },
        {
         "sugar to flour ratio": 0.21,
         "sugar index": 7.1,
         "bake temp": 400,
         "chill time": 35,
         "calories": 162,
         "density": 0.9956,
         "pH": 8.39,
         "grams baking soda": 0.58,
         "bake time": 9.9,
         "quality": 8,
         "butter type": "melted",
         "weight": 12.8,
         "diameter": 7,
         "mixins": "chocolate",
         "crunch factor": 1.51,
         "aesthetic appeal": 3,
         "_deepnote_index_column": 5178
        },
        {
         "sugar to flour ratio": 0.35,
         "sugar index": 4.3,
         "bake temp": 510,
         "chill time": 23,
         "calories": 98,
         "density": 0.99422,
         "pH": 8.1,
         "grams baking soda": 0.44,
         "bake time": 9.5,
         "quality": 8,
         "butter type": "melted",
         "weight": 15.2,
         "diameter": 7,
         "mixins": "chocolate, oats",
         "crunch factor": 1.86,
         "aesthetic appeal": 3,
         "_deepnote_index_column": 5179
        },
        {
         "sugar to flour ratio": 0.49,
         "sugar index": 8.8,
         "bake temp": 480,
         "chill time": 23,
         "calories": 108,
         "density": 0.9947,
         "pH": 7.88,
         "grams baking soda": 0.34,
         "bake time": 10.5,
         "quality": 6,
         "butter type": "melted",
         "weight": 17,
         "diameter": 7,
         "mixins": "chocolate, oats",
         "crunch factor": 1.08,
         "aesthetic appeal": 3,
         "_deepnote_index_column": 5180
        },
        {
         "sugar to flour ratio": 0.2,
         "sugar index": 16,
         "bake temp": 440,
         "chill time": 41,
         "calories": 113,
         "density": 0.99862,
         "pH": 8.22,
         "grams baking soda": 0.46,
         "bake time": 8.9,
         "quality": 8,
         "butter type": "melted",
         "weight": 11.4,
         "diameter": 7,
         "mixins": "chocolate",
         "crunch factor": 1.7,
         "aesthetic appeal": 3,
         "_deepnote_index_column": 5181
        },
        {
         "sugar to flour ratio": 0.42,
         "sugar index": 5.5,
         "bake temp": 700,
         "chill time": 29,
         "calories": 129,
         "density": 0.9973,
         "pH": 8.42,
         "grams baking soda": 0.72,
         "bake time": 10.5,
         "quality": 5,
         "butter type": "cubed",
         "weight": 14.2,
         "diameter": 7,
         "mixins": "nuts, chocolate",
         "crunch factor": 1.52,
         "aesthetic appeal": 3,
         "_deepnote_index_column": 5182
        },
        {
         "sugar to flour ratio": 0.33,
         "sugar index": 1.1,
         "bake temp": 270,
         "chill time": 16,
         "calories": 63,
         "density": 0.9937,
         "pH": 8.37,
         "grams baking soda": 0.4,
         "bake time": 9.9,
         "quality": 7,
         "butter type": "melted",
         "weight": 14.4,
         "diameter": 7,
         "mixins": "chocolate, oats",
         "crunch factor": 1.19,
         "aesthetic appeal": 3,
         "_deepnote_index_column": 5183
        },
        {
         "sugar to flour ratio": 0.02,
         "sugar index": 1.7,
         "bake temp": 840,
         "chill time": 13,
         "calories": 31,
         "density": 0.99538,
         "pH": 8.36,
         "grams baking soda": 0.54,
         "bake time": 10.5,
         "quality": 6,
         "butter type": "cubed",
         "weight": 15,
         "diameter": 7,
         "mixins": "nuts,raisins",
         "crunch factor": 1.04,
         "aesthetic appeal": 3,
         "_deepnote_index_column": 5184
        },
        {
         "sugar to flour ratio": 0.28,
         "sugar index": 2.9,
         "bake temp": 300,
         "chill time": 22,
         "calories": 111,
         "density": 0.9902,
         "pH": 8.38,
         "grams baking soda": 0.34,
         "bake time": 11.3,
         "quality": 9,
         "butter type": "melted",
         "weight": 9.6,
         "diameter": 7,
         "mixins": "chocolate, oats",
         "crunch factor": 1.99,
         "aesthetic appeal": 3,
         "_deepnote_index_column": 5185
        },
        {
         "sugar to flour ratio": 0.42,
         "sugar index": 5.5,
         "bake temp": 700,
         "chill time": 29,
         "calories": 129,
         "density": 0.9973,
         "pH": 8.42,
         "grams baking soda": 0.72,
         "bake time": 10.5,
         "quality": 5,
         "butter type": "cubed",
         "weight": 14.2,
         "diameter": 7,
         "mixins": "nuts, chocolate",
         "crunch factor": 1.01,
         "aesthetic appeal": 3,
         "_deepnote_index_column": 5186
        },
        {
         "sugar to flour ratio": 0.08,
         "sugar index": 2.1,
         "bake temp": 1050,
         "chill time": 16,
         "calories": 44,
         "density": 0.9958,
         "pH": 8.13,
         "grams baking soda": 0.52,
         "bake time": 11,
         "quality": 5,
         "butter type": "cubed",
         "weight": 16.8,
         "diameter": 7,
         "mixins": "nuts,raisins",
         "crunch factor": 1.17,
         "aesthetic appeal": 3,
         "_deepnote_index_column": 5187
        },
        {
         "sugar to flour ratio": 0.24,
         "sugar index": 1.6,
         "bake temp": 370,
         "chill time": 32,
         "calories": 115,
         "density": 0.99076,
         "pH": 8.21,
         "grams baking soda": 0.51,
         "bake time": 11.4,
         "quality": 8,
         "butter type": "melted",
         "weight": 11.8,
         "diameter": 7,
         "mixins": "chocolate",
         "crunch factor": 1.87,
         "aesthetic appeal": 3,
         "_deepnote_index_column": 5188
        },
        {
         "sugar to flour ratio": 0.32,
         "sugar index": 2.1,
         "bake temp": 640,
         "chill time": 4,
         "calories": 15,
         "density": 0.99576,
         "pH": 8.3,
         "grams baking soda": 0.8,
         "bake time": 11.2,
         "quality": 6,
         "butter type": "cubed",
         "weight": 18.2,
         "diameter": 7,
         "mixins": "raisins",
         "crunch factor": 1.2,
         "aesthetic appeal": 3,
         "_deepnote_index_column": 5189
        },
        {
         "sugar to flour ratio": 0.24,
         "sugar index": 1.8,
         "bake temp": 250,
         "chill time": 32,
         "calories": 102,
         "density": 0.9903,
         "pH": 8.34,
         "grams baking soda": 0.59,
         "bake time": 12.8,
         "quality": 8,
         "butter type": "melted",
         "weight": 14.2,
         "diameter": 7,
         "mixins": "raisins",
         "crunch factor": 1.51,
         "aesthetic appeal": 3,
         "_deepnote_index_column": 5190
        },
        {
         "sugar to flour ratio": 0.1,
         "sugar index": 2.8,
         "bake temp": 810,
         "chill time": 13,
         "calories": 28,
         "density": 0.99631,
         "pH": 8.6,
         "grams baking soda": 0.66,
         "bake time": 10.2,
         "quality": 5,
         "butter type": "cubed",
         "weight": 12.2,
         "diameter": 7,
         "mixins": "nuts, oats",
         "crunch factor": 1.27,
         "aesthetic appeal": 3,
         "_deepnote_index_column": 5191
        },
        {
         "sugar to flour ratio": 0.23,
         "sugar index": 7.9,
         "bake temp": 330,
         "chill time": 22,
         "calories": 130,
         "density": 0.9944,
         "pH": 8.38,
         "grams baking soda": 0.59,
         "bake time": 10.9,
         "quality": 8,
         "butter type": "melted",
         "weight": 11.8,
         "diameter": 7,
         "mixins": "chocolate",
         "crunch factor": 1.71,
         "aesthetic appeal": 3,
         "_deepnote_index_column": 5192
        },
        {
         "sugar to flour ratio": 0.66,
         "sugar index": 2,
         "bake temp": 390,
         "chill time": 15,
         "calories": 88,
         "density": 0.99357,
         "pH": 8.66,
         "grams baking soda": 0.6,
         "bake time": 11.5,
         "quality": 6,
         "butter type": "cubed",
         "weight": 11.6,
         "diameter": 7,
         "mixins": "peanut butter",
         "crunch factor": 1.36,
         "aesthetic appeal": 3,
         "_deepnote_index_column": 5193
        },
        {
         "sugar to flour ratio": 0.16,
         "sugar index": 1.5,
         "bake temp": 490,
         "chill time": 10,
         "calories": 97,
         "density": 0.9917,
         "pH": 8.48,
         "grams baking soda": 0.44,
         "bake time": 10.7,
         "quality": 8,
         "butter type": "melted",
         "weight": 10,
         "diameter": 7,
         "mixins": "raisins",
         "crunch factor": 1.8,
         "aesthetic appeal": 3,
         "_deepnote_index_column": 5194
        },
        {
         "sugar to flour ratio": 0.25,
         "sugar index": 14.3,
         "bake temp": 480,
         "chill time": 79,
         "calories": 149,
         "density": 0.9975,
         "pH": 8.12,
         "grams baking soda": 0.37,
         "bake time": 9.7,
         "quality": 7,
         "butter type": "melted",
         "weight": 13.4,
         "diameter": 7,
         "mixins": "chocolate, oats",
         "crunch factor": 1.07,
         "aesthetic appeal": 3,
         "_deepnote_index_column": 5195
        },
        {
         "sugar to flour ratio": 0.33,
         "sugar index": 1.4,
         "bake temp": 560,
         "chill time": 35,
         "calories": 136,
         "density": 0.9938,
         "pH": 8.63,
         "grams baking soda": 0.78,
         "bake time": 10.3,
         "quality": 8,
         "butter type": "melted",
         "weight": 13.8,
         "diameter": 7,
         "mixins": "chocolate",
         "crunch factor": 1.77,
         "aesthetic appeal": 3,
         "_deepnote_index_column": 5196
        },
        {
         "sugar to flour ratio": 0.44,
         "sugar index": 1.8,
         "bake temp": 810,
         "chill time": 28,
         "calories": 68,
         "density": 0.99501,
         "pH": 8.36,
         "grams baking soda": 0.66,
         "bake time": 11.2,
         "quality": 5,
         "butter type": "cubed",
         "weight": 16,
         "diameter": 7,
         "mixins": "chocolate",
         "crunch factor": 1.61,
         "aesthetic appeal": 3,
         "_deepnote_index_column": 5197
        }
       ]
      },
      "text/plain": "      sugar to flour ratio  sugar index  bake temp  chill time  calories  \\\n0                     0.25          9.5        300        15.0     136.0   \n1                     0.23          3.3        520        34.0     113.0   \n2                     0.18          1.9        360        33.0     106.0   \n3                     0.18         10.5        490        41.0     124.0   \n4                     0.24          2.4        770         6.0      33.0   \n...                    ...          ...        ...         ...       ...   \n5193                  0.66          2.0        390        15.0      88.0   \n5194                  0.16          1.5        490        10.0      97.0   \n5195                  0.25         14.3        480        79.0     149.0   \n5196                  0.33          1.4        560        35.0     136.0   \n5197                  0.44          1.8        810        28.0      68.0   \n\n      density    pH  grams baking soda  bake time  quality butter type  \\\n0     0.99367  8.10               0.44       12.1        8      melted   \n1     0.99429  8.16               0.48        8.4        7      melted   \n2     0.98746  8.21               0.83       14.0        9      melted   \n3     0.99630  8.14               0.35       10.5        7      melted   \n4     0.99740  8.09               0.57        9.4        5       cubed   \n...       ...   ...                ...        ...      ...         ...   \n5193  0.99357  8.66               0.60       11.5        6       cubed   \n5194  0.99170  8.48               0.44       10.7        8      melted   \n5195  0.99750  8.12               0.37        9.7        7      melted   \n5196  0.99380  8.63               0.78       10.3        8      melted   \n5197  0.99501  8.36               0.66       11.2        5       cubed   \n\n      weight  diameter                 mixins  crunch factor  aesthetic appeal  \n0       15.2         7                raisins           1.30                 3  \n1       12.4         7                raisins           1.71                 3  \n2        9.4         7        nuts, chocolate           1.78                 3  \n3       12.2         7              chocolate           1.59                 3  \n4       19.8         7  nuts, oats, chocolate           1.30                 3  \n...      ...       ...                    ...            ...               ...  \n5193    11.6         7          peanut butter           1.36                 3  \n5194    10.0         7                raisins           1.80                 3  \n5195    13.4         7        chocolate, oats           1.07                 3  \n5196    13.8         7              chocolate           1.77                 3  \n5197    16.0         7              chocolate           1.61                 3  \n\n[5198 rows x 16 columns]",
      "text/html": "<div>\n<style scoped>\n    .dataframe tbody tr th:only-of-type {\n        vertical-align: middle;\n    }\n\n    .dataframe tbody tr th {\n        vertical-align: top;\n    }\n\n    .dataframe thead th {\n        text-align: right;\n    }\n</style>\n<table border=\"1\" class=\"dataframe\">\n  <thead>\n    <tr style=\"text-align: right;\">\n      <th></th>\n      <th>sugar to flour ratio</th>\n      <th>sugar index</th>\n      <th>bake temp</th>\n      <th>chill time</th>\n      <th>calories</th>\n      <th>density</th>\n      <th>pH</th>\n      <th>grams baking soda</th>\n      <th>bake time</th>\n      <th>quality</th>\n      <th>butter type</th>\n      <th>weight</th>\n      <th>diameter</th>\n      <th>mixins</th>\n      <th>crunch factor</th>\n      <th>aesthetic appeal</th>\n    </tr>\n  </thead>\n  <tbody>\n    <tr>\n      <th>0</th>\n      <td>0.25</td>\n      <td>9.5</td>\n      <td>300</td>\n      <td>15.0</td>\n      <td>136.0</td>\n      <td>0.99367</td>\n      <td>8.10</td>\n      <td>0.44</td>\n      <td>12.1</td>\n      <td>8</td>\n      <td>melted</td>\n      <td>15.2</td>\n      <td>7</td>\n      <td>raisins</td>\n      <td>1.30</td>\n      <td>3</td>\n    </tr>\n    <tr>\n      <th>1</th>\n      <td>0.23</td>\n      <td>3.3</td>\n      <td>520</td>\n      <td>34.0</td>\n      <td>113.0</td>\n      <td>0.99429</td>\n      <td>8.16</td>\n      <td>0.48</td>\n      <td>8.4</td>\n      <td>7</td>\n      <td>melted</td>\n      <td>12.4</td>\n      <td>7</td>\n      <td>raisins</td>\n      <td>1.71</td>\n      <td>3</td>\n    </tr>\n    <tr>\n      <th>2</th>\n      <td>0.18</td>\n      <td>1.9</td>\n      <td>360</td>\n      <td>33.0</td>\n      <td>106.0</td>\n      <td>0.98746</td>\n      <td>8.21</td>\n      <td>0.83</td>\n      <td>14.0</td>\n      <td>9</td>\n      <td>melted</td>\n      <td>9.4</td>\n      <td>7</td>\n      <td>nuts, chocolate</td>\n      <td>1.78</td>\n      <td>3</td>\n    </tr>\n    <tr>\n      <th>3</th>\n      <td>0.18</td>\n      <td>10.5</td>\n      <td>490</td>\n      <td>41.0</td>\n      <td>124.0</td>\n      <td>0.99630</td>\n      <td>8.14</td>\n      <td>0.35</td>\n      <td>10.5</td>\n      <td>7</td>\n      <td>melted</td>\n      <td>12.2</td>\n      <td>7</td>\n      <td>chocolate</td>\n      <td>1.59</td>\n      <td>3</td>\n    </tr>\n    <tr>\n      <th>4</th>\n      <td>0.24</td>\n      <td>2.4</td>\n      <td>770</td>\n      <td>6.0</td>\n      <td>33.0</td>\n      <td>0.99740</td>\n      <td>8.09</td>\n      <td>0.57</td>\n      <td>9.4</td>\n      <td>5</td>\n      <td>cubed</td>\n      <td>19.8</td>\n      <td>7</td>\n      <td>nuts, oats, chocolate</td>\n      <td>1.30</td>\n      <td>3</td>\n    </tr>\n    <tr>\n      <th>...</th>\n      <td>...</td>\n      <td>...</td>\n      <td>...</td>\n      <td>...</td>\n      <td>...</td>\n      <td>...</td>\n      <td>...</td>\n      <td>...</td>\n      <td>...</td>\n      <td>...</td>\n      <td>...</td>\n      <td>...</td>\n      <td>...</td>\n      <td>...</td>\n      <td>...</td>\n      <td>...</td>\n    </tr>\n    <tr>\n      <th>5193</th>\n      <td>0.66</td>\n      <td>2.0</td>\n      <td>390</td>\n      <td>15.0</td>\n      <td>88.0</td>\n      <td>0.99357</td>\n      <td>8.66</td>\n      <td>0.60</td>\n      <td>11.5</td>\n      <td>6</td>\n      <td>cubed</td>\n      <td>11.6</td>\n      <td>7</td>\n      <td>peanut butter</td>\n      <td>1.36</td>\n      <td>3</td>\n    </tr>\n    <tr>\n      <th>5194</th>\n      <td>0.16</td>\n      <td>1.5</td>\n      <td>490</td>\n      <td>10.0</td>\n      <td>97.0</td>\n      <td>0.99170</td>\n      <td>8.48</td>\n      <td>0.44</td>\n      <td>10.7</td>\n      <td>8</td>\n      <td>melted</td>\n      <td>10.0</td>\n      <td>7</td>\n      <td>raisins</td>\n      <td>1.80</td>\n      <td>3</td>\n    </tr>\n    <tr>\n      <th>5195</th>\n      <td>0.25</td>\n      <td>14.3</td>\n      <td>480</td>\n      <td>79.0</td>\n      <td>149.0</td>\n      <td>0.99750</td>\n      <td>8.12</td>\n      <td>0.37</td>\n      <td>9.7</td>\n      <td>7</td>\n      <td>melted</td>\n      <td>13.4</td>\n      <td>7</td>\n      <td>chocolate, oats</td>\n      <td>1.07</td>\n      <td>3</td>\n    </tr>\n    <tr>\n      <th>5196</th>\n      <td>0.33</td>\n      <td>1.4</td>\n      <td>560</td>\n      <td>35.0</td>\n      <td>136.0</td>\n      <td>0.99380</td>\n      <td>8.63</td>\n      <td>0.78</td>\n      <td>10.3</td>\n      <td>8</td>\n      <td>melted</td>\n      <td>13.8</td>\n      <td>7</td>\n      <td>chocolate</td>\n      <td>1.77</td>\n      <td>3</td>\n    </tr>\n    <tr>\n      <th>5197</th>\n      <td>0.44</td>\n      <td>1.8</td>\n      <td>810</td>\n      <td>28.0</td>\n      <td>68.0</td>\n      <td>0.99501</td>\n      <td>8.36</td>\n      <td>0.66</td>\n      <td>11.2</td>\n      <td>5</td>\n      <td>cubed</td>\n      <td>16.0</td>\n      <td>7</td>\n      <td>chocolate</td>\n      <td>1.61</td>\n      <td>3</td>\n    </tr>\n  </tbody>\n</table>\n<p>5198 rows × 16 columns</p>\n</div>"
     },
     "metadata": {}
    }
   ],
   "execution_count": null
  },
  {
   "cell_type": "code",
   "metadata": {
    "tags": [],
    "cell_id": "00007-dfe994fc-24ee-4f81-bde8-b085462e8a94",
    "deepnote_to_be_reexecuted": false,
    "source_hash": "df8bc728",
    "execution_start": 1620804857395,
    "execution_millis": 15,
    "deepnote_cell_type": "code"
   },
   "source": "PATH_val = './cookies_validate.csv'\n\ndata_val = pd.read_csv(PATH_val)",
   "outputs": [],
   "execution_count": null
  },
  {
   "cell_type": "code",
   "metadata": {
    "tags": [],
    "cell_id": "00008-975bf992-5601-4107-bd0b-6f188b957008",
    "deepnote_to_be_reexecuted": false,
    "source_hash": "94b1759c",
    "execution_start": 1620804857418,
    "execution_millis": 279,
    "deepnote_cell_type": "code"
   },
   "source": "data_val",
   "outputs": [
    {
     "output_type": "execute_result",
     "execution_count": 5,
     "data": {
      "application/vnd.deepnote.dataframe.v2+json": {
       "row_count": 779,
       "column_count": 17,
       "columns": [
        {
         "name": "id",
         "dtype": "int64",
         "stats": {
          "unique_count": 706,
          "nan_count": 0,
          "min": "14",
          "max": "4896",
          "histogram": [
           {
            "bin_start": 14,
            "bin_end": 502.2,
            "count": 52
           },
           {
            "bin_start": 502.2,
            "bin_end": 990.4,
            "count": 30
           },
           {
            "bin_start": 990.4,
            "bin_end": 1478.6,
            "count": 64
           },
           {
            "bin_start": 1478.6,
            "bin_end": 1966.8,
            "count": 62
           },
           {
            "bin_start": 1966.8,
            "bin_end": 2455,
            "count": 93
           },
           {
            "bin_start": 2455,
            "bin_end": 2943.2,
            "count": 101
           },
           {
            "bin_start": 2943.2,
            "bin_end": 3431.4,
            "count": 90
           },
           {
            "bin_start": 3431.4,
            "bin_end": 3919.6,
            "count": 109
           },
           {
            "bin_start": 3919.6,
            "bin_end": 4407.8,
            "count": 90
           },
           {
            "bin_start": 4407.8,
            "bin_end": 4896,
            "count": 88
           }
          ]
         }
        },
        {
         "name": "sugar to flour ratio",
         "dtype": "float64",
         "stats": {
          "unique_count": 73,
          "nan_count": 0,
          "min": "0.0",
          "max": "1.0",
          "histogram": [
           {
            "bin_start": 0,
            "bin_end": 0.1,
            "count": 25
           },
           {
            "bin_start": 0.1,
            "bin_end": 0.2,
            "count": 45
           },
           {
            "bin_start": 0.2,
            "bin_end": 0.30000000000000004,
            "count": 317
           },
           {
            "bin_start": 0.30000000000000004,
            "bin_end": 0.4,
            "count": 236
           },
           {
            "bin_start": 0.4,
            "bin_end": 0.5,
            "count": 99
           },
           {
            "bin_start": 0.5,
            "bin_end": 0.6000000000000001,
            "count": 35
           },
           {
            "bin_start": 0.6000000000000001,
            "bin_end": 0.7000000000000001,
            "count": 12
           },
           {
            "bin_start": 0.7000000000000001,
            "bin_end": 0.8,
            "count": 8
           },
           {
            "bin_start": 0.8,
            "bin_end": 0.9,
            "count": 1
           },
           {
            "bin_start": 0.9,
            "bin_end": 1,
            "count": 1
           }
          ]
         }
        },
        {
         "name": "sugar index",
         "dtype": "float64",
         "stats": {
          "unique_count": 198,
          "nan_count": 0,
          "min": "0.6",
          "max": "65.8",
          "histogram": [
           {
            "bin_start": 0.6,
            "bin_end": 7.12,
            "count": 481
           },
           {
            "bin_start": 7.12,
            "bin_end": 13.64,
            "count": 206
           },
           {
            "bin_start": 13.64,
            "bin_end": 20.160000000000004,
            "count": 86
           },
           {
            "bin_start": 20.160000000000004,
            "bin_end": 26.680000000000003,
            "count": 5
           },
           {
            "bin_start": 26.680000000000003,
            "bin_end": 33.2,
            "count": 0
           },
           {
            "bin_start": 33.2,
            "bin_end": 39.720000000000006,
            "count": 0
           },
           {
            "bin_start": 39.720000000000006,
            "bin_end": 46.24,
            "count": 0
           },
           {
            "bin_start": 46.24,
            "bin_end": 52.760000000000005,
            "count": 0
           },
           {
            "bin_start": 52.760000000000005,
            "bin_end": 59.28000000000001,
            "count": 0
           },
           {
            "bin_start": 59.28000000000001,
            "bin_end": 65.8,
            "count": 1
           }
          ]
         }
        },
        {
         "name": "bake temp",
         "dtype": "float64",
         "stats": {
          "unique_count": 101,
          "nan_count": 0,
          "min": "120.0",
          "max": "2140.0",
          "histogram": [
           {
            "bin_start": 120,
            "bin_end": 322,
            "count": 117
           },
           {
            "bin_start": 322,
            "bin_end": 524,
            "count": 469
           },
           {
            "bin_start": 524,
            "bin_end": 726,
            "count": 120
           },
           {
            "bin_start": 726,
            "bin_end": 928,
            "count": 40
           },
           {
            "bin_start": 928,
            "bin_end": 1130,
            "count": 17
           },
           {
            "bin_start": 1130,
            "bin_end": 1332,
            "count": 5
           },
           {
            "bin_start": 1332,
            "bin_end": 1534,
            "count": 2
           },
           {
            "bin_start": 1534,
            "bin_end": 1736,
            "count": 3
           },
           {
            "bin_start": 1736,
            "bin_end": 1938,
            "count": 4
           },
           {
            "bin_start": 1938,
            "bin_end": 2140,
            "count": 2
           }
          ]
         }
        },
        {
         "name": "chill time",
         "dtype": "float64",
         "stats": {
          "unique_count": 90,
          "nan_count": 0,
          "min": "2.0",
          "max": "289.0",
          "histogram": [
           {
            "bin_start": 2,
            "bin_end": 30.7,
            "count": 352
           },
           {
            "bin_start": 30.7,
            "bin_end": 59.4,
            "count": 356
           },
           {
            "bin_start": 59.4,
            "bin_end": 88.1,
            "count": 66
           },
           {
            "bin_start": 88.1,
            "bin_end": 116.8,
            "count": 3
           },
           {
            "bin_start": 116.8,
            "bin_end": 145.5,
            "count": 1
           },
           {
            "bin_start": 145.5,
            "bin_end": 174.2,
            "count": 0
           },
           {
            "bin_start": 174.2,
            "bin_end": 202.9,
            "count": 0
           },
           {
            "bin_start": 202.9,
            "bin_end": 231.6,
            "count": 0
           },
           {
            "bin_start": 231.6,
            "bin_end": 260.3,
            "count": 0
           },
           {
            "bin_start": 260.3,
            "bin_end": 289,
            "count": 1
           }
          ]
         }
        },
        {
         "name": "calories",
         "dtype": "float64",
         "stats": {
          "unique_count": 207,
          "nan_count": 0,
          "min": "8.0",
          "max": "440.0",
          "histogram": [
           {
            "bin_start": 8,
            "bin_end": 51.2,
            "count": 58
           },
           {
            "bin_start": 51.2,
            "bin_end": 94.4,
            "count": 114
           },
           {
            "bin_start": 94.4,
            "bin_end": 137.60000000000002,
            "count": 272
           },
           {
            "bin_start": 137.60000000000002,
            "bin_end": 180.8,
            "count": 219
           },
           {
            "bin_start": 180.8,
            "bin_end": 224,
            "count": 99
           },
           {
            "bin_start": 224,
            "bin_end": 267.20000000000005,
            "count": 15
           },
           {
            "bin_start": 267.20000000000005,
            "bin_end": 310.40000000000003,
            "count": 1
           },
           {
            "bin_start": 310.40000000000003,
            "bin_end": 353.6,
            "count": 0
           },
           {
            "bin_start": 353.6,
            "bin_end": 396.8,
            "count": 0
           },
           {
            "bin_start": 396.8,
            "bin_end": 440,
            "count": 1
           }
          ]
         }
        },
        {
         "name": "density",
         "dtype": "float64",
         "stats": {
          "unique_count": 456,
          "nan_count": 0,
          "min": "0.98746",
          "max": "1.03898",
          "histogram": [
           {
            "bin_start": 0.98746,
            "bin_end": 0.992612,
            "count": 280
           },
           {
            "bin_start": 0.992612,
            "bin_end": 0.997764,
            "count": 378
           },
           {
            "bin_start": 0.997764,
            "bin_end": 1.002916,
            "count": 117
           },
           {
            "bin_start": 1.002916,
            "bin_end": 1.008068,
            "count": 3
           },
           {
            "bin_start": 1.008068,
            "bin_end": 1.01322,
            "count": 0
           },
           {
            "bin_start": 1.01322,
            "bin_end": 1.018372,
            "count": 0
           },
           {
            "bin_start": 1.018372,
            "bin_end": 1.023524,
            "count": 0
           },
           {
            "bin_start": 1.023524,
            "bin_end": 1.028676,
            "count": 0
           },
           {
            "bin_start": 1.028676,
            "bin_end": 1.033828,
            "count": 0
           },
           {
            "bin_start": 1.033828,
            "bin_end": 1.03898,
            "count": 1
           }
          ]
         }
        },
        {
         "name": "pH",
         "dtype": "float64",
         "stats": {
          "unique_count": 77,
          "nan_count": 0,
          "min": "7.79",
          "max": "8.76",
          "histogram": [
           {
            "bin_start": 7.79,
            "bin_end": 7.8870000000000005,
            "count": 9
           },
           {
            "bin_start": 7.8870000000000005,
            "bin_end": 7.984,
            "count": 39
           },
           {
            "bin_start": 7.984,
            "bin_end": 8.081,
            "count": 137
           },
           {
            "bin_start": 8.081,
            "bin_end": 8.178,
            "count": 184
           },
           {
            "bin_start": 8.178,
            "bin_end": 8.275,
            "count": 193
           },
           {
            "bin_start": 8.275,
            "bin_end": 8.372,
            "count": 111
           },
           {
            "bin_start": 8.372,
            "bin_end": 8.469,
            "count": 69
           },
           {
            "bin_start": 8.469,
            "bin_end": 8.565999999999999,
            "count": 26
           },
           {
            "bin_start": 8.565999999999999,
            "bin_end": 8.663,
            "count": 7
           },
           {
            "bin_start": 8.663,
            "bin_end": 8.76,
            "count": 4
           }
          ]
         }
        },
        {
         "name": "grams baking soda",
         "dtype": "float64",
         "stats": {
          "unique_count": 71,
          "nan_count": 0,
          "min": "0.23",
          "max": "1.18",
          "histogram": [
           {
            "bin_start": 0.23,
            "bin_end": 0.325,
            "count": 21
           },
           {
            "bin_start": 0.325,
            "bin_end": 0.42000000000000004,
            "count": 182
           },
           {
            "bin_start": 0.42000000000000004,
            "bin_end": 0.515,
            "count": 250
           },
           {
            "bin_start": 0.515,
            "bin_end": 0.61,
            "count": 178
           },
           {
            "bin_start": 0.61,
            "bin_end": 0.705,
            "count": 81
           },
           {
            "bin_start": 0.705,
            "bin_end": 0.8,
            "count": 40
           },
           {
            "bin_start": 0.8,
            "bin_end": 0.895,
            "count": 15
           },
           {
            "bin_start": 0.895,
            "bin_end": 0.99,
            "count": 9
           },
           {
            "bin_start": 0.99,
            "bin_end": 1.085,
            "count": 2
           },
           {
            "bin_start": 1.085,
            "bin_end": 1.18,
            "count": 1
           }
          ]
         }
        },
        {
         "name": "bake time",
         "dtype": "float64",
         "stats": {
          "unique_count": 67,
          "nan_count": 0,
          "min": "8.5",
          "max": "14.2",
          "histogram": [
           {
            "bin_start": 8.5,
            "bin_end": 9.07,
            "count": 74
           },
           {
            "bin_start": 9.07,
            "bin_end": 9.64,
            "count": 152
           },
           {
            "bin_start": 9.64,
            "bin_end": 10.21,
            "count": 117
           },
           {
            "bin_start": 10.21,
            "bin_end": 10.78,
            "count": 88
           },
           {
            "bin_start": 10.78,
            "bin_end": 11.35,
            "count": 121
           },
           {
            "bin_start": 11.35,
            "bin_end": 11.92,
            "count": 90
           },
           {
            "bin_start": 11.92,
            "bin_end": 12.49,
            "count": 67
           },
           {
            "bin_start": 12.49,
            "bin_end": 13.059999999999999,
            "count": 49
           },
           {
            "bin_start": 13.059999999999999,
            "bin_end": 13.629999999999999,
            "count": 16
           },
           {
            "bin_start": 13.629999999999999,
            "bin_end": 14.2,
            "count": 5
           }
          ]
         }
        },
        {
         "name": "quality",
         "dtype": "int64",
         "stats": {
          "unique_count": 1,
          "nan_count": 0,
          "min": "0",
          "max": "0",
          "histogram": [
           {
            "bin_start": -0.5,
            "bin_end": -0.4,
            "count": 0
           },
           {
            "bin_start": -0.4,
            "bin_end": -0.3,
            "count": 0
           },
           {
            "bin_start": -0.3,
            "bin_end": -0.19999999999999996,
            "count": 0
           },
           {
            "bin_start": -0.19999999999999996,
            "bin_end": -0.09999999999999998,
            "count": 0
           },
           {
            "bin_start": -0.09999999999999998,
            "bin_end": 0,
            "count": 0
           },
           {
            "bin_start": 0,
            "bin_end": 0.10000000000000009,
            "count": 779
           },
           {
            "bin_start": 0.10000000000000009,
            "bin_end": 0.20000000000000007,
            "count": 0
           },
           {
            "bin_start": 0.20000000000000007,
            "bin_end": 0.30000000000000004,
            "count": 0
           },
           {
            "bin_start": 0.30000000000000004,
            "bin_end": 0.4,
            "count": 0
           },
           {
            "bin_start": 0.4,
            "bin_end": 0.5,
            "count": 0
           }
          ]
         }
        },
        {
         "name": "butter type",
         "dtype": "object",
         "stats": {
          "unique_count": 2,
          "nan_count": 0,
          "categories": [
           {
            "name": "melted",
            "count": 706
           },
           {
            "name": "cubed",
            "count": 73
           }
          ]
         }
        },
        {
         "name": "weight",
         "dtype": "float64",
         "stats": {
          "unique_count": 66,
          "nan_count": 0,
          "min": "9.4",
          "max": "27.6",
          "histogram": [
           {
            "bin_start": 9.4,
            "bin_end": 11.22,
            "count": 45
           },
           {
            "bin_start": 11.22,
            "bin_end": 13.040000000000001,
            "count": 234
           },
           {
            "bin_start": 13.040000000000001,
            "bin_end": 14.860000000000001,
            "count": 309
           },
           {
            "bin_start": 14.860000000000001,
            "bin_end": 16.68,
            "count": 116
           },
           {
            "bin_start": 16.68,
            "bin_end": 18.5,
            "count": 40
           },
           {
            "bin_start": 18.5,
            "bin_end": 20.32,
            "count": 14
           },
           {
            "bin_start": 20.32,
            "bin_end": 22.14,
            "count": 13
           },
           {
            "bin_start": 22.14,
            "bin_end": 23.96,
            "count": 4
           },
           {
            "bin_start": 23.96,
            "bin_end": 25.78,
            "count": 3
           },
           {
            "bin_start": 25.78,
            "bin_end": 27.6,
            "count": 1
           }
          ]
         }
        },
        {
         "name": "diameter",
         "dtype": "int64",
         "stats": {
          "unique_count": 1,
          "nan_count": 0,
          "min": "7",
          "max": "7",
          "histogram": [
           {
            "bin_start": 6.5,
            "bin_end": 6.6,
            "count": 0
           },
           {
            "bin_start": 6.6,
            "bin_end": 6.7,
            "count": 0
           },
           {
            "bin_start": 6.7,
            "bin_end": 6.8,
            "count": 0
           },
           {
            "bin_start": 6.8,
            "bin_end": 6.9,
            "count": 0
           },
           {
            "bin_start": 6.9,
            "bin_end": 7,
            "count": 0
           },
           {
            "bin_start": 7,
            "bin_end": 7.1,
            "count": 779
           },
           {
            "bin_start": 7.1,
            "bin_end": 7.2,
            "count": 0
           },
           {
            "bin_start": 7.2,
            "bin_end": 7.3,
            "count": 0
           },
           {
            "bin_start": 7.3,
            "bin_end": 7.4,
            "count": 0
           },
           {
            "bin_start": 7.4,
            "bin_end": 7.5,
            "count": 0
           }
          ]
         }
        },
        {
         "name": "mixins",
         "dtype": "object",
         "stats": {
          "unique_count": 11,
          "nan_count": 0,
          "categories": [
           {
            "name": "chocolate",
            "count": 332
           },
           {
            "name": "raisins",
            "count": 198
           },
           {
            "name": "9 others",
            "count": 249
           }
          ]
         }
        },
        {
         "name": "crunch factor",
         "dtype": "float64",
         "stats": {
          "unique_count": 101,
          "nan_count": 0,
          "min": "1.0",
          "max": "2.0",
          "histogram": [
           {
            "bin_start": 1,
            "bin_end": 1.1,
            "count": 71
           },
           {
            "bin_start": 1.1,
            "bin_end": 1.2,
            "count": 77
           },
           {
            "bin_start": 1.2,
            "bin_end": 1.3,
            "count": 84
           },
           {
            "bin_start": 1.3,
            "bin_end": 1.4,
            "count": 78
           },
           {
            "bin_start": 1.4,
            "bin_end": 1.5,
            "count": 82
           },
           {
            "bin_start": 1.5,
            "bin_end": 1.6,
            "count": 93
           },
           {
            "bin_start": 1.6,
            "bin_end": 1.7000000000000002,
            "count": 83
           },
           {
            "bin_start": 1.7000000000000002,
            "bin_end": 1.8,
            "count": 70
           },
           {
            "bin_start": 1.8,
            "bin_end": 1.9,
            "count": 66
           },
           {
            "bin_start": 1.9,
            "bin_end": 2,
            "count": 75
           }
          ]
         }
        },
        {
         "name": "aesthetic appeal",
         "dtype": "int64",
         "stats": {
          "unique_count": 1,
          "nan_count": 0,
          "min": "3",
          "max": "3",
          "histogram": [
           {
            "bin_start": 2.5,
            "bin_end": 2.6,
            "count": 0
           },
           {
            "bin_start": 2.6,
            "bin_end": 2.7,
            "count": 0
           },
           {
            "bin_start": 2.7,
            "bin_end": 2.8,
            "count": 0
           },
           {
            "bin_start": 2.8,
            "bin_end": 2.9,
            "count": 0
           },
           {
            "bin_start": 2.9,
            "bin_end": 3,
            "count": 0
           },
           {
            "bin_start": 3,
            "bin_end": 3.1,
            "count": 779
           },
           {
            "bin_start": 3.1,
            "bin_end": 3.2,
            "count": 0
           },
           {
            "bin_start": 3.2,
            "bin_end": 3.3,
            "count": 0
           },
           {
            "bin_start": 3.3,
            "bin_end": 3.4,
            "count": 0
           },
           {
            "bin_start": 3.4,
            "bin_end": 3.5,
            "count": 0
           }
          ]
         }
        },
        {
         "name": "_deepnote_index_column",
         "dtype": "int64"
        }
       ],
       "rows_top": [
        {
         "id": 14,
         "sugar to flour ratio": 0.62,
         "sugar index": 19.25,
         "bake temp": 400,
         "chill time": 41,
         "calories": 172,
         "density": 1.0002,
         "pH": 7.98,
         "grams baking soda": 0.67,
         "bake time": 9.7,
         "quality": 0,
         "butter type": "melted",
         "weight": 16.6,
         "diameter": 7,
         "mixins": "nuts, chocolate",
         "crunch factor": 1.85,
         "aesthetic appeal": 3,
         "_deepnote_index_column": 0
        },
        {
         "id": 26,
         "sugar to flour ratio": 0.35,
         "sugar index": 1,
         "bake temp": 520,
         "chill time": 35,
         "calories": 146,
         "density": 0.993,
         "pH": 8.45,
         "grams baking soda": 0.44,
         "bake time": 10,
         "quality": 0,
         "butter type": "melted",
         "weight": 13.8,
         "diameter": 7,
         "mixins": "chocolate",
         "crunch factor": 1.43,
         "aesthetic appeal": 3,
         "_deepnote_index_column": 1
        },
        {
         "id": 30,
         "sugar to flour ratio": 0.39,
         "sugar index": 10.4,
         "bake temp": 440.00000000000006,
         "chill time": 20,
         "calories": 142,
         "density": 0.9974,
         "pH": 8.2,
         "grams baking soda": 0.53,
         "bake time": 10,
         "quality": 0,
         "butter type": "melted",
         "weight": 17,
         "diameter": 7,
         "mixins": "chocolate",
         "crunch factor": 1.57,
         "aesthetic appeal": 3,
         "_deepnote_index_column": 2
        },
        {
         "id": 52,
         "sugar to flour ratio": 0.33,
         "sugar index": 1.1,
         "bake temp": 570,
         "chill time": 21,
         "calories": 82,
         "density": 0.991,
         "pH": 8.32,
         "grams baking soda": 0.46,
         "bake time": 10.9,
         "quality": 0,
         "butter type": "melted",
         "weight": 12.4,
         "diameter": 7,
         "mixins": "chocolate, oats",
         "crunch factor": 1.44,
         "aesthetic appeal": 3,
         "_deepnote_index_column": 3
        },
        {
         "id": 100,
         "sugar to flour ratio": 0.37,
         "sugar index": 13.5,
         "bake temp": 600,
         "chill time": 52,
         "calories": 192,
         "density": 0.9975,
         "pH": 8,
         "grams baking soda": 0.44,
         "bake time": 9.1,
         "quality": 0,
         "butter type": "melted",
         "weight": 14.8,
         "diameter": 7,
         "mixins": "chocolate",
         "crunch factor": 1.51,
         "aesthetic appeal": 3,
         "_deepnote_index_column": 4
        },
        {
         "id": 180,
         "sugar to flour ratio": 0.31,
         "sugar index": 5.5,
         "bake temp": 480,
         "chill time": 42,
         "calories": 173,
         "density": 0.9951,
         "pH": 8.19,
         "grams baking soda": 0.66,
         "bake time": 9.3,
         "quality": 0,
         "butter type": "melted",
         "weight": 12.8,
         "diameter": 7,
         "mixins": "raisins",
         "crunch factor": 1.86,
         "aesthetic appeal": 3,
         "_deepnote_index_column": 5
        },
        {
         "id": 204,
         "sugar to flour ratio": 0.35,
         "sugar index": 2.3,
         "bake temp": 530,
         "chill time": 36,
         "calories": 114,
         "density": 0.9924,
         "pH": 8.28,
         "grams baking soda": 0.5,
         "bake time": 10.2,
         "quality": 0,
         "butter type": "melted",
         "weight": 11.6,
         "diameter": 7,
         "mixins": "chocolate",
         "crunch factor": 1.23,
         "aesthetic appeal": 3,
         "_deepnote_index_column": 6
        },
        {
         "id": 207,
         "sugar to flour ratio": 0.88,
         "sugar index": 6.2,
         "bake temp": 490,
         "chill time": 20,
         "calories": 124,
         "density": 0.9968,
         "pH": 7.99,
         "grams baking soda": 0.51,
         "bake time": 9.9,
         "quality": 0,
         "butter type": "melted",
         "weight": 20.4,
         "diameter": 7,
         "mixins": "nuts, chocolate",
         "crunch factor": 1.36,
         "aesthetic appeal": 3,
         "_deepnote_index_column": 7
        },
        {
         "id": 216,
         "sugar to flour ratio": 0.36,
         "sugar index": 7,
         "bake temp": 360.00000000000006,
         "chill time": 45,
         "calories": 164,
         "density": 0.9939,
         "pH": 8.03,
         "grams baking soda": 0.33,
         "bake time": 11,
         "quality": 0,
         "butter type": "melted",
         "weight": 15,
         "diameter": 7,
         "mixins": "chocolate",
         "crunch factor": 1.21,
         "aesthetic appeal": 3,
         "_deepnote_index_column": 8
        },
        {
         "id": 228,
         "sugar to flour ratio": 0.32,
         "sugar index": 2.4,
         "bake temp": 480,
         "chill time": 41,
         "calories": 200,
         "density": 0.9938,
         "pH": 8.5,
         "grams baking soda": 0.5,
         "bake time": 9.7,
         "quality": 0,
         "butter type": "melted",
         "weight": 12.8,
         "diameter": 7,
         "mixins": "chocolate, oats",
         "crunch factor": 1.37,
         "aesthetic appeal": 3,
         "_deepnote_index_column": 9
        },
        {
         "id": 293,
         "sugar to flour ratio": 0.22,
         "sugar index": 7.3,
         "bake temp": 410,
         "chill time": 26,
         "calories": 157,
         "density": 0.9957,
         "pH": 8.44,
         "grams baking soda": 0.64,
         "bake time": 9.8,
         "quality": 0,
         "butter type": "melted",
         "weight": 12.4,
         "diameter": 7,
         "mixins": "chocolate",
         "crunch factor": 1.09,
         "aesthetic appeal": 3,
         "_deepnote_index_column": 10
        },
        {
         "id": 309,
         "sugar to flour ratio": 0.26,
         "sugar index": 4.8,
         "bake temp": 370.00000000000006,
         "chill time": 36,
         "calories": 148,
         "density": 0.9928,
         "pH": 8.21,
         "grams baking soda": 0.41,
         "bake time": 10.4,
         "quality": 0,
         "butter type": "melted",
         "weight": 12.4,
         "diameter": 7,
         "mixins": "raisins",
         "crunch factor": 1,
         "aesthetic appeal": 3,
         "_deepnote_index_column": 11
        },
        {
         "id": 327,
         "sugar to flour ratio": 0.23,
         "sugar index": 6.3,
         "bake temp": 390,
         "chill time": 37,
         "calories": 143,
         "density": 0.9944,
         "pH": 8.19,
         "grams baking soda": 0.65,
         "bake time": 10,
         "quality": 0,
         "butter type": "melted",
         "weight": 12.8,
         "diameter": 7,
         "mixins": "raisins",
         "crunch factor": 1.42,
         "aesthetic appeal": 3,
         "_deepnote_index_column": 12
        },
        {
         "id": 329,
         "sugar to flour ratio": 0.41,
         "sugar index": 1.3,
         "bake temp": 360.00000000000006,
         "chill time": 33,
         "calories": 85,
         "density": 0.992,
         "pH": 8.17,
         "grams baking soda": 0.51,
         "bake time": 10.4,
         "quality": 0,
         "butter type": "melted",
         "weight": 14.4,
         "diameter": 7,
         "mixins": "chocolate",
         "crunch factor": 1.69,
         "aesthetic appeal": 3,
         "_deepnote_index_column": 13
        },
        {
         "id": 332,
         "sugar to flour ratio": 0.3,
         "sugar index": 1.8,
         "bake temp": 330,
         "chill time": 16,
         "calories": 91,
         "density": 0.9906,
         "pH": 8.28,
         "grams baking soda": 0.4,
         "bake time": 11.8,
         "quality": 0,
         "butter type": "melted",
         "weight": 12.6,
         "diameter": 7,
         "mixins": "chocolate",
         "crunch factor": 1.72,
         "aesthetic appeal": 3,
         "_deepnote_index_column": 14
        },
        {
         "id": 340,
         "sugar to flour ratio": 0.43,
         "sugar index": 7.8,
         "bake temp": 450,
         "chill time": 27,
         "calories": 153,
         "density": 0.9964,
         "pH": 8.19,
         "grams baking soda": 0.55,
         "bake time": 9,
         "quality": 0,
         "butter type": "melted",
         "weight": 14.8,
         "diameter": 7,
         "mixins": "chocolate",
         "crunch factor": 1.98,
         "aesthetic appeal": 3,
         "_deepnote_index_column": 15
        },
        {
         "id": 347,
         "sugar to flour ratio": 0.41,
         "sugar index": 15.6,
         "bake temp": 559.9999999999999,
         "chill time": 75,
         "calories": 155,
         "density": 0.9995,
         "pH": 8.2,
         "grams baking soda": 0.44,
         "bake time": 8.8,
         "quality": 0,
         "butter type": "melted",
         "weight": 13.4,
         "diameter": 7,
         "mixins": "chocolate, oats",
         "crunch factor": 1.81,
         "aesthetic appeal": 3,
         "_deepnote_index_column": 16
        },
        {
         "id": 357,
         "sugar to flour ratio": 0.33,
         "sugar index": 1.1,
         "bake temp": 500,
         "chill time": 24,
         "calories": 169,
         "density": 0.9927,
         "pH": 8.15,
         "grams baking soda": 0.78,
         "bake time": 9.5,
         "quality": 0,
         "butter type": "melted",
         "weight": 12.2,
         "diameter": 7,
         "mixins": "raisins",
         "crunch factor": 1.63,
         "aesthetic appeal": 3,
         "_deepnote_index_column": 17
        },
        {
         "id": 393,
         "sugar to flour ratio": 0.43,
         "sugar index": 2,
         "bake temp": 210,
         "chill time": 20,
         "calories": 69,
         "density": 0.99,
         "pH": 8.08,
         "grams baking soda": 0.56,
         "bake time": 12.2,
         "quality": 0,
         "butter type": "melted",
         "weight": 14.6,
         "diameter": 7,
         "mixins": "chocolate",
         "crunch factor": 1.05,
         "aesthetic appeal": 3,
         "_deepnote_index_column": 18
        },
        {
         "id": 397,
         "sugar to flour ratio": 0.4,
         "sugar index": 1.5,
         "bake temp": 370.00000000000006,
         "chill time": 35,
         "calories": 107,
         "density": 0.9917,
         "pH": 8.46,
         "grams baking soda": 0.5,
         "bake time": 11.4,
         "quality": 0,
         "butter type": "melted",
         "weight": 12.6,
         "diameter": 7,
         "mixins": "chocolate",
         "crunch factor": 1.33,
         "aesthetic appeal": 3,
         "_deepnote_index_column": 19
        },
        {
         "id": 408,
         "sugar to flour ratio": 0.39,
         "sugar index": 1.2,
         "bake temp": 440.00000000000006,
         "chill time": 26,
         "calories": 116,
         "density": 0.992,
         "pH": 8.26,
         "grams baking soda": 0.53,
         "bake time": 10.3,
         "quality": 0,
         "butter type": "melted",
         "weight": 12.6,
         "diameter": 7,
         "mixins": "chocolate, oats",
         "crunch factor": 1.15,
         "aesthetic appeal": 3,
         "_deepnote_index_column": 20
        },
        {
         "id": 438,
         "sugar to flour ratio": 0.34,
         "sugar index": 2.3,
         "bake temp": 450,
         "chill time": 73.5,
         "calories": 214,
         "density": 0.9934,
         "pH": 8.18,
         "grams baking soda": 0.61,
         "bake time": 9.9,
         "quality": 0,
         "butter type": "melted",
         "weight": 14.8,
         "diameter": 7,
         "mixins": "chocolate, oats",
         "crunch factor": 1.25,
         "aesthetic appeal": 3,
         "_deepnote_index_column": 21
        },
        {
         "id": 440,
         "sugar to flour ratio": 0.37,
         "sugar index": 1.6,
         "bake temp": 279.99999999999994,
         "chill time": 24,
         "calories": 102,
         "density": 0.9913,
         "pH": 8.29,
         "grams baking soda": 0.59,
         "bake time": 11.6,
         "quality": 0,
         "butter type": "melted",
         "weight": 13.4,
         "diameter": 7,
         "mixins": "chocolate",
         "crunch factor": 1.26,
         "aesthetic appeal": 3,
         "_deepnote_index_column": 22
        },
        {
         "id": 469,
         "sugar to flour ratio": 0.53,
         "sugar index": 18.15,
         "bake temp": 470,
         "chill time": 59,
         "calories": 182,
         "density": 0.9992,
         "pH": 8.09,
         "grams baking soda": 0.52,
         "bake time": 9.6,
         "quality": 0,
         "butter type": "melted",
         "weight": 14.4,
         "diameter": 7,
         "mixins": "chocolate",
         "crunch factor": 1.97,
         "aesthetic appeal": 3,
         "_deepnote_index_column": 23
        },
        {
         "id": 480,
         "sugar to flour ratio": 0.34,
         "sugar index": 8.9,
         "bake temp": 430,
         "chill time": 31,
         "calories": 172,
         "density": 0.9964,
         "pH": 8.22,
         "grams baking soda": 0.6,
         "bake time": 9.2,
         "quality": 0,
         "butter type": "melted",
         "weight": 13.4,
         "diameter": 7,
         "mixins": "nuts, chocolate",
         "crunch factor": 1.52,
         "aesthetic appeal": 3,
         "_deepnote_index_column": 24
        },
        {
         "id": 499,
         "sugar to flour ratio": 0.62,
         "sugar index": 10.8,
         "bake temp": 410,
         "chill time": 70,
         "calories": 189,
         "density": 0.9976,
         "pH": 8.08,
         "grams baking soda": 0.49,
         "bake time": 8.6,
         "quality": 0,
         "butter type": "melted",
         "weight": 14.4,
         "diameter": 7,
         "mixins": "nuts, chocolate",
         "crunch factor": 1.6,
         "aesthetic appeal": 3,
         "_deepnote_index_column": 25
        },
        {
         "id": 503,
         "sugar to flour ratio": 0.29,
         "sugar index": 2.25,
         "bake temp": 370.00000000000006,
         "chill time": 8,
         "calories": 210,
         "density": 0.9937,
         "pH": 8.19,
         "grams baking soda": 0.62,
         "bake time": 9.9,
         "quality": 0,
         "butter type": "melted",
         "weight": 13,
         "diameter": 7,
         "mixins": "raisins",
         "crunch factor": 1.66,
         "aesthetic appeal": 3,
         "_deepnote_index_column": 26
        },
        {
         "id": 510,
         "sugar to flour ratio": 0.12,
         "sugar index": 1.3,
         "bake temp": 410,
         "chill time": 62,
         "calories": 138,
         "density": 0.9921,
         "pH": 8.21,
         "grams baking soda": 0.42,
         "bake time": 10,
         "quality": 0,
         "butter type": "melted",
         "weight": 13.4,
         "diameter": 7,
         "mixins": "chocolate",
         "crunch factor": 1.68,
         "aesthetic appeal": 3,
         "_deepnote_index_column": 27
        },
        {
         "id": 541,
         "sugar to flour ratio": 0.65,
         "sugar index": 10.4,
         "bake temp": 500,
         "chill time": 76,
         "calories": 192,
         "density": 0.9976,
         "pH": 8.16,
         "grams baking soda": 0.42,
         "bake time": 8.7,
         "quality": 0,
         "butter type": "melted",
         "weight": 14.4,
         "diameter": 7,
         "mixins": "nuts, chocolate",
         "crunch factor": 1.14,
         "aesthetic appeal": 3,
         "_deepnote_index_column": 28
        }
       ],
       "rows_bottom": [
        {
         "id": 1016,
         "sugar to flour ratio": 0.4,
         "sugar index": 2.2,
         "bake temp": 680,
         "chill time": 12,
         "calories": 28,
         "density": 0.99486,
         "pH": 8.27,
         "grams baking soda": 0.75,
         "bake time": 12.6,
         "quality": 0,
         "butter type": "cubed",
         "weight": 17.8,
         "diameter": 7,
         "mixins": "raisins",
         "crunch factor": 1.07,
         "aesthetic appeal": 3,
         "_deepnote_index_column": 750
        },
        {
         "id": 1031,
         "sugar to flour ratio": 0.01,
         "sugar index": 1.8,
         "bake temp": 930,
         "chill time": 9,
         "calories": 15,
         "density": 0.99514,
         "pH": 8.35,
         "grams baking soda": 0.58,
         "bake time": 11,
         "quality": 0,
         "butter type": "cubed",
         "weight": 14.6,
         "diameter": 7,
         "mixins": "nuts,raisins",
         "crunch factor": 1.78,
         "aesthetic appeal": 3,
         "_deepnote_index_column": 751
        },
        {
         "id": 1063,
         "sugar to flour ratio": 0.65,
         "sugar index": 2.4,
         "bake temp": 750,
         "chill time": 6,
         "calories": 17,
         "density": 0.99565,
         "pH": 8.22,
         "grams baking soda": 0.63,
         "bake time": 11.8,
         "quality": 0,
         "butter type": "cubed",
         "weight": 20.4,
         "diameter": 7,
         "mixins": "chocolate",
         "crunch factor": 1.03,
         "aesthetic appeal": 3,
         "_deepnote_index_column": 752
        },
        {
         "id": 1067,
         "sugar to flour ratio": 0.53,
         "sugar index": 2.2,
         "bake temp": 600,
         "chill time": 3,
         "calories": 10,
         "density": 0.99572,
         "pH": 8.02,
         "grams baking soda": 0.83,
         "bake time": 10.9,
         "quality": 0,
         "butter type": "cubed",
         "weight": 22.2,
         "diameter": 7,
         "mixins": "raisins",
         "crunch factor": 1.38,
         "aesthetic appeal": 3,
         "_deepnote_index_column": 753
        },
        {
         "id": 1071,
         "sugar to flour ratio": 0.2,
         "sugar index": 8.1,
         "bake temp": 980,
         "chill time": 30,
         "calories": 92,
         "density": 0.99892,
         "pH": 8.2,
         "grams baking soda": 0.58,
         "bake time": 9.2,
         "quality": 0,
         "butter type": "cubed",
         "weight": 15,
         "diameter": 7,
         "mixins": "nuts, oats",
         "crunch factor": 1.4,
         "aesthetic appeal": 3,
         "_deepnote_index_column": 754
        },
        {
         "id": 1080,
         "sugar to flour ratio": 0.56,
         "sugar index": 1.4,
         "bake temp": 470,
         "chill time": 3,
         "calories": 8,
         "density": 0.99471,
         "pH": 8.16,
         "grams baking soda": 0.51,
         "bake time": 11.8,
         "quality": 0,
         "butter type": "cubed",
         "weight": 20.6,
         "diameter": 7,
         "mixins": "chocolate",
         "crunch factor": 1.61,
         "aesthetic appeal": 3,
         "_deepnote_index_column": 755
        },
        {
         "id": 1085,
         "sugar to flour ratio": 0.08,
         "sugar index": 1.8,
         "bake temp": 740.0000000000001,
         "chill time": 40,
         "calories": 64,
         "density": 0.99529,
         "pH": 8.120000000000001,
         "grams baking soda": 0.49,
         "bake time": 9.6,
         "quality": 0,
         "butter type": "cubed",
         "weight": 13.6,
         "diameter": 7,
         "mixins": "nuts, chocolate",
         "crunch factor": 1.59,
         "aesthetic appeal": 3,
         "_deepnote_index_column": 756
        },
        {
         "id": 1117,
         "sugar to flour ratio": 0.07,
         "sugar index": 2.5,
         "bake temp": 910,
         "chill time": 15,
         "calories": 21,
         "density": 0.99572,
         "pH": 8.379999999999999,
         "grams baking soda": 0.6,
         "bake time": 11.3,
         "quality": 0,
         "butter type": "cubed",
         "weight": 14,
         "diameter": 7,
         "mixins": "nuts, oats, chocolate",
         "crunch factor": 1.24,
         "aesthetic appeal": 3,
         "_deepnote_index_column": 757
        },
        {
         "id": 1146,
         "sugar to flour ratio": 0.12,
         "sugar index": 1.8,
         "bake temp": 1780.0000000000002,
         "chill time": 6,
         "calories": 21,
         "density": 0.996,
         "pH": 8.28,
         "grams baking soda": 0.87,
         "bake time": 9.8,
         "quality": 0,
         "butter type": "cubed",
         "weight": 15.6,
         "diameter": 7,
         "mixins": "nuts,raisins",
         "crunch factor": 1.49,
         "aesthetic appeal": 3,
         "_deepnote_index_column": 758
        },
        {
         "id": 1154,
         "sugar to flour ratio": 0,
         "sugar index": 2.2,
         "bake temp": 1000,
         "chill time": 50,
         "calories": 63,
         "density": 0.99544,
         "pH": 8.59,
         "grams baking soda": 0.68,
         "bake time": 11.4,
         "quality": 0,
         "butter type": "cubed",
         "weight": 13.2,
         "diameter": 7,
         "mixins": "nuts,raisins",
         "crunch factor": 1.47,
         "aesthetic appeal": 3,
         "_deepnote_index_column": 759
        },
        {
         "id": 1156,
         "sugar to flour ratio": 0.51,
         "sugar index": 1.75,
         "bake temp": 709.9999999999999,
         "chill time": 45,
         "calories": 88,
         "density": 0.99524,
         "pH": 8.33,
         "grams baking soda": 0.76,
         "bake time": 11.8,
         "quality": 0,
         "butter type": "cubed",
         "weight": 17,
         "diameter": 7,
         "mixins": "chocolate, oats",
         "crunch factor": 1.13,
         "aesthetic appeal": 3,
         "_deepnote_index_column": 760
        },
        {
         "id": 1182,
         "sugar to flour ratio": 0.4,
         "sugar index": 2.5,
         "bake temp": 680,
         "chill time": 41,
         "calories": 54,
         "density": 0.99754,
         "pH": 8.379999999999999,
         "grams baking soda": 0.86,
         "bake time": 10.5,
         "quality": 0,
         "butter type": "cubed",
         "weight": 20.4,
         "diameter": 7,
         "mixins": "nuts, chocolate",
         "crunch factor": 1.65,
         "aesthetic appeal": 3,
         "_deepnote_index_column": 761
        },
        {
         "id": 1206,
         "sugar to flour ratio": 0.46,
         "sugar index": 2.1,
         "bake temp": 740.0000000000001,
         "chill time": 24,
         "calories": 44,
         "density": 0.99534,
         "pH": 8.4,
         "grams baking soda": 0.85,
         "bake time": 11,
         "quality": 0,
         "butter type": "cubed",
         "weight": 14.4,
         "diameter": 7,
         "mixins": "raisins",
         "crunch factor": 1.12,
         "aesthetic appeal": 3,
         "_deepnote_index_column": 762
        },
        {
         "id": 1213,
         "sugar to flour ratio": 0.42,
         "sugar index": 1.9,
         "bake temp": 709.9999999999999,
         "chill time": 5,
         "calories": 13,
         "density": 0.99659,
         "pH": 8.15,
         "grams baking soda": 0.75,
         "bake time": 10.5,
         "quality": 0,
         "butter type": "cubed",
         "weight": 19.2,
         "diameter": 7,
         "mixins": "raisins",
         "crunch factor": 1.82,
         "aesthetic appeal": 3,
         "_deepnote_index_column": 763
        },
        {
         "id": 1229,
         "sugar to flour ratio": 0.29,
         "sugar index": 2.1,
         "bake temp": 750,
         "chill time": 19,
         "calories": 66,
         "density": 0.99718,
         "pH": 8.4,
         "grams baking soda": 0.64,
         "bake time": 9.5,
         "quality": 0,
         "butter type": "cubed",
         "weight": 15.2,
         "diameter": 7,
         "mixins": "nuts, chocolate",
         "crunch factor": 1.15,
         "aesthetic appeal": 3,
         "_deepnote_index_column": 764
        },
        {
         "id": 1231,
         "sugar to flour ratio": 0.01,
         "sugar index": 2.6,
         "bake temp": 740.0000000000001,
         "chill time": 48,
         "calories": 90,
         "density": 0.99621,
         "pH": 8.379999999999999,
         "grams baking soda": 0.62,
         "bake time": 10.8,
         "quality": 0,
         "butter type": "cubed",
         "weight": 15.6,
         "diameter": 7,
         "mixins": "chocolate, peanut butter",
         "crunch factor": 1.77,
         "aesthetic appeal": 3,
         "_deepnote_index_column": 765
        },
        {
         "id": 1259,
         "sugar to flour ratio": 0,
         "sugar index": 2.7,
         "bake temp": 1230.0000000000002,
         "chill time": 15,
         "calories": 33,
         "density": 0.99538,
         "pH": 8.44,
         "grams baking soda": 0.63,
         "bake time": 11.3,
         "quality": 0,
         "butter type": "cubed",
         "weight": 13.6,
         "diameter": 7,
         "mixins": "nuts, oats, chocolate",
         "crunch factor": 1.24,
         "aesthetic appeal": 3,
         "_deepnote_index_column": 766
        },
        {
         "id": 1327,
         "sugar to flour ratio": 0.24,
         "sugar index": 1.7,
         "bake temp": 770,
         "chill time": 18,
         "calories": 34,
         "density": 0.9948,
         "pH": 8.39,
         "grams baking soda": 0.6,
         "bake time": 10.6,
         "quality": 0,
         "butter type": "cubed",
         "weight": 13.4,
         "diameter": 7,
         "mixins": "nuts, chocolate",
         "crunch factor": 1.55,
         "aesthetic appeal": 3,
         "_deepnote_index_column": 767
        },
        {
         "id": 1341,
         "sugar to flour ratio": 0.02,
         "sugar index": 1.7,
         "bake temp": 840,
         "chill time": 13,
         "calories": 31,
         "density": 0.99538,
         "pH": 8.36,
         "grams baking soda": 0.54,
         "bake time": 10.5,
         "quality": 0,
         "butter type": "cubed",
         "weight": 15,
         "diameter": 7,
         "mixins": "nuts,raisins",
         "crunch factor": 1.97,
         "aesthetic appeal": 3,
         "_deepnote_index_column": 768
        },
        {
         "id": 1375,
         "sugar to flour ratio": 0.26,
         "sugar index": 2,
         "bake temp": 830,
         "chill time": 13,
         "calories": 100,
         "density": 0.99586,
         "pH": 8.26,
         "grams baking soda": 0.52,
         "bake time": 9.9,
         "quality": 0,
         "butter type": "cubed",
         "weight": 14.4,
         "diameter": 7,
         "mixins": "nuts,raisins",
         "crunch factor": 1.7,
         "aesthetic appeal": 3,
         "_deepnote_index_column": 769
        },
        {
         "id": 1402,
         "sugar to flour ratio": 0.42,
         "sugar index": 2,
         "bake temp": 520,
         "chill time": 6,
         "calories": 24,
         "density": 0.9963,
         "pH": 8.44,
         "grams baking soda": 0.82,
         "bake time": 11.9,
         "quality": 0,
         "butter type": "cubed",
         "weight": 15.2,
         "diameter": 7,
         "mixins": "raisins",
         "crunch factor": 1.84,
         "aesthetic appeal": 3,
         "_deepnote_index_column": 770
        },
        {
         "id": 1416,
         "sugar to flour ratio": 0.59,
         "sugar index": 2.2,
         "bake temp": 770,
         "chill time": 3,
         "calories": 15,
         "density": 0.9994,
         "pH": 8.2,
         "grams baking soda": 0.78,
         "bake time": 9.6,
         "quality": 0,
         "butter type": "cubed",
         "weight": 20,
         "diameter": 7,
         "mixins": "raisins",
         "crunch factor": 1.73,
         "aesthetic appeal": 3,
         "_deepnote_index_column": 771
        },
        {
         "id": 1435,
         "sugar to flour ratio": 0.37,
         "sugar index": 15.4,
         "bake temp": 2140,
         "chill time": 55,
         "calories": 95,
         "density": 1.00369,
         "pH": 8.18,
         "grams baking soda": 0.77,
         "bake time": 9,
         "quality": 0,
         "butter type": "cubed",
         "weight": 20.4,
         "diameter": 7,
         "mixins": "nuts,raisins",
         "crunch factor": 1,
         "aesthetic appeal": 3,
         "_deepnote_index_column": 772
        },
        {
         "id": 1438,
         "sugar to flour ratio": 0,
         "sugar index": 1.7,
         "bake temp": 520,
         "chill time": 3,
         "calories": 8,
         "density": 0.996,
         "pH": 8.41,
         "grams baking soda": 0.47,
         "bake time": 10.3,
         "quality": 0,
         "butter type": "cubed",
         "weight": 14,
         "diameter": 7,
         "mixins": "nuts,raisins",
         "crunch factor": 1.21,
         "aesthetic appeal": 3,
         "_deepnote_index_column": 773
        },
        {
         "id": 1442,
         "sugar to flour ratio": 0.02,
         "sugar index": 1.9,
         "bake temp": 780,
         "chill time": 18,
         "calories": 30,
         "density": 0.99712,
         "pH": 8.4,
         "grams baking soda": 0.75,
         "bake time": 9.8,
         "quality": 0,
         "butter type": "cubed",
         "weight": 13.8,
         "diameter": 7,
         "mixins": "nuts, oats, chocolate",
         "crunch factor": 1.01,
         "aesthetic appeal": 3,
         "_deepnote_index_column": 774
        },
        {
         "id": 1445,
         "sugar to flour ratio": 0.19,
         "sugar index": 5.2,
         "bake temp": 940,
         "chill time": 19,
         "calories": 98,
         "density": 0.99713,
         "pH": 8.16,
         "grams baking soda": 0.52,
         "bake time": 9.6,
         "quality": 0,
         "butter type": "cubed",
         "weight": 14.8,
         "diameter": 7,
         "mixins": "nuts, oats",
         "crunch factor": 1.68,
         "aesthetic appeal": 3,
         "_deepnote_index_column": 775
        },
        {
         "id": 1461,
         "sugar to flour ratio": 0,
         "sugar index": 2.1,
         "bake temp": 600,
         "chill time": 6,
         "calories": 13,
         "density": 0.99664,
         "pH": 8.59,
         "grams baking soda": 0.61,
         "bake time": 10,
         "quality": 0,
         "butter type": "cubed",
         "weight": 12.4,
         "diameter": 7,
         "mixins": "nuts, oats",
         "crunch factor": 1.38,
         "aesthetic appeal": 3,
         "_deepnote_index_column": 776
        },
        {
         "id": 1467,
         "sugar to flour ratio": 0.08,
         "sugar index": 2.3,
         "bake temp": 670,
         "chill time": 19,
         "calories": 32,
         "density": 0.99648,
         "pH": 8.52,
         "grams baking soda": 0.57,
         "bake time": 11,
         "quality": 0,
         "butter type": "cubed",
         "weight": 13.4,
         "diameter": 7,
         "mixins": "peanut butter",
         "crunch factor": 1.63,
         "aesthetic appeal": 3,
         "_deepnote_index_column": 777
        },
        {
         "id": 1474,
         "sugar to flour ratio": 0.5,
         "sugar index": 13.8,
         "bake temp": 2050,
         "chill time": 48,
         "calories": 82,
         "density": 1.00242,
         "pH": 8.16,
         "grams baking soda": 0.75,
         "bake time": 8.8,
         "quality": 0,
         "butter type": "cubed",
         "weight": 19.8,
         "diameter": 7,
         "mixins": "nuts,raisins",
         "crunch factor": 1.9,
         "aesthetic appeal": 3,
         "_deepnote_index_column": 778
        }
       ]
      },
      "text/plain": "       id  sugar to flour ratio  sugar index  bake temp  chill time  calories  \\\n0      14                  0.62        19.25      400.0        41.0     172.0   \n1      26                  0.35         1.00      520.0        35.0     146.0   \n2      30                  0.39        10.40      440.0        20.0     142.0   \n3      52                  0.33         1.10      570.0        21.0      82.0   \n4     100                  0.37        13.50      600.0        52.0     192.0   \n..    ...                   ...          ...        ...         ...       ...   \n774  1442                  0.02         1.90      780.0        18.0      30.0   \n775  1445                  0.19         5.20      940.0        19.0      98.0   \n776  1461                  0.00         2.10      600.0         6.0      13.0   \n777  1467                  0.08         2.30      670.0        19.0      32.0   \n778  1474                  0.50        13.80     2050.0        48.0      82.0   \n\n     density    pH  grams baking soda  bake time  quality butter type  weight  \\\n0    1.00020  7.98               0.67        9.7        0      melted    16.6   \n1    0.99300  8.45               0.44       10.0        0      melted    13.8   \n2    0.99740  8.20               0.53       10.0        0      melted    17.0   \n3    0.99100  8.32               0.46       10.9        0      melted    12.4   \n4    0.99750  8.00               0.44        9.1        0      melted    14.8   \n..       ...   ...                ...        ...      ...         ...     ...   \n774  0.99712  8.40               0.75        9.8        0       cubed    13.8   \n775  0.99713  8.16               0.52        9.6        0       cubed    14.8   \n776  0.99664  8.59               0.61       10.0        0       cubed    12.4   \n777  0.99648  8.52               0.57       11.0        0       cubed    13.4   \n778  1.00242  8.16               0.75        8.8        0       cubed    19.8   \n\n     diameter                 mixins  crunch factor  aesthetic appeal  \n0           7        nuts, chocolate           1.85                 3  \n1           7              chocolate           1.43                 3  \n2           7              chocolate           1.57                 3  \n3           7        chocolate, oats           1.44                 3  \n4           7              chocolate           1.51                 3  \n..        ...                    ...            ...               ...  \n774         7  nuts, oats, chocolate           1.01                 3  \n775         7             nuts, oats           1.68                 3  \n776         7             nuts, oats           1.38                 3  \n777         7          peanut butter           1.63                 3  \n778         7           nuts,raisins           1.90                 3  \n\n[779 rows x 17 columns]",
      "text/html": "<div>\n<style scoped>\n    .dataframe tbody tr th:only-of-type {\n        vertical-align: middle;\n    }\n\n    .dataframe tbody tr th {\n        vertical-align: top;\n    }\n\n    .dataframe thead th {\n        text-align: right;\n    }\n</style>\n<table border=\"1\" class=\"dataframe\">\n  <thead>\n    <tr style=\"text-align: right;\">\n      <th></th>\n      <th>id</th>\n      <th>sugar to flour ratio</th>\n      <th>sugar index</th>\n      <th>bake temp</th>\n      <th>chill time</th>\n      <th>calories</th>\n      <th>density</th>\n      <th>pH</th>\n      <th>grams baking soda</th>\n      <th>bake time</th>\n      <th>quality</th>\n      <th>butter type</th>\n      <th>weight</th>\n      <th>diameter</th>\n      <th>mixins</th>\n      <th>crunch factor</th>\n      <th>aesthetic appeal</th>\n    </tr>\n  </thead>\n  <tbody>\n    <tr>\n      <th>0</th>\n      <td>14</td>\n      <td>0.62</td>\n      <td>19.25</td>\n      <td>400.0</td>\n      <td>41.0</td>\n      <td>172.0</td>\n      <td>1.00020</td>\n      <td>7.98</td>\n      <td>0.67</td>\n      <td>9.7</td>\n      <td>0</td>\n      <td>melted</td>\n      <td>16.6</td>\n      <td>7</td>\n      <td>nuts, chocolate</td>\n      <td>1.85</td>\n      <td>3</td>\n    </tr>\n    <tr>\n      <th>1</th>\n      <td>26</td>\n      <td>0.35</td>\n      <td>1.00</td>\n      <td>520.0</td>\n      <td>35.0</td>\n      <td>146.0</td>\n      <td>0.99300</td>\n      <td>8.45</td>\n      <td>0.44</td>\n      <td>10.0</td>\n      <td>0</td>\n      <td>melted</td>\n      <td>13.8</td>\n      <td>7</td>\n      <td>chocolate</td>\n      <td>1.43</td>\n      <td>3</td>\n    </tr>\n    <tr>\n      <th>2</th>\n      <td>30</td>\n      <td>0.39</td>\n      <td>10.40</td>\n      <td>440.0</td>\n      <td>20.0</td>\n      <td>142.0</td>\n      <td>0.99740</td>\n      <td>8.20</td>\n      <td>0.53</td>\n      <td>10.0</td>\n      <td>0</td>\n      <td>melted</td>\n      <td>17.0</td>\n      <td>7</td>\n      <td>chocolate</td>\n      <td>1.57</td>\n      <td>3</td>\n    </tr>\n    <tr>\n      <th>3</th>\n      <td>52</td>\n      <td>0.33</td>\n      <td>1.10</td>\n      <td>570.0</td>\n      <td>21.0</td>\n      <td>82.0</td>\n      <td>0.99100</td>\n      <td>8.32</td>\n      <td>0.46</td>\n      <td>10.9</td>\n      <td>0</td>\n      <td>melted</td>\n      <td>12.4</td>\n      <td>7</td>\n      <td>chocolate, oats</td>\n      <td>1.44</td>\n      <td>3</td>\n    </tr>\n    <tr>\n      <th>4</th>\n      <td>100</td>\n      <td>0.37</td>\n      <td>13.50</td>\n      <td>600.0</td>\n      <td>52.0</td>\n      <td>192.0</td>\n      <td>0.99750</td>\n      <td>8.00</td>\n      <td>0.44</td>\n      <td>9.1</td>\n      <td>0</td>\n      <td>melted</td>\n      <td>14.8</td>\n      <td>7</td>\n      <td>chocolate</td>\n      <td>1.51</td>\n      <td>3</td>\n    </tr>\n    <tr>\n      <th>...</th>\n      <td>...</td>\n      <td>...</td>\n      <td>...</td>\n      <td>...</td>\n      <td>...</td>\n      <td>...</td>\n      <td>...</td>\n      <td>...</td>\n      <td>...</td>\n      <td>...</td>\n      <td>...</td>\n      <td>...</td>\n      <td>...</td>\n      <td>...</td>\n      <td>...</td>\n      <td>...</td>\n      <td>...</td>\n    </tr>\n    <tr>\n      <th>774</th>\n      <td>1442</td>\n      <td>0.02</td>\n      <td>1.90</td>\n      <td>780.0</td>\n      <td>18.0</td>\n      <td>30.0</td>\n      <td>0.99712</td>\n      <td>8.40</td>\n      <td>0.75</td>\n      <td>9.8</td>\n      <td>0</td>\n      <td>cubed</td>\n      <td>13.8</td>\n      <td>7</td>\n      <td>nuts, oats, chocolate</td>\n      <td>1.01</td>\n      <td>3</td>\n    </tr>\n    <tr>\n      <th>775</th>\n      <td>1445</td>\n      <td>0.19</td>\n      <td>5.20</td>\n      <td>940.0</td>\n      <td>19.0</td>\n      <td>98.0</td>\n      <td>0.99713</td>\n      <td>8.16</td>\n      <td>0.52</td>\n      <td>9.6</td>\n      <td>0</td>\n      <td>cubed</td>\n      <td>14.8</td>\n      <td>7</td>\n      <td>nuts, oats</td>\n      <td>1.68</td>\n      <td>3</td>\n    </tr>\n    <tr>\n      <th>776</th>\n      <td>1461</td>\n      <td>0.00</td>\n      <td>2.10</td>\n      <td>600.0</td>\n      <td>6.0</td>\n      <td>13.0</td>\n      <td>0.99664</td>\n      <td>8.59</td>\n      <td>0.61</td>\n      <td>10.0</td>\n      <td>0</td>\n      <td>cubed</td>\n      <td>12.4</td>\n      <td>7</td>\n      <td>nuts, oats</td>\n      <td>1.38</td>\n      <td>3</td>\n    </tr>\n    <tr>\n      <th>777</th>\n      <td>1467</td>\n      <td>0.08</td>\n      <td>2.30</td>\n      <td>670.0</td>\n      <td>19.0</td>\n      <td>32.0</td>\n      <td>0.99648</td>\n      <td>8.52</td>\n      <td>0.57</td>\n      <td>11.0</td>\n      <td>0</td>\n      <td>cubed</td>\n      <td>13.4</td>\n      <td>7</td>\n      <td>peanut butter</td>\n      <td>1.63</td>\n      <td>3</td>\n    </tr>\n    <tr>\n      <th>778</th>\n      <td>1474</td>\n      <td>0.50</td>\n      <td>13.80</td>\n      <td>2050.0</td>\n      <td>48.0</td>\n      <td>82.0</td>\n      <td>1.00242</td>\n      <td>8.16</td>\n      <td>0.75</td>\n      <td>8.8</td>\n      <td>0</td>\n      <td>cubed</td>\n      <td>19.8</td>\n      <td>7</td>\n      <td>nuts,raisins</td>\n      <td>1.90</td>\n      <td>3</td>\n    </tr>\n  </tbody>\n</table>\n<p>779 rows × 17 columns</p>\n</div>"
     },
     "metadata": {}
    }
   ],
   "execution_count": null
  },
  {
   "cell_type": "code",
   "metadata": {
    "tags": [],
    "cell_id": "00008-1e642d7e-e251-499c-99d6-f502e21fb962",
    "deepnote_to_be_reexecuted": false,
    "source_hash": "bf0f372c",
    "execution_start": 1620804857698,
    "execution_millis": 4717,
    "deepnote_cell_type": "code"
   },
   "source": "f, ax = plt.subplots(figsize=(15, 10))\nsns.heatmap(data.drop(columns=['diameter','aesthetic appeal']).corr(),annot=True,vmin=-1, vmax=1)",
   "outputs": [
    {
     "output_type": "execute_result",
     "execution_count": 6,
     "data": {
      "text/plain": "<AxesSubplot:>"
     },
     "metadata": {}
    },
    {
     "data": {
      "text/plain": "<Figure size 1080x720 with 2 Axes>",
      "image/png": "[encoded data removed]"
     },
     "metadata": {
      "needs_background": "light",
      "image/png": {
       "width": 892,
       "height": 664
      }
     },
     "output_type": "display_data"
    }
   ],
   "execution_count": null
  },
  {
   "cell_type": "markdown",
   "source": "## Data Cleaning",
   "metadata": {
    "tags": [],
    "cell_id": "00005-0103c518-3994-4af0-a75e-d707286b3ae0",
    "deepnote_cell_type": "text-cell-h2"
   }
  },
  {
   "cell_type": "markdown",
   "source": "### Examination",
   "metadata": {
    "tags": [],
    "cell_id": "00011-2b4f5cb2-147c-49ed-8de5-7497494d39fd",
    "deepnote_cell_type": "text-cell-h3"
   }
  },
  {
   "cell_type": "code",
   "metadata": {
    "tags": [],
    "cell_id": "00004-86b09dd6-bafb-4366-9c76-8d909bc81e05",
    "deepnote_to_be_reexecuted": false,
    "source_hash": "957547ae",
    "execution_start": 1620804862439,
    "execution_millis": 33,
    "deepnote_cell_type": "code"
   },
   "source": "data.info()",
   "outputs": [
    {
     "name": "stdout",
     "text": "<class 'pandas.core.frame.DataFrame'>\nRangeIndex: 5198 entries, 0 to 5197\nData columns (total 16 columns):\n #   Column                Non-Null Count  Dtype  \n---  ------                --------------  -----  \n 0   sugar to flour ratio  5198 non-null   float64\n 1   sugar index           5193 non-null   float64\n 2   bake temp             5198 non-null   int64  \n 3   chill time            5198 non-null   float64\n 4   calories              5198 non-null   float64\n 5   density               5198 non-null   float64\n 6   pH                    5198 non-null   float64\n 7   grams baking soda     5198 non-null   float64\n 8   bake time             5188 non-null   float64\n 9   quality               5198 non-null   int64  \n 10  butter type           5198 non-null   object \n 11  weight                5198 non-null   float64\n 12  diameter              5198 non-null   int64  \n 13  mixins                5196 non-null   object \n 14  crunch factor         5198 non-null   float64\n 15  aesthetic appeal      5198 non-null   int64  \ndtypes: float64(10), int64(4), object(2)\nmemory usage: 649.9+ KB\n",
     "output_type": "stream"
    }
   ],
   "execution_count": null
  },
  {
   "cell_type": "code",
   "metadata": {
    "tags": [],
    "cell_id": "00005-7431a1ce-25e2-4c99-8e37-dbc63bda055d",
    "deepnote_to_be_reexecuted": false,
    "source_hash": "5c0c5e01",
    "execution_start": 1620804862480,
    "execution_millis": 35,
    "deepnote_cell_type": "code"
   },
   "source": "fake = data.isna()['sugar index']+data.isna()['bake time']+data.isna()['mixins']",
   "outputs": [
    {
     "name": "stderr",
     "text": "/shared-libs/python3.7/py/lib/python3.7/site-packages/pandas/core/computation/expressions.py:205: UserWarning: evaluating in Python space because the '+' operator is not supported by numexpr for the bool dtype, use '|' instead\n  f\"evaluating in Python space because the {repr(op_str)} \"\n",
     "output_type": "stream"
    }
   ],
   "execution_count": null
  },
  {
   "cell_type": "code",
   "metadata": {
    "tags": [],
    "cell_id": "00011-98c97ca3-0888-410d-a5bb-4434c8e372f1",
    "deepnote_to_be_reexecuted": false,
    "source_hash": "e68d360b",
    "execution_start": 1620804862512,
    "execution_millis": 1385,
    "deepnote_cell_type": "code"
   },
   "source": "sns.heatmap(data[fake].isna())",
   "outputs": [
    {
     "output_type": "execute_result",
     "execution_count": 9,
     "data": {
      "text/plain": "<AxesSubplot:>"
     },
     "metadata": {}
    },
    {
     "data": {
      "text/plain": "<Figure size 432x288 with 2 Axes>",
      "image/png": "[encoded data removed]"
     },
     "metadata": {
      "needs_background": "light",
      "image/png": {
       "width": 365,
       "height": 338
      }
     },
     "output_type": "display_data"
    }
   ],
   "execution_count": null
  },
  {
   "cell_type": "code",
   "metadata": {
    "tags": [],
    "cell_id": "00013-f0644261-4a29-408e-b569-764048fe553a",
    "deepnote_to_be_reexecuted": false,
    "source_hash": "890db743",
    "execution_start": 1620804863900,
    "execution_millis": 32,
    "is_code_hidden": false,
    "deepnote_cell_type": "code"
   },
   "source": "# data_val.isnull().sum()\ndata.isnull().sum()",
   "outputs": [
    {
     "output_type": "execute_result",
     "execution_count": 10,
     "data": {
      "text/plain": "sugar to flour ratio     0\nsugar index              5\nbake temp                0\nchill time               0\ncalories                 0\ndensity                  0\npH                       0\ngrams baking soda        0\nbake time               10\nquality                  0\nbutter type              0\nweight                   0\ndiameter                 0\nmixins                   2\ncrunch factor            0\naesthetic appeal         0\ndtype: int64"
     },
     "metadata": {}
    }
   ],
   "execution_count": null
  },
  {
   "cell_type": "code",
   "metadata": {
    "tags": [],
    "cell_id": "00015-9c82fef5-cd92-4c02-b9b6-3335c09ac914",
    "deepnote_to_be_reexecuted": false,
    "source_hash": "a80ffd1c",
    "execution_start": 1620804863925,
    "execution_millis": 23,
    "deepnote_cell_type": "code"
   },
   "source": "data_val['aesthetic appeal'].value_counts()\n# data['aesthetic appeal'].value_counts()",
   "outputs": [
    {
     "output_type": "execute_result",
     "execution_count": 11,
     "data": {
      "text/plain": "3    779\nName: aesthetic appeal, dtype: int64"
     },
     "metadata": {}
    }
   ],
   "execution_count": null
  },
  {
   "cell_type": "code",
   "metadata": {
    "tags": [],
    "cell_id": "00020-1b911c5c-be0f-4aa5-b947-c31224b91101",
    "deepnote_to_be_reexecuted": false,
    "source_hash": "e97eaf5c",
    "execution_start": 1620804863945,
    "execution_millis": 45,
    "deepnote_cell_type": "code"
   },
   "source": "data['calories'].describe()\n# data['calories'].value_counts().sort_values()\n# data['calories'].unique()\n# sns.displot(data['calories'])\n# sns.boxplot(data['calories'])    # outlier de manual",
   "outputs": [
    {
     "output_type": "execute_result",
     "execution_count": 12,
     "data": {
      "text/plain": "count    5198.000000\nmean      115.015294\nstd        56.506171\nmin       -99.000000\n25%        76.000000\n50%       118.000000\n75%       155.000000\nmax       366.500000\nName: calories, dtype: float64"
     },
     "metadata": {}
    }
   ],
   "execution_count": null
  },
  {
   "cell_type": "code",
   "metadata": {
    "tags": [],
    "cell_id": "00019-6431bde5-0e56-4fb0-92c0-0d37f38f5d1e",
    "deepnote_to_be_reexecuted": false,
    "source_hash": "7e802138",
    "execution_start": 1620804863982,
    "execution_millis": 330,
    "deepnote_cell_type": "code"
   },
   "source": "data[data['calories'] == -99]\n#data_val[data_val['calories'] == -99]",
   "outputs": [
    {
     "output_type": "execute_result",
     "execution_count": 13,
     "data": {
      "application/vnd.deepnote.dataframe.v2+json": {
       "row_count": 5,
       "column_count": 16,
       "columns": [
        {
         "name": "sugar to flour ratio",
         "dtype": "float64",
         "stats": {
          "unique_count": 4,
          "nan_count": 0,
          "min": "0.17",
          "max": "0.37",
          "histogram": [
           {
            "bin_start": 0.17,
            "bin_end": 0.19,
            "count": 1
           },
           {
            "bin_start": 0.19,
            "bin_end": 0.21000000000000002,
            "count": 0
           },
           {
            "bin_start": 0.21000000000000002,
            "bin_end": 0.23,
            "count": 0
           },
           {
            "bin_start": 0.23,
            "bin_end": 0.25,
            "count": 0
           },
           {
            "bin_start": 0.25,
            "bin_end": 0.27,
            "count": 2
           },
           {
            "bin_start": 0.27,
            "bin_end": 0.29,
            "count": 1
           },
           {
            "bin_start": 0.29,
            "bin_end": 0.31,
            "count": 0
           },
           {
            "bin_start": 0.31,
            "bin_end": 0.32999999999999996,
            "count": 0
           },
           {
            "bin_start": 0.32999999999999996,
            "bin_end": 0.35,
            "count": 0
           },
           {
            "bin_start": 0.35,
            "bin_end": 0.37,
            "count": 1
           }
          ]
         }
        },
        {
         "name": "sugar index",
         "dtype": "float64",
         "stats": {
          "unique_count": 5,
          "nan_count": 0,
          "min": "1.0",
          "max": "14.7",
          "histogram": [
           {
            "bin_start": 1,
            "bin_end": 2.37,
            "count": 2
           },
           {
            "bin_start": 2.37,
            "bin_end": 3.7399999999999998,
            "count": 0
           },
           {
            "bin_start": 3.7399999999999998,
            "bin_end": 5.109999999999999,
            "count": 0
           },
           {
            "bin_start": 5.109999999999999,
            "bin_end": 6.4799999999999995,
            "count": 0
           },
           {
            "bin_start": 6.4799999999999995,
            "bin_end": 7.85,
            "count": 0
           },
           {
            "bin_start": 7.85,
            "bin_end": 9.219999999999999,
            "count": 0
           },
           {
            "bin_start": 9.219999999999999,
            "bin_end": 10.59,
            "count": 1
           },
           {
            "bin_start": 10.59,
            "bin_end": 11.959999999999999,
            "count": 0
           },
           {
            "bin_start": 11.959999999999999,
            "bin_end": 13.329999999999998,
            "count": 1
           },
           {
            "bin_start": 13.329999999999998,
            "bin_end": 14.7,
            "count": 1
           }
          ]
         }
        },
        {
         "name": "bake temp",
         "dtype": "int64",
         "stats": {
          "unique_count": 5,
          "nan_count": 0,
          "min": "300",
          "max": "830",
          "histogram": [
           {
            "bin_start": 300,
            "bin_end": 353,
            "count": 1
           },
           {
            "bin_start": 353,
            "bin_end": 406,
            "count": 1
           },
           {
            "bin_start": 406,
            "bin_end": 459,
            "count": 0
           },
           {
            "bin_start": 459,
            "bin_end": 512,
            "count": 2
           },
           {
            "bin_start": 512,
            "bin_end": 565,
            "count": 0
           },
           {
            "bin_start": 565,
            "bin_end": 618,
            "count": 0
           },
           {
            "bin_start": 618,
            "bin_end": 671,
            "count": 0
           },
           {
            "bin_start": 671,
            "bin_end": 724,
            "count": 0
           },
           {
            "bin_start": 724,
            "bin_end": 777,
            "count": 0
           },
           {
            "bin_start": 777,
            "bin_end": 830,
            "count": 1
           }
          ]
         }
        },
        {
         "name": "chill time",
         "dtype": "float64",
         "stats": {
          "unique_count": 5,
          "nan_count": 0,
          "min": "6.0",
          "max": "65.0",
          "histogram": [
           {
            "bin_start": 6,
            "bin_end": 11.9,
            "count": 1
           },
           {
            "bin_start": 11.9,
            "bin_end": 17.8,
            "count": 1
           },
           {
            "bin_start": 17.8,
            "bin_end": 23.700000000000003,
            "count": 0
           },
           {
            "bin_start": 23.700000000000003,
            "bin_end": 29.6,
            "count": 1
           },
           {
            "bin_start": 29.6,
            "bin_end": 35.5,
            "count": 0
           },
           {
            "bin_start": 35.5,
            "bin_end": 41.400000000000006,
            "count": 1
           },
           {
            "bin_start": 41.400000000000006,
            "bin_end": 47.300000000000004,
            "count": 0
           },
           {
            "bin_start": 47.300000000000004,
            "bin_end": 53.2,
            "count": 0
           },
           {
            "bin_start": 53.2,
            "bin_end": 59.1,
            "count": 0
           },
           {
            "bin_start": 59.1,
            "bin_end": 65,
            "count": 1
           }
          ]
         }
        },
        {
         "name": "calories",
         "dtype": "float64",
         "stats": {
          "unique_count": 1,
          "nan_count": 0,
          "min": "-99.0",
          "max": "-99.0",
          "histogram": [
           {
            "bin_start": -99.5,
            "bin_end": -99.4,
            "count": 0
           },
           {
            "bin_start": -99.4,
            "bin_end": -99.3,
            "count": 0
           },
           {
            "bin_start": -99.3,
            "bin_end": -99.2,
            "count": 0
           },
           {
            "bin_start": -99.2,
            "bin_end": -99.1,
            "count": 0
           },
           {
            "bin_start": -99.1,
            "bin_end": -99,
            "count": 0
           },
           {
            "bin_start": -99,
            "bin_end": -98.9,
            "count": 5
           },
           {
            "bin_start": -98.9,
            "bin_end": -98.8,
            "count": 0
           },
           {
            "bin_start": -98.8,
            "bin_end": -98.7,
            "count": 0
           },
           {
            "bin_start": -98.7,
            "bin_end": -98.6,
            "count": 0
           },
           {
            "bin_start": -98.6,
            "bin_end": -98.5,
            "count": 0
           }
          ]
         }
        },
        {
         "name": "density",
         "dtype": "float64",
         "stats": {
          "unique_count": 5,
          "nan_count": 0,
          "min": "0.9902",
          "max": "0.99792",
          "histogram": [
           {
            "bin_start": 0.9902,
            "bin_end": 0.990972,
            "count": 2
           },
           {
            "bin_start": 0.990972,
            "bin_end": 0.991744,
            "count": 0
           },
           {
            "bin_start": 0.991744,
            "bin_end": 0.992516,
            "count": 0
           },
           {
            "bin_start": 0.992516,
            "bin_end": 0.993288,
            "count": 0
           },
           {
            "bin_start": 0.993288,
            "bin_end": 0.9940599999999999,
            "count": 0
           },
           {
            "bin_start": 0.9940599999999999,
            "bin_end": 0.994832,
            "count": 0
           },
           {
            "bin_start": 0.994832,
            "bin_end": 0.995604,
            "count": 0
           },
           {
            "bin_start": 0.995604,
            "bin_end": 0.996376,
            "count": 1
           },
           {
            "bin_start": 0.996376,
            "bin_end": 0.997148,
            "count": 0
           },
           {
            "bin_start": 0.997148,
            "bin_end": 0.99792,
            "count": 2
           }
          ]
         }
        },
        {
         "name": "pH",
         "dtype": "float64",
         "stats": {
          "unique_count": 5,
          "nan_count": 0,
          "min": "7.96",
          "max": "8.37",
          "histogram": [
           {
            "bin_start": 7.96,
            "bin_end": 8.001,
            "count": 1
           },
           {
            "bin_start": 8.001,
            "bin_end": 8.042,
            "count": 0
           },
           {
            "bin_start": 8.042,
            "bin_end": 8.083,
            "count": 1
           },
           {
            "bin_start": 8.083,
            "bin_end": 8.123999999999999,
            "count": 0
           },
           {
            "bin_start": 8.123999999999999,
            "bin_end": 8.165,
            "count": 1
           },
           {
            "bin_start": 8.165,
            "bin_end": 8.206,
            "count": 0
           },
           {
            "bin_start": 8.206,
            "bin_end": 8.247,
            "count": 0
           },
           {
            "bin_start": 8.247,
            "bin_end": 8.288,
            "count": 0
           },
           {
            "bin_start": 8.288,
            "bin_end": 8.328999999999999,
            "count": 1
           },
           {
            "bin_start": 8.328999999999999,
            "bin_end": 8.37,
            "count": 1
           }
          ]
         }
        },
        {
         "name": "grams baking soda",
         "dtype": "float64",
         "stats": {
          "unique_count": 4,
          "nan_count": 0,
          "min": "0.34",
          "max": "0.56",
          "histogram": [
           {
            "bin_start": 0.34,
            "bin_end": 0.36200000000000004,
            "count": 1
           },
           {
            "bin_start": 0.36200000000000004,
            "bin_end": 0.384,
            "count": 1
           },
           {
            "bin_start": 0.384,
            "bin_end": 0.406,
            "count": 1
           },
           {
            "bin_start": 0.406,
            "bin_end": 0.42800000000000005,
            "count": 0
           },
           {
            "bin_start": 0.42800000000000005,
            "bin_end": 0.45000000000000007,
            "count": 0
           },
           {
            "bin_start": 0.45000000000000007,
            "bin_end": 0.47200000000000003,
            "count": 0
           },
           {
            "bin_start": 0.47200000000000003,
            "bin_end": 0.49400000000000005,
            "count": 0
           },
           {
            "bin_start": 0.49400000000000005,
            "bin_end": 0.516,
            "count": 0
           },
           {
            "bin_start": 0.516,
            "bin_end": 0.538,
            "count": 0
           },
           {
            "bin_start": 0.538,
            "bin_end": 0.56,
            "count": 2
           }
          ]
         }
        },
        {
         "name": "bake time",
         "dtype": "float64",
         "stats": {
          "unique_count": 4,
          "nan_count": 0,
          "min": "9.0",
          "max": "12.9",
          "histogram": [
           {
            "bin_start": 9,
            "bin_end": 9.39,
            "count": 2
           },
           {
            "bin_start": 9.39,
            "bin_end": 9.78,
            "count": 0
           },
           {
            "bin_start": 9.78,
            "bin_end": 10.17,
            "count": 1
           },
           {
            "bin_start": 10.17,
            "bin_end": 10.56,
            "count": 0
           },
           {
            "bin_start": 10.56,
            "bin_end": 10.95,
            "count": 0
           },
           {
            "bin_start": 10.95,
            "bin_end": 11.34,
            "count": 0
           },
           {
            "bin_start": 11.34,
            "bin_end": 11.73,
            "count": 1
           },
           {
            "bin_start": 11.73,
            "bin_end": 12.120000000000001,
            "count": 0
           },
           {
            "bin_start": 12.120000000000001,
            "bin_end": 12.51,
            "count": 0
           },
           {
            "bin_start": 12.51,
            "bin_end": 12.9,
            "count": 1
           }
          ]
         }
        },
        {
         "name": "quality",
         "dtype": "int64",
         "stats": {
          "unique_count": 4,
          "nan_count": 0,
          "min": "6",
          "max": "9",
          "histogram": [
           {
            "bin_start": 6,
            "bin_end": 6.3,
            "count": 1
           },
           {
            "bin_start": 6.3,
            "bin_end": 6.6,
            "count": 0
           },
           {
            "bin_start": 6.6,
            "bin_end": 6.9,
            "count": 0
           },
           {
            "bin_start": 6.9,
            "bin_end": 7.2,
            "count": 1
           },
           {
            "bin_start": 7.2,
            "bin_end": 7.5,
            "count": 0
           },
           {
            "bin_start": 7.5,
            "bin_end": 7.8,
            "count": 0
           },
           {
            "bin_start": 7.8,
            "bin_end": 8.1,
            "count": 1
           },
           {
            "bin_start": 8.1,
            "bin_end": 8.4,
            "count": 0
           },
           {
            "bin_start": 8.4,
            "bin_end": 8.7,
            "count": 0
           },
           {
            "bin_start": 8.7,
            "bin_end": 9,
            "count": 2
           }
          ]
         }
        },
        {
         "name": "butter type",
         "dtype": "object",
         "stats": {
          "unique_count": 2,
          "nan_count": 0,
          "categories": [
           {
            "name": "melted",
            "count": 4
           },
           {
            "name": "cubed",
            "count": 1
           }
          ]
         }
        },
        {
         "name": "weight",
         "dtype": "float64",
         "stats": {
          "unique_count": 5,
          "nan_count": 0,
          "min": "11.2",
          "max": "14.8",
          "histogram": [
           {
            "bin_start": 11.2,
            "bin_end": 11.559999999999999,
            "count": 1
           },
           {
            "bin_start": 11.559999999999999,
            "bin_end": 11.92,
            "count": 0
           },
           {
            "bin_start": 11.92,
            "bin_end": 12.28,
            "count": 1
           },
           {
            "bin_start": 12.28,
            "bin_end": 12.64,
            "count": 1
           },
           {
            "bin_start": 12.64,
            "bin_end": 13,
            "count": 0
           },
           {
            "bin_start": 13,
            "bin_end": 13.36,
            "count": 0
           },
           {
            "bin_start": 13.36,
            "bin_end": 13.72,
            "count": 0
           },
           {
            "bin_start": 13.72,
            "bin_end": 14.08,
            "count": 1
           },
           {
            "bin_start": 14.08,
            "bin_end": 14.440000000000001,
            "count": 0
           },
           {
            "bin_start": 14.440000000000001,
            "bin_end": 14.8,
            "count": 1
           }
          ]
         }
        },
        {
         "name": "diameter",
         "dtype": "int64",
         "stats": {
          "unique_count": 1,
          "nan_count": 0,
          "min": "7",
          "max": "7",
          "histogram": [
           {
            "bin_start": 6.5,
            "bin_end": 6.6,
            "count": 0
           },
           {
            "bin_start": 6.6,
            "bin_end": 6.7,
            "count": 0
           },
           {
            "bin_start": 6.7,
            "bin_end": 6.8,
            "count": 0
           },
           {
            "bin_start": 6.8,
            "bin_end": 6.9,
            "count": 0
           },
           {
            "bin_start": 6.9,
            "bin_end": 7,
            "count": 0
           },
           {
            "bin_start": 7,
            "bin_end": 7.1,
            "count": 5
           },
           {
            "bin_start": 7.1,
            "bin_end": 7.2,
            "count": 0
           },
           {
            "bin_start": 7.2,
            "bin_end": 7.3,
            "count": 0
           },
           {
            "bin_start": 7.3,
            "bin_end": 7.4,
            "count": 0
           },
           {
            "bin_start": 7.4,
            "bin_end": 7.5,
            "count": 0
           }
          ]
         }
        },
        {
         "name": "mixins",
         "dtype": "object",
         "stats": {
          "unique_count": 4,
          "nan_count": 0,
          "categories": [
           {
            "name": "raisins",
            "count": 2
           },
           {
            "name": "chocolate, oats",
            "count": 1
           },
           {
            "name": "2 others",
            "count": 2
           }
          ]
         }
        },
        {
         "name": "crunch factor",
         "dtype": "float64",
         "stats": {
          "unique_count": 5,
          "nan_count": 0,
          "min": "1.08",
          "max": "1.82",
          "histogram": [
           {
            "bin_start": 1.08,
            "bin_end": 1.1540000000000001,
            "count": 1
           },
           {
            "bin_start": 1.1540000000000001,
            "bin_end": 1.228,
            "count": 0
           },
           {
            "bin_start": 1.228,
            "bin_end": 1.302,
            "count": 0
           },
           {
            "bin_start": 1.302,
            "bin_end": 1.3760000000000001,
            "count": 1
           },
           {
            "bin_start": 1.3760000000000001,
            "bin_end": 1.4500000000000002,
            "count": 0
           },
           {
            "bin_start": 1.4500000000000002,
            "bin_end": 1.524,
            "count": 0
           },
           {
            "bin_start": 1.524,
            "bin_end": 1.598,
            "count": 0
           },
           {
            "bin_start": 1.598,
            "bin_end": 1.6720000000000002,
            "count": 2
           },
           {
            "bin_start": 1.6720000000000002,
            "bin_end": 1.746,
            "count": 0
           },
           {
            "bin_start": 1.746,
            "bin_end": 1.82,
            "count": 1
           }
          ]
         }
        },
        {
         "name": "aesthetic appeal",
         "dtype": "int64",
         "stats": {
          "unique_count": 1,
          "nan_count": 0,
          "min": "3",
          "max": "3",
          "histogram": [
           {
            "bin_start": 2.5,
            "bin_end": 2.6,
            "count": 0
           },
           {
            "bin_start": 2.6,
            "bin_end": 2.7,
            "count": 0
           },
           {
            "bin_start": 2.7,
            "bin_end": 2.8,
            "count": 0
           },
           {
            "bin_start": 2.8,
            "bin_end": 2.9,
            "count": 0
           },
           {
            "bin_start": 2.9,
            "bin_end": 3,
            "count": 0
           },
           {
            "bin_start": 3,
            "bin_end": 3.1,
            "count": 5
           },
           {
            "bin_start": 3.1,
            "bin_end": 3.2,
            "count": 0
           },
           {
            "bin_start": 3.2,
            "bin_end": 3.3,
            "count": 0
           },
           {
            "bin_start": 3.3,
            "bin_end": 3.4,
            "count": 0
           },
           {
            "bin_start": 3.4,
            "bin_end": 3.5,
            "count": 0
           }
          ]
         }
        },
        {
         "name": "_deepnote_index_column",
         "dtype": "int64"
        }
       ],
       "rows_top": [
        {
         "sugar to flour ratio": 0.28,
         "sugar index": 14.7,
         "bake temp": 510,
         "chill time": 29,
         "calories": -99,
         "density": 0.99792,
         "pH": 7.96,
         "grams baking soda": 0.39,
         "bake time": 9,
         "quality": 9,
         "butter type": "melted",
         "weight": 14,
         "diameter": 7,
         "mixins": "chocolate, oats",
         "crunch factor": 1.08,
         "aesthetic appeal": 3,
         "_deepnote_index_column": 22
        },
        {
         "sugar to flour ratio": 0.37,
         "sugar index": 1,
         "bake temp": 380,
         "chill time": 6,
         "calories": -99,
         "density": 0.9902,
         "pH": 8.37,
         "grams baking soda": 0.34,
         "bake time": 11.4,
         "quality": 7,
         "butter type": "melted",
         "weight": 11.2,
         "diameter": 7,
         "mixins": "raisins",
         "crunch factor": 1.67,
         "aesthetic appeal": 3,
         "_deepnote_index_column": 200
        },
        {
         "sugar to flour ratio": 0.26,
         "sugar index": 2.1,
         "bake temp": 830,
         "chill time": 17,
         "calories": -99,
         "density": 0.99616,
         "pH": 8.29,
         "grams baking soda": 0.56,
         "bake time": 9.8,
         "quality": 6,
         "butter type": "cubed",
         "weight": 14.8,
         "diameter": 7,
         "mixins": "nuts, oats, chocolate",
         "crunch factor": 1.65,
         "aesthetic appeal": 3,
         "_deepnote_index_column": 906
        },
        {
         "sugar to flour ratio": 0.17,
         "sugar index": 12,
         "bake temp": 460,
         "chill time": 65,
         "calories": -99,
         "density": 0.9976,
         "pH": 8.15,
         "grams baking soda": 0.38,
         "bake time": 9,
         "quality": 8,
         "butter type": "melted",
         "weight": 12,
         "diameter": 7,
         "mixins": "raisins",
         "crunch factor": 1.33,
         "aesthetic appeal": 3,
         "_deepnote_index_column": 3099
        },
        {
         "sugar to flour ratio": 0.26,
         "sugar index": 9.7,
         "bake temp": 300,
         "chill time": 39,
         "calories": -99,
         "density": 0.9908,
         "pH": 8.08,
         "grams baking soda": 0.56,
         "bake time": 12.9,
         "quality": 9,
         "butter type": "melted",
         "weight": 12.4,
         "diameter": 7,
         "mixins": "chocolate",
         "crunch factor": 1.82,
         "aesthetic appeal": 3,
         "_deepnote_index_column": 4428
        }
       ],
       "rows_bottom": null
      },
      "text/plain": "      sugar to flour ratio  sugar index  bake temp  chill time  calories  \\\n22                    0.28         14.7        510        29.0     -99.0   \n200                   0.37          1.0        380         6.0     -99.0   \n906                   0.26          2.1        830        17.0     -99.0   \n3099                  0.17         12.0        460        65.0     -99.0   \n4428                  0.26          9.7        300        39.0     -99.0   \n\n      density    pH  grams baking soda  bake time  quality butter type  \\\n22    0.99792  7.96               0.39        9.0        9      melted   \n200   0.99020  8.37               0.34       11.4        7      melted   \n906   0.99616  8.29               0.56        9.8        6       cubed   \n3099  0.99760  8.15               0.38        9.0        8      melted   \n4428  0.99080  8.08               0.56       12.9        9      melted   \n\n      weight  diameter                 mixins  crunch factor  aesthetic appeal  \n22      14.0         7        chocolate, oats           1.08                 3  \n200     11.2         7                raisins           1.67                 3  \n906     14.8         7  nuts, oats, chocolate           1.65                 3  \n3099    12.0         7                raisins           1.33                 3  \n4428    12.4         7              chocolate           1.82                 3  ",
      "text/html": "<div>\n<style scoped>\n    .dataframe tbody tr th:only-of-type {\n        vertical-align: middle;\n    }\n\n    .dataframe tbody tr th {\n        vertical-align: top;\n    }\n\n    .dataframe thead th {\n        text-align: right;\n    }\n</style>\n<table border=\"1\" class=\"dataframe\">\n  <thead>\n    <tr style=\"text-align: right;\">\n      <th></th>\n      <th>sugar to flour ratio</th>\n      <th>sugar index</th>\n      <th>bake temp</th>\n      <th>chill time</th>\n      <th>calories</th>\n      <th>density</th>\n      <th>pH</th>\n      <th>grams baking soda</th>\n      <th>bake time</th>\n      <th>quality</th>\n      <th>butter type</th>\n      <th>weight</th>\n      <th>diameter</th>\n      <th>mixins</th>\n      <th>crunch factor</th>\n      <th>aesthetic appeal</th>\n    </tr>\n  </thead>\n  <tbody>\n    <tr>\n      <th>22</th>\n      <td>0.28</td>\n      <td>14.7</td>\n      <td>510</td>\n      <td>29.0</td>\n      <td>-99.0</td>\n      <td>0.99792</td>\n      <td>7.96</td>\n      <td>0.39</td>\n      <td>9.0</td>\n      <td>9</td>\n      <td>melted</td>\n      <td>14.0</td>\n      <td>7</td>\n      <td>chocolate, oats</td>\n      <td>1.08</td>\n      <td>3</td>\n    </tr>\n    <tr>\n      <th>200</th>\n      <td>0.37</td>\n      <td>1.0</td>\n      <td>380</td>\n      <td>6.0</td>\n      <td>-99.0</td>\n      <td>0.99020</td>\n      <td>8.37</td>\n      <td>0.34</td>\n      <td>11.4</td>\n      <td>7</td>\n      <td>melted</td>\n      <td>11.2</td>\n      <td>7</td>\n      <td>raisins</td>\n      <td>1.67</td>\n      <td>3</td>\n    </tr>\n    <tr>\n      <th>906</th>\n      <td>0.26</td>\n      <td>2.1</td>\n      <td>830</td>\n      <td>17.0</td>\n      <td>-99.0</td>\n      <td>0.99616</td>\n      <td>8.29</td>\n      <td>0.56</td>\n      <td>9.8</td>\n      <td>6</td>\n      <td>cubed</td>\n      <td>14.8</td>\n      <td>7</td>\n      <td>nuts, oats, chocolate</td>\n      <td>1.65</td>\n      <td>3</td>\n    </tr>\n    <tr>\n      <th>3099</th>\n      <td>0.17</td>\n      <td>12.0</td>\n      <td>460</td>\n      <td>65.0</td>\n      <td>-99.0</td>\n      <td>0.99760</td>\n      <td>8.15</td>\n      <td>0.38</td>\n      <td>9.0</td>\n      <td>8</td>\n      <td>melted</td>\n      <td>12.0</td>\n      <td>7</td>\n      <td>raisins</td>\n      <td>1.33</td>\n      <td>3</td>\n    </tr>\n    <tr>\n      <th>4428</th>\n      <td>0.26</td>\n      <td>9.7</td>\n      <td>300</td>\n      <td>39.0</td>\n      <td>-99.0</td>\n      <td>0.99080</td>\n      <td>8.08</td>\n      <td>0.56</td>\n      <td>12.9</td>\n      <td>9</td>\n      <td>melted</td>\n      <td>12.4</td>\n      <td>7</td>\n      <td>chocolate</td>\n      <td>1.82</td>\n      <td>3</td>\n    </tr>\n  </tbody>\n</table>\n</div>"
     },
     "metadata": {}
    }
   ],
   "execution_count": null
  },
  {
   "cell_type": "code",
   "metadata": {
    "tags": [],
    "cell_id": "00022-5edb43c8-2522-49d7-b1df-079c89f9db0f",
    "deepnote_to_be_reexecuted": false,
    "source_hash": "c8a8c27a",
    "execution_start": 1620804864325,
    "execution_millis": 39197417,
    "deepnote_cell_type": "code"
   },
   "source": "data.columns",
   "outputs": [
    {
     "output_type": "execute_result",
     "execution_count": 14,
     "data": {
      "text/plain": "Index(['sugar to flour ratio', 'sugar index', 'bake temp', 'chill time',\n       'calories', 'density', 'pH', 'grams baking soda', 'bake time',\n       'quality', 'butter type', 'weight', 'diameter', 'mixins',\n       'crunch factor', 'aesthetic appeal'],\n      dtype='object')"
     },
     "metadata": {}
    }
   ],
   "execution_count": null
  },
  {
   "cell_type": "markdown",
   "source": "### Dropping &amp; One-Hot Encoding",
   "metadata": {
    "tags": [],
    "cell_id": "00016-94ae12f0-7e85-4552-bf13-c32b0c43ac4e",
    "deepnote_cell_type": "text-cell-h3"
   }
  },
  {
   "cell_type": "code",
   "metadata": {
    "tags": [],
    "cell_id": "00017-fbc247da-4fec-46f2-8591-97a152470e79",
    "deepnote_to_be_reexecuted": false,
    "source_hash": "e6d62cf5",
    "execution_start": 1620806303573,
    "execution_millis": 25,
    "deepnote_cell_type": "code"
   },
   "source": "cookies = data.drop(columns=['diameter','aesthetic appeal','crunch factor','peanut butter'],errors='ignore')   # 'peanut butter'\n\ncookies = cookies.dropna().reset_index(drop=True)\ncookies = cookies.drop(cookies[cookies['sugar to flour ratio'] > 0.8 ].index).reset_index(drop=True)   # 1\ncookies = cookies.drop(cookies[cookies['sugar index'] > 20 ].index).reset_index(drop=True)   # 25\ncookies = cookies.drop(cookies[cookies['bake temp'] > 1800 ].index).reset_index(drop=True)   # 2200\ncookies = cookies.drop(cookies[cookies['chill time'] > 90 ].index).reset_index(drop=True)   # 115\ncookies = cookies.drop(cookies[cookies.calories == -99 ].index).reset_index(drop=True)\ncookies = cookies.drop(cookies[cookies.calories > 250 ].index).reset_index(drop=True)       # all new\ncookies = cookies.drop(cookies[cookies['density'] > 2].index).reset_index(drop=True)\ncookies = cookies.drop(cookies[cookies['density'] > 1.001 ].index).reset_index(drop=True)    # 1.009 // change 1.001?\ncookies = cookies.drop(cookies[cookies['pH'] > 8.8].index).reset_index(drop=True)             # 10\ncookies = cookies.drop(cookies[cookies['grams baking soda'] > 1.1 ].index).reset_index(drop=True)    # 1.25\ncookies = cookies.drop(cookies[cookies['bake time'] > 14 ].index).reset_index(drop=True)    # new\ncookies = cookies.drop(cookies[cookies.weight == -99 ].index).reset_index(drop=True)       # old\ncookies = cookies.drop(cookies[cookies['weight'] > 25 ].index).reset_index(drop=True)     # new\n\ncookies['chocolate'] = cookies['mixins'].str.contains('chocolate').astype(int)\ncookies['nuts'] = cookies['mixins'].str.contains('nuts').astype(int)\ncookies['oats'] = cookies['mixins'].str.contains('oats').astype(int)\ncookies['peanut butter'] = cookies['mixins'].str.contains('peanut butter').astype(int)\ncookies['raisins'] = cookies['mixins'].str.contains('raisins').astype(int)\n\ncookies['melted'] = cookies['butter type'].str.contains('melted').astype(int)\n\ncookies = cookies.drop(columns=['mixins','butter type','peanut butter'])",
   "outputs": [],
   "execution_count": null
  },
  {
   "cell_type": "code",
   "metadata": {
    "tags": [],
    "cell_id": "00028-39d10091-b5fc-4c22-974b-f6cce2b4937e",
    "deepnote_to_be_reexecuted": false,
    "source_hash": "b1b9e4a1",
    "execution_start": 1620810672695,
    "execution_millis": 22,
    "deepnote_cell_type": "code"
   },
   "source": "cookies_val = data_val.drop(columns=['id','quality','diameter','aesthetic appeal','crunch factor', 'peanut butter'],errors='ignore')   # 'peanut butter'\n\ncookies_val['sugar index'] = np.log(cookies_val['sugar index'])\ncookies_val['bake temp']=np.log(cookies_val['bake temp'])\ncookies_val['grams baking soda']=np.log(cookies_val['grams baking soda'])\ncookies_val['bake time']=np.log(cookies_val['bake time'])\n\ncookies_val['chocolate'] = cookies_val['mixins'].str.contains('chocolate').astype(int)\ncookies_val['nuts'] = cookies_val['mixins'].str.contains('nuts').astype(int)\ncookies_val['oats'] = cookies_val['mixins'].str.contains('oats').astype(int)\ncookies_val['peanut butter'] = cookies_val['mixins'].str.contains('peanut butter').astype(int)\ncookies_val['raisins'] = cookies_val['mixins'].str.contains('raisins').astype(int)\n\ncookies_val['melted'] = cookies_val['butter type'].str.contains('melted').astype(int)\n\ncookies_val['sum'] = cookies_val['chocolate'] +cookies_val['nuts'] +cookies_val['oats']+cookies_val['peanut butter']+cookies_val['raisins']   \n\ncookies_val = cookies_val.drop(columns=['mixins','butter type'])",
   "outputs": [],
   "execution_count": null
  },
  {
   "cell_type": "code",
   "source": "cookies = data.drop(columns=['diameter','aesthetic appeal','crunch factor','peanut butter'],errors='ignore')   # 'peanut butter'\n\ncookies = cookies.dropna().reset_index(drop=True)\ncookies = cookies.drop(cookies[cookies['sugar to flour ratio'] > 0.7 ].index).reset_index(drop=True)   # 1\ncookies = cookies.drop(cookies[cookies['sugar index'] > 20 ].index).reset_index(drop=True)   # 25\ncookies['sugar index'] = np.log(cookies['sugar index'])\ncookies = cookies.drop(cookies[cookies['bake temp'] > 1700 ].index).reset_index(drop=True)   # 2200\ncookies['bake temp']=np.log(cookies['bake temp'])\ncookies = cookies.drop(cookies[cookies['chill time'] > 90 ].index).reset_index(drop=True)   # 115\ncookies = cookies.drop(cookies[cookies.calories == -99 ].index).reset_index(drop=True)\ncookies = cookies.drop(cookies[cookies.calories > 240 ].index).reset_index(drop=True)       # all new \ncookies = cookies.drop(cookies[cookies['density'] > 2].index).reset_index(drop=True)\ncookies = cookies.drop(cookies[cookies['density'] > 1.001 ].index).reset_index(drop=True)    # 1.009 // change 1.001?\ncookies = cookies.drop(cookies[cookies['pH'] > 8.8].index).reset_index(drop=True)             # 10\ncookies = cookies.drop(cookies[cookies['grams baking soda'] > 1.1 ].index).reset_index(drop=True)    # 1.25\ncookies['grams baking soda']=np.log(cookies['grams baking soda'])\ncookies = cookies.drop(cookies[cookies['bake time'] > 14 ].index).reset_index(drop=True)    # new\ncookies['bake time']=np.log(cookies['bake time'])\ncookies = cookies.drop(cookies[cookies.weight == -99 ].index).reset_index(drop=True)       # old\ncookies = cookies.drop(cookies[cookies['weight'] > 25 ].index).reset_index(drop=True)     # new\n\n\n\ncookies['chocolate'] = cookies['mixins'].str.contains('chocolate').astype(int)\ncookies['nuts'] = cookies['mixins'].str.contains('nuts').astype(int)\ncookies['oats'] = cookies['mixins'].str.contains('oats').astype(int)\ncookies['peanut butter'] = cookies['mixins'].str.contains('peanut butter').astype(int)\ncookies['raisins'] = cookies['mixins'].str.contains('raisins').astype(int)\n\ncookies['sum'] = cookies['chocolate'] +cookies['nuts'] +cookies['oats']+cookies['peanut butter']+cookies['raisins']   \n\ncookies['melted'] = cookies['butter type'].str.contains('melted').astype(int)\n\ncookies = cookies.drop(columns=['mixins','butter type','peanut butter'])",
   "metadata": {
    "tags": [],
    "cell_id": "00022-ba2af9e0-641f-4d40-8e7c-3d8a2c2c8d35",
    "deepnote_to_be_reexecuted": false,
    "source_hash": "a05c5926",
    "execution_start": 1620817100041,
    "execution_millis": 115,
    "deepnote_cell_type": "code"
   },
   "outputs": [],
   "execution_count": null
  },
  {
   "cell_type": "code",
   "metadata": {
    "tags": [],
    "cell_id": "00030-cb02a50c-a672-4cd5-b13f-230b3f0e8642",
    "deepnote_to_be_reexecuted": false,
    "source_hash": "7c6a6ad1",
    "execution_start": 1620806967693,
    "execution_millis": 7359,
    "deepnote_cell_type": "code"
   },
   "source": "f, ax = plt.subplots(figsize=(15, 10))\nsns.heatmap(cookies.corr(),annot=True,vmin=-1, vmax=1)",
   "outputs": [
    {
     "output_type": "execute_result",
     "execution_count": 53,
     "data": {
      "text/plain": "<AxesSubplot:>"
     },
     "metadata": {}
    },
    {
     "data": {
      "text/plain": "<Figure size 1080x720 with 2 Axes>",
      "image/png": "[encoded data removed]"
     },
     "metadata": {
      "needs_background": "light",
      "image/png": {
       "width": 892,
       "height": 664
      }
     },
     "output_type": "display_data"
    }
   ],
   "execution_count": null
  },
  {
   "cell_type": "markdown",
   "source": "# Data Modeling",
   "metadata": {
    "tags": [],
    "cell_id": "00031-719ad579-67c5-4eea-a161-ab058dcf27e8",
    "deepnote_cell_type": "text-cell-h1"
   }
  },
  {
   "cell_type": "markdown",
   "source": "## Preparation",
   "metadata": {
    "tags": [],
    "cell_id": "00032-1108ee3b-1a16-4e25-9ac4-562d20e73ef6",
    "deepnote_cell_type": "text-cell-h2"
   }
  },
  {
   "cell_type": "code",
   "metadata": {
    "tags": [],
    "cell_id": "00032-282b4fbd-d992-437e-aad8-03581351cf93",
    "deepnote_to_be_reexecuted": false,
    "source_hash": "fea1964c",
    "execution_start": 1620817105169,
    "execution_millis": 28,
    "deepnote_cell_type": "code"
   },
   "source": "from sklearn.model_selection import train_test_split as tts\nfrom sklearn.linear_model import LinearRegression, Ridge\nfrom sklearn.preprocessing import StandardScaler\nfrom sklearn.tree import DecisionTreeRegressor as dtr\nfrom sklearn.model_selection import GridSearchCV\nfrom sklearn.neighbors import KNeighborsRegressor\nfrom sklearn.ensemble import AdaBoostRegressor as abr, RandomForestRegressor as rfr, GradientBoostingRegressor as gbr\nfrom sklearn.model_selection import cross_validate\nfrom sklearn import linear_model\n\nX = cookies.drop(columns='quality')\ny = cookies['quality']\n\nX_val = cookies_val.copy().drop(columns='quality',errors='ignore')\n\nX_train, X_test, y_train, y_test = tts(X,y,test_size=0.2,random_state=1123)\n\nscaler = StandardScaler()\n\nscaler.fit(X_train)\n\nX_train = scaler.transform(X_train)\nX_test  = scaler.transform(X_test)\n#X_val  = scaler.transform(X_val)\n\n\nX_train = pd.DataFrame(X_train, columns = X.columns)\nX_test  = pd.DataFrame(X_test , columns = X.columns)\n#X_val  = pd.DataFrame(X_val , columns = X.columns)\n\n",
   "outputs": [],
   "execution_count": null
  },
  {
   "cell_type": "code",
   "source": "#v3\n\nrf_reg = rfr(random_state=1123)\n\ntree = GridSearchCV(rf_reg,param_grid={},scoring='neg_mean_squared_error')\n\ntree.fit(X,y)\n\nprint(np.sqrt(-tree.best_score_))\n\n#y_val_rfr = rf_reg.predict(X_val)\n\n#sub_rfr = X_val.copy()\n#sub_rfr['quality']= y_val_rfr\n\n#sub_rfr.to_csv('./try_rfr3.csv')\n#0.23321663204258095\n#0.5784493537228087\n\n#perf,RMSE_rf_train3, RMSE_rf_test3 =model_performance(y_train,rf_pred_tr,y_test,rf_pred_ts)\n#perf\n0.6208968656627277",
   "metadata": {
    "tags": [],
    "cell_id": "00028-bdad1bc0-b1f3-4969-afb8-c878fa7f9215",
    "deepnote_to_be_reexecuted": false,
    "source_hash": "482e208",
    "execution_start": 1620817106751,
    "execution_millis": 32044,
    "deepnote_cell_type": "code"
   },
   "outputs": [
    {
     "name": "stdout",
     "text": "0.621002504781688\n",
     "output_type": "stream"
    },
    {
     "output_type": "execute_result",
     "execution_count": 357,
     "data": {
      "text/plain": "0.6208968656627277"
     },
     "metadata": {}
    }
   ],
   "execution_count": null
  },
  {
   "cell_type": "code",
   "source": "sub_rfr",
   "metadata": {
    "tags": [],
    "cell_id": "00029-8d85adab-0fcf-4a4f-abc9-c58225ebdf98",
    "deepnote_to_be_reexecuted": false,
    "source_hash": "87680691",
    "execution_start": 1620810820057,
    "execution_millis": 134,
    "deepnote_cell_type": "code"
   },
   "outputs": [
    {
     "output_type": "execute_result",
     "execution_count": 320,
     "data": {
      "application/vnd.deepnote.dataframe.v2+json": {
       "row_count": 779,
       "column_count": 18,
       "columns": [
        {
         "name": "sugar to flour ratio",
         "dtype": "float64",
         "stats": {
          "unique_count": 73,
          "nan_count": 0,
          "min": "-2.335002357094234",
          "max": "5.229663216733499",
          "histogram": [
           {
            "bin_start": -2.335002357094234,
            "bin_end": -1.5785357997114606,
            "count": 25
           },
           {
            "bin_start": -1.5785357997114606,
            "bin_end": -0.8220692423286873,
            "count": 45
           },
           {
            "bin_start": -0.8220692423286873,
            "bin_end": -0.06560268494591392,
            "count": 317
           },
           {
            "bin_start": -0.06560268494591392,
            "bin_end": 0.6908638724368594,
            "count": 253
           },
           {
            "bin_start": 0.6908638724368594,
            "bin_end": 1.4473304298196328,
            "count": 90
           },
           {
            "bin_start": 1.4473304298196328,
            "bin_end": 2.203796987202406,
            "count": 27
           },
           {
            "bin_start": 2.203796987202406,
            "bin_end": 2.9602635445851795,
            "count": 12
           },
           {
            "bin_start": 2.9602635445851795,
            "bin_end": 3.716730101967953,
            "count": 8
           },
           {
            "bin_start": 3.716730101967953,
            "bin_end": 4.473196659350727,
            "count": 1
           },
           {
            "bin_start": 4.473196659350727,
            "bin_end": 5.229663216733499,
            "count": 1
           }
          ]
         }
        },
        {
         "name": "sugar index",
         "dtype": "float64",
         "stats": {
          "unique_count": 198,
          "nan_count": 0,
          "min": "-2.1405636050212444",
          "max": "3.378369719364517",
          "histogram": [
           {
            "bin_start": -2.1405636050212444,
            "bin_end": -1.5886702725826682,
            "count": 11
           },
           {
            "bin_start": -1.5886702725826682,
            "bin_end": -1.036776940144092,
            "count": 123
           },
           {
            "bin_start": -1.036776940144092,
            "bin_end": -0.48488360770551586,
            "count": 141
           },
           {
            "bin_start": -0.48488360770551586,
            "bin_end": 0.06700972473306033,
            "count": 80
           },
           {
            "bin_start": 0.06700972473306033,
            "bin_end": 0.6189030571716363,
            "count": 89
           },
           {
            "bin_start": 0.6189030571716363,
            "bin_end": 1.1707963896102127,
            "count": 142
           },
           {
            "bin_start": 1.1707963896102127,
            "bin_end": 1.7226897220487891,
            "count": 152
           },
           {
            "bin_start": 1.7226897220487891,
            "bin_end": 2.274583054487365,
            "count": 38
           },
           {
            "bin_start": 2.274583054487365,
            "bin_end": 2.826476386925941,
            "count": 2
           },
           {
            "bin_start": 2.826476386925941,
            "bin_end": 3.378369719364517,
            "count": 1
           }
          ]
         }
        },
        {
         "name": "bake temp",
         "dtype": "float64",
         "stats": {
          "unique_count": 101,
          "nan_count": 0,
          "min": "-3.624243850940106",
          "max": "3.7888572738853776",
          "histogram": [
           {
            "bin_start": -3.624243850940106,
            "bin_end": -2.8829337384575577,
            "count": 5
           },
           {
            "bin_start": -2.8829337384575577,
            "bin_end": -2.141623625975009,
            "count": 8
           },
           {
            "bin_start": -2.141623625975009,
            "bin_end": -1.4003135134924607,
            "count": 41
           },
           {
            "bin_start": -1.4003135134924607,
            "bin_end": -0.6590034010099126,
            "count": 187
           },
           {
            "bin_start": -0.6590034010099126,
            "bin_end": 0.08230671147263546,
            "count": 314
           },
           {
            "bin_start": 0.08230671147263546,
            "bin_end": 0.8236168239551844,
            "count": 133
           },
           {
            "bin_start": 0.8236168239551844,
            "bin_end": 1.5649269364377325,
            "count": 53
           },
           {
            "bin_start": 1.5649269364377325,
            "bin_end": 2.3062370489202806,
            "count": 25
           },
           {
            "bin_start": 2.3062370489202806,
            "bin_end": 3.0475471614028287,
            "count": 6
           },
           {
            "bin_start": 3.0475471614028287,
            "bin_end": 3.7888572738853776,
            "count": 7
           }
          ]
         }
        },
        {
         "name": "chill time",
         "dtype": "float64",
         "stats": {
          "unique_count": 90,
          "nan_count": 0,
          "min": "-1.710609667017299",
          "max": "15.816067853978815",
          "histogram": [
           {
            "bin_start": -1.710609667017299,
            "bin_end": 0.042058085082312235,
            "count": 352
           },
           {
            "bin_start": 0.042058085082312235,
            "bin_end": 1.7947258371819235,
            "count": 356
           },
           {
            "bin_start": 1.7947258371819235,
            "bin_end": 3.5473935892815343,
            "count": 66
           },
           {
            "bin_start": 3.5473935892815343,
            "bin_end": 5.300061341381146,
            "count": 3
           },
           {
            "bin_start": 5.300061341381146,
            "bin_end": 7.052729093480758,
            "count": 1
           },
           {
            "bin_start": 7.052729093480758,
            "bin_end": 8.805396845580368,
            "count": 0
           },
           {
            "bin_start": 8.805396845580368,
            "bin_end": 10.55806459767998,
            "count": 0
           },
           {
            "bin_start": 10.55806459767998,
            "bin_end": 12.310732349779592,
            "count": 0
           },
           {
            "bin_start": 12.310732349779592,
            "bin_end": 14.063400101879203,
            "count": 0
           },
           {
            "bin_start": 14.063400101879203,
            "bin_end": 15.816067853978815,
            "count": 1
           }
          ]
         }
        },
        {
         "name": "calories",
         "dtype": "float64",
         "stats": {
          "unique_count": 207,
          "nan_count": 0,
          "min": "-1.952505031743874",
          "max": "6.0296500868587035",
          "histogram": [
           {
            "bin_start": -1.952505031743874,
            "bin_end": -1.154289519883616,
            "count": 58
           },
           {
            "bin_start": -1.154289519883616,
            "bin_end": -0.3560740080233584,
            "count": 114
           },
           {
            "bin_start": -0.3560740080233584,
            "bin_end": 0.44214150383689943,
            "count": 272
           },
           {
            "bin_start": 0.44214150383689943,
            "bin_end": 1.240357015697157,
            "count": 219
           },
           {
            "bin_start": 1.240357015697157,
            "bin_end": 2.038572527557415,
            "count": 99
           },
           {
            "bin_start": 2.038572527557415,
            "bin_end": 2.836788039417673,
            "count": 15
           },
           {
            "bin_start": 2.836788039417673,
            "bin_end": 3.63500355127793,
            "count": 1
           },
           {
            "bin_start": 3.63500355127793,
            "bin_end": 4.433219063138188,
            "count": 0
           },
           {
            "bin_start": 4.433219063138188,
            "bin_end": 5.231434574998446,
            "count": 0
           },
           {
            "bin_start": 5.231434574998446,
            "bin_end": 6.0296500868587035,
            "count": 1
           }
          ]
         }
        },
        {
         "name": "density",
         "dtype": "float64",
         "stats": {
          "unique_count": 456,
          "nan_count": 0,
          "min": "-2.4696747876768304",
          "max": "15.501296151594154",
          "histogram": [
           {
            "bin_start": -2.4696747876768304,
            "bin_end": -0.6725776937497319,
            "count": 280
           },
           {
            "bin_start": -0.6725776937497319,
            "bin_end": 1.1245194001773666,
            "count": 378
           },
           {
            "bin_start": 1.1245194001773666,
            "bin_end": 2.9216164941044656,
            "count": 117
           },
           {
            "bin_start": 2.9216164941044656,
            "bin_end": 4.718713588031564,
            "count": 3
           },
           {
            "bin_start": 4.718713588031564,
            "bin_end": 6.515810681958662,
            "count": 0
           },
           {
            "bin_start": 6.515810681958662,
            "bin_end": 8.312907775885762,
            "count": 0
           },
           {
            "bin_start": 8.312907775885762,
            "bin_end": 10.11000486981286,
            "count": 0
           },
           {
            "bin_start": 10.11000486981286,
            "bin_end": 11.907101963739958,
            "count": 0
           },
           {
            "bin_start": 11.907101963739958,
            "bin_end": 13.704199057667058,
            "count": 0
           },
           {
            "bin_start": 13.704199057667058,
            "bin_end": 15.501296151594154,
            "count": 1
           }
          ]
         }
        },
        {
         "name": "pH",
         "dtype": "float64",
         "stats": {
          "unique_count": 77,
          "nan_count": 0,
          "min": "-2.7363226787303363",
          "max": "3.3867497909754305",
          "histogram": [
           {
            "bin_start": -2.7363226787303363,
            "bin_end": -2.1240154317597595,
            "count": 9
           },
           {
            "bin_start": -2.1240154317597595,
            "bin_end": -1.5117081847891831,
            "count": 39
           },
           {
            "bin_start": -1.5117081847891831,
            "bin_end": -0.8994009378186065,
            "count": 137
           },
           {
            "bin_start": -0.8994009378186065,
            "bin_end": -0.28709369084802994,
            "count": 184
           },
           {
            "bin_start": -0.28709369084802994,
            "bin_end": 0.3252135561225469,
            "count": 193
           },
           {
            "bin_start": 0.3252135561225469,
            "bin_end": 0.9375208030931232,
            "count": 111
           },
           {
            "bin_start": 0.9375208030931232,
            "bin_end": 1.5498280500636996,
            "count": 69
           },
           {
            "bin_start": 1.5498280500636996,
            "bin_end": 2.1621352970342764,
            "count": 26
           },
           {
            "bin_start": 2.1621352970342764,
            "bin_end": 2.7744425440048532,
            "count": 7
           },
           {
            "bin_start": 2.7744425440048532,
            "bin_end": 3.3867497909754305,
            "count": 4
           }
          ]
         }
        },
        {
         "name": "grams baking soda",
         "dtype": "float64",
         "stats": {
          "unique_count": 71,
          "nan_count": 0,
          "min": "-3.195859846709235",
          "max": "3.392739065179553",
          "histogram": [
           {
            "bin_start": -3.195859846709235,
            "bin_end": -2.5369999555203564,
            "count": 3
           },
           {
            "bin_start": -2.5369999555203564,
            "bin_end": -1.8781400643314776,
            "count": 11
           },
           {
            "bin_start": -1.8781400643314776,
            "bin_end": -1.2192801731425988,
            "count": 76
           },
           {
            "bin_start": -1.2192801731425988,
            "bin_end": -0.5604202819537201,
            "count": 166
           },
           {
            "bin_start": -0.5604202819537201,
            "bin_end": 0.09843960923515871,
            "count": 219
           },
           {
            "bin_start": 0.09843960923515871,
            "bin_end": 0.7572995004240375,
            "count": 165
           },
           {
            "bin_start": 0.7572995004240375,
            "bin_end": 1.4161593916129163,
            "count": 81
           },
           {
            "bin_start": 1.4161593916129163,
            "bin_end": 2.075019282801795,
            "count": 41
           },
           {
            "bin_start": 2.075019282801795,
            "bin_end": 2.733879173990674,
            "count": 14
           },
           {
            "bin_start": 2.733879173990674,
            "bin_end": 3.392739065179553,
            "count": 3
           }
          ]
         }
        },
        {
         "name": "bake time",
         "dtype": "float64",
         "stats": {
          "unique_count": 67,
          "nan_count": 0,
          "min": "-1.8716692651098774",
          "max": "2.757346284097423",
          "histogram": [
           {
            "bin_start": -1.8716692651098774,
            "bin_end": -1.4087677101891474,
            "count": 44
           },
           {
            "bin_start": -1.4087677101891474,
            "bin_end": -0.9458661552684172,
            "count": 115
           },
           {
            "bin_start": -0.9458661552684172,
            "bin_end": -0.48296460034768707,
            "count": 125
           },
           {
            "bin_start": -0.48296460034768707,
            "bin_end": -0.020063045426957027,
            "count": 96
           },
           {
            "bin_start": -0.020063045426957027,
            "bin_end": 0.442838509493773,
            "count": 101
           },
           {
            "bin_start": 0.442838509493773,
            "bin_end": 0.9057400644145033,
            "count": 111
           },
           {
            "bin_start": 0.9057400644145033,
            "bin_end": 1.368641619335233,
            "count": 76
           },
           {
            "bin_start": 1.368641619335233,
            "bin_end": 1.8315431742559634,
            "count": 80
           },
           {
            "bin_start": 1.8315431742559634,
            "bin_end": 2.294444729176693,
            "count": 21
           },
           {
            "bin_start": 2.294444729176693,
            "bin_end": 2.757346284097423,
            "count": 10
           }
          ]
         }
        },
        {
         "name": "weight",
         "dtype": "float64",
         "stats": {
          "unique_count": 66,
          "nan_count": 0,
          "min": "-2.058194248504151",
          "max": "5.57817914771434",
          "histogram": [
           {
            "bin_start": -2.058194248504151,
            "bin_end": -1.294556908882302,
            "count": 45
           },
           {
            "bin_start": -1.294556908882302,
            "bin_end": -0.5309195692604527,
            "count": 234
           },
           {
            "bin_start": -0.5309195692604527,
            "bin_end": 0.23271777036139651,
            "count": 309
           },
           {
            "bin_start": 0.23271777036139651,
            "bin_end": 0.9963551099832455,
            "count": 116
           },
           {
            "bin_start": 0.9963551099832455,
            "bin_end": 1.7599924496050945,
            "count": 40
           },
           {
            "bin_start": 1.7599924496050945,
            "bin_end": 2.523629789226944,
            "count": 14
           },
           {
            "bin_start": 2.523629789226944,
            "bin_end": 3.287267128848793,
            "count": 13
           },
           {
            "bin_start": 3.287267128848793,
            "bin_end": 4.050904468470642,
            "count": 4
           },
           {
            "bin_start": 4.050904468470642,
            "bin_end": 4.814541808092491,
            "count": 3
           },
           {
            "bin_start": 4.814541808092491,
            "bin_end": 5.57817914771434,
            "count": 1
           }
          ]
         }
        },
        {
         "name": "chocolate",
         "dtype": "float64",
         "stats": {
          "unique_count": 2,
          "nan_count": 0,
          "min": "-1.4446420302660743",
          "max": "0.6922130043633162",
          "histogram": [
           {
            "bin_start": -1.4446420302660743,
            "bin_end": -1.2309565268031353,
            "count": 237
           },
           {
            "bin_start": -1.2309565268031353,
            "bin_end": -1.017271023340196,
            "count": 0
           },
           {
            "bin_start": -1.017271023340196,
            "bin_end": -0.803585519877257,
            "count": 0
           },
           {
            "bin_start": -0.803585519877257,
            "bin_end": -0.589900016414318,
            "count": 0
           },
           {
            "bin_start": -0.589900016414318,
            "bin_end": -0.376214512951379,
            "count": 0
           },
           {
            "bin_start": -0.376214512951379,
            "bin_end": -0.16252900948843974,
            "count": 0
           },
           {
            "bin_start": -0.16252900948843974,
            "bin_end": 0.051156493974499284,
            "count": 0
           },
           {
            "bin_start": 0.051156493974499284,
            "bin_end": 0.2648419974374383,
            "count": 0
           },
           {
            "bin_start": 0.2648419974374383,
            "bin_end": 0.4785275009003773,
            "count": 0
           },
           {
            "bin_start": 0.4785275009003773,
            "bin_end": 0.6922130043633162,
            "count": 542
           }
          ]
         }
        },
        {
         "name": "nuts",
         "dtype": "float64",
         "stats": {
          "unique_count": 2,
          "nan_count": 0,
          "min": "-0.5547692532060413",
          "max": "1.8025512304817655",
          "histogram": [
           {
            "bin_start": -0.5547692532060413,
            "bin_end": -0.3190372048372606,
            "count": 659
           },
           {
            "bin_start": -0.3190372048372606,
            "bin_end": -0.08330515646847997,
            "count": 0
           },
           {
            "bin_start": -0.08330515646847997,
            "bin_end": 0.15242689190030068,
            "count": 0
           },
           {
            "bin_start": 0.15242689190030068,
            "bin_end": 0.3881589402690814,
            "count": 0
           },
           {
            "bin_start": 0.3881589402690814,
            "bin_end": 0.6238909886378621,
            "count": 0
           },
           {
            "bin_start": 0.6238909886378621,
            "bin_end": 0.8596230370066427,
            "count": 0
           },
           {
            "bin_start": 0.8596230370066427,
            "bin_end": 1.0953550853754235,
            "count": 0
           },
           {
            "bin_start": 1.0953550853754235,
            "bin_end": 1.331087133744204,
            "count": 0
           },
           {
            "bin_start": 1.331087133744204,
            "bin_end": 1.5668191821129849,
            "count": 0
           },
           {
            "bin_start": 1.5668191821129849,
            "bin_end": 1.8025512304817655,
            "count": 120
           }
          ]
         }
        },
        {
         "name": "oats",
         "dtype": "float64",
         "stats": {
          "unique_count": 2,
          "nan_count": 0,
          "min": "-0.5332137677083062",
          "max": "1.8754204421575404",
          "histogram": [
           {
            "bin_start": -0.5332137677083062,
            "bin_end": -0.29235034672172155,
            "count": 631
           },
           {
            "bin_start": -0.29235034672172155,
            "bin_end": -0.05148692573513686,
            "count": 0
           },
           {
            "bin_start": -0.05148692573513686,
            "bin_end": 0.18937649525144784,
            "count": 0
           },
           {
            "bin_start": 0.18937649525144784,
            "bin_end": 0.4302399162380325,
            "count": 0
           },
           {
            "bin_start": 0.4302399162380325,
            "bin_end": 0.6711033372246171,
            "count": 0
           },
           {
            "bin_start": 0.6711033372246171,
            "bin_end": 0.9119667582112019,
            "count": 0
           },
           {
            "bin_start": 0.9119667582112019,
            "bin_end": 1.1528301791977864,
            "count": 0
           },
           {
            "bin_start": 1.1528301791977864,
            "bin_end": 1.3936936001843712,
            "count": 0
           },
           {
            "bin_start": 1.3936936001843712,
            "bin_end": 1.6345570211709557,
            "count": 0
           },
           {
            "bin_start": 1.6345570211709557,
            "bin_end": 1.8754204421575404,
            "count": 148
           }
          ]
         }
        },
        {
         "name": "peanut butter",
         "dtype": "float64",
         "stats": {
          "unique_count": 2,
          "nan_count": 0,
          "min": "-0.12437002894184186",
          "max": "8.040522371090075",
          "histogram": [
           {
            "bin_start": -0.12437002894184186,
            "bin_end": 0.6921192110613498,
            "count": 774
           },
           {
            "bin_start": 0.6921192110613498,
            "bin_end": 1.5086084510645414,
            "count": 0
           },
           {
            "bin_start": 1.5086084510645414,
            "bin_end": 2.3250976910677332,
            "count": 0
           },
           {
            "bin_start": 2.3250976910677332,
            "bin_end": 3.141586931070925,
            "count": 0
           },
           {
            "bin_start": 3.141586931070925,
            "bin_end": 3.958076171074117,
            "count": 0
           },
           {
            "bin_start": 3.958076171074117,
            "bin_end": 4.774565411077308,
            "count": 0
           },
           {
            "bin_start": 4.774565411077308,
            "bin_end": 5.5910546510805,
            "count": 0
           },
           {
            "bin_start": 5.5910546510805,
            "bin_end": 6.407543891083692,
            "count": 0
           },
           {
            "bin_start": 6.407543891083692,
            "bin_end": 7.224033131086883,
            "count": 0
           },
           {
            "bin_start": 7.224033131086883,
            "bin_end": 8.040522371090075,
            "count": 5
           }
          ]
         }
        },
        {
         "name": "raisins",
         "dtype": "float64",
         "stats": {
          "unique_count": 2,
          "nan_count": 0,
          "min": "-0.653981033716603",
          "max": "1.52909633222382",
          "histogram": [
           {
            "bin_start": -0.653981033716603,
            "bin_end": -0.4356732971225607,
            "count": 550
           },
           {
            "bin_start": -0.4356732971225607,
            "bin_end": -0.2173655605285184,
            "count": 0
           },
           {
            "bin_start": -0.2173655605285184,
            "bin_end": 0.0009421760655239364,
            "count": 0
           },
           {
            "bin_start": 0.0009421760655239364,
            "bin_end": 0.21924991265956617,
            "count": 0
           },
           {
            "bin_start": 0.21924991265956617,
            "bin_end": 0.4375576492536084,
            "count": 0
           },
           {
            "bin_start": 0.4375576492536084,
            "bin_end": 0.6558653858476509,
            "count": 0
           },
           {
            "bin_start": 0.6558653858476509,
            "bin_end": 0.8741731224416931,
            "count": 0
           },
           {
            "bin_start": 0.8741731224416931,
            "bin_end": 1.0924808590357353,
            "count": 0
           },
           {
            "bin_start": 1.0924808590357353,
            "bin_end": 1.3107885956297776,
            "count": 0
           },
           {
            "bin_start": 1.3107885956297776,
            "bin_end": 1.52909633222382,
            "count": 229
           }
          ]
         }
        },
        {
         "name": "sum",
         "dtype": "float64",
         "stats": {
          "unique_count": 2,
          "nan_count": 0,
          "min": "-2.456423157575971",
          "max": "-0.7595008815865375",
          "histogram": [
           {
            "bin_start": -2.456423157575971,
            "bin_end": -2.2867309299770278,
            "count": 73
           },
           {
            "bin_start": -2.2867309299770278,
            "bin_end": -2.117038702378084,
            "count": 0
           },
           {
            "bin_start": -2.117038702378084,
            "bin_end": -1.947346474779141,
            "count": 0
           },
           {
            "bin_start": -1.947346474779141,
            "bin_end": -1.7776542471801977,
            "count": 0
           },
           {
            "bin_start": -1.7776542471801977,
            "bin_end": -1.6079620195812543,
            "count": 0
           },
           {
            "bin_start": -1.6079620195812543,
            "bin_end": -1.4382697919823109,
            "count": 0
           },
           {
            "bin_start": -1.4382697919823109,
            "bin_end": -1.2685775643833677,
            "count": 0
           },
           {
            "bin_start": -1.2685775643833677,
            "bin_end": -1.0988853367844242,
            "count": 0
           },
           {
            "bin_start": -1.0988853367844242,
            "bin_end": -0.9291931091854808,
            "count": 0
           },
           {
            "bin_start": -0.9291931091854808,
            "bin_end": -0.7595008815865375,
            "count": 706
           }
          ]
         }
        },
        {
         "name": "melted",
         "dtype": "float64",
         "stats": {
          "unique_count": 3,
          "nan_count": 0,
          "min": "0.5649389892907883",
          "max": "5.23502226067886",
          "histogram": [
           {
            "bin_start": 0.5649389892907883,
            "bin_end": 1.0319473164295956,
            "count": 532
           },
           {
            "bin_start": 1.0319473164295956,
            "bin_end": 1.4989556435684026,
            "count": 0
           },
           {
            "bin_start": 1.4989556435684026,
            "bin_end": 1.9659639707072099,
            "count": 0
           },
           {
            "bin_start": 1.9659639707072099,
            "bin_end": 2.4329722978460167,
            "count": 0
           },
           {
            "bin_start": 2.4329722978460167,
            "bin_end": 2.899980624984824,
            "count": 229
           },
           {
            "bin_start": 2.899980624984824,
            "bin_end": 3.3669889521236316,
            "count": 0
           },
           {
            "bin_start": 3.3669889521236316,
            "bin_end": 3.833997279262438,
            "count": 0
           },
           {
            "bin_start": 3.833997279262438,
            "bin_end": 4.301005606401246,
            "count": 0
           },
           {
            "bin_start": 4.301005606401246,
            "bin_end": 4.768013933540053,
            "count": 0
           },
           {
            "bin_start": 4.768013933540053,
            "bin_end": 5.23502226067886,
            "count": 18
           }
          ]
         }
        },
        {
         "name": "quality",
         "dtype": "float64",
         "stats": {
          "unique_count": 237,
          "nan_count": 0,
          "min": "6.31",
          "max": "9.99",
          "histogram": [
           {
            "bin_start": 6.31,
            "bin_end": 6.678,
            "count": 19
           },
           {
            "bin_start": 6.678,
            "bin_end": 7.045999999999999,
            "count": 55
           },
           {
            "bin_start": 7.045999999999999,
            "bin_end": 7.414,
            "count": 153
           },
           {
            "bin_start": 7.414,
            "bin_end": 7.782,
            "count": 138
           },
           {
            "bin_start": 7.782,
            "bin_end": 8.15,
            "count": 171
           },
           {
            "bin_start": 8.15,
            "bin_end": 8.518,
            "count": 127
           },
           {
            "bin_start": 8.518,
            "bin_end": 8.886,
            "count": 75
           },
           {
            "bin_start": 8.886,
            "bin_end": 9.254,
            "count": 33
           },
           {
            "bin_start": 9.254,
            "bin_end": 9.622,
            "count": 6
           },
           {
            "bin_start": 9.622,
            "bin_end": 9.99,
            "count": 2
           }
          ]
         }
        },
        {
         "name": "_deepnote_index_column",
         "dtype": "int64"
        }
       ],
       "rows_top": [
        {
         "sugar to flour ratio": 2.3550902986789604,
         "sugar index": 1.934314765089602,
         "bake temp": -0.5263760044700344,
         "chill time": 0.6710642818288626,
         "calories": 1.077757559577475,
         "density": 1.9742337869798432,
         "pH": -1.5369579681694103,
         "grams baking soda": 1.1122130241110832,
         "bake time": -0.6804468705638071,
         "weight": 0.9627886335163512,
         "chocolate": 0.6922130043633162,
         "nuts": 1.8025512304817655,
         "oats": -0.5332137677083062,
         "peanut butter": -0.12437002894184186,
         "raisins": -0.653981033716603,
         "sum": -0.7595008815865375,
         "melted": 2.8999806249848237,
         "quality": 7.48,
         "_deepnote_index_column": 0
        },
        {
         "sugar to flour ratio": 0.31263059374547236,
         "sugar index": -1.5404049484280118,
         "bake temp": 0.14869723309504018,
         "chill time": 0.3046529050832992,
         "calories": 0.5973500755875051,
         "density": -0.5372373070176485,
         "pH": 1.4298915790076046,
         "grams baking soda": -0.5821006766468936,
         "bake time": -0.40569473930973204,
         "weight": -0.2120380428249552,
         "chocolate": 0.6922130043633162,
         "nuts": -0.5547692532060413,
         "oats": -0.5332137677083062,
         "peanut butter": -0.12437002894184186,
         "raisins": -0.653981033716603,
         "sum": -0.7595008815865375,
         "melted": 0.5649389892907883,
         "quality": 8.2,
         "_deepnote_index_column": 1
        },
        {
         "sugar to flour ratio": 0.615217216698582,
         "sugar index": 1.2109351590984871,
         "bake temp": -0.28113928450740455,
         "chill time": -0.6113755367806091,
         "calories": 0.5234412318967405,
         "density": 0.9975505837585857,
         "pH": -0.1482198822567689,
         "grams baking soda": 0.16775283930729862,
         "bake time": -0.40569473930973204,
         "weight": 1.130621015850823,
         "chocolate": 0.6922130043633162,
         "nuts": -0.5547692532060413,
         "oats": -0.5332137677083062,
         "peanut butter": -0.12437002894184186,
         "raisins": -0.653981033716603,
         "sum": -0.7595008815865375,
         "melted": 0.5649389892907883,
         "quality": 7.81,
         "_deepnote_index_column": 2
        },
        {
         "sugar to flour ratio": 0.16133728226891803,
         "sugar index": -1.428426952787709,
         "bake temp": 0.38492155134589806,
         "chill time": -0.5503069739896819,
         "calories": -0.5851914234647286,
         "density": -1.2348681664613983,
         "pH": 0.6092736191501366,
         "grams baking soda": -0.4029931959664899,
         "bake time": 0.37165659922006555,
         "weight": -0.7994513809956084,
         "chocolate": 0.6922130043633162,
         "nuts": -0.5547692532060413,
         "oats": 1.8754204421575404,
         "peanut butter": -0.12437002894184186,
         "raisins": -0.653981033716603,
         "sum": -0.7595008815865375,
         "melted": 2.8999806249848237,
         "quality": 8.27,
         "_deepnote_index_column": 3
        },
        {
         "sugar to flour ratio": 0.4639239052220272,
         "sugar index": 1.5174423334478266,
         "bake temp": 0.5169011499313313,
         "chill time": 1.342818472529062,
         "calories": 1.4473017780312982,
         "density": 1.032432126730808,
         "pH": -1.4107090512682632,
         "grams baking soda": -0.5821006766468936,
         "bake time": -1.2564082779909946,
         "weight": 0.20754291301122557,
         "chocolate": 0.6922130043633162,
         "nuts": -0.5547692532060413,
         "oats": -0.5332137677083062,
         "peanut butter": -0.12437002894184186,
         "raisins": -0.653981033716603,
         "sum": -0.7595008815865375,
         "melted": 0.5649389892907883,
         "quality": 7.35,
         "_deepnote_index_column": 4
        },
        {
         "sugar to flour ratio": 0.010043970792363235,
         "sugar index": 0.46246898206295456,
         "bake temp": -0.05725570002380805,
         "chill time": 0.7321328446197898,
         "calories": 1.0962347705001663,
         "density": 0.195275095398285,
         "pH": -0.21134434070734248,
         "grams baking soda": 1.0516215835523024,
         "bake time": -1.0603064042050048,
         "weight": -0.631618998661136,
         "chocolate": -1.4446420302660743,
         "nuts": -0.5547692532060413,
         "oats": -0.5332137677083062,
         "peanut butter": -0.12437002894184186,
         "raisins": 1.52909633222382,
         "sum": -0.7595008815865375,
         "melted": 0.5649389892907883,
         "quality": 7.4,
         "_deepnote_index_column": 5
        },
        {
         "sugar to flour ratio": 0.31263059374547236,
         "sugar index": -0.5618369263313491,
         "bake temp": 0.1977089636930949,
         "chill time": 0.36572146787422644,
         "calories": 0.006079326061388229,
         "density": -0.7465265648507889,
         "pH": 0.35677578534783105,
         "grams baking soda": -0.06702744233963939,
         "bake time": -0.22706848789505663,
         "weight": -1.1351161456645533,
         "chocolate": 0.6922130043633162,
         "nuts": -0.5547692532060413,
         "oats": -0.5332137677083062,
         "peanut butter": -0.12437002894184186,
         "raisins": -0.653981033716603,
         "sum": -0.7595008815865375,
         "melted": 0.5649389892907883,
         "quality": 7.87,
         "_deepnote_index_column": 6
        },
        {
         "sugar to flour ratio": 4.321903347874171,
         "sugar index": 0.6032209799907976,
         "bake temp": -0.004201489319898095,
         "chill time": -0.6113755367806091,
         "calories": 0.19085143528829976,
         "density": 0.788261325925484,
         "pH": -1.4738335097188366,
         "grams baking soda": 0.012762390070715614,
         "bake time": -0.49635209462519925,
         "weight": 2.557196265693837,
         "chocolate": 0.6922130043633162,
         "nuts": 1.8025512304817655,
         "oats": -0.5332137677083062,
         "peanut butter": -0.12437002894184186,
         "raisins": -0.653981033716603,
         "sum": -0.7595008815865375,
         "melted": 2.8999806249848237,
         "quality": 7.48,
         "_deepnote_index_column": 7
        },
        {
         "sugar to flour ratio": 0.3882772494837498,
         "sugar index": 0.7458053874950902,
         "bake temp": -0.7974726210805914,
         "chill time": 0.9153385329925714,
         "calories": 0.9299398721959459,
         "density": -0.22330342026795716,
         "pH": -1.2213356759165424,
         "grams baking soda": -1.7412450671904423,
         "bake time": 0.4540346231365322,
         "weight": 0.29145910417846144,
         "chocolate": 0.6922130043633162,
         "nuts": -0.5547692532060413,
         "oats": -0.5332137677083062,
         "peanut butter": -0.12437002894184186,
         "raisins": -0.653981033716603,
         "sum": -0.7595008815865375,
         "melted": 0.5649389892907883,
         "quality": 7.26,
         "_deepnote_index_column": 8
        },
        {
         "sugar to flour ratio": 0.08569062653064063,
         "sugar index": -0.5118344992283351,
         "bake temp": -0.05725570002380805,
         "chill time": 0.6710642818288626,
         "calories": 1.5951194654128273,
         "density": -0.2581849632401408,
         "pH": 1.7455138712604836,
         "grams baking soda": -0.06702744233963939,
         "bake time": -0.6804468705638071,
         "weight": -0.631618998661136,
         "chocolate": 0.6922130043633162,
         "nuts": -0.5547692532060413,
         "oats": 1.8754204421575404,
         "peanut butter": -0.12437002894184186,
         "raisins": -0.653981033716603,
         "sum": -0.7595008815865375,
         "melted": 2.8999806249848237,
         "quality": 7.91,
         "_deepnote_index_column": 9
        },
        {
         "sugar to flour ratio": -0.6707759308521327,
         "sugar index": 0.7951082732246899,
         "bake temp": -0.46284097252063533,
         "chill time": -0.24496416003504579,
         "calories": 0.8005993957371078,
         "density": 0.4045643532314255,
         "pH": 1.3667671205570309,
         "grams baking soda": 0.927634728106985,
         "bake time": -0.5879298449137548,
         "weight": -0.7994513809956084,
         "chocolate": 0.6922130043633162,
         "nuts": -0.5547692532060413,
         "oats": -0.5332137677083062,
         "peanut butter": -0.12437002894184186,
         "raisins": -0.653981033716603,
         "sum": -0.7595008815865375,
         "melted": 0.5649389892907883,
         "quality": 7.66,
         "_deepnote_index_column": 10
        },
        {
         "sugar to flour ratio": -0.3681893078990233,
         "sugar index": 0.3025300536681196,
         "bake temp": -0.7269740177411703,
         "chill time": 0.36572146787422644,
         "calories": 0.6343044974328874,
         "density": -0.6070003929620157,
         "pH": -0.0850954238061841,
         "grams baking soda": -0.8666368530316984,
         "bake time": -0.05191092751559921,
         "weight": -0.7994513809956084,
         "chocolate": -1.4446420302660743,
         "nuts": -0.5547692532060413,
         "oats": -0.5332137677083062,
         "peanut butter": -0.12437002894184186,
         "raisins": 1.52909633222382,
         "sum": -0.7595008815865375,
         "melted": 0.5649389892907883,
         "quality": 8,
         "_deepnote_index_column": 11
        },
        {
         "sugar to flour ratio": -0.5951292751138553,
         "sugar index": 0.622019456262834,
         "bake temp": -0.5915196879617431,
         "chill time": 0.42679003066515364,
         "calories": 0.5419184428194317,
         "density": -0.04889570540703907,
         "pH": -0.21134434070734248,
         "grams baking soda": 0.9901050471642047,
         "bake time": -0.40569473930973204,
         "weight": -0.631618998661136,
         "chocolate": -1.4446420302660743,
         "nuts": -0.5547692532060413,
         "oats": -0.5332137677083062,
         "peanut butter": -0.12437002894184186,
         "raisins": 1.52909633222382,
         "sum": -0.7595008815865375,
         "melted": 0.5649389892907883,
         "quality": 7.39,
         "_deepnote_index_column": 12
        },
        {
         "sugar to flour ratio": 0.7665105281751363,
         "sugar index": -1.232158499590877,
         "bake temp": -0.7974726210805914,
         "chill time": 0.18251577950144476,
         "calories": -0.5297597906966552,
         "density": -0.8860527367395234,
         "pH": -0.3375932576084897,
         "grams baking soda": 0.012762390070715614,
         "bake time": -0.05191092751559921,
         "weight": 0.03971053067675311,
         "chocolate": 0.6922130043633162,
         "nuts": -0.5547692532060413,
         "oats": -0.5332137677083062,
         "peanut butter": -0.12437002894184186,
         "raisins": -0.653981033716603,
         "sum": -0.7595008815865375,
         "melted": 0.5649389892907883,
         "quality": 8.01,
         "_deepnote_index_column": 13
        },
        {
         "sugar to flour ratio": -0.06560268494591416,
         "sugar index": -0.8498263267638133,
         "bake temp": -1.02135620556419,
         "chill time": -0.855649787944318,
         "calories": -0.4188965251605083,
         "density": -1.374394338350133,
         "pH": 0.35677578534783105,
         "grams baking soda": -0.9661296824876994,
         "bake time": 1.0873002687798305,
         "weight": -0.7155351898283726,
         "chocolate": 0.6922130043633162,
         "nuts": -0.5547692532060413,
         "oats": -0.5332137677083062,
         "peanut butter": -0.12437002894184186,
         "raisins": -0.653981033716603,
         "sum": -0.7595008815865375,
         "melted": 0.5649389892907883,
         "quality": 8.14,
         "_deepnote_index_column": 14
        },
        {
         "sugar to flour ratio": 0.9178038396516911,
         "sugar index": 0.8729433315630091,
         "bake temp": -0.22331577112545195,
         "chill time": -0.18389559724411855,
         "calories": 0.7266905520463431,
         "density": 0.6487351540367108,
         "pH": -0.21134434070734248,
         "grams baking soda": 0.3170015635011668,
         "bake time": -1.3560814570714634,
         "weight": 0.20754291301122557,
         "chocolate": 0.6922130043633162,
         "nuts": -0.5547692532060413,
         "oats": -0.5332137677083062,
         "peanut butter": -0.12437002894184186,
         "raisins": -0.653981033716603,
         "sum": -0.7595008815865375,
         "melted": 0.5649389892907883,
         "quality": 7.35,
         "_deepnote_index_column": 15
        },
        {
         "sugar to flour ratio": 0.7665105281751363,
         "sugar index": 1.6873078844594633,
         "bake temp": 0.33937986585653857,
         "chill time": 2.7473954167203885,
         "calories": 0.7636449738917255,
         "density": 1.730062986174558,
         "pH": -0.1482198822567689,
         "grams baking soda": -0.5821006766468936,
         "bake time": -1.5587940537080764,
         "weight": -0.37987042515942765,
         "chocolate": 0.6922130043633162,
         "nuts": -0.5547692532060413,
         "oats": 1.8754204421575404,
         "peanut butter": -0.12437002894184186,
         "raisins": -0.653981033716603,
         "sum": -0.7595008815865375,
         "melted": 2.8999806249848237,
         "quality": 8.3,
         "_deepnote_index_column": 16
        },
        {
         "sugar to flour ratio": 0.16133728226891803,
         "sugar index": -1.428426952787709,
         "bake temp": 0.047780845485105,
         "chill time": -0.3671012856169002,
         "calories": 1.0223259268094016,
         "density": -0.6418819359341993,
         "pH": -0.46384217450963683,
         "grams baking soda": 1.7247250672153402,
         "bake time": -0.8683772289673207,
         "weight": -0.8833675721628451,
         "chocolate": -1.4446420302660743,
         "nuts": -0.5547692532060413,
         "oats": -0.5332137677083062,
         "peanut butter": -0.12437002894184186,
         "raisins": 1.52909633222382,
         "sum": -0.7595008815865375,
         "melted": 0.5649389892907883,
         "quality": 7.46,
         "_deepnote_index_column": 17
        },
        {
         "sugar to flour ratio": 0.9178038396516911,
         "sugar index": -0.7260403955315572,
         "bake temp": -2.1843311306583937,
         "chill time": -0.6113755367806091,
         "calories": -0.8253951654597137,
         "density": -1.5836835961832734,
         "pH": -0.9057133836636632,
         "grams baking soda": 0.38960271449193096,
         "bake time": 1.3880058114798643,
         "weight": 0.12362672184398897,
         "chocolate": 0.6922130043633162,
         "nuts": -0.5547692532060413,
         "oats": -0.5332137677083062,
         "peanut butter": -0.12437002894184186,
         "raisins": -0.653981033716603,
         "sum": -0.7595008815865375,
         "melted": 0.5649389892907883,
         "quality": 8.08,
         "_deepnote_index_column": 18
        },
        {
         "sugar to flour ratio": 0.6908638724368593,
         "sugar index": -1.0640322230670354,
         "bake temp": -0.7269740177411703,
         "chill time": 0.3046529050832992,
         "calories": -0.12326115039744984,
         "density": -0.9906973656560742,
         "pH": 1.4930160374581893,
         "grams baking soda": -0.06702744233963939,
         "bake time": 0.7762235482475,
         "weight": -0.7155351898283726,
         "chocolate": 0.6922130043633162,
         "nuts": -0.5547692532060413,
         "oats": -0.5332137677083062,
         "peanut butter": -0.12437002894184186,
         "raisins": -0.653981033716603,
         "sum": -0.7595008815865375,
         "melted": 0.5649389892907883,
         "quality": 8.25,
         "_deepnote_index_column": 19
        },
        {
         "sugar to flour ratio": 0.615217216698582,
         "sugar index": -1.3261990521247897,
         "bake temp": -0.28113928450740455,
         "chill time": -0.24496416003504579,
         "calories": 0.04303374790677053,
         "density": -0.8860527367395234,
         "pH": 0.23052686844668385,
         "grams baking soda": 0.16775283930729862,
         "bake time": -0.13906456131645997,
         "weight": -0.7155351898283726,
         "chocolate": 0.6922130043633162,
         "nuts": -0.5547692532060413,
         "oats": 1.8754204421575404,
         "peanut butter": -0.12437002894184186,
         "raisins": -0.653981033716603,
         "sum": -0.7595008815865375,
         "melted": 2.8999806249848237,
         "quality": 7.95,
         "_deepnote_index_column": 20
        },
        {
         "sugar to flour ratio": 0.23698393800719542,
         "sugar index": -0.5618369263313491,
         "bake temp": -0.22331577112545195,
         "chill time": 2.6557925725339975,
         "calories": 1.8538004183305035,
         "density": -0.397711135128914,
         "pH": -0.27446879915791605,
         "grams baking soda": 0.7341933480447177,
         "bake time": -0.49635209462519925,
         "weight": 0.20754291301122557,
         "chocolate": 0.6922130043633162,
         "nuts": -0.5547692532060413,
         "oats": 1.8754204421575404,
         "peanut butter": -0.12437002894184186,
         "raisins": -0.653981033716603,
         "sum": -0.7595008815865375,
         "melted": 2.8999806249848237,
         "quality": 8.51,
         "_deepnote_index_column": 21
        },
        {
         "sugar to flour ratio": 0.4639239052220272,
         "sugar index": -0.9882072245893113,
         "bake temp": -1.4441142096016104,
         "chill time": -0.3671012856169002,
         "calories": -0.21564720501090562,
         "density": -1.1302235375448475,
         "pH": 0.4199002437984046,
         "grams baking soda": 0.5998724144368085,
         "bake time": 0.9331028228874411,
         "weight": -0.37987042515942765,
         "chocolate": 0.6922130043633162,
         "nuts": -0.5547692532060413,
         "oats": -0.5332137677083062,
         "peanut butter": -0.12437002894184186,
         "raisins": -0.653981033716603,
         "sum": -0.7595008815865375,
         "melted": 0.5649389892907883,
         "quality": 8.31,
         "_deepnote_index_column": 22
        },
        {
         "sugar to flour ratio": 1.6742703970344646,
         "sugar index": 1.8651842559606882,
         "bake temp": -0.11142692314296875,
         "chill time": 1.7702984120655525,
         "calories": 1.2625296688043866,
         "density": 1.6254183572579683,
         "pH": -0.8425889252130896,
         "grams baking soda": 0.0910028070161446,
         "bake time": -0.7739226389395201,
         "weight": 0.03971053067675311,
         "chocolate": 0.6922130043633162,
         "nuts": -0.5547692532060413,
         "oats": -0.5332137677083062,
         "peanut butter": -0.12437002894184186,
         "raisins": -0.653981033716603,
         "sum": -0.7595008815865375,
         "melted": 0.5649389892907883,
         "quality": 7.51,
         "_deepnote_index_column": 23
        },
        {
         "sugar to flour ratio": 0.23698393800719542,
         "sugar index": 1.0279423240104448,
         "bake temp": -0.3402921898373611,
         "chill time": 0.06037865391959032,
         "calories": 1.077757559577475,
         "density": 0.6487351540367108,
         "pH": -0.021970965355610505,
         "grams baking soda": 0.667592577711496,
         "bake time": -1.157824445077652,
         "weight": -0.37987042515942765,
         "chocolate": 0.6922130043633162,
         "nuts": 1.8025512304817655,
         "oats": -0.5332137677083062,
         "peanut butter": -0.12437002894184186,
         "raisins": -0.653981033716603,
         "sum": -0.7595008815865375,
         "melted": 2.8999806249848237,
         "quality": 7.16,
         "_deepnote_index_column": 24
        },
        {
         "sugar to flour ratio": 2.3550902986789604,
         "sugar index": 1.2552755043900723,
         "bake temp": -0.46284097252063533,
         "chill time": 2.4420526027657523,
         "calories": 1.3918701452632247,
         "density": 1.0673136697029917,
         "pH": -0.9057133836636632,
         "grams baking soda": -0.14842929912312372,
         "bake time": -1.76616711592289,
         "weight": 0.03971053067675311,
         "chocolate": 0.6922130043633162,
         "nuts": 1.8025512304817655,
         "oats": -0.5332137677083062,
         "peanut butter": -0.12437002894184186,
         "raisins": -0.653981033716603,
         "sum": -0.7595008815865375,
         "melted": 2.8999806249848237,
         "quality": 6.59,
         "_deepnote_index_column": 25
        },
        {
         "sugar to flour ratio": -0.14124934068419157,
         "sugar index": -0.5876594977060591,
         "bake temp": -0.7269740177411703,
         "chill time": -1.3441982902717358,
         "calories": 1.7798915746397388,
         "density": -0.2930665062123244,
         "pH": -0.21134434070734248,
         "grams baking soda": 0.7997111309055168,
         "bake time": -0.49635209462519925,
         "weight": -0.5477028074939001,
         "chocolate": -1.4446420302660743,
         "nuts": -0.5547692532060413,
         "oats": -0.5332137677083062,
         "peanut butter": -0.12437002894184186,
         "raisins": 1.52909633222382,
         "sum": -0.7595008815865375,
         "melted": 0.5649389892907883,
         "quality": 7.5,
         "_deepnote_index_column": 26
        }
       ],
       "rows_bottom": [
        {
         "sugar to flour ratio": -2.2593557013559566,
         "sugar index": -0.8498263267638133,
         "bake temp": 1.644547766375208,
         "chill time": -1.2831297274808084,
         "calories": -1.823164555285036,
         "density": 0.20922771258717393,
         "pH": 0.7986469945018574,
         "grams baking soda": 0.5309945856271091,
         "bake time": 0.4540346231365322,
         "weight": 0.12362672184398897,
         "chocolate": -1.4446420302660743,
         "nuts": 1.8025512304817655,
         "oats": -0.5332137677083062,
         "peanut butter": -0.12437002894184186,
         "raisins": 1.52909633222382,
         "sum": -2.456423157575971,
         "melted": 2.8999806249848237,
         "quality": 6.79,
         "_deepnote_index_column": 751
        },
        {
         "sugar to flour ratio": 2.5820302658937924,
         "sugar index": -0.5118344992283351,
         "bake temp": 1.0910579998864707,
         "chill time": -1.4663354158535902,
         "calories": -1.7862101334396536,
         "density": 0.3871235817453336,
         "pH": -0.021970965355610505,
         "grams baking soda": 0.8641805841475776,
         "bake time": 1.0873002687798305,
         "weight": 2.557196265693837,
         "chocolate": 0.6922130043633162,
         "nuts": -0.5547692532060413,
         "oats": -0.5332137677083062,
         "peanut butter": -0.12437002894184186,
         "raisins": -0.653981033716603,
         "sum": -2.456423157575971,
         "melted": 0.5649389892907883,
         "quality": 6.88,
         "_deepnote_index_column": 752
        },
        {
         "sugar to flour ratio": 1.6742703970344646,
         "sugar index": -0.6140623998912543,
         "bake temp": 0.5169011499313313,
         "chill time": -1.649541104226372,
         "calories": -1.9155506098984916,
         "density": 0.4115406618258699,
         "pH": -1.2844601343671158,
         "grams baking soda": 1.9750698486293339,
         "bake time": 0.37165659922006555,
         "weight": 3.3124419861989627,
         "chocolate": -1.4446420302660743,
         "nuts": -0.5547692532060413,
         "oats": -0.5332137677083062,
         "peanut butter": -0.12437002894184186,
         "raisins": 1.52909633222382,
         "sum": -2.456423157575971,
         "melted": 0.5649389892907883,
         "quality": 6.98,
         "_deepnote_index_column": 753
        },
        {
         "sugar to flour ratio": -0.8220692423286873,
         "sugar index": 0.9172836768545942,
         "bake temp": 1.779292586138251,
         "chill time": -0.0006899088713369009,
         "calories": -0.4004193142378171,
         "density": 1.5277500369358619,
         "pH": -0.1482198822567689,
         "grams baking soda": 0.5309945856271091,
         "bake time": -1.157824445077652,
         "weight": 0.29145910417846144,
         "chocolate": -1.4446420302660743,
         "nuts": 1.8025512304817655,
         "oats": 1.8754204421575404,
         "peanut butter": -0.12437002894184186,
         "raisins": -0.653981033716603,
         "sum": -2.456423157575971,
         "melted": 2.8999806249848237,
         "quality": 7.22,
         "_deepnote_index_column": 754
        },
        {
         "sugar to flour ratio": 1.9012103642492968,
         "sugar index": -1.1450905473555733,
         "bake temp": -0.11142692314296875,
         "chill time": -1.649541104226372,
         "calories": -1.952505031743874,
         "density": 0.05923707780675339,
         "pH": -0.40071771605906326,
         "grams baking soda": 0.012762390070715614,
         "bake time": 1.0873002687798305,
         "weight": 2.6411124568610744,
         "chocolate": 0.6922130043633162,
         "nuts": -0.5547692532060413,
         "oats": -0.5332137677083062,
         "peanut butter": -0.12437002894184186,
         "raisins": -0.653981033716603,
         "sum": -2.456423157575971,
         "melted": 0.5649389892907883,
         "quality": 6.98,
         "_deepnote_index_column": 755
        },
        {
         "sugar to flour ratio": -1.729829111188015,
         "sugar index": -0.8498263267638133,
         "bake temp": 1.0565200577169764,
         "chill time": 0.6099957190379353,
         "calories": -0.9177812200731694,
         "density": 0.2615500270454494,
         "pH": -0.6532155498613577,
         "grams baking soda": -0.14842929912312372,
         "bake time": -0.7739226389395201,
         "weight": -0.29595423399219184,
         "chocolate": 0.6922130043633162,
         "nuts": 1.8025512304817655,
         "oats": -0.5332137677083062,
         "peanut butter": -0.12437002894184186,
         "raisins": -0.653981033716603,
         "sum": -2.456423157575971,
         "melted": 2.8999806249848237,
         "quality": 7.31,
         "_deepnote_index_column": 756
        },
        {
         "sugar to flour ratio": -1.8054757669262926,
         "sugar index": -0.4638735664738029,
         "bake temp": 1.5886099533767526,
         "chill time": -0.9167183507352452,
         "calories": -1.712301289748889,
         "density": 0.4115406618258699,
         "pH": 0.9880203698535781,
         "grams baking soda": 0.667592577711496,
         "bake time": 0.6967487528485157,
         "weight": -0.12812185165771936,
         "chocolate": 0.6922130043633162,
         "nuts": 1.8025512304817655,
         "oats": 1.8754204421575404,
         "peanut butter": -0.12437002894184186,
         "raisins": -0.653981033716603,
         "sum": -2.456423157575971,
         "melted": 5.23502226067886,
         "quality": 7.4,
         "_deepnote_index_column": 757
        },
        {
         "sugar to flour ratio": -1.427242488234906,
         "sugar index": -0.8498263267638133,
         "bake temp": 3.314923052117073,
         "chill time": -1.4663354158535902,
         "calories": -1.712301289748889,
         "density": 0.5092089821479763,
         "pH": 0.35677578534783105,
         "grams baking soda": 2.1647168458263053,
         "bake time": -0.5879298449137548,
         "weight": 0.5432076776801698,
         "chocolate": -1.4446420302660743,
         "nuts": 1.8025512304817655,
         "oats": -0.5332137677083062,
         "peanut butter": -0.12437002894184186,
         "raisins": 1.52909633222382,
         "sum": -2.456423157575971,
         "melted": 2.8999806249848237,
         "quality": 6.31,
         "_deepnote_index_column": 758
        },
        {
         "sugar to flour ratio": -2.335002357094234,
         "sugar index": -0.6140623998912543,
         "bake temp": 1.831274920943254,
         "chill time": 1.2206813469472075,
         "calories": -0.9362584309958606,
         "density": 0.3138723415037248,
         "pH": 2.313633997315657,
         "grams baking soda": 1.171906780614265,
         "bake time": 0.7762235482475,
         "weight": -0.4637866163266643,
         "chocolate": -1.4446420302660743,
         "nuts": 1.8025512304817655,
         "oats": -0.5332137677083062,
         "peanut butter": -0.12437002894184186,
         "raisins": 1.52909633222382,
         "sum": -2.456423157575971,
         "melted": 2.8999806249848237,
         "quality": 7.55,
         "_deepnote_index_column": 759
        },
        {
         "sugar to flour ratio": 1.52297708555791,
         "sugar index": -0.8829237182978191,
         "bake temp": 0.9500343214865001,
         "chill time": 0.9153385329925714,
         "calories": -0.47432815792858174,
         "density": 0.24410925555935756,
         "pH": 0.6723980776007101,
         "grams baking soda": 1.6200632122051482,
         "bake time": 1.0873002687798305,
         "weight": 1.130621015850823,
         "chocolate": 0.6922130043633162,
         "nuts": -0.5547692532060413,
         "oats": 1.8754204421575404,
         "peanut butter": -0.12437002894184186,
         "raisins": -0.653981033716603,
         "sum": -2.456423157575971,
         "melted": 2.8999806249848237,
         "quality": 8.23,
         "_deepnote_index_column": 760
        },
        {
         "sugar to flour ratio": 0.6908638724368593,
         "sugar index": -0.4638735664738029,
         "bake temp": 0.8389506802256914,
         "chill time": 0.6710642818288626,
         "calories": -1.1025533293000809,
         "density": 1.0463847439196583,
         "pH": 0.9880203698535781,
         "grams baking soda": 2.1181353459015106,
         "bake time": 0.03440868742969321,
         "weight": 2.557196265693837,
         "chocolate": 0.6922130043633162,
         "nuts": 1.8025512304817655,
         "oats": -0.5332137677083062,
         "peanut butter": -0.12437002894184186,
         "raisins": -0.653981033716603,
         "sum": -2.456423157575971,
         "melted": 2.8999806249848237,
         "quality": 7.64,
         "_deepnote_index_column": 761
        },
        {
         "sugar to flour ratio": 1.1447438068665232,
         "sugar index": -0.668717821994597,
         "bake temp": 1.0565200577169764,
         "chill time": -0.3671012856169002,
         "calories": -1.2873254385269925,
         "density": 0.2789907985315412,
         "pH": 1.1142692867547366,
         "grams baking soda": 2.071009020762325,
         "bake time": 0.4540346231365322,
         "weight": 0.03971053067675311,
         "chocolate": -1.4446420302660743,
         "nuts": -0.5547692532060413,
         "oats": -0.5332137677083062,
         "peanut butter": -0.12437002894184186,
         "raisins": 1.52909633222382,
         "sum": -2.456423157575971,
         "melted": 0.5649389892907883,
         "quality": 7.67,
         "_deepnote_index_column": 762
        },
        {
         "sugar to flour ratio": 0.8421571839134138,
         "sugar index": -0.7863038459530963,
         "bake temp": 0.9500343214865001,
         "chill time": -1.5274039786445175,
         "calories": -1.8601189771304183,
         "density": 0.7150100856838751,
         "pH": -0.46384217450963683,
         "grams baking soda": 1.5666948178595566,
         "bake time": 0.03440868742969321,
         "weight": 2.0536991186904205,
         "chocolate": -1.4446420302660743,
         "nuts": -0.5547692532060413,
         "oats": -0.5332137677083062,
         "peanut butter": -0.12437002894184186,
         "raisins": 1.52909633222382,
         "sum": -2.456423157575971,
         "melted": 0.5649389892907883,
         "quality": 6.64,
         "_deepnote_index_column": 763
        },
        {
         "sugar to flour ratio": -0.14124934068419157,
         "sugar index": -0.668717821994597,
         "bake temp": 1.0910579998864707,
         "chill time": -0.6724440995715363,
         "calories": -0.8808267982277871,
         "density": 0.920811189219774,
         "pH": 1.1142692867547366,
         "grams baking soda": 0.927634728106985,
         "bake time": -0.8683772289673207,
         "weight": 0.3753752953456973,
         "chocolate": 0.6922130043633162,
         "nuts": 1.8025512304817655,
         "oats": -0.5332137677083062,
         "peanut butter": -0.12437002894184186,
         "raisins": -0.653981033716603,
         "sum": -2.456423157575971,
         "melted": 2.8999806249848237,
         "quality": 7.21,
         "_deepnote_index_column": 764
        },
        {
         "sugar to flour ratio": -2.2593557013559566,
         "sugar index": -0.41779394669442227,
         "bake temp": 1.0565200577169764,
         "chill time": 1.0985442213653531,
         "calories": -0.43737373608319946,
         "density": 0.5824602223895852,
         "pH": 0.9880203698535781,
         "grams baking soda": 0.7997111309055168,
         "bake time": 0.28851932014335724,
         "weight": 0.5432076776801698,
         "chocolate": 0.6922130043633162,
         "nuts": -0.5547692532060413,
         "oats": -0.5332137677083062,
         "peanut butter": 8.040522371090075,
         "raisins": -0.653981033716603,
         "sum": -2.456423157575971,
         "melted": 2.8999806249848237,
         "quality": 7.95,
         "_deepnote_index_column": 765
        },
        {
         "sugar to flour ratio": -2.335002357094234,
         "sugar index": -0.3734536014028369,
         "bake temp": 2.363930257338877,
         "chill time": -0.9167183507352452,
         "calories": -1.4905747586765952,
         "density": 0.29294341572043014,
         "pH": 1.3667671205570309,
         "grams baking soda": 0.8641805841475776,
         "bake time": 0.6967487528485157,
         "weight": -0.29595423399219184,
         "chocolate": 0.6922130043633162,
         "nuts": 1.8025512304817655,
         "oats": 1.8754204421575404,
         "peanut butter": -0.12437002894184186,
         "raisins": -0.653981033716603,
         "sum": -2.456423157575971,
         "melted": 5.23502226067886,
         "quality": 7.42,
         "_deepnote_index_column": 766
        },
        {
         "sugar to flour ratio": -0.519482619375578,
         "sugar index": -0.9169805869794253,
         "bake temp": 1.1587734357743054,
         "chill time": -0.7335126623624636,
         "calories": -1.472097547753904,
         "density": 0.09063046648173415,
         "pH": 1.051144828304163,
         "grams baking soda": 0.667592577711496,
         "bake time": 0.11991009466197279,
         "weight": -0.37987042515942765,
         "chocolate": 0.6922130043633162,
         "nuts": 1.8025512304817655,
         "oats": -0.5332137677083062,
         "peanut butter": -0.12437002894184186,
         "raisins": -0.653981033716603,
         "sum": -2.456423157575971,
         "melted": 2.8999806249848237,
         "quality": 7.43,
         "_deepnote_index_column": 767
        },
        {
         "sugar to flour ratio": -2.183709045617679,
         "sugar index": -0.9169805869794253,
         "bake temp": 1.3826570202579043,
         "chill time": -1.0388554763170996,
         "calories": -1.5275291805219775,
         "density": 0.29294341572043014,
         "pH": 0.861771452952431,
         "grams baking soda": 0.2430682072190831,
         "bake time": 0.03440868742969321,
         "weight": 0.29145910417846144,
         "chocolate": -1.4446420302660743,
         "nuts": 1.8025512304817655,
         "oats": -0.5332137677083062,
         "peanut butter": -0.12437002894184186,
         "raisins": 1.52909633222382,
         "sum": -2.456423157575971,
         "melted": 2.8999806249848237,
         "quality": 6.53,
         "_deepnote_index_column": 768
        },
        {
         "sugar to flour ratio": -0.3681893078990233,
         "sugar index": -0.7260403955315572,
         "bake temp": 1.351841824903408,
         "chill time": -1.0388554763170996,
         "calories": -0.2526016268562879,
         "density": 0.46037482198690377,
         "pH": 0.23052686844668385,
         "grams baking soda": 0.0910028070161446,
         "bake time": -0.49635209462519925,
         "weight": 0.03971053067675311,
         "chocolate": -1.4446420302660743,
         "nuts": 1.8025512304817655,
         "oats": -0.5332137677083062,
         "peanut butter": -0.12437002894184186,
         "raisins": 1.52909633222382,
         "sum": -2.456423157575971,
         "melted": 2.8999806249848237,
         "quality": 6.76,
         "_deepnote_index_column": 769
        },
        {
         "sugar to flour ratio": 0.8421571839134138,
         "sugar index": -0.7260403955315572,
         "bake temp": 0.14869723309504018,
         "chill time": -1.4663354158535902,
         "calories": -1.6568696569808155,
         "density": 0.6138536110645272,
         "pH": 1.3667671205570309,
         "grams baking soda": 1.9262297977110463,
         "bake time": 1.1634216566061042,
         "weight": 0.3753752953456973,
         "chocolate": -1.4446420302660743,
         "nuts": -0.5547692532060413,
         "oats": -0.5332137677083062,
         "peanut butter": -0.12437002894184186,
         "raisins": 1.52909633222382,
         "sum": -2.456423157575971,
         "melted": 0.5649389892907883,
         "quality": 7.11,
         "_deepnote_index_column": 770
        },
        {
         "sugar to flour ratio": 2.1281503314641284,
         "sugar index": -0.6140623998912543,
         "bake temp": 1.1587734357743054,
         "chill time": -1.649541104226372,
         "calories": -1.823164555285036,
         "density": 1.6951814432023355,
         "pH": -0.1482198822567689,
         "grams baking soda": 1.7247250672153402,
         "bake time": -0.7739226389395201,
         "weight": 2.3893638833593656,
         "chocolate": -1.4446420302660743,
         "nuts": -0.5547692532060413,
         "oats": -0.5332137677083062,
         "peanut butter": -0.12437002894184186,
         "raisins": 1.52909633222382,
         "sum": -2.456423157575971,
         "melted": 0.5649389892907883,
         "quality": 6.64,
         "_deepnote_index_column": 771
        },
        {
         "sugar to flour ratio": 0.4639239052220272,
         "sugar index": 1.6721479360318479,
         "bake temp": 3.7888572738853776,
         "chill time": 1.5260241609018437,
         "calories": -0.3449876814697437,
         "density": 3.1915996367091832,
         "pH": -0.27446879915791605,
         "grams baking soda": 1.672733960480797,
         "bake time": -1.3560814570714634,
         "weight": 2.557196265693837,
         "chocolate": -1.4446420302660743,
         "nuts": 1.8025512304817655,
         "oats": -0.5332137677083062,
         "peanut butter": -0.12437002894184186,
         "raisins": 1.52909633222382,
         "sum": -2.456423157575971,
         "melted": 2.8999806249848237,
         "quality": 6.91,
         "_deepnote_index_column": 772
        },
        {
         "sugar to flour ratio": -2.335002357094234,
         "sugar index": -0.9169805869794253,
         "bake temp": 0.14869723309504018,
         "chill time": -1.649541104226372,
         "calories": -1.952505031743874,
         "density": 0.5092089821479763,
         "pH": 1.17739374520531,
         "grams baking soda": -0.3163392139115721,
         "bake time": -0.13906456131645997,
         "weight": -0.12812185165771936,
         "chocolate": -1.4446420302660743,
         "nuts": 1.8025512304817655,
         "oats": -0.5332137677083062,
         "peanut butter": -0.12437002894184186,
         "raisins": 1.52909633222382,
         "sum": -2.456423157575971,
         "melted": 2.8999806249848237,
         "quality": 6.64,
         "_deepnote_index_column": 773
        },
        {
         "sugar to flour ratio": -2.183709045617679,
         "sugar index": -0.7863038459530963,
         "bake temp": 1.191974387496406,
         "chill time": -0.7335126623624636,
         "calories": -1.5460063914446687,
         "density": 0.8998822634364794,
         "pH": 1.1142692867547366,
         "grams baking soda": 1.5666948178595566,
         "bake time": -0.5879298449137548,
         "weight": -0.2120380428249552,
         "chocolate": 0.6922130043633162,
         "nuts": 1.8025512304817655,
         "oats": 1.8754204421575404,
         "peanut butter": -0.12437002894184186,
         "raisins": -0.653981033716603,
         "sum": -2.456423157575971,
         "melted": 5.23502226067886,
         "quality": 6.61,
         "_deepnote_index_column": 774
        },
        {
         "sugar to flour ratio": -0.8977158980669646,
         "sugar index": 0.3965706062020324,
         "bake temp": 1.6720671523151802,
         "chill time": -0.6724440995715363,
         "calories": -0.28955604870167023,
         "density": 0.9033704177336822,
         "pH": -0.40071771605906326,
         "grams baking soda": 0.0910028070161446,
         "bake time": -0.7739226389395201,
         "weight": 0.20754291301122557,
         "chocolate": -1.4446420302660743,
         "nuts": 1.8025512304817655,
         "oats": 1.8754204421575404,
         "peanut butter": -0.12437002894184186,
         "raisins": -0.653981033716603,
         "sum": -2.456423157575971,
         "melted": 2.8999806249848237,
         "quality": 7.04,
         "_deepnote_index_column": 775
        },
        {
         "sugar to flour ratio": -2.335002357094234,
         "sugar index": -0.668717821994597,
         "bake temp": 0.5169011499313313,
         "chill time": -1.4663354158535902,
         "calories": -1.8601189771304183,
         "density": 0.7324508571699669,
         "pH": 2.313633997315657,
         "grams baking soda": 0.7341933480447177,
         "bake time": -0.40569473930973204,
         "weight": -0.7994513809956084,
         "chocolate": -1.4446420302660743,
         "nuts": 1.8025512304817655,
         "oats": 1.8754204421575404,
         "peanut butter": -0.12437002894184186,
         "raisins": -0.653981033716603,
         "sum": -2.456423157575971,
         "melted": 2.8999806249848237,
         "quality": 6.52,
         "_deepnote_index_column": 776
        },
        {
         "sugar to flour ratio": -1.729829111188015,
         "sugar index": -0.5618369263313491,
         "bake temp": 0.8008309006662376,
         "chill time": -0.6724440995715363,
         "calories": -1.5090519695992863,
         "density": 0.6766403884144887,
         "pH": 1.8717627881616308,
         "grams baking soda": 0.460918821661599,
         "bake time": 0.4540346231365322,
         "weight": -0.37987042515942765,
         "chocolate": -1.4446420302660743,
         "nuts": -0.5547692532060413,
         "oats": -0.5332137677083062,
         "peanut butter": 8.040522371090075,
         "raisins": -0.653981033716603,
         "sum": -2.456423157575971,
         "melted": 0.5649389892907883,
         "quality": 7.34,
         "_deepnote_index_column": 777
        },
        {
         "sugar to flour ratio": 1.4473304298196326,
         "sugar index": 1.543264904822537,
         "bake temp": 3.6783040283507997,
         "chill time": 1.0985442213653531,
         "calories": -0.5851914234647286,
         "density": 2.7486040409624435,
         "pH": -0.40071771605906326,
         "grams baking soda": 1.5666948178595566,
         "bake time": -1.5587940537080764,
         "weight": 2.3054476921921294,
         "chocolate": -1.4446420302660743,
         "nuts": 1.8025512304817655,
         "oats": -0.5332137677083062,
         "peanut butter": -0.12437002894184186,
         "raisins": 1.52909633222382,
         "sum": -2.456423157575971,
         "melted": 2.8999806249848237,
         "quality": 7.04,
         "_deepnote_index_column": 778
        }
       ]
      },
      "text/plain": "     sugar to flour ratio  sugar index  bake temp  chill time  calories  \\\n0                    2.36         1.93      -0.53        0.67      1.08   \n1                    0.31        -1.54       0.15        0.30      0.60   \n2                    0.62         1.21      -0.28       -0.61      0.52   \n3                    0.16        -1.43       0.38       -0.55     -0.59   \n4                    0.46         1.52       0.52        1.34      1.45   \n..                    ...          ...        ...         ...       ...   \n774                 -2.18        -0.79       1.19       -0.73     -1.55   \n775                 -0.90         0.40       1.67       -0.67     -0.29   \n776                 -2.34        -0.67       0.52       -1.47     -1.86   \n777                 -1.73        -0.56       0.80       -0.67     -1.51   \n778                  1.45         1.54       3.68        1.10     -0.59   \n\n     density    pH  grams baking soda  bake time  weight  chocolate  nuts  \\\n0       1.97 -1.54               1.11      -0.68    0.96       0.69  1.80   \n1      -0.54  1.43              -0.58      -0.41   -0.21       0.69 -0.55   \n2       1.00 -0.15               0.17      -0.41    1.13       0.69 -0.55   \n3      -1.23  0.61              -0.40       0.37   -0.80       0.69 -0.55   \n4       1.03 -1.41              -0.58      -1.26    0.21       0.69 -0.55   \n..       ...   ...                ...        ...     ...        ...   ...   \n774     0.90  1.11               1.57      -0.59   -0.21       0.69  1.80   \n775     0.90 -0.40               0.09      -0.77    0.21      -1.44  1.80   \n776     0.73  2.31               0.73      -0.41   -0.80      -1.44  1.80   \n777     0.68  1.87               0.46       0.45   -0.38      -1.44 -0.55   \n778     2.75 -0.40               1.57      -1.56    2.31      -1.44  1.80   \n\n     oats  peanut butter  raisins   sum  melted  quality  \n0   -0.53          -0.12    -0.65 -0.76    2.90     7.48  \n1   -0.53          -0.12    -0.65 -0.76    0.56     8.20  \n2   -0.53          -0.12    -0.65 -0.76    0.56     7.81  \n3    1.88          -0.12    -0.65 -0.76    2.90     8.27  \n4   -0.53          -0.12    -0.65 -0.76    0.56     7.35  \n..    ...            ...      ...   ...     ...      ...  \n774  1.88          -0.12    -0.65 -2.46    5.24     6.61  \n775  1.88          -0.12    -0.65 -2.46    2.90     7.04  \n776  1.88          -0.12    -0.65 -2.46    2.90     6.52  \n777 -0.53           8.04    -0.65 -2.46    0.56     7.34  \n778 -0.53          -0.12     1.53 -2.46    2.90     7.04  \n\n[779 rows x 18 columns]",
      "text/html": "<div>\n<style scoped>\n    .dataframe tbody tr th:only-of-type {\n        vertical-align: middle;\n    }\n\n    .dataframe tbody tr th {\n        vertical-align: top;\n    }\n\n    .dataframe thead th {\n        text-align: right;\n    }\n</style>\n<table border=\"1\" class=\"dataframe\">\n  <thead>\n    <tr style=\"text-align: right;\">\n      <th></th>\n      <th>sugar to flour ratio</th>\n      <th>sugar index</th>\n      <th>bake temp</th>\n      <th>chill time</th>\n      <th>calories</th>\n      <th>density</th>\n      <th>pH</th>\n      <th>grams baking soda</th>\n      <th>bake time</th>\n      <th>weight</th>\n      <th>chocolate</th>\n      <th>nuts</th>\n      <th>oats</th>\n      <th>peanut butter</th>\n      <th>raisins</th>\n      <th>sum</th>\n      <th>melted</th>\n      <th>quality</th>\n    </tr>\n  </thead>\n  <tbody>\n    <tr>\n      <th>0</th>\n      <td>2.36</td>\n      <td>1.93</td>\n      <td>-0.53</td>\n      <td>0.67</td>\n      <td>1.08</td>\n      <td>1.97</td>\n      <td>-1.54</td>\n      <td>1.11</td>\n      <td>-0.68</td>\n      <td>0.96</td>\n      <td>0.69</td>\n      <td>1.80</td>\n      <td>-0.53</td>\n      <td>-0.12</td>\n      <td>-0.65</td>\n      <td>-0.76</td>\n      <td>2.90</td>\n      <td>7.48</td>\n    </tr>\n    <tr>\n      <th>1</th>\n      <td>0.31</td>\n      <td>-1.54</td>\n      <td>0.15</td>\n      <td>0.30</td>\n      <td>0.60</td>\n      <td>-0.54</td>\n      <td>1.43</td>\n      <td>-0.58</td>\n      <td>-0.41</td>\n      <td>-0.21</td>\n      <td>0.69</td>\n      <td>-0.55</td>\n      <td>-0.53</td>\n      <td>-0.12</td>\n      <td>-0.65</td>\n      <td>-0.76</td>\n      <td>0.56</td>\n      <td>8.20</td>\n    </tr>\n    <tr>\n      <th>2</th>\n      <td>0.62</td>\n      <td>1.21</td>\n      <td>-0.28</td>\n      <td>-0.61</td>\n      <td>0.52</td>\n      <td>1.00</td>\n      <td>-0.15</td>\n      <td>0.17</td>\n      <td>-0.41</td>\n      <td>1.13</td>\n      <td>0.69</td>\n      <td>-0.55</td>\n      <td>-0.53</td>\n      <td>-0.12</td>\n      <td>-0.65</td>\n      <td>-0.76</td>\n      <td>0.56</td>\n      <td>7.81</td>\n    </tr>\n    <tr>\n      <th>3</th>\n      <td>0.16</td>\n      <td>-1.43</td>\n      <td>0.38</td>\n      <td>-0.55</td>\n      <td>-0.59</td>\n      <td>-1.23</td>\n      <td>0.61</td>\n      <td>-0.40</td>\n      <td>0.37</td>\n      <td>-0.80</td>\n      <td>0.69</td>\n      <td>-0.55</td>\n      <td>1.88</td>\n      <td>-0.12</td>\n      <td>-0.65</td>\n      <td>-0.76</td>\n      <td>2.90</td>\n      <td>8.27</td>\n    </tr>\n    <tr>\n      <th>4</th>\n      <td>0.46</td>\n      <td>1.52</td>\n      <td>0.52</td>\n      <td>1.34</td>\n      <td>1.45</td>\n      <td>1.03</td>\n      <td>-1.41</td>\n      <td>-0.58</td>\n      <td>-1.26</td>\n      <td>0.21</td>\n      <td>0.69</td>\n      <td>-0.55</td>\n      <td>-0.53</td>\n      <td>-0.12</td>\n      <td>-0.65</td>\n      <td>-0.76</td>\n      <td>0.56</td>\n      <td>7.35</td>\n    </tr>\n    <tr>\n      <th>...</th>\n      <td>...</td>\n      <td>...</td>\n      <td>...</td>\n      <td>...</td>\n      <td>...</td>\n      <td>...</td>\n      <td>...</td>\n      <td>...</td>\n      <td>...</td>\n      <td>...</td>\n      <td>...</td>\n      <td>...</td>\n      <td>...</td>\n      <td>...</td>\n      <td>...</td>\n      <td>...</td>\n      <td>...</td>\n      <td>...</td>\n    </tr>\n    <tr>\n      <th>774</th>\n      <td>-2.18</td>\n      <td>-0.79</td>\n      <td>1.19</td>\n      <td>-0.73</td>\n      <td>-1.55</td>\n      <td>0.90</td>\n      <td>1.11</td>\n      <td>1.57</td>\n      <td>-0.59</td>\n      <td>-0.21</td>\n      <td>0.69</td>\n      <td>1.80</td>\n      <td>1.88</td>\n      <td>-0.12</td>\n      <td>-0.65</td>\n      <td>-2.46</td>\n      <td>5.24</td>\n      <td>6.61</td>\n    </tr>\n    <tr>\n      <th>775</th>\n      <td>-0.90</td>\n      <td>0.40</td>\n      <td>1.67</td>\n      <td>-0.67</td>\n      <td>-0.29</td>\n      <td>0.90</td>\n      <td>-0.40</td>\n      <td>0.09</td>\n      <td>-0.77</td>\n      <td>0.21</td>\n      <td>-1.44</td>\n      <td>1.80</td>\n      <td>1.88</td>\n      <td>-0.12</td>\n      <td>-0.65</td>\n      <td>-2.46</td>\n      <td>2.90</td>\n      <td>7.04</td>\n    </tr>\n    <tr>\n      <th>776</th>\n      <td>-2.34</td>\n      <td>-0.67</td>\n      <td>0.52</td>\n      <td>-1.47</td>\n      <td>-1.86</td>\n      <td>0.73</td>\n      <td>2.31</td>\n      <td>0.73</td>\n      <td>-0.41</td>\n      <td>-0.80</td>\n      <td>-1.44</td>\n      <td>1.80</td>\n      <td>1.88</td>\n      <td>-0.12</td>\n      <td>-0.65</td>\n      <td>-2.46</td>\n      <td>2.90</td>\n      <td>6.52</td>\n    </tr>\n    <tr>\n      <th>777</th>\n      <td>-1.73</td>\n      <td>-0.56</td>\n      <td>0.80</td>\n      <td>-0.67</td>\n      <td>-1.51</td>\n      <td>0.68</td>\n      <td>1.87</td>\n      <td>0.46</td>\n      <td>0.45</td>\n      <td>-0.38</td>\n      <td>-1.44</td>\n      <td>-0.55</td>\n      <td>-0.53</td>\n      <td>8.04</td>\n      <td>-0.65</td>\n      <td>-2.46</td>\n      <td>0.56</td>\n      <td>7.34</td>\n    </tr>\n    <tr>\n      <th>778</th>\n      <td>1.45</td>\n      <td>1.54</td>\n      <td>3.68</td>\n      <td>1.10</td>\n      <td>-0.59</td>\n      <td>2.75</td>\n      <td>-0.40</td>\n      <td>1.57</td>\n      <td>-1.56</td>\n      <td>2.31</td>\n      <td>-1.44</td>\n      <td>1.80</td>\n      <td>-0.53</td>\n      <td>-0.12</td>\n      <td>1.53</td>\n      <td>-2.46</td>\n      <td>2.90</td>\n      <td>7.04</td>\n    </tr>\n  </tbody>\n</table>\n<p>779 rows × 18 columns</p>\n</div>"
     },
     "metadata": {}
    }
   ],
   "execution_count": null
  },
  {
   "cell_type": "code",
   "source": "rf_pred_ts",
   "metadata": {
    "tags": [],
    "cell_id": "00030-431ced78-0006-409b-ad99-8e3ecc166f33",
    "deepnote_to_be_reexecuted": false,
    "source_hash": "9d6fd0fd",
    "execution_start": 1620810801463,
    "execution_millis": 9,
    "deepnote_cell_type": "code"
   },
   "outputs": [
    {
     "output_type": "execute_result",
     "execution_count": 319,
     "data": {
      "text/plain": "array([7.2 , 7.42, 6.07, 7.75, 7.39, 7.86, 8.96, 5.2 , 8.05, 8.06, 7.68,\n       6.37, 7.45, 5.09, 5.58, 5.13, 7.96, 8.38, 8.88, 5.52, 5.79, 7.72,\n       7.13, 8.19, 7.95, 8.81, 7.95, 7.91, 7.63, 8.21, 8.09, 8.05, 8.07,\n       7.16, 8.63, 5.46, 7.68, 5.13, 7.17, 5.91, 5.02, 5.3 , 7.15, 7.63,\n       9.34, 7.12, 7.56, 7.95, 8.74, 8.13, 7.96, 7.76, 5.03, 9.17, 8.04,\n       7.06, 7.77, 7.45, 8.2 , 8.41, 6.25, 8.46, 7.15, 5.38, 5.86, 7.18,\n       7.36, 7.55, 7.09, 7.69, 7.64, 5.85, 5.21, 8.24, 7.88, 5.03, 7.14,\n       5.21, 8.47, 8.29, 7.52, 7.85, 7.36, 5.16, 8.19, 7.95, 7.4 , 8.87,\n       8.21, 7.32, 7.94, 7.19, 7.6 , 7.19, 8.2 , 8.27, 5.38, 5.07, 7.92,\n       7.13, 7.97, 7.5 , 5.19, 7.54, 5.99, 5.33, 7.49, 8.47, 6.71, 7.85,\n       6.81, 8.46, 8.23, 7.61, 7.08, 8.05, 7.61, 7.92, 5.04, 5.06, 5.34,\n       7.97, 8.62, 7.71, 8.39, 7.78, 7.87, 5.33, 6.84, 7.8 , 8.99, 7.83,\n       5.61, 8.19, 7.86, 7.75, 7.4 , 7.13, 8.7 , 7.44, 7.12, 7.63, 5.84,\n       8.43, 6.27, 7.18, 8.04, 7.41, 5.87, 7.24, 5.61, 7.13, 5.17, 8.67,\n       8.2 , 8.11, 7.78, 7.02, 7.39, 5.36, 8.49, 8.26, 8.47, 7.03, 7.16,\n       7.45, 8.23, 7.87, 8.28, 7.5 , 8.65, 7.95, 7.24, 7.6 , 8.89, 8.85,\n       5.73, 7.36, 8.65, 8.08, 7.14, 7.52, 7.71, 7.53, 5.21, 5.  , 5.48,\n       7.19, 8.66, 5.08, 8.74, 6.62, 8.3 , 7.61, 9.  , 7.85, 6.45, 8.41,\n       8.4 , 5.16, 7.38, 7.48, 5.77, 7.19, 6.46, 7.84, 5.07, 5.01, 6.36,\n       7.52, 7.11, 5.45, 5.06, 8.08, 8.28, 8.02, 8.55, 7.66, 7.29, 7.38,\n       7.46, 7.35, 8.03, 7.72, 8.17, 5.52, 7.38, 7.05, 8.65, 8.01, 7.32,\n       8.18, 6.  , 7.41, 6.08, 6.55, 7.79, 8.03, 6.57, 7.31, 9.02, 7.5 ,\n       5.11, 5.04, 7.6 , 7.91, 7.34, 9.55, 7.91, 5.37, 4.92, 8.56, 5.3 ,\n       7.86, 7.33, 7.  , 7.93, 6.7 , 8.72, 5.12, 7.51, 7.84, 8.22, 8.53,\n       7.84, 8.06, 5.73, 5.85, 7.9 , 7.35, 7.85, 7.69, 7.4 , 8.15, 5.39,\n       7.43, 9.25, 8.78, 7.48, 7.41, 7.65, 7.91, 7.04, 5.79, 7.84, 7.46,\n       7.89, 6.73, 8.11, 7.59, 8.06, 5.16, 8.71, 7.73, 9.04, 8.86, 7.93,\n       7.03, 6.2 , 8.32, 7.36, 7.9 , 8.21, 5.32, 7.83, 8.47, 6.56, 7.94,\n       7.43, 7.92, 8.62, 5.26, 5.93, 6.14, 6.91, 7.75, 8.73, 9.68, 7.66,\n       7.57, 9.4 , 7.58, 5.77, 5.48, 7.01, 7.36, 6.49, 8.61, 7.52, 8.26,\n       7.76, 8.17, 7.15, 8.63, 6.  , 7.69, 7.33, 7.63, 7.56, 8.23, 6.06,\n       6.07, 7.94, 7.04, 8.95, 7.06, 7.54, 7.13, 7.22, 6.62, 7.16, 7.66,\n       7.74, 5.66, 7.62, 8.53, 7.16, 5.86, 8.67, 8.99, 7.14, 7.57, 9.04,\n       8.24, 7.82, 7.68, 8.52, 8.01, 8.82, 5.2 , 7.17, 8.26, 8.26, 8.85,\n       7.86, 8.35, 7.86, 8.52, 9.36, 7.77, 7.87, 5.72, 8.53, 5.89, 8.34,\n       7.56, 7.77, 8.02, 7.87, 6.77, 8.89, 6.67, 7.21, 9.14, 5.7 , 8.91,\n       7.13, 5.64, 7.89, 7.53, 5.  , 8.82, 8.7 , 5.36, 8.11, 5.89, 7.94,\n       5.38, 8.35, 5.15, 7.4 , 7.94, 7.55, 8.31, 8.08, 5.62, 7.55, 7.6 ,\n       8.5 , 7.93, 7.94, 7.75, 7.07, 8.2 , 6.11, 7.4 , 6.48, 8.1 , 6.  ,\n       7.7 , 7.67, 7.21, 9.29, 8.27, 6.95, 5.04, 6.1 , 7.87, 7.22, 7.93,\n       7.87, 7.57, 7.01, 5.19, 7.83, 7.97, 8.47, 8.52, 7.31, 8.05, 5.13,\n       8.27, 8.4 , 8.04, 7.92, 8.64, 7.6 , 5.36, 8.44, 7.06, 7.18, 5.3 ,\n       8.27, 7.67, 5.77, 7.43, 7.9 , 8.38, 8.97, 8.09, 8.59, 7.12, 5.47,\n       7.21, 5.42, 8.34, 8.21, 8.28, 7.24, 7.79, 7.13, 7.5 , 6.61, 5.83,\n       7.95, 7.63, 8.14, 8.82, 8.7 , 8.43, 5.17, 7.64, 7.32, 7.98, 5.98,\n       7.6 , 7.21, 8.55, 7.61, 8.2 , 8.02, 8.63, 6.6 , 5.4 , 5.61, 7.09,\n       8.58, 7.43, 8.19, 9.04, 6.84, 5.28, 6.17, 8.42, 7.55, 8.31, 8.55,\n       7.32, 5.96, 8.57, 8.22, 7.27, 6.62, 7.38, 7.78, 8.02, 7.18, 8.87,\n       8.24, 8.07, 8.85, 8.01, 7.83, 7.74, 7.08, 7.21, 7.88, 7.98, 7.84,\n       8.37, 8.16, 7.77, 8.5 , 8.22, 7.25, 8.54, 7.4 , 7.07, 5.87, 7.95,\n       5.22, 5.15, 5.03, 7.89, 5.16, 8.08, 8.2 , 8.7 , 5.08, 6.65, 8.36,\n       7.01, 8.25, 7.73, 5.11, 7.  , 8.47, 8.  , 8.7 , 7.72, 8.43, 8.22,\n       8.78, 8.12, 5.64, 7.48, 7.2 , 6.6 , 5.14, 8.  , 7.64, 8.66, 5.23,\n       6.13, 7.19, 8.37, 6.09, 7.78, 7.39, 8.94, 8.43, 6.04, 8.8 , 8.92,\n       8.11, 7.99, 7.38, 5.11, 5.35, 7.69, 7.95, 7.61, 7.18, 8.56, 8.23,\n       5.59, 7.78, 7.95, 9.1 , 5.25, 7.52, 7.07, 8.33, 9.12, 6.79, 8.39,\n       8.97, 9.07, 6.92, 7.78, 6.02, 7.16, 7.02, 6.8 , 5.07, 5.39, 7.11,\n       7.39, 5.59, 5.06, 7.7 , 6.76, 6.87, 7.79, 5.93, 7.48, 6.85, 6.82,\n       8.  , 5.38, 7.12, 7.82, 7.98, 9.04, 7.06, 8.84, 6.87, 8.78, 7.99,\n       7.61, 7.26, 8.34, 7.82, 7.3 , 8.  , 5.04, 5.84, 8.13, 5.54, 7.05,\n       7.96, 6.62, 7.83, 8.84, 8.27, 6.16, 7.44, 7.05, 7.69, 7.95, 8.76,\n       7.12, 8.47, 5.65, 7.12, 7.34, 8.75, 5.9 , 9.04, 8.45, 5.31, 9.23,\n       8.58, 8.1 , 5.03, 7.14, 5.39, 5.23, 7.33, 8.18, 5.82, 7.67, 8.68,\n       8.64, 7.1 , 8.97, 7.65, 8.76, 8.5 , 8.38, 8.83, 5.14, 8.21, 8.5 ,\n       7.51, 8.32, 5.19, 7.83, 5.69, 8.34, 8.3 , 7.73, 8.57, 7.31, 6.57,\n       5.47, 7.99, 8.61, 8.39, 8.61, 5.27, 8.07, 7.74, 7.95, 8.22, 5.93,\n       8.4 , 7.48, 8.02, 8.94, 8.  , 8.13, 7.98, 5.27, 7.17, 6.55, 7.99,\n       7.19, 7.2 , 7.21, 8.28, 8.43, 8.09, 6.77, 5.95, 6.89, 7.8 , 8.37,\n       7.68, 7.07, 8.47, 7.03, 7.19, 6.6 , 8.58, 7.17, 6.03, 6.41, 7.22,\n       7.79, 8.07, 8.29, 5.7 , 8.01, 8.23, 7.84, 7.71, 5.07, 8.75, 8.12,\n       6.74, 7.68, 8.81, 7.14, 8.8 , 7.2 , 7.48, 7.61, 7.69, 8.5 , 7.02,\n       5.15, 7.73, 8.36, 8.26, 7.24, 7.96, 8.73, 7.62, 7.28, 8.63, 7.37,\n       8.03, 8.  , 5.02, 7.62, 7.71, 7.27, 5.86, 7.55, 6.94, 8.39, 5.03,\n       8.02, 5.24, 6.58, 7.47, 8.42, 7.46, 8.02, 7.93, 7.76, 8.04, 8.53,\n       7.99, 8.29, 7.61, 8.01, 6.32, 6.95, 4.43, 7.8 , 7.46, 5.45, 7.12,\n       7.1 , 7.95, 8.17, 6.9 , 5.18, 9.  , 8.03, 7.27, 8.52, 6.04, 9.03,\n       8.45, 7.67, 7.44, 8.67, 6.58, 8.77, 5.96, 5.32, 5.05, 8.73, 7.47,\n       8.23, 7.14, 7.37, 7.44, 5.7 , 6.98, 6.37, 7.21, 7.72, 8.72, 7.03,\n       7.43, 5.53, 6.29, 6.83, 7.26, 8.36, 7.69, 5.03, 6.97, 9.52, 6.89,\n       8.67, 8.46, 7.99, 7.94, 6.27, 7.21, 7.44, 7.16, 7.11, 7.91, 8.57,\n       7.03, 7.78, 7.96, 8.15, 8.72, 5.88, 5.48, 4.98, 7.79, 7.41, 4.9 ,\n       7.1 , 7.28, 7.54, 5.31, 7.3 , 5.  , 7.39, 7.5 , 5.83, 5.2 , 8.92,\n       8.08, 8.74, 7.44, 9.02, 8.92, 8.92, 7.88, 5.14, 8.07, 7.29, 8.96,\n       5.52, 5.58, 7.16, 7.49, 5.52, 6.07, 8.  , 8.  , 8.21, 8.78, 7.37,\n       7.56, 7.94, 7.06, 7.81, 7.35, 8.09, 8.3 , 7.76, 7.67, 8.42, 8.02,\n       7.89, 4.72, 8.83, 7.36, 5.32, 5.15, 7.74, 5.72, 5.14, 8.13, 7.73,\n       6.45, 8.38, 7.88, 8.89, 7.32, 8.32, 6.99, 5.38, 7.2 , 7.11, 7.26,\n       7.39, 7.42, 7.12, 7.36, 8.2 , 8.24, 7.95, 7.22, 7.98, 7.08, 5.12,\n       5.09, 7.85, 7.41, 7.83, 9.16, 8.51, 7.15, 6.55, 8.7 , 7.19, 8.94,\n       6.96, 7.91, 8.19, 5.98, 8.03, 7.07])"
     },
     "metadata": {}
    }
   ],
   "execution_count": null
  },
  {
   "cell_type": "code",
   "metadata": {
    "tags": [],
    "cell_id": "00034-e0b69125-b51f-415f-a03b-e20ccc0ff097",
    "deepnote_to_be_reexecuted": false,
    "source_hash": "3643a408",
    "execution_start": 1620804873919,
    "execution_millis": 12,
    "deepnote_cell_type": "code"
   },
   "source": "from sklearn.metrics import mean_squared_error, mean_absolute_error, r2_score\n\ndef model_performance(y_train, y_pred_train, y_test, y_pred_test):\n\n    ME_train = np.mean(y_train-y_pred_train)\n    ME_test  = np.mean(y_test-y_pred_test)\n\n    MAE_train = mean_absolute_error(y_train,y_pred_train)\n    MAE_test  = mean_absolute_error(y_test,y_pred_test)\n\n    MSE_train = mean_squared_error(y_train,y_pred_train)\n    MSE_test  = mean_squared_error(y_test,y_pred_test)\n\n    RMSE_train = np.sqrt(MSE_train)\n    RMSE_test  = np.sqrt(MSE_test)\n\n    MAPE_train = np.mean((np.abs(y_train-y_pred_train) / y_train)* 100.)\n    MAPE_test  = np.mean((np.abs(y_test-y_pred_test) / y_test)* 100.)\n\n    R2_train = r2_score(y_train,y_pred_train)\n    R2_test  = r2_score(y_test,y_pred_test)\n\n    performance = pd.DataFrame({'Error_metric': ['Mean error','Mean absolute error','Mean squared error',\n                                             'Root mean squared error','Mean absolute percentual error',\n                                             'R2'],\n                            'Train': [ME_train, MAE_train, MSE_train, RMSE_train, MAPE_train, R2_train],\n                            'Test' : [ME_test, MAE_test , MSE_test, RMSE_test, MAPE_test, R2_test]})\n\n    pd.options.display.float_format = '{:.2f}'.format\n\n    df_train = pd.DataFrame({'Real': y_train, 'Predicted': y_pred_train})\n    df_test  = pd.DataFrame({'Real': y_test,  'Predicted': y_pred_test})\n\n    return performance, RMSE_train, RMSE_test",
   "outputs": [],
   "execution_count": null
  },
  {
   "cell_type": "markdown",
   "source": "## LinearRegression()",
   "metadata": {
    "tags": [],
    "cell_id": "00034-df2208bd-070b-4d8e-9cb7-8a2b6ef8ff76",
    "deepnote_cell_type": "text-cell-h2"
   }
  },
  {
   "cell_type": "code",
   "metadata": {
    "tags": [],
    "cell_id": "00035-d6ab0176-e46d-4658-b21d-2da09405c6ea",
    "deepnote_to_be_reexecuted": false,
    "source_hash": "7c23fcd4",
    "execution_start": 1620804873969,
    "execution_millis": 123,
    "deepnote_cell_type": "code"
   },
   "source": "lin_reg = LinearRegression()\n\nlin_reg.fit(X_train,y_train)\n\nlin_pred_tr = lin_reg.predict(X_train)\nlin_pred_ts = lin_reg.predict(X_test)\n\nperf,RMSE_lin_reg_train,RMSE_lin_reg_test =model_performance(y_train,lin_pred_tr,y_test,lin_pred_ts)\nperf",
   "outputs": [
    {
     "output_type": "execute_result",
     "execution_count": 20,
     "data": {
      "application/vnd.deepnote.dataframe.v2+json": {
       "row_count": 6,
       "column_count": 3,
       "columns": [
        {
         "name": "Error_metric",
         "dtype": "object",
         "stats": {
          "unique_count": 6,
          "nan_count": 0,
          "categories": [
           {
            "name": "Mean error",
            "count": 1
           },
           {
            "name": "Mean absolute error",
            "count": 1
           },
           {
            "name": "4 others",
            "count": 4
           }
          ]
         }
        },
        {
         "name": "Train",
         "dtype": "float64",
         "stats": {
          "unique_count": 6,
          "nan_count": 0,
          "min": "-4.0250449165178433e-16",
          "max": "8.138277614971093",
          "histogram": [
           {
            "bin_start": -4.0250449165178433e-16,
            "bin_end": 0.8138277614971089,
            "count": 5
           },
           {
            "bin_start": 0.8138277614971089,
            "bin_end": 1.6276555229942182,
            "count": 0
           },
           {
            "bin_start": 1.6276555229942182,
            "bin_end": 2.4414832844913277,
            "count": 0
           },
           {
            "bin_start": 2.4414832844913277,
            "bin_end": 3.255311045988437,
            "count": 0
           },
           {
            "bin_start": 3.255311045988437,
            "bin_end": 4.069138807485547,
            "count": 0
           },
           {
            "bin_start": 4.069138807485547,
            "bin_end": 4.882966568982656,
            "count": 0
           },
           {
            "bin_start": 4.882966568982656,
            "bin_end": 5.696794330479765,
            "count": 0
           },
           {
            "bin_start": 5.696794330479765,
            "bin_end": 6.510622091976875,
            "count": 0
           },
           {
            "bin_start": 6.510622091976875,
            "bin_end": 7.324449853473984,
            "count": 0
           },
           {
            "bin_start": 7.324449853473984,
            "bin_end": 8.138277614971093,
            "count": 1
           }
          ]
         }
        },
        {
         "name": "Test",
         "dtype": "float64",
         "stats": {
          "unique_count": 6,
          "nan_count": 0,
          "min": "-0.0005596660553265052",
          "max": "7.730724240798349",
          "histogram": [
           {
            "bin_start": -0.0005596660553265052,
            "bin_end": 0.772568724630041,
            "count": 5
           },
           {
            "bin_start": 0.772568724630041,
            "bin_end": 1.5456971153154087,
            "count": 0
           },
           {
            "bin_start": 1.5456971153154087,
            "bin_end": 2.3188255060007763,
            "count": 0
           },
           {
            "bin_start": 2.3188255060007763,
            "bin_end": 3.0919538966861437,
            "count": 0
           },
           {
            "bin_start": 3.0919538966861437,
            "bin_end": 3.865082287371511,
            "count": 0
           },
           {
            "bin_start": 3.865082287371511,
            "bin_end": 4.638210678056879,
            "count": 0
           },
           {
            "bin_start": 4.638210678056879,
            "bin_end": 5.4113390687422465,
            "count": 0
           },
           {
            "bin_start": 5.4113390687422465,
            "bin_end": 6.184467459427614,
            "count": 0
           },
           {
            "bin_start": 6.184467459427614,
            "bin_end": 6.957595850112981,
            "count": 0
           },
           {
            "bin_start": 6.957595850112981,
            "bin_end": 7.730724240798349,
            "count": 1
           }
          ]
         }
        },
        {
         "name": "_deepnote_index_column",
         "dtype": "int64"
        }
       ],
       "rows_top": [
        {
         "Error_metric": "Mean error",
         "Train": -4.0250449165178433e-16,
         "Test": -0.0005596660553265052,
         "_deepnote_index_column": 0
        },
        {
         "Error_metric": "Mean absolute error",
         "Train": 0.5769175433368675,
         "Test": 0.5577921493253499,
         "_deepnote_index_column": 1
        },
        {
         "Error_metric": "Mean squared error",
         "Train": 0.5486701631412987,
         "Test": 0.5124381482484078,
         "_deepnote_index_column": 2
        },
        {
         "Error_metric": "Root mean squared error",
         "Train": 0.7407227302717925,
         "Test": 0.7158478527231942,
         "_deepnote_index_column": 3
        },
        {
         "Error_metric": "Mean absolute percentual error",
         "Train": 8.138277614971093,
         "Test": 7.730724240798349,
         "_deepnote_index_column": 4
        },
        {
         "Error_metric": "R2",
         "Train": 0.6762602591900213,
         "Test": 0.6820799736979808,
         "_deepnote_index_column": 5
        }
       ],
       "rows_bottom": null
      },
      "text/plain": "                     Error_metric  Train  Test\n0                      Mean error  -0.00 -0.00\n1             Mean absolute error   0.58  0.56\n2              Mean squared error   0.55  0.51\n3         Root mean squared error   0.74  0.72\n4  Mean absolute percentual error   8.14  7.73\n5                              R2   0.68  0.68",
      "text/html": "<div>\n<style scoped>\n    .dataframe tbody tr th:only-of-type {\n        vertical-align: middle;\n    }\n\n    .dataframe tbody tr th {\n        vertical-align: top;\n    }\n\n    .dataframe thead th {\n        text-align: right;\n    }\n</style>\n<table border=\"1\" class=\"dataframe\">\n  <thead>\n    <tr style=\"text-align: right;\">\n      <th></th>\n      <th>Error_metric</th>\n      <th>Train</th>\n      <th>Test</th>\n    </tr>\n  </thead>\n  <tbody>\n    <tr>\n      <th>0</th>\n      <td>Mean error</td>\n      <td>-0.00</td>\n      <td>-0.00</td>\n    </tr>\n    <tr>\n      <th>1</th>\n      <td>Mean absolute error</td>\n      <td>0.58</td>\n      <td>0.56</td>\n    </tr>\n    <tr>\n      <th>2</th>\n      <td>Mean squared error</td>\n      <td>0.55</td>\n      <td>0.51</td>\n    </tr>\n    <tr>\n      <th>3</th>\n      <td>Root mean squared error</td>\n      <td>0.74</td>\n      <td>0.72</td>\n    </tr>\n    <tr>\n      <th>4</th>\n      <td>Mean absolute percentual error</td>\n      <td>8.14</td>\n      <td>7.73</td>\n    </tr>\n    <tr>\n      <th>5</th>\n      <td>R2</td>\n      <td>0.68</td>\n      <td>0.68</td>\n    </tr>\n  </tbody>\n</table>\n</div>"
     },
     "metadata": {}
    }
   ],
   "execution_count": null
  },
  {
   "cell_type": "markdown",
   "source": "## DecisionTreeRegressor",
   "metadata": {
    "tags": [],
    "cell_id": "00037-14f12522-5852-4351-bd6e-61b547ec99ea",
    "deepnote_cell_type": "text-cell-h2"
   }
  },
  {
   "cell_type": "code",
   "metadata": {
    "tags": [],
    "cell_id": "00038-33324485-2bec-474a-8fd9-421f25a45913",
    "deepnote_to_be_reexecuted": false,
    "source_hash": "256af6b8",
    "execution_start": 1620804874262,
    "execution_millis": 173,
    "deepnote_cell_type": "code"
   },
   "source": "dt_reg = dtr(random_state=1123)\n\ndt_reg.fit(X_train,y_train)\ndt_pred_tr = dt_reg.predict(X_train)\ndt_pred_ts = dt_reg.predict(X_test)\n\nperf,RMSE_dt_train,RMSE_dt_test =model_performance(y_train,dt_pred_tr,y_test,dt_pred_ts)\nperf",
   "outputs": [
    {
     "output_type": "execute_result",
     "execution_count": 22,
     "data": {
      "application/vnd.deepnote.dataframe.v2+json": {
       "row_count": 6,
       "column_count": 3,
       "columns": [
        {
         "name": "Error_metric",
         "dtype": "object",
         "stats": {
          "unique_count": 6,
          "nan_count": 0,
          "categories": [
           {
            "name": "Mean error",
            "count": 1
           },
           {
            "name": "Mean absolute error",
            "count": 1
           },
           {
            "name": "4 others",
            "count": 4
           }
          ]
         }
        },
        {
         "name": "Train",
         "dtype": "float64",
         "stats": {
          "unique_count": 2,
          "nan_count": 0,
          "min": "0.0",
          "max": "1.0",
          "histogram": [
           {
            "bin_start": 0,
            "bin_end": 0.1,
            "count": 5
           },
           {
            "bin_start": 0.1,
            "bin_end": 0.2,
            "count": 0
           },
           {
            "bin_start": 0.2,
            "bin_end": 0.30000000000000004,
            "count": 0
           },
           {
            "bin_start": 0.30000000000000004,
            "bin_end": 0.4,
            "count": 0
           },
           {
            "bin_start": 0.4,
            "bin_end": 0.5,
            "count": 0
           },
           {
            "bin_start": 0.5,
            "bin_end": 0.6000000000000001,
            "count": 0
           },
           {
            "bin_start": 0.6000000000000001,
            "bin_end": 0.7000000000000001,
            "count": 0
           },
           {
            "bin_start": 0.7000000000000001,
            "bin_end": 0.8,
            "count": 0
           },
           {
            "bin_start": 0.8,
            "bin_end": 0.9,
            "count": 0
           },
           {
            "bin_start": 0.9,
            "bin_end": 1,
            "count": 1
           }
          ]
         }
        },
        {
         "name": "Test",
         "dtype": "float64",
         "stats": {
          "unique_count": 6,
          "nan_count": 0,
          "min": "-0.03903903903903904",
          "max": "6.796417629750963",
          "histogram": [
           {
            "bin_start": -0.03903903903903904,
            "bin_end": 0.6445066278399613,
            "count": 3
           },
           {
            "bin_start": 0.6445066278399613,
            "bin_end": 1.3280522947189617,
            "count": 2
           },
           {
            "bin_start": 1.3280522947189617,
            "bin_end": 2.011597961597962,
            "count": 0
           },
           {
            "bin_start": 2.011597961597962,
            "bin_end": 2.6951436284769623,
            "count": 0
           },
           {
            "bin_start": 2.6951436284769623,
            "bin_end": 3.378689295355963,
            "count": 0
           },
           {
            "bin_start": 3.378689295355963,
            "bin_end": 4.062234962234962,
            "count": 0
           },
           {
            "bin_start": 4.062234962234962,
            "bin_end": 4.745780629113963,
            "count": 0
           },
           {
            "bin_start": 4.745780629113963,
            "bin_end": 5.429326295992963,
            "count": 0
           },
           {
            "bin_start": 5.429326295992963,
            "bin_end": 6.112871962871964,
            "count": 0
           },
           {
            "bin_start": 6.112871962871964,
            "bin_end": 6.796417629750963,
            "count": 1
           }
          ]
         }
        },
        {
         "name": "_deepnote_index_column",
         "dtype": "int64"
        }
       ],
       "rows_top": [
        {
         "Error_metric": "Mean error",
         "Train": 0,
         "Test": -0.03903903903903904,
         "_deepnote_index_column": 0
        },
        {
         "Error_metric": "Mean absolute error",
         "Train": 0,
         "Test": 0.4854854854854855,
         "_deepnote_index_column": 1
        },
        {
         "Error_metric": "Mean squared error",
         "Train": 0,
         "Test": 0.6736736736736737,
         "_deepnote_index_column": 2
        },
        {
         "Error_metric": "Root mean squared error",
         "Train": 0,
         "Test": 0.8207762628595406,
         "_deepnote_index_column": 3
        },
        {
         "Error_metric": "Mean absolute percentual error",
         "Train": 0,
         "Test": 6.796417629750963,
         "_deepnote_index_column": 4
        },
        {
         "Error_metric": "R2",
         "Train": 1,
         "Test": 0.5820483842091129,
         "_deepnote_index_column": 5
        }
       ],
       "rows_bottom": null
      },
      "text/plain": "                     Error_metric  Train  Test\n0                      Mean error   0.00 -0.04\n1             Mean absolute error   0.00  0.49\n2              Mean squared error   0.00  0.67\n3         Root mean squared error   0.00  0.82\n4  Mean absolute percentual error   0.00  6.80\n5                              R2   1.00  0.58",
      "text/html": "<div>\n<style scoped>\n    .dataframe tbody tr th:only-of-type {\n        vertical-align: middle;\n    }\n\n    .dataframe tbody tr th {\n        vertical-align: top;\n    }\n\n    .dataframe thead th {\n        text-align: right;\n    }\n</style>\n<table border=\"1\" class=\"dataframe\">\n  <thead>\n    <tr style=\"text-align: right;\">\n      <th></th>\n      <th>Error_metric</th>\n      <th>Train</th>\n      <th>Test</th>\n    </tr>\n  </thead>\n  <tbody>\n    <tr>\n      <th>0</th>\n      <td>Mean error</td>\n      <td>0.00</td>\n      <td>-0.04</td>\n    </tr>\n    <tr>\n      <th>1</th>\n      <td>Mean absolute error</td>\n      <td>0.00</td>\n      <td>0.49</td>\n    </tr>\n    <tr>\n      <th>2</th>\n      <td>Mean squared error</td>\n      <td>0.00</td>\n      <td>0.67</td>\n    </tr>\n    <tr>\n      <th>3</th>\n      <td>Root mean squared error</td>\n      <td>0.00</td>\n      <td>0.82</td>\n    </tr>\n    <tr>\n      <th>4</th>\n      <td>Mean absolute percentual error</td>\n      <td>0.00</td>\n      <td>6.80</td>\n    </tr>\n    <tr>\n      <th>5</th>\n      <td>R2</td>\n      <td>1.00</td>\n      <td>0.58</td>\n    </tr>\n  </tbody>\n</table>\n</div>"
     },
     "metadata": {}
    }
   ],
   "execution_count": null
  },
  {
   "cell_type": "code",
   "metadata": {
    "tags": [],
    "cell_id": "00040-7236e2bf-5884-4b64-8d0e-267b6fcdf7b7",
    "deepnote_to_be_reexecuted": false,
    "source_hash": "e316209a",
    "execution_start": 1620804874431,
    "execution_millis": 70374,
    "output_cleared": false,
    "deepnote_cell_type": "code"
   },
   "source": "#Playing with parameters\n\ndtr_mod = dtr(random_state=1123)\n\ntree = GridSearchCV(dtr_mod,param_grid={'max_depth':list(range(4,9)),'min_samples_split':list(range(38,100))},scoring='neg_mean_squared_error')\n\ntree.fit(X_train,y_train)\n\ntree.cv_results_",
   "outputs": [
    {
     "output_type": "execute_result",
     "execution_count": 23,
     "data": {
      "text/plain": "{'mean_fit_time': array([0.03271642, 0.02727804, 0.03077803, 0.02638159, 0.02554474,\n        0.03149824, 0.02880874, 0.02644901, 0.02700381, 0.02875762,\n        0.02856812, 0.03537459, 0.031916  , 0.02789946, 0.02620201,\n        0.02822752, 0.04144025, 0.02919087, 0.02747464, 0.02751379,\n        0.03338776, 0.02906218, 0.02610173, 0.02633233, 0.03181882,\n        0.02967439, 0.02648201, 0.02763047, 0.02877555, 0.02065535,\n        0.02248516, 0.02814307, 0.02689281, 0.03303261, 0.02866039,\n        0.02986178, 0.02960167, 0.02833648, 0.02672482, 0.03192234,\n        0.02912788, 0.0255455 , 0.02804551, 0.02785754, 0.032903  ,\n        0.02770233, 0.0186779 , 0.02503581, 0.02333941, 0.02245407,\n        0.02919488, 0.03440113, 0.02536612, 0.02767277, 0.02599831,\n        0.02543254, 0.02802882, 0.02878385, 0.02886596, 0.02656274,\n        0.02416492, 0.02632732, 0.03048286, 0.03403029, 0.02977133,\n        0.03291144, 0.04514289, 0.03750625, 0.03279595, 0.03027434,\n        0.03099337, 0.02971144, 0.03641777, 0.03260665, 0.02954617,\n        0.03363943, 0.04534168, 0.04771104, 0.04114032, 0.03394389,\n        0.03225999, 0.02939687, 0.03196826, 0.0310482 , 0.03067112,\n        0.035922  , 0.02913642, 0.03487153, 0.02785106, 0.03693771,\n        0.03620901, 0.03183165, 0.02939873, 0.03084493, 0.03772488,\n        0.03124685, 0.03043923, 0.03569622, 0.03076782, 0.03196888,\n        0.031006  , 0.02785764, 0.03022089, 0.02865558, 0.03223314,\n        0.03210955, 0.03162308, 0.03578839, 0.031774  , 0.03155384,\n        0.03334036, 0.03372107, 0.0364841 , 0.04094472, 0.03513026,\n        0.03066158, 0.03241143, 0.03503065, 0.03124371, 0.03653069,\n        0.0276957 , 0.03361988, 0.03283911, 0.03447118, 0.03650055,\n        0.03844023, 0.0441772 , 0.02645931, 0.03402734, 0.03768234,\n        0.03672223, 0.04125481, 0.03827496, 0.03537154, 0.0347301 ,\n        0.03409672, 0.0373004 , 0.0398869 , 0.03851256, 0.03214788,\n        0.03758612, 0.03642621, 0.03231711, 0.03823423, 0.03890305,\n        0.03666406, 0.03953648, 0.03635154, 0.04245324, 0.03657999,\n        0.03945231, 0.03873534, 0.04008727, 0.03697553, 0.03800011,\n        0.0332109 , 0.04325066, 0.04171329, 0.0466114 , 0.03883848,\n        0.04128213, 0.03862987, 0.03582563, 0.03632312, 0.03821359,\n        0.03769016, 0.03698025, 0.03385472, 0.03570442, 0.04626513,\n        0.03682256, 0.0500905 , 0.03735514, 0.03736801, 0.03537302,\n        0.03651276, 0.03495913, 0.03415771, 0.03370252, 0.03607297,\n        0.03838477, 0.03919172, 0.03509192, 0.03517332, 0.0356317 ,\n        0.04282155, 0.03957019, 0.04048743, 0.04510489, 0.04165421,\n        0.03902936, 0.03729038, 0.04412603, 0.04020524, 0.03302531,\n        0.03819032, 0.03332119, 0.03793736, 0.04786711, 0.04193044,\n        0.03767753, 0.03709831, 0.0481091 , 0.04050069, 0.04270401,\n        0.04143848, 0.0461616 , 0.03989263, 0.04726944, 0.0384872 ,\n        0.04519157, 0.04548101, 0.04090214, 0.04211431, 0.03925772,\n        0.03829212, 0.04013338, 0.03817172, 0.03901286, 0.03869367,\n        0.03680692, 0.03756819, 0.0339375 , 0.04302382, 0.03946605,\n        0.02722764, 0.03183913, 0.03699713, 0.03582764, 0.03982606,\n        0.0359508 , 0.0402257 , 0.0442966 , 0.04136662, 0.03840117,\n        0.04119854, 0.03981395, 0.03733711, 0.0371109 , 0.0371594 ,\n        0.03991542, 0.04318633, 0.03859015, 0.04039764, 0.05179162,\n        0.04070587, 0.03703423, 0.04418569, 0.04658818, 0.0466435 ,\n        0.04530182, 0.04311295, 0.04395642, 0.04683995, 0.04273829,\n        0.04625902, 0.04332833, 0.04308419, 0.04090867, 0.04009118,\n        0.04480948, 0.0404954 , 0.03709455, 0.05477314, 0.05206246,\n        0.04616232, 0.0464705 , 0.04245019, 0.03954635, 0.04510627,\n        0.04352841, 0.04735556, 0.03306794, 0.0426321 , 0.04610476,\n        0.04017987, 0.04265537, 0.04414043, 0.0345057 , 0.04831548,\n        0.04737201, 0.04252348, 0.04081383, 0.04769373, 0.04624505,\n        0.04883447, 0.04047613, 0.04525084, 0.05157371, 0.03949256,\n        0.04337139, 0.03801584, 0.04444876, 0.0420702 , 0.03829012,\n        0.04845014, 0.04472136, 0.04472861, 0.04158392, 0.04186254,\n        0.04787736, 0.08599105, 0.0465631 , 0.05374227, 0.04043775,\n        0.04128437, 0.03906336, 0.04130926, 0.03919663, 0.03962717]),\n 'std_fit_time': array([0.00564256, 0.00209548, 0.00642941, 0.00515393, 0.00372013,\n        0.004852  , 0.00348921, 0.00444146, 0.00249113, 0.00204742,\n        0.00319932, 0.00383928, 0.00560054, 0.00194277, 0.00172477,\n        0.00417905, 0.0125793 , 0.00397822, 0.00247796, 0.00169294,\n        0.00435755, 0.0049956 , 0.00644025, 0.01392515, 0.00245362,\n        0.00313353, 0.00180577, 0.00328702, 0.00512208, 0.00552734,\n        0.00810427, 0.0019548 , 0.00168044, 0.00783272, 0.00169414,\n        0.00251603, 0.00147142, 0.00293629, 0.00147261, 0.00828978,\n        0.00637131, 0.00290981, 0.00196517, 0.0018264 , 0.00861454,\n        0.00466249, 0.00460861, 0.00657258, 0.00577025, 0.00974237,\n        0.00615749, 0.00964789, 0.00350524, 0.00490442, 0.00322743,\n        0.00781627, 0.00553277, 0.00347039, 0.00296343, 0.00280774,\n        0.00178065, 0.00230665, 0.00326167, 0.00287362, 0.00248148,\n        0.00575107, 0.01140448, 0.00653649, 0.01752259, 0.00543666,\n        0.00081831, 0.00403745, 0.00709549, 0.00193627, 0.00171801,\n        0.00191013, 0.00407022, 0.01260401, 0.00864143, 0.00262889,\n        0.00562554, 0.00256727, 0.0016392 , 0.0023511 , 0.00180947,\n        0.01375151, 0.00207713, 0.00259293, 0.00279088, 0.00421974,\n        0.0056051 , 0.00183167, 0.0036165 , 0.00340935, 0.00246179,\n        0.00208851, 0.00089741, 0.00563295, 0.0007973 , 0.00164441,\n        0.00346275, 0.00298697, 0.00180958, 0.00194427, 0.00604125,\n        0.00153684, 0.00335603, 0.00982697, 0.00342695, 0.00233465,\n        0.00231017, 0.00345309, 0.00658582, 0.00920458, 0.00857471,\n        0.00160076, 0.00366403, 0.00622966, 0.00225959, 0.00788308,\n        0.00573706, 0.00776531, 0.00371908, 0.00277474, 0.00285006,\n        0.00612608, 0.00646082, 0.00771846, 0.00887045, 0.00310248,\n        0.0029555 , 0.00521703, 0.01057229, 0.00254422, 0.00353849,\n        0.00174792, 0.00690922, 0.00554055, 0.00398286, 0.00798614,\n        0.00523238, 0.00318134, 0.00515828, 0.00166777, 0.00392071,\n        0.00302612, 0.01036571, 0.0013604 , 0.00763325, 0.01214896,\n        0.00721089, 0.0054633 , 0.00885643, 0.00384851, 0.00508682,\n        0.0038051 , 0.00406412, 0.00556107, 0.01073624, 0.00507249,\n        0.01148222, 0.00835855, 0.0022789 , 0.00308673, 0.00870399,\n        0.00681406, 0.00416191, 0.00245736, 0.0030391 , 0.009861  ,\n        0.00442784, 0.00750742, 0.00277444, 0.00516611, 0.00455924,\n        0.00297015, 0.00485508, 0.00590467, 0.00144039, 0.0051611 ,\n        0.00726307, 0.00599225, 0.00713135, 0.0055934 , 0.01704189,\n        0.01998427, 0.00237875, 0.00162096, 0.00590617, 0.00554388,\n        0.00188699, 0.00224149, 0.00814359, 0.00196129, 0.00753915,\n        0.00314763, 0.00556845, 0.0023283 , 0.00760349, 0.00422227,\n        0.02085971, 0.00479826, 0.00276816, 0.00331743, 0.00352252,\n        0.00254087, 0.00457115, 0.00448447, 0.00917398, 0.00262021,\n        0.00904944, 0.00579582, 0.00337789, 0.00521589, 0.00570916,\n        0.00248511, 0.00958594, 0.00688027, 0.010811  , 0.00362919,\n        0.00529681, 0.00360011, 0.01187544, 0.00818548, 0.0016438 ,\n        0.01125299, 0.00750167, 0.00287322, 0.00163193, 0.004335  ,\n        0.00178693, 0.00213697, 0.00901765, 0.001388  , 0.0032087 ,\n        0.00162247, 0.00468344, 0.00272718, 0.00282033, 0.00279108,\n        0.00620418, 0.00676117, 0.00375531, 0.00475749, 0.01228361,\n        0.00297699, 0.00137417, 0.00789171, 0.00482036, 0.00774665,\n        0.00736318, 0.00276639, 0.00570793, 0.0079359 , 0.00352223,\n        0.00365342, 0.00298384, 0.00466423, 0.00071457, 0.0040099 ,\n        0.00507287, 0.00024488, 0.00884215, 0.01471255, 0.01195743,\n        0.00556871, 0.00957379, 0.00174487, 0.00856907, 0.00244519,\n        0.00245717, 0.01381683, 0.00948547, 0.00495978, 0.00683705,\n        0.00230857, 0.00302123, 0.01069252, 0.0093958 , 0.01106144,\n        0.00454904, 0.00415128, 0.00223447, 0.00479667, 0.00882627,\n        0.01084699, 0.00317272, 0.00717466, 0.0067462 , 0.00307761,\n        0.00403966, 0.00476204, 0.00465427, 0.00293886, 0.0016269 ,\n        0.00823867, 0.00863763, 0.00277013, 0.00124069, 0.00434605,\n        0.00725765, 0.0832997 , 0.00338048, 0.01173933, 0.00420781,\n        0.00256924, 0.00294655, 0.00716883, 0.00288231, 0.0020664 ]),\n 'mean_score_time': array([0.00923591, 0.0059577 , 0.0077601 , 0.0074038 , 0.00691447,\n        0.00672345, 0.00474286, 0.00536623, 0.00567732, 0.0075882 ,\n        0.00822921, 0.00772815, 0.00638647, 0.00628424, 0.00746036,\n        0.00791864, 0.00837636, 0.00523062, 0.00655541, 0.0060204 ,\n        0.00585713, 0.00585337, 0.0028533 , 0.00767727, 0.00722356,\n        0.00577483, 0.00814576, 0.00472913, 0.00538397, 0.00613203,\n        0.00297489, 0.00542426, 0.00720177, 0.0146687 , 0.00560241,\n        0.00582314, 0.00401225, 0.00402918, 0.00739102, 0.00747719,\n        0.00405293, 0.00827918, 0.00635076, 0.00411253, 0.00762987,\n        0.00584507, 0.00363092, 0.00561514, 0.00257773, 0.00341148,\n        0.00688047, 0.00300059, 0.01040726, 0.00847602, 0.00542393,\n        0.00679951, 0.00706429, 0.0084765 , 0.00545125, 0.00783339,\n        0.00895815, 0.00428076, 0.00530782, 0.00659456, 0.00561614,\n        0.00549369, 0.00766521, 0.00519199, 0.00675712, 0.00634212,\n        0.00618396, 0.00552845, 0.00829282, 0.00672359, 0.00480418,\n        0.00504332, 0.00726748, 0.00702081, 0.0072998 , 0.00707955,\n        0.00726995, 0.00623164, 0.00823116, 0.00612278, 0.00628023,\n        0.00796499, 0.0054944 , 0.00766306, 0.00891137, 0.00743456,\n        0.00679741, 0.01073151, 0.00594201, 0.00554838, 0.00582943,\n        0.00919642, 0.00799389, 0.00722933, 0.00537724, 0.0055367 ,\n        0.0046083 , 0.00634446, 0.00516458, 0.00688157, 0.00622206,\n        0.00564537, 0.00533996, 0.00780015, 0.00774307, 0.00884366,\n        0.00486631, 0.00660715, 0.00811443, 0.0048564 , 0.00784502,\n        0.00845141, 0.01116772, 0.00550008, 0.00647945, 0.00797358,\n        0.00652103, 0.00678115, 0.00641799, 0.00699081, 0.00640702,\n        0.00624142, 0.006739  , 0.00462842, 0.00620346, 0.00589795,\n        0.00763783, 0.00582395, 0.00661025, 0.00478296, 0.00558558,\n        0.006675  , 0.00643082, 0.00727673, 0.00569844, 0.00567074,\n        0.00646353, 0.00750718, 0.00601716, 0.00388498, 0.00643997,\n        0.00975761, 0.01014895, 0.0074245 , 0.00607677, 0.00546374,\n        0.00908694, 0.00667496, 0.0081079 , 0.00637321, 0.00654626,\n        0.00938287, 0.00572419, 0.01021094, 0.00688605, 0.01261463,\n        0.0081522 , 0.00811949, 0.00386152, 0.0055789 , 0.00802112,\n        0.00618   , 0.00812244, 0.00819893, 0.00822577, 0.00938368,\n        0.0064404 , 0.00981646, 0.00486236, 0.00559158, 0.00640264,\n        0.00613971, 0.00655041, 0.00819225, 0.00830569, 0.00554361,\n        0.00466018, 0.00477118, 0.00717206, 0.00637131, 0.00457006,\n        0.00552869, 0.00503402, 0.0058743 , 0.00638218, 0.00875382,\n        0.00657849, 0.00710049, 0.00553207, 0.00645576, 0.00635848,\n        0.00660129, 0.00714259, 0.00454359, 0.00619297, 0.00651827,\n        0.0037643 , 0.00746245, 0.00617485, 0.00929327, 0.007335  ,\n        0.00960827, 0.00589676, 0.01065888, 0.00958552, 0.0097188 ,\n        0.00640526, 0.00835667, 0.00549231, 0.00380969, 0.00610895,\n        0.00631814, 0.01114073, 0.00467176, 0.0099771 , 0.00541892,\n        0.00863156, 0.00535722, 0.00470219, 0.00600348, 0.00480485,\n        0.00284929, 0.00717297, 0.0059073 , 0.00712171, 0.00686059,\n        0.00548863, 0.00641942, 0.00620441, 0.00630374, 0.00485315,\n        0.00913916, 0.00643249, 0.00626178, 0.00518079, 0.00622888,\n        0.00894451, 0.01050749, 0.00730982, 0.00298185, 0.0060874 ,\n        0.00572796, 0.00637975, 0.00481629, 0.00721612, 0.00569358,\n        0.00477853, 0.00646725, 0.00739183, 0.00794244, 0.00562615,\n        0.00394301, 0.00713091, 0.00553641, 0.00789037, 0.00795827,\n        0.00455413, 0.00626321, 0.00788941, 0.00835748, 0.00780082,\n        0.01173944, 0.00734057, 0.00550461, 0.00412226, 0.00830345,\n        0.00743032, 0.00814781, 0.00970201, 0.00847235, 0.0089066 ,\n        0.00809069, 0.00707822, 0.008322  , 0.00454373, 0.00499907,\n        0.00574989, 0.00647373, 0.00565171, 0.00724506, 0.00418591,\n        0.00668378, 0.00713906, 0.00749707, 0.0086729 , 0.00807457,\n        0.00497155, 0.00597281, 0.00480647, 0.0046927 , 0.00776544,\n        0.0059267 , 0.007266  , 0.00589495, 0.00475068, 0.00708098,\n        0.00741925, 0.00418177, 0.00745363, 0.0094049 , 0.00490217,\n        0.00552406, 0.00718398, 0.00724912, 0.00481048, 0.00723553]),\n 'std_score_time': array([2.75454939e-03, 2.53787154e-03, 3.60472822e-03, 3.79048236e-03,\n        3.52941704e-03, 3.10699345e-03, 3.64160786e-03, 3.31096351e-03,\n        2.19844776e-03, 6.63257749e-04, 3.11799184e-03, 3.33593504e-03,\n        3.22315091e-03, 1.65989290e-03, 1.44130803e-03, 1.68546542e-03,\n        3.47868837e-03, 2.10203981e-03, 1.81318199e-03, 2.67964474e-03,\n        2.65553728e-03, 4.29359352e-03, 1.86929204e-04, 6.12981964e-03,\n        5.69307452e-04, 2.30529139e-03, 1.04796518e-03, 2.03303683e-03,\n        1.96291890e-03, 2.87346487e-03, 1.12673160e-04, 1.94584171e-03,\n        2.63211533e-03, 1.07772982e-02, 2.18545323e-03, 2.02646373e-03,\n        1.92058357e-03, 2.33821901e-03, 2.64241104e-03, 2.97938535e-03,\n        2.01771858e-03, 2.66892375e-03, 1.72454649e-03, 1.63038778e-03,\n        2.61929663e-03, 2.65560539e-03, 1.67120612e-03, 3.68131980e-03,\n        2.13255545e-04, 1.39538049e-03, 3.58902428e-03, 4.50162882e-04,\n        3.07597065e-03, 4.93075751e-03, 3.41933725e-03, 4.36278891e-03,\n        2.58116592e-03, 3.79500334e-03, 3.19086014e-03, 2.95809967e-03,\n        3.46709353e-03, 1.85592044e-03, 1.99020895e-03, 1.80898399e-03,\n        2.30635629e-03, 3.39225119e-03, 4.60994676e-03, 3.07941835e-03,\n        3.06379765e-03, 4.82171974e-03, 3.06192542e-03, 2.11149598e-03,\n        5.84754669e-03, 2.00982726e-03, 2.06037899e-03, 2.01243338e-03,\n        4.50322903e-03, 3.35492401e-03, 3.21282173e-03, 2.02176902e-03,\n        2.75124004e-03, 2.97205098e-03, 6.05555876e-03, 1.60536544e-03,\n        2.90867626e-03, 2.98817455e-03, 3.29882234e-03, 5.32448821e-03,\n        3.30876923e-03, 3.44657760e-03, 8.57651601e-04, 3.93685395e-03,\n        3.60459567e-03, 2.27135978e-03, 2.40311976e-03, 5.15175140e-03,\n        8.06884864e-03, 2.97749917e-03, 2.08190336e-03, 2.07355708e-03,\n        2.03545238e-03, 1.62750116e-03, 3.25248312e-03, 2.61171301e-03,\n        1.60441677e-03, 2.08033119e-03, 3.05432472e-03, 4.34713380e-03,\n        3.87849736e-03, 1.88532407e-03, 1.88496613e-03, 1.36576227e-03,\n        2.69666765e-03, 1.64036838e-03, 2.80271615e-03, 3.05731450e-03,\n        6.98810004e-03, 3.35094683e-03, 1.92161672e-03, 1.50775583e-03,\n        3.23925641e-03, 3.31697078e-03, 2.98307602e-03, 2.27612092e-03,\n        4.09729971e-03, 1.65574152e-03, 2.88372285e-03, 3.31589662e-03,\n        3.91205504e-03, 2.22393757e-03, 2.59192507e-03, 1.79188334e-03,\n        4.73234332e-03, 1.95339062e-03, 2.07817591e-03, 1.86453157e-03,\n        1.66865585e-03, 2.55879327e-03, 2.70254895e-03, 3.24554893e-03,\n        3.17426649e-03, 5.81204558e-04, 3.76435838e-03, 1.62758427e-03,\n        1.69384771e-03, 5.52507210e-03, 3.00080572e-03, 3.99822487e-03,\n        3.09689528e-03, 2.07093668e-03, 6.39276647e-03, 1.64764472e-03,\n        3.12392951e-03, 1.62850943e-03, 2.22295293e-03, 3.49874114e-03,\n        2.13050794e-03, 5.72303677e-03, 1.95803371e-03, 1.34604850e-02,\n        6.34633389e-03, 1.61511863e-03, 1.60409552e-03, 2.08117804e-03,\n        3.04711477e-03, 2.01900680e-03, 3.16976007e-03, 1.30687205e-03,\n        1.67052210e-03, 3.77788283e-03, 2.36214208e-03, 7.96561319e-03,\n        2.25867155e-03, 1.96469968e-03, 4.09727693e-03, 4.05986487e-03,\n        4.56443822e-03, 4.36453738e-03, 3.49488396e-03, 3.23621082e-03,\n        1.78264572e-03, 2.12523397e-03, 3.71754913e-03, 3.07935830e-03,\n        3.36906130e-03, 3.21292937e-03, 1.89008613e-03, 2.31156298e-03,\n        3.19430610e-03, 5.75549060e-03, 3.06698086e-03, 2.48926057e-03,\n        1.99759129e-03, 3.14279861e-03, 3.07159086e-03, 3.16079429e-03,\n        3.77540070e-03, 3.16764607e-03, 5.32851970e-03, 3.13567530e-03,\n        1.61237144e-03, 2.54243128e-03, 2.27328674e-03, 6.41745727e-03,\n        3.66439307e-03, 3.10302088e-03, 2.21732233e-03, 8.96328849e-03,\n        4.99421568e-03, 5.51326056e-03, 3.26856378e-03, 5.12961354e-03,\n        3.30827891e-03, 1.59974004e-03, 3.78920356e-03, 3.11284326e-03,\n        2.56031894e-03, 1.96233596e-03, 1.57199699e-03, 3.33407678e-03,\n        3.22716503e-03, 3.07358059e-03, 3.41054619e-03, 1.70839036e-03,\n        2.17496182e-03, 2.40386159e-04, 2.81993420e-03, 2.51023281e-03,\n        2.68482396e-03, 3.42526904e-03, 1.90911452e-03, 2.13258935e-03,\n        1.84504094e-03, 1.60583334e-03, 2.07998064e-03, 2.60672589e-03,\n        1.99211177e-03, 3.02575636e-03, 1.94705587e-03, 2.99451094e-03,\n        1.47212052e-03, 6.77329708e-03, 2.33140781e-03, 1.33502858e-04,\n        4.50145539e-03, 1.94152654e-03, 1.69166080e-03, 2.03616984e-03,\n        7.29599568e-04, 2.07821134e-03, 2.16387620e-03, 3.08189332e-03,\n        2.60158518e-03, 2.91124957e-03, 2.18253058e-03, 1.66438738e-03,\n        1.80915524e-04, 2.02765396e-03, 1.52905285e-03, 3.95731455e-03,\n        1.93416985e-03, 1.59800559e-03, 4.69104358e-03, 3.40688295e-03,\n        5.87042162e-03, 8.77040614e-03, 3.64619989e-03, 2.04766724e-03,\n        1.33156046e-03, 4.11244740e-03, 2.68275131e-03, 3.18845063e-03,\n        7.60981788e-03, 2.96590206e-03, 2.00267016e-03, 3.06618868e-03,\n        2.72781306e-03, 2.25768321e-03, 1.83704311e-03, 1.96051276e-03,\n        2.14786589e-03, 1.71408245e-03, 2.11969312e-03, 2.65050653e-03,\n        1.44944258e-03, 3.11325902e-03, 2.49047027e-03, 8.94171905e-03,\n        5.50231177e-03, 1.59223942e-03, 2.36569920e-03, 2.42133245e-03,\n        2.03815163e-03, 2.14389454e-03, 2.94621963e-03, 2.11167110e-03,\n        5.36998672e-05, 3.53590888e-03, 2.20666749e-03, 2.54485203e-03,\n        3.71415292e-03, 1.58002844e-03, 2.01185132e-03, 4.07739508e-03,\n        2.19123626e-03, 3.31595338e-03, 2.61107774e-03, 2.75145895e-03,\n        2.22125408e-03, 2.77246685e-03]),\n 'param_max_depth': masked_array(data=[4, 4, 4, 4, 4, 4, 4, 4, 4, 4, 4, 4, 4, 4, 4, 4, 4, 4,\n                    4, 4, 4, 4, 4, 4, 4, 4, 4, 4, 4, 4, 4, 4, 4, 4, 4, 4,\n                    4, 4, 4, 4, 4, 4, 4, 4, 4, 4, 4, 4, 4, 4, 4, 4, 4, 4,\n                    4, 4, 4, 4, 4, 4, 4, 4, 5, 5, 5, 5, 5, 5, 5, 5, 5, 5,\n                    5, 5, 5, 5, 5, 5, 5, 5, 5, 5, 5, 5, 5, 5, 5, 5, 5, 5,\n                    5, 5, 5, 5, 5, 5, 5, 5, 5, 5, 5, 5, 5, 5, 5, 5, 5, 5,\n                    5, 5, 5, 5, 5, 5, 5, 5, 5, 5, 5, 5, 5, 5, 5, 5, 6, 6,\n                    6, 6, 6, 6, 6, 6, 6, 6, 6, 6, 6, 6, 6, 6, 6, 6, 6, 6,\n                    6, 6, 6, 6, 6, 6, 6, 6, 6, 6, 6, 6, 6, 6, 6, 6, 6, 6,\n                    6, 6, 6, 6, 6, 6, 6, 6, 6, 6, 6, 6, 6, 6, 6, 6, 6, 6,\n                    6, 6, 6, 6, 6, 6, 7, 7, 7, 7, 7, 7, 7, 7, 7, 7, 7, 7,\n                    7, 7, 7, 7, 7, 7, 7, 7, 7, 7, 7, 7, 7, 7, 7, 7, 7, 7,\n                    7, 7, 7, 7, 7, 7, 7, 7, 7, 7, 7, 7, 7, 7, 7, 7, 7, 7,\n                    7, 7, 7, 7, 7, 7, 7, 7, 7, 7, 7, 7, 7, 7, 8, 8, 8, 8,\n                    8, 8, 8, 8, 8, 8, 8, 8, 8, 8, 8, 8, 8, 8, 8, 8, 8, 8,\n                    8, 8, 8, 8, 8, 8, 8, 8, 8, 8, 8, 8, 8, 8, 8, 8, 8, 8,\n                    8, 8, 8, 8, 8, 8, 8, 8, 8, 8, 8, 8, 8, 8, 8, 8, 8, 8,\n                    8, 8, 8, 8],\n              mask=[False, False, False, False, False, False, False, False,\n                    False, False, False, False, False, False, False, False,\n                    False, False, False, False, False, False, False, False,\n                    False, False, False, False, False, False, False, False,\n                    False, False, False, False, False, False, False, False,\n                    False, False, False, False, False, False, False, False,\n                    False, False, False, False, False, False, False, False,\n                    False, False, False, False, False, False, False, False,\n                    False, False, False, False, False, False, False, False,\n                    False, False, False, False, False, False, False, False,\n                    False, False, False, False, False, False, False, False,\n                    False, False, False, False, False, False, False, False,\n                    False, False, False, False, False, False, False, False,\n                    False, False, False, False, False, False, False, False,\n                    False, False, False, False, False, False, False, False,\n                    False, False, False, False, False, False, False, False,\n                    False, False, False, False, False, False, False, False,\n                    False, False, False, False, False, False, False, False,\n                    False, False, False, False, False, False, False, False,\n                    False, False, False, False, False, False, False, False,\n                    False, False, False, False, False, False, False, False,\n                    False, False, False, False, False, False, False, False,\n                    False, False, False, False, False, False, False, False,\n                    False, False, False, False, False, False, False, False,\n                    False, False, False, False, False, False, False, False,\n                    False, False, False, False, False, False, False, False,\n                    False, False, False, False, False, False, False, False,\n                    False, False, False, False, False, False, False, False,\n                    False, False, False, False, False, False, False, False,\n                    False, False, False, False, False, False, False, False,\n                    False, False, False, False, False, False, False, False,\n                    False, False, False, False, False, False, False, False,\n                    False, False, False, False, False, False, False, False,\n                    False, False, False, False, False, False, False, False,\n                    False, False, False, False, False, False, False, False,\n                    False, False, False, False, False, False, False, False,\n                    False, False, False, False, False, False, False, False,\n                    False, False, False, False, False, False, False, False,\n                    False, False, False, False, False, False],\n        fill_value='?',\n             dtype=object),\n 'param_min_samples_split': masked_array(data=[38, 39, 40, 41, 42, 43, 44, 45, 46, 47, 48, 49, 50, 51,\n                    52, 53, 54, 55, 56, 57, 58, 59, 60, 61, 62, 63, 64, 65,\n                    66, 67, 68, 69, 70, 71, 72, 73, 74, 75, 76, 77, 78, 79,\n                    80, 81, 82, 83, 84, 85, 86, 87, 88, 89, 90, 91, 92, 93,\n                    94, 95, 96, 97, 98, 99, 38, 39, 40, 41, 42, 43, 44, 45,\n                    46, 47, 48, 49, 50, 51, 52, 53, 54, 55, 56, 57, 58, 59,\n                    60, 61, 62, 63, 64, 65, 66, 67, 68, 69, 70, 71, 72, 73,\n                    74, 75, 76, 77, 78, 79, 80, 81, 82, 83, 84, 85, 86, 87,\n                    88, 89, 90, 91, 92, 93, 94, 95, 96, 97, 98, 99, 38, 39,\n                    40, 41, 42, 43, 44, 45, 46, 47, 48, 49, 50, 51, 52, 53,\n                    54, 55, 56, 57, 58, 59, 60, 61, 62, 63, 64, 65, 66, 67,\n                    68, 69, 70, 71, 72, 73, 74, 75, 76, 77, 78, 79, 80, 81,\n                    82, 83, 84, 85, 86, 87, 88, 89, 90, 91, 92, 93, 94, 95,\n                    96, 97, 98, 99, 38, 39, 40, 41, 42, 43, 44, 45, 46, 47,\n                    48, 49, 50, 51, 52, 53, 54, 55, 56, 57, 58, 59, 60, 61,\n                    62, 63, 64, 65, 66, 67, 68, 69, 70, 71, 72, 73, 74, 75,\n                    76, 77, 78, 79, 80, 81, 82, 83, 84, 85, 86, 87, 88, 89,\n                    90, 91, 92, 93, 94, 95, 96, 97, 98, 99, 38, 39, 40, 41,\n                    42, 43, 44, 45, 46, 47, 48, 49, 50, 51, 52, 53, 54, 55,\n                    56, 57, 58, 59, 60, 61, 62, 63, 64, 65, 66, 67, 68, 69,\n                    70, 71, 72, 73, 74, 75, 76, 77, 78, 79, 80, 81, 82, 83,\n                    84, 85, 86, 87, 88, 89, 90, 91, 92, 93, 94, 95, 96, 97,\n                    98, 99],\n              mask=[False, False, False, False, False, False, False, False,\n                    False, False, False, False, False, False, False, False,\n                    False, False, False, False, False, False, False, False,\n                    False, False, False, False, False, False, False, False,\n                    False, False, False, False, False, False, False, False,\n                    False, False, False, False, False, False, False, False,\n                    False, False, False, False, False, False, False, False,\n                    False, False, False, False, False, False, False, False,\n                    False, False, False, False, False, False, False, False,\n                    False, False, False, False, False, False, False, False,\n                    False, False, False, False, False, False, False, False,\n                    False, False, False, False, False, False, False, False,\n                    False, False, False, False, False, False, False, False,\n                    False, False, False, False, False, False, False, False,\n                    False, False, False, False, False, False, False, False,\n                    False, False, False, False, False, False, False, False,\n                    False, False, False, False, False, False, False, False,\n                    False, False, False, False, False, False, False, False,\n                    False, False, False, False, False, False, False, False,\n                    False, False, False, False, False, False, False, False,\n                    False, False, False, False, False, False, False, False,\n                    False, False, False, False, False, False, False, False,\n                    False, False, False, False, False, False, False, False,\n                    False, False, False, False, False, False, False, False,\n                    False, False, False, False, False, False, False, False,\n                    False, False, False, False, False, False, False, False,\n                    False, False, False, False, False, False, False, False,\n                    False, False, False, False, False, False, False, False,\n                    False, False, False, False, False, False, False, False,\n                    False, False, False, False, False, False, False, False,\n                    False, False, False, False, False, False, False, False,\n                    False, False, False, False, False, False, False, False,\n                    False, False, False, False, False, False, False, False,\n                    False, False, False, False, False, False, False, False,\n                    False, False, False, False, False, False, False, False,\n                    False, False, False, False, False, False, False, False,\n                    False, False, False, False, False, False, False, False,\n                    False, False, False, False, False, False, False, False,\n                    False, False, False, False, False, False],\n        fill_value='?',\n             dtype=object),\n 'params': [{'max_depth': 4, 'min_samples_split': 38},\n  {'max_depth': 4, 'min_samples_split': 39},\n  {'max_depth': 4, 'min_samples_split': 40},\n  {'max_depth': 4, 'min_samples_split': 41},\n  {'max_depth': 4, 'min_samples_split': 42},\n  {'max_depth': 4, 'min_samples_split': 43},\n  {'max_depth': 4, 'min_samples_split': 44},\n  {'max_depth': 4, 'min_samples_split': 45},\n  {'max_depth': 4, 'min_samples_split': 46},\n  {'max_depth': 4, 'min_samples_split': 47},\n  {'max_depth': 4, 'min_samples_split': 48},\n  {'max_depth': 4, 'min_samples_split': 49},\n  {'max_depth': 4, 'min_samples_split': 50},\n  {'max_depth': 4, 'min_samples_split': 51},\n  {'max_depth': 4, 'min_samples_split': 52},\n  {'max_depth': 4, 'min_samples_split': 53},\n  {'max_depth': 4, 'min_samples_split': 54},\n  {'max_depth': 4, 'min_samples_split': 55},\n  {'max_depth': 4, 'min_samples_split': 56},\n  {'max_depth': 4, 'min_samples_split': 57},\n  {'max_depth': 4, 'min_samples_split': 58},\n  {'max_depth': 4, 'min_samples_split': 59},\n  {'max_depth': 4, 'min_samples_split': 60},\n  {'max_depth': 4, 'min_samples_split': 61},\n  {'max_depth': 4, 'min_samples_split': 62},\n  {'max_depth': 4, 'min_samples_split': 63},\n  {'max_depth': 4, 'min_samples_split': 64},\n  {'max_depth': 4, 'min_samples_split': 65},\n  {'max_depth': 4, 'min_samples_split': 66},\n  {'max_depth': 4, 'min_samples_split': 67},\n  {'max_depth': 4, 'min_samples_split': 68},\n  {'max_depth': 4, 'min_samples_split': 69},\n  {'max_depth': 4, 'min_samples_split': 70},\n  {'max_depth': 4, 'min_samples_split': 71},\n  {'max_depth': 4, 'min_samples_split': 72},\n  {'max_depth': 4, 'min_samples_split': 73},\n  {'max_depth': 4, 'min_samples_split': 74},\n  {'max_depth': 4, 'min_samples_split': 75},\n  {'max_depth': 4, 'min_samples_split': 76},\n  {'max_depth': 4, 'min_samples_split': 77},\n  {'max_depth': 4, 'min_samples_split': 78},\n  {'max_depth': 4, 'min_samples_split': 79},\n  {'max_depth': 4, 'min_samples_split': 80},\n  {'max_depth': 4, 'min_samples_split': 81},\n  {'max_depth': 4, 'min_samples_split': 82},\n  {'max_depth': 4, 'min_samples_split': 83},\n  {'max_depth': 4, 'min_samples_split': 84},\n  {'max_depth': 4, 'min_samples_split': 85},\n  {'max_depth': 4, 'min_samples_split': 86},\n  {'max_depth': 4, 'min_samples_split': 87},\n  {'max_depth': 4, 'min_samples_split': 88},\n  {'max_depth': 4, 'min_samples_split': 89},\n  {'max_depth': 4, 'min_samples_split': 90},\n  {'max_depth': 4, 'min_samples_split': 91},\n  {'max_depth': 4, 'min_samples_split': 92},\n  {'max_depth': 4, 'min_samples_split': 93},\n  {'max_depth': 4, 'min_samples_split': 94},\n  {'max_depth': 4, 'min_samples_split': 95},\n  {'max_depth': 4, 'min_samples_split': 96},\n  {'max_depth': 4, 'min_samples_split': 97},\n  {'max_depth': 4, 'min_samples_split': 98},\n  {'max_depth': 4, 'min_samples_split': 99},\n  {'max_depth': 5, 'min_samples_split': 38},\n  {'max_depth': 5, 'min_samples_split': 39},\n  {'max_depth': 5, 'min_samples_split': 40},\n  {'max_depth': 5, 'min_samples_split': 41},\n  {'max_depth': 5, 'min_samples_split': 42},\n  {'max_depth': 5, 'min_samples_split': 43},\n  {'max_depth': 5, 'min_samples_split': 44},\n  {'max_depth': 5, 'min_samples_split': 45},\n  {'max_depth': 5, 'min_samples_split': 46},\n  {'max_depth': 5, 'min_samples_split': 47},\n  {'max_depth': 5, 'min_samples_split': 48},\n  {'max_depth': 5, 'min_samples_split': 49},\n  {'max_depth': 5, 'min_samples_split': 50},\n  {'max_depth': 5, 'min_samples_split': 51},\n  {'max_depth': 5, 'min_samples_split': 52},\n  {'max_depth': 5, 'min_samples_split': 53},\n  {'max_depth': 5, 'min_samples_split': 54},\n  {'max_depth': 5, 'min_samples_split': 55},\n  {'max_depth': 5, 'min_samples_split': 56},\n  {'max_depth': 5, 'min_samples_split': 57},\n  {'max_depth': 5, 'min_samples_split': 58},\n  {'max_depth': 5, 'min_samples_split': 59},\n  {'max_depth': 5, 'min_samples_split': 60},\n  {'max_depth': 5, 'min_samples_split': 61},\n  {'max_depth': 5, 'min_samples_split': 62},\n  {'max_depth': 5, 'min_samples_split': 63},\n  {'max_depth': 5, 'min_samples_split': 64},\n  {'max_depth': 5, 'min_samples_split': 65},\n  {'max_depth': 5, 'min_samples_split': 66},\n  {'max_depth': 5, 'min_samples_split': 67},\n  {'max_depth': 5, 'min_samples_split': 68},\n  {'max_depth': 5, 'min_samples_split': 69},\n  {'max_depth': 5, 'min_samples_split': 70},\n  {'max_depth': 5, 'min_samples_split': 71},\n  {'max_depth': 5, 'min_samples_split': 72},\n  {'max_depth': 5, 'min_samples_split': 73},\n  {'max_depth': 5, 'min_samples_split': 74},\n  {'max_depth': 5, 'min_samples_split': 75},\n  {'max_depth': 5, 'min_samples_split': 76},\n  {'max_depth': 5, 'min_samples_split': 77},\n  {'max_depth': 5, 'min_samples_split': 78},\n  {'max_depth': 5, 'min_samples_split': 79},\n  {'max_depth': 5, 'min_samples_split': 80},\n  {'max_depth': 5, 'min_samples_split': 81},\n  {'max_depth': 5, 'min_samples_split': 82},\n  {'max_depth': 5, 'min_samples_split': 83},\n  {'max_depth': 5, 'min_samples_split': 84},\n  {'max_depth': 5, 'min_samples_split': 85},\n  {'max_depth': 5, 'min_samples_split': 86},\n  {'max_depth': 5, 'min_samples_split': 87},\n  {'max_depth': 5, 'min_samples_split': 88},\n  {'max_depth': 5, 'min_samples_split': 89},\n  {'max_depth': 5, 'min_samples_split': 90},\n  {'max_depth': 5, 'min_samples_split': 91},\n  {'max_depth': 5, 'min_samples_split': 92},\n  {'max_depth': 5, 'min_samples_split': 93},\n  {'max_depth': 5, 'min_samples_split': 94},\n  {'max_depth': 5, 'min_samples_split': 95},\n  {'max_depth': 5, 'min_samples_split': 96},\n  {'max_depth': 5, 'min_samples_split': 97},\n  {'max_depth': 5, 'min_samples_split': 98},\n  {'max_depth': 5, 'min_samples_split': 99},\n  {'max_depth': 6, 'min_samples_split': 38},\n  {'max_depth': 6, 'min_samples_split': 39},\n  {'max_depth': 6, 'min_samples_split': 40},\n  {'max_depth': 6, 'min_samples_split': 41},\n  {'max_depth': 6, 'min_samples_split': 42},\n  {'max_depth': 6, 'min_samples_split': 43},\n  {'max_depth': 6, 'min_samples_split': 44},\n  {'max_depth': 6, 'min_samples_split': 45},\n  {'max_depth': 6, 'min_samples_split': 46},\n  {'max_depth': 6, 'min_samples_split': 47},\n  {'max_depth': 6, 'min_samples_split': 48},\n  {'max_depth': 6, 'min_samples_split': 49},\n  {'max_depth': 6, 'min_samples_split': 50},\n  {'max_depth': 6, 'min_samples_split': 51},\n  {'max_depth': 6, 'min_samples_split': 52},\n  {'max_depth': 6, 'min_samples_split': 53},\n  {'max_depth': 6, 'min_samples_split': 54},\n  {'max_depth': 6, 'min_samples_split': 55},\n  {'max_depth': 6, 'min_samples_split': 56},\n  {'max_depth': 6, 'min_samples_split': 57},\n  {'max_depth': 6, 'min_samples_split': 58},\n  {'max_depth': 6, 'min_samples_split': 59},\n  {'max_depth': 6, 'min_samples_split': 60},\n  {'max_depth': 6, 'min_samples_split': 61},\n  {'max_depth': 6, 'min_samples_split': 62},\n  {'max_depth': 6, 'min_samples_split': 63},\n  {'max_depth': 6, 'min_samples_split': 64},\n  {'max_depth': 6, 'min_samples_split': 65},\n  {'max_depth': 6, 'min_samples_split': 66},\n  {'max_depth': 6, 'min_samples_split': 67},\n  {'max_depth': 6, 'min_samples_split': 68},\n  {'max_depth': 6, 'min_samples_split': 69},\n  {'max_depth': 6, 'min_samples_split': 70},\n  {'max_depth': 6, 'min_samples_split': 71},\n  {'max_depth': 6, 'min_samples_split': 72},\n  {'max_depth': 6, 'min_samples_split': 73},\n  {'max_depth': 6, 'min_samples_split': 74},\n  {'max_depth': 6, 'min_samples_split': 75},\n  {'max_depth': 6, 'min_samples_split': 76},\n  {'max_depth': 6, 'min_samples_split': 77},\n  {'max_depth': 6, 'min_samples_split': 78},\n  {'max_depth': 6, 'min_samples_split': 79},\n  {'max_depth': 6, 'min_samples_split': 80},\n  {'max_depth': 6, 'min_samples_split': 81},\n  {'max_depth': 6, 'min_samples_split': 82},\n  {'max_depth': 6, 'min_samples_split': 83},\n  {'max_depth': 6, 'min_samples_split': 84},\n  {'max_depth': 6, 'min_samples_split': 85},\n  {'max_depth': 6, 'min_samples_split': 86},\n  {'max_depth': 6, 'min_samples_split': 87},\n  {'max_depth': 6, 'min_samples_split': 88},\n  {'max_depth': 6, 'min_samples_split': 89},\n  {'max_depth': 6, 'min_samples_split': 90},\n  {'max_depth': 6, 'min_samples_split': 91},\n  {'max_depth': 6, 'min_samples_split': 92},\n  {'max_depth': 6, 'min_samples_split': 93},\n  {'max_depth': 6, 'min_samples_split': 94},\n  {'max_depth': 6, 'min_samples_split': 95},\n  {'max_depth': 6, 'min_samples_split': 96},\n  {'max_depth': 6, 'min_samples_split': 97},\n  {'max_depth': 6, 'min_samples_split': 98},\n  {'max_depth': 6, 'min_samples_split': 99},\n  {'max_depth': 7, 'min_samples_split': 38},\n  {'max_depth': 7, 'min_samples_split': 39},\n  {'max_depth': 7, 'min_samples_split': 40},\n  {'max_depth': 7, 'min_samples_split': 41},\n  {'max_depth': 7, 'min_samples_split': 42},\n  {'max_depth': 7, 'min_samples_split': 43},\n  {'max_depth': 7, 'min_samples_split': 44},\n  {'max_depth': 7, 'min_samples_split': 45},\n  {'max_depth': 7, 'min_samples_split': 46},\n  {'max_depth': 7, 'min_samples_split': 47},\n  {'max_depth': 7, 'min_samples_split': 48},\n  {'max_depth': 7, 'min_samples_split': 49},\n  {'max_depth': 7, 'min_samples_split': 50},\n  {'max_depth': 7, 'min_samples_split': 51},\n  {'max_depth': 7, 'min_samples_split': 52},\n  {'max_depth': 7, 'min_samples_split': 53},\n  {'max_depth': 7, 'min_samples_split': 54},\n  {'max_depth': 7, 'min_samples_split': 55},\n  {'max_depth': 7, 'min_samples_split': 56},\n  {'max_depth': 7, 'min_samples_split': 57},\n  {'max_depth': 7, 'min_samples_split': 58},\n  {'max_depth': 7, 'min_samples_split': 59},\n  {'max_depth': 7, 'min_samples_split': 60},\n  {'max_depth': 7, 'min_samples_split': 61},\n  {'max_depth': 7, 'min_samples_split': 62},\n  {'max_depth': 7, 'min_samples_split': 63},\n  {'max_depth': 7, 'min_samples_split': 64},\n  {'max_depth': 7, 'min_samples_split': 65},\n  {'max_depth': 7, 'min_samples_split': 66},\n  {'max_depth': 7, 'min_samples_split': 67},\n  {'max_depth': 7, 'min_samples_split': 68},\n  {'max_depth': 7, 'min_samples_split': 69},\n  {'max_depth': 7, 'min_samples_split': 70},\n  {'max_depth': 7, 'min_samples_split': 71},\n  {'max_depth': 7, 'min_samples_split': 72},\n  {'max_depth': 7, 'min_samples_split': 73},\n  {'max_depth': 7, 'min_samples_split': 74},\n  {'max_depth': 7, 'min_samples_split': 75},\n  {'max_depth': 7, 'min_samples_split': 76},\n  {'max_depth': 7, 'min_samples_split': 77},\n  {'max_depth': 7, 'min_samples_split': 78},\n  {'max_depth': 7, 'min_samples_split': 79},\n  {'max_depth': 7, 'min_samples_split': 80},\n  {'max_depth': 7, 'min_samples_split': 81},\n  {'max_depth': 7, 'min_samples_split': 82},\n  {'max_depth': 7, 'min_samples_split': 83},\n  {'max_depth': 7, 'min_samples_split': 84},\n  {'max_depth': 7, 'min_samples_split': 85},\n  {'max_depth': 7, 'min_samples_split': 86},\n  {'max_depth': 7, 'min_samples_split': 87},\n  {'max_depth': 7, 'min_samples_split': 88},\n  {'max_depth': 7, 'min_samples_split': 89},\n  {'max_depth': 7, 'min_samples_split': 90},\n  {'max_depth': 7, 'min_samples_split': 91},\n  {'max_depth': 7, 'min_samples_split': 92},\n  {'max_depth': 7, 'min_samples_split': 93},\n  {'max_depth': 7, 'min_samples_split': 94},\n  {'max_depth': 7, 'min_samples_split': 95},\n  {'max_depth': 7, 'min_samples_split': 96},\n  {'max_depth': 7, 'min_samples_split': 97},\n  {'max_depth': 7, 'min_samples_split': 98},\n  {'max_depth': 7, 'min_samples_split': 99},\n  {'max_depth': 8, 'min_samples_split': 38},\n  {'max_depth': 8, 'min_samples_split': 39},\n  {'max_depth': 8, 'min_samples_split': 40},\n  {'max_depth': 8, 'min_samples_split': 41},\n  {'max_depth': 8, 'min_samples_split': 42},\n  {'max_depth': 8, 'min_samples_split': 43},\n  {'max_depth': 8, 'min_samples_split': 44},\n  {'max_depth': 8, 'min_samples_split': 45},\n  {'max_depth': 8, 'min_samples_split': 46},\n  {'max_depth': 8, 'min_samples_split': 47},\n  {'max_depth': 8, 'min_samples_split': 48},\n  {'max_depth': 8, 'min_samples_split': 49},\n  {'max_depth': 8, 'min_samples_split': 50},\n  {'max_depth': 8, 'min_samples_split': 51},\n  {'max_depth': 8, 'min_samples_split': 52},\n  {'max_depth': 8, 'min_samples_split': 53},\n  {'max_depth': 8, 'min_samples_split': 54},\n  {'max_depth': 8, 'min_samples_split': 55},\n  {'max_depth': 8, 'min_samples_split': 56},\n  {'max_depth': 8, 'min_samples_split': 57},\n  {'max_depth': 8, 'min_samples_split': 58},\n  {'max_depth': 8, 'min_samples_split': 59},\n  {'max_depth': 8, 'min_samples_split': 60},\n  {'max_depth': 8, 'min_samples_split': 61},\n  {'max_depth': 8, 'min_samples_split': 62},\n  {'max_depth': 8, 'min_samples_split': 63},\n  {'max_depth': 8, 'min_samples_split': 64},\n  {'max_depth': 8, 'min_samples_split': 65},\n  {'max_depth': 8, 'min_samples_split': 66},\n  {'max_depth': 8, 'min_samples_split': 67},\n  {'max_depth': 8, 'min_samples_split': 68},\n  {'max_depth': 8, 'min_samples_split': 69},\n  {'max_depth': 8, 'min_samples_split': 70},\n  {'max_depth': 8, 'min_samples_split': 71},\n  {'max_depth': 8, 'min_samples_split': 72},\n  {'max_depth': 8, 'min_samples_split': 73},\n  {'max_depth': 8, 'min_samples_split': 74},\n  {'max_depth': 8, 'min_samples_split': 75},\n  {'max_depth': 8, 'min_samples_split': 76},\n  {'max_depth': 8, 'min_samples_split': 77},\n  {'max_depth': 8, 'min_samples_split': 78},\n  {'max_depth': 8, 'min_samples_split': 79},\n  {'max_depth': 8, 'min_samples_split': 80},\n  {'max_depth': 8, 'min_samples_split': 81},\n  {'max_depth': 8, 'min_samples_split': 82},\n  {'max_depth': 8, 'min_samples_split': 83},\n  {'max_depth': 8, 'min_samples_split': 84},\n  {'max_depth': 8, 'min_samples_split': 85},\n  {'max_depth': 8, 'min_samples_split': 86},\n  {'max_depth': 8, 'min_samples_split': 87},\n  {'max_depth': 8, 'min_samples_split': 88},\n  {'max_depth': 8, 'min_samples_split': 89},\n  {'max_depth': 8, 'min_samples_split': 90},\n  {'max_depth': 8, 'min_samples_split': 91},\n  {'max_depth': 8, 'min_samples_split': 92},\n  {'max_depth': 8, 'min_samples_split': 93},\n  {'max_depth': 8, 'min_samples_split': 94},\n  {'max_depth': 8, 'min_samples_split': 95},\n  {'max_depth': 8, 'min_samples_split': 96},\n  {'max_depth': 8, 'min_samples_split': 97},\n  {'max_depth': 8, 'min_samples_split': 98},\n  {'max_depth': 8, 'min_samples_split': 99}],\n 'split0_test_score': array([-0.59378556, -0.59378556, -0.59378556, -0.59378556, -0.59378556,\n        -0.59378556, -0.59378556, -0.59378556, -0.59378556, -0.59378556,\n        -0.59378556, -0.59378556, -0.59378556, -0.58929073, -0.58929073,\n        -0.58929073, -0.58929073, -0.58929073, -0.58929073, -0.58929073,\n        -0.58929073, -0.58929073, -0.58929073, -0.58929073, -0.58929073,\n        -0.58929073, -0.58929073, -0.58929073, -0.58929073, -0.58929073,\n        -0.58929073, -0.58929073, -0.58929073, -0.58929073, -0.58929073,\n        -0.58929073, -0.58929073, -0.58929073, -0.58929073, -0.58929073,\n        -0.58929073, -0.58929073, -0.58929073, -0.58929073, -0.58929073,\n        -0.58929073, -0.58929073, -0.58929073, -0.58929073, -0.58929073,\n        -0.58929073, -0.58929073, -0.58929073, -0.58929073, -0.58929073,\n        -0.58929073, -0.58929073, -0.58929073, -0.58929073, -0.58929073,\n        -0.58929073, -0.58929073, -0.57370211, -0.57370211, -0.57370211,\n        -0.57370211, -0.57370211, -0.57370211, -0.57370211, -0.57370211,\n        -0.57370211, -0.57370211, -0.57370211, -0.57370211, -0.57370211,\n        -0.56920729, -0.56920729, -0.56920729, -0.56920729, -0.56920729,\n        -0.56920729, -0.56929351, -0.56929351, -0.56929351, -0.56929351,\n        -0.56929351, -0.56929351, -0.56929351, -0.56929351, -0.56929351,\n        -0.56929351, -0.56929351, -0.56929351, -0.56929351, -0.56929351,\n        -0.56929351, -0.56929351, -0.56929351, -0.56929351, -0.56929351,\n        -0.56929351, -0.56929351, -0.56929351, -0.56929351, -0.56929351,\n        -0.56929351, -0.56929351, -0.56929351, -0.57087177, -0.57087177,\n        -0.57087177, -0.57087177, -0.57087177, -0.57087177, -0.57087177,\n        -0.57087177, -0.57087177, -0.57087177, -0.57087177, -0.57087177,\n        -0.57087177, -0.57087177, -0.57087177, -0.57087177, -0.57792761,\n        -0.57792761, -0.57792761, -0.57792761, -0.57792761, -0.57792761,\n        -0.57792761, -0.57792761, -0.57792761, -0.57789992, -0.57789992,\n        -0.57789992, -0.57789992, -0.5734051 , -0.5734051 , -0.5734051 ,\n        -0.57182939, -0.57182939, -0.57182939, -0.57191561, -0.57191561,\n        -0.57191561, -0.57191561, -0.5715426 , -0.56704198, -0.56704198,\n        -0.56704198, -0.56704198, -0.56704198, -0.562431  , -0.562431  ,\n        -0.56056773, -0.56056773, -0.56056773, -0.56056773, -0.56056773,\n        -0.56056773, -0.56056773, -0.56056773, -0.56056773, -0.56056773,\n        -0.56056773, -0.56056773, -0.56056773, -0.56056773, -0.56056773,\n        -0.56214599, -0.56214599, -0.56214599, -0.56214599, -0.56214599,\n        -0.56214599, -0.56214599, -0.56214599, -0.56214599, -0.56214599,\n        -0.56214599, -0.56214599, -0.56214599, -0.56214599, -0.56214599,\n        -0.56214599, -0.57227435, -0.57227435, -0.57227435, -0.57227435,\n        -0.5722419 , -0.5722419 , -0.5722419 , -0.5722419 , -0.5722419 ,\n        -0.57221422, -0.56958147, -0.57283883, -0.57283883, -0.57175797,\n        -0.57175797, -0.57175797, -0.57018226, -0.57018226, -0.57018226,\n        -0.57026847, -0.57026847, -0.57423434, -0.57375207, -0.57337907,\n        -0.56887845, -0.56887845, -0.56887845, -0.56887845, -0.56887845,\n        -0.56426747, -0.56426747, -0.5624042 , -0.5624042 , -0.5624042 ,\n        -0.5624042 , -0.5624042 , -0.5624042 , -0.5624042 , -0.5624042 ,\n        -0.55976085, -0.55976085, -0.55976085, -0.55976085, -0.55976085,\n        -0.55976085, -0.55976085, -0.56133911, -0.56133911, -0.56133911,\n        -0.56133911, -0.56133911, -0.56133911, -0.56151562, -0.56151562,\n        -0.56151562, -0.56151562, -0.56151562, -0.56151562, -0.56151562,\n        -0.56151562, -0.56151562, -0.56151562, -0.57475306, -0.57508178,\n        -0.57508178, -0.57639156, -0.5763591 , -0.5763591 , -0.5763591 ,\n        -0.57548852, -0.57567978, -0.57565209, -0.57301934, -0.5762767 ,\n        -0.57925581, -0.57817495, -0.57817495, -0.57766417, -0.57608846,\n        -0.57608846, -0.57608846, -0.57617467, -0.57471149, -0.57867735,\n        -0.57819509, -0.57782208, -0.57332146, -0.57332146, -0.57332146,\n        -0.57332146, -0.57332146, -0.56871048, -0.56871048, -0.56684722,\n        -0.56153443, -0.56153443, -0.56153443, -0.56153443, -0.56153443,\n        -0.56153443, -0.56153443, -0.55889108, -0.55889108, -0.55889108,\n        -0.55889108, -0.55889108, -0.55889108, -0.55889108, -0.56046933,\n        -0.56046933, -0.56046933, -0.56046933, -0.55712631, -0.55712631,\n        -0.55730281, -0.55730281, -0.55730281, -0.55730281, -0.55730281,\n        -0.55730281, -0.55730281, -0.55730281, -0.55730281, -0.55730281]),\n 'split1_test_score': array([-0.55511567, -0.55511567, -0.55511567, -0.55511567, -0.55511567,\n        -0.55511567, -0.55511567, -0.55511567, -0.55511567, -0.55511567,\n        -0.55511567, -0.55511567, -0.55511567, -0.55511567, -0.55511567,\n        -0.55511567, -0.55511567, -0.55511567, -0.55511567, -0.55511567,\n        -0.55511567, -0.55511567, -0.55511567, -0.55511567, -0.55511567,\n        -0.55511567, -0.55511567, -0.55511567, -0.55511567, -0.55511567,\n        -0.55511567, -0.55511567, -0.55511567, -0.55511567, -0.55511567,\n        -0.55511567, -0.55511567, -0.55511567, -0.55511567, -0.55511567,\n        -0.55511567, -0.55511567, -0.55511567, -0.55511567, -0.55511567,\n        -0.55511567, -0.55511567, -0.55511567, -0.55511567, -0.55511567,\n        -0.55511567, -0.55511567, -0.55511567, -0.55511567, -0.55511567,\n        -0.55511567, -0.55511567, -0.55511567, -0.5533957 , -0.5533957 ,\n        -0.5533957 , -0.5533957 , -0.55255243, -0.55255243, -0.55255243,\n        -0.55255243, -0.55255243, -0.55255243, -0.55255243, -0.55255243,\n        -0.55255243, -0.55255243, -0.55255243, -0.55255243, -0.55255243,\n        -0.55255243, -0.55255243, -0.55255243, -0.55255243, -0.55255243,\n        -0.55255243, -0.55255243, -0.55255243, -0.55255243, -0.55255243,\n        -0.55255243, -0.55255243, -0.55255243, -0.55359037, -0.55354845,\n        -0.55354845, -0.55354845, -0.55354845, -0.55354845, -0.55354845,\n        -0.55354845, -0.55354845, -0.55354845, -0.55354845, -0.55354845,\n        -0.55354845, -0.55354845, -0.55354845, -0.55354845, -0.55354845,\n        -0.55354845, -0.55354845, -0.55354845, -0.55354845, -0.54263637,\n        -0.54263637, -0.54263637, -0.54263637, -0.54263637, -0.54263637,\n        -0.54263637, -0.54263637, -0.54263637, -0.54263637, -0.54263637,\n        -0.5409164 , -0.5409164 , -0.5409164 , -0.5409164 , -0.5569451 ,\n        -0.5569451 , -0.5569451 , -0.5569451 , -0.5569451 , -0.5569451 ,\n        -0.5569451 , -0.5569451 , -0.5569451 , -0.5569451 , -0.5569451 ,\n        -0.5569451 , -0.5569451 , -0.5569451 , -0.5569451 , -0.5569451 ,\n        -0.5569451 , -0.5569451 , -0.55682098, -0.55682098, -0.55682098,\n        -0.55708836, -0.55708836, -0.56615699, -0.56488971, -0.56488971,\n        -0.56596509, -0.56592316, -0.56592316, -0.56592316, -0.56592316,\n        -0.56592316, -0.56592316, -0.56592316, -0.56592316, -0.56592316,\n        -0.56592316, -0.56592316, -0.56592316, -0.56309599, -0.56309599,\n        -0.56309599, -0.56309599, -0.56309599, -0.56309599, -0.56309599,\n        -0.56309599, -0.55218391, -0.55218391, -0.55218391, -0.55218391,\n        -0.55218391, -0.55218391, -0.55218391, -0.55218391, -0.55218391,\n        -0.55218391, -0.55218391, -0.55046394, -0.55046394, -0.55046394,\n        -0.5513922 , -0.55492606, -0.55492606, -0.55429226, -0.55429226,\n        -0.55429226, -0.55429226, -0.55429226, -0.55429226, -0.55429226,\n        -0.55429226, -0.55429226, -0.55429226, -0.55346581, -0.55346581,\n        -0.55346581, -0.55346581, -0.55346581, -0.55346581, -0.55334169,\n        -0.54860298, -0.54860298, -0.54596804, -0.54596804, -0.55503667,\n        -0.55376939, -0.55299431, -0.55406968, -0.55402776, -0.55402776,\n        -0.55402776, -0.55402776, -0.55402776, -0.55629149, -0.55629149,\n        -0.55629149, -0.55629149, -0.55629149, -0.55629149, -0.55629149,\n        -0.55346431, -0.55346431, -0.55346431, -0.55346431, -0.55346431,\n        -0.55346431, -0.55346431, -0.55346431, -0.54255224, -0.54255224,\n        -0.54255224, -0.54255224, -0.54255224, -0.54255224, -0.54255224,\n        -0.54255224, -0.54255224, -0.54255224, -0.54274692, -0.54102695,\n        -0.54102695, -0.54102695, -0.54195521, -0.55387979, -0.55387979,\n        -0.55324599, -0.55324599, -0.55537996, -0.55537996, -0.55537996,\n        -0.55679951, -0.55679951, -0.55679951, -0.55679951, -0.55679951,\n        -0.55597307, -0.55597307, -0.55597307, -0.55597307, -0.55597307,\n        -0.55597307, -0.55584895, -0.55111023, -0.55111023, -0.5484753 ,\n        -0.5484753 , -0.55754393, -0.55627665, -0.56338301, -0.55657694,\n        -0.56441646, -0.56441646, -0.56507307, -0.56507307, -0.56507307,\n        -0.56733679, -0.56733679, -0.56733679, -0.56733679, -0.56733679,\n        -0.56733679, -0.56733679, -0.56450962, -0.56450962, -0.56450962,\n        -0.56402079, -0.56402079, -0.56402079, -0.56055719, -0.56115182,\n        -0.55023974, -0.55023974, -0.54621828, -0.54621828, -0.54621828,\n        -0.54621828, -0.54621828, -0.54621828, -0.54621828, -0.54645817,\n        -0.54665285, -0.54493288, -0.54493288, -0.54493288, -0.54586114]),\n 'split2_test_score': array([-0.61343908, -0.61343908, -0.61343908, -0.61343908, -0.61343908,\n        -0.61343908, -0.61343908, -0.61343908, -0.61343908, -0.61343908,\n        -0.59867275, -0.59867275, -0.59867275, -0.59867275, -0.59867275,\n        -0.59867275, -0.59867275, -0.59867275, -0.59867275, -0.59867275,\n        -0.59867275, -0.59867275, -0.59867275, -0.59867275, -0.59867275,\n        -0.59867275, -0.59867275, -0.59867275, -0.59867275, -0.59867275,\n        -0.59867275, -0.59867275, -0.59867275, -0.59867275, -0.59867275,\n        -0.59867275, -0.59867275, -0.59867275, -0.59867275, -0.59867275,\n        -0.59867275, -0.59867275, -0.59867275, -0.59867275, -0.59867275,\n        -0.59867275, -0.59867275, -0.59867275, -0.59867275, -0.59867275,\n        -0.59867275, -0.59867275, -0.59867275, -0.59867275, -0.59867275,\n        -0.59867275, -0.59867275, -0.59867275, -0.59867275, -0.59867275,\n        -0.59867275, -0.59867275, -0.59183241, -0.59183241, -0.59183241,\n        -0.59183241, -0.59183241, -0.59183241, -0.59183241, -0.59183241,\n        -0.59183241, -0.59183241, -0.57706608, -0.57706608, -0.57706608,\n        -0.57435629, -0.57435629, -0.57435629, -0.57435629, -0.57435629,\n        -0.57435629, -0.57435629, -0.57435629, -0.57435629, -0.57435629,\n        -0.57435629, -0.57435629, -0.57435629, -0.57435629, -0.57435629,\n        -0.57435629, -0.57435629, -0.57435629, -0.57435629, -0.57435629,\n        -0.57435629, -0.57435629, -0.57435629, -0.57435629, -0.57435629,\n        -0.57435629, -0.57435629, -0.57435629, -0.57435629, -0.57435629,\n        -0.57435629, -0.5808571 , -0.5808571 , -0.58372193, -0.58372193,\n        -0.58372193, -0.58372193, -0.58372193, -0.58372193, -0.58372193,\n        -0.58372193, -0.58372193, -0.58372193, -0.58372193, -0.58372193,\n        -0.58372193, -0.58372193, -0.58372193, -0.58372193, -0.57714575,\n        -0.57714575, -0.57714575, -0.57714575, -0.57714575, -0.57058413,\n        -0.57058413, -0.57058413, -0.57058413, -0.57325745, -0.55849111,\n        -0.55849111, -0.55849111, -0.55578132, -0.55578132, -0.55578132,\n        -0.55578132, -0.55578132, -0.55578132, -0.55578132, -0.55578132,\n        -0.55578132, -0.55578132, -0.55578132, -0.55578132, -0.55578132,\n        -0.55578132, -0.55578132, -0.55578132, -0.55578132, -0.55578132,\n        -0.55578132, -0.55578132, -0.55578132, -0.55403935, -0.55403935,\n        -0.55505904, -0.55505904, -0.55646875, -0.55646875, -0.55646875,\n        -0.55646875, -0.55646875, -0.55646875, -0.56296957, -0.56296957,\n        -0.56583439, -0.56583439, -0.56583439, -0.56583439, -0.56583439,\n        -0.56583439, -0.56583439, -0.56583439, -0.56583439, -0.56583439,\n        -0.56583439, -0.56583439, -0.56583439, -0.56583439, -0.56583439,\n        -0.56583439, -0.57658003, -0.57658003, -0.57418672, -0.57418672,\n        -0.57418672, -0.56762509, -0.56762509, -0.56762509, -0.56762509,\n        -0.57029841, -0.55385483, -0.55385483, -0.55385483, -0.55114504,\n        -0.55114504, -0.55114504, -0.55114504, -0.55114504, -0.55114504,\n        -0.55114504, -0.55114504, -0.55114504, -0.54916337, -0.55180302,\n        -0.55180302, -0.55180302, -0.55052003, -0.5494873 , -0.5494873 ,\n        -0.5494873 , -0.5494873 , -0.54941746, -0.54941746, -0.54941746,\n        -0.54767548, -0.54767548, -0.54869517, -0.54869517, -0.55010489,\n        -0.55010489, -0.55010489, -0.54935483, -0.54935483, -0.54935483,\n        -0.55585564, -0.55585564, -0.55872047, -0.55872047, -0.55872047,\n        -0.55872047, -0.55872047, -0.55872047, -0.55872047, -0.55872047,\n        -0.55872047, -0.55872047, -0.55872047, -0.55872047, -0.55872047,\n        -0.55872047, -0.55872047, -0.55872047, -0.59221283, -0.59243691,\n        -0.59004359, -0.59004359, -0.59004359, -0.58348197, -0.58348197,\n        -0.58348197, -0.58348197, -0.58615529, -0.56971171, -0.57150326,\n        -0.57150326, -0.56879348, -0.57254922, -0.57254922, -0.57257373,\n        -0.57257373, -0.57257373, -0.57257373, -0.57257373, -0.57257373,\n        -0.57059205, -0.57323171, -0.57323171, -0.57323171, -0.57194872,\n        -0.57290307, -0.57290307, -0.57290307, -0.57205083, -0.57198099,\n        -0.5712852 , -0.57286861, -0.57112663, -0.57112663, -0.57214632,\n        -0.57214632, -0.57355603, -0.57355603, -0.57355603, -0.57280598,\n        -0.57281598, -0.56855587, -0.57505669, -0.57505669, -0.57792151,\n        -0.57792151, -0.57792151, -0.57792151, -0.57792151, -0.57792151,\n        -0.57792151, -0.5761862 , -0.5761862 , -0.5761862 , -0.5761862 ,\n        -0.5761862 , -0.5652671 , -0.5652671 , -0.5652671 , -0.5652671 ]),\n 'split3_test_score': array([-0.58531695, -0.58531695, -0.58531695, -0.58531695, -0.58531695,\n        -0.58531695, -0.58531695, -0.58531695, -0.58531695, -0.58531695,\n        -0.57939915, -0.57939915, -0.57939915, -0.57939915, -0.57939915,\n        -0.57939915, -0.57939915, -0.57939915, -0.57939915, -0.57939915,\n        -0.57939915, -0.57939915, -0.57939915, -0.57939915, -0.57939915,\n        -0.57939915, -0.57939915, -0.57939915, -0.57939915, -0.57939915,\n        -0.57939915, -0.57939915, -0.57939915, -0.57939915, -0.57939915,\n        -0.57939915, -0.57939915, -0.57939915, -0.57939915, -0.57939915,\n        -0.57939915, -0.57939915, -0.57939915, -0.57939915, -0.57939915,\n        -0.57939915, -0.57939915, -0.57939915, -0.57939915, -0.57939915,\n        -0.57939915, -0.57939915, -0.57939915, -0.57939915, -0.57939915,\n        -0.57939915, -0.57939915, -0.57939915, -0.57939915, -0.57939915,\n        -0.57939915, -0.57939915, -0.57684214, -0.57684214, -0.57684214,\n        -0.57910083, -0.57910083, -0.57910083, -0.57910083, -0.57910083,\n        -0.57910083, -0.57910083, -0.57318303, -0.57318303, -0.57318303,\n        -0.57318303, -0.57318303, -0.56997895, -0.56997895, -0.56997895,\n        -0.56997895, -0.56997895, -0.56997895, -0.56997895, -0.56997895,\n        -0.56997895, -0.56997895, -0.56997895, -0.56997895, -0.56997895,\n        -0.57001586, -0.57001586, -0.57001586, -0.57001586, -0.57001586,\n        -0.57001586, -0.57001586, -0.57001586, -0.57001586, -0.57001586,\n        -0.57001586, -0.57001586, -0.57001586, -0.57001586, -0.57001586,\n        -0.57001586, -0.57001586, -0.57001586, -0.57001586, -0.57001586,\n        -0.57001586, -0.57001586, -0.57001586, -0.57001586, -0.57001586,\n        -0.57001586, -0.57001586, -0.57001586, -0.57001586, -0.57001586,\n        -0.57001586, -0.57001586, -0.57001586, -0.57001586, -0.55940642,\n        -0.56019189, -0.56019189, -0.56245057, -0.56245057, -0.56093602,\n        -0.5642037 , -0.5642037 , -0.5642037 , -0.5642037 , -0.5582859 ,\n        -0.5582859 , -0.5582859 , -0.55707071, -0.55707071, -0.55386663,\n        -0.55386663, -0.55386663, -0.55386663, -0.55386663, -0.55386663,\n        -0.55386663, -0.55386663, -0.55386663, -0.55386663, -0.55386663,\n        -0.55386663, -0.55386663, -0.55390354, -0.55390354, -0.55390354,\n        -0.55390354, -0.55390354, -0.55390354, -0.55390354, -0.55390354,\n        -0.55390354, -0.55390354, -0.55390354, -0.55390354, -0.55390354,\n        -0.55390354, -0.55390354, -0.55390354, -0.55390354, -0.55390354,\n        -0.55390354, -0.55390354, -0.55390354, -0.55390354, -0.55390354,\n        -0.55390354, -0.55390354, -0.55390354, -0.55390354, -0.55390354,\n        -0.55390354, -0.55390354, -0.55390354, -0.55390354, -0.55390354,\n        -0.55390354, -0.57509496, -0.57463811, -0.57463811, -0.57689679,\n        -0.57689679, -0.57538225, -0.57864993, -0.57864993, -0.57864993,\n        -0.57864993, -0.57273213, -0.57273213, -0.57273213, -0.57151693,\n        -0.57151693, -0.56831285, -0.56831285, -0.56831285, -0.56831285,\n        -0.56831285, -0.56831285, -0.56831285, -0.57312682, -0.57312682,\n        -0.57247941, -0.57080575, -0.57080575, -0.57080575, -0.57084266,\n        -0.57084266, -0.57084266, -0.57084266, -0.57084266, -0.57084266,\n        -0.57084266, -0.57084266, -0.57084266, -0.57084266, -0.57084266,\n        -0.57084266, -0.57084266, -0.57084266, -0.57084266, -0.57084266,\n        -0.57084266, -0.57084266, -0.57084266, -0.57084266, -0.57084266,\n        -0.57084266, -0.57084266, -0.57084266, -0.57084266, -0.56692037,\n        -0.56692037, -0.56692037, -0.56692037, -0.56692037, -0.56692037,\n        -0.56692037, -0.56692037, -0.56692037, -0.55570725, -0.55811302,\n        -0.55811302, -0.55750908, -0.55750908, -0.55599454, -0.56212484,\n        -0.56212484, -0.56212484, -0.56212484, -0.55334442, -0.55752741,\n        -0.55752741, -0.55631221, -0.55631221, -0.55024552, -0.55024552,\n        -0.55024552, -0.55024552, -0.55024552, -0.55024552, -0.55024552,\n        -0.55959168, -0.55959168, -0.55608165, -0.55580528, -0.55580528,\n        -0.55580528, -0.5545709 , -0.5545709 , -0.5545709 , -0.5545709 ,\n        -0.5545709 , -0.5545709 , -0.55198996, -0.55198996, -0.55198996,\n        -0.55198996, -0.55444491, -0.55444491, -0.55444491, -0.55444491,\n        -0.55444491, -0.55444491, -0.55444491, -0.55444491, -0.55444491,\n        -0.55444491, -0.55468179, -0.55468179, -0.55468179, -0.55468179,\n        -0.55468179, -0.55075951, -0.55018637, -0.55018637, -0.55018637,\n        -0.55018637, -0.55018637, -0.55018637, -0.55018637, -0.55018637]),\n 'split4_test_score': array([-0.52686624, -0.52686624, -0.52686624, -0.52686624, -0.52686624,\n        -0.52686624, -0.52686624, -0.52686624, -0.52686624, -0.52686624,\n        -0.52686624, -0.53018385, -0.53018385, -0.53018385, -0.53018385,\n        -0.53018385, -0.53018385, -0.53018385, -0.53018385, -0.53018385,\n        -0.53018385, -0.53018385, -0.53018385, -0.53018385, -0.53018385,\n        -0.53018385, -0.53018385, -0.53018385, -0.53018385, -0.53018385,\n        -0.53018385, -0.53018385, -0.53018385, -0.53018385, -0.53018385,\n        -0.53018385, -0.53018385, -0.53018385, -0.53018385, -0.53018385,\n        -0.53018385, -0.53018385, -0.53018385, -0.53018385, -0.53018385,\n        -0.53018385, -0.53018385, -0.53018385, -0.53018385, -0.53018385,\n        -0.53018385, -0.53018385, -0.53018385, -0.53018385, -0.53018385,\n        -0.53018385, -0.53018385, -0.53018385, -0.53018385, -0.53018385,\n        -0.53018385, -0.53018385, -0.5151307 , -0.5151307 , -0.5151307 ,\n        -0.5151307 , -0.5151307 , -0.5151307 , -0.5151307 , -0.5151307 ,\n        -0.5151307 , -0.5151307 , -0.5151307 , -0.51844831, -0.51844831,\n        -0.51844831, -0.51792034, -0.51792034, -0.51874384, -0.51874384,\n        -0.51874384, -0.51874384, -0.51874384, -0.51874384, -0.51874384,\n        -0.51874384, -0.51874384, -0.51874384, -0.51874384, -0.51874384,\n        -0.51874384, -0.51874384, -0.51874384, -0.51874384, -0.51874384,\n        -0.51874384, -0.51874384, -0.51874384, -0.51874384, -0.51780904,\n        -0.51780904, -0.51780904, -0.51780904, -0.51780904, -0.51780904,\n        -0.51780904, -0.51780904, -0.51780904, -0.51780904, -0.51780904,\n        -0.51780904, -0.51780904, -0.51780904, -0.51780904, -0.51780904,\n        -0.51780904, -0.51780904, -0.51780904, -0.51780904, -0.51780904,\n        -0.51780904, -0.51780904, -0.51780904, -0.51780904, -0.51093266,\n        -0.51093266, -0.51093266, -0.51093266, -0.51093266, -0.51093266,\n        -0.51093266, -0.51093266, -0.51093266, -0.51407294, -0.51387811,\n        -0.51716931, -0.51716931, -0.51716931, -0.51666775, -0.51666775,\n        -0.51824109, -0.51824109, -0.51824109, -0.51824109, -0.51891217,\n        -0.51891217, -0.51891217, -0.51891217, -0.51891217, -0.51891217,\n        -0.51891217, -0.51891217, -0.51891217, -0.51891217, -0.51891217,\n        -0.51891217, -0.51891217, -0.51891217, -0.51891217, -0.51891217,\n        -0.51891217, -0.51797736, -0.51797736, -0.51797736, -0.51797736,\n        -0.51797736, -0.51797736, -0.51797736, -0.51797736, -0.51797736,\n        -0.51797736, -0.51797736, -0.51797736, -0.51797736, -0.51797736,\n        -0.51797736, -0.51797736, -0.51797736, -0.51797736, -0.51797736,\n        -0.51797736, -0.51797736, -0.51797736, -0.51797736, -0.51797736,\n        -0.51893373, -0.53007691, -0.53007691, -0.53075459, -0.53075459,\n        -0.52963213, -0.52963213, -0.52963213, -0.52963213, -0.52963213,\n        -0.53279882, -0.53434665, -0.53763784, -0.53763784, -0.53735618,\n        -0.53685461, -0.53685461, -0.53845437, -0.53845437, -0.53845437,\n        -0.53845437, -0.53832773, -0.53832773, -0.53832773, -0.53832773,\n        -0.53832773, -0.53832773, -0.53832773, -0.53832773, -0.53832773,\n        -0.52709193, -0.52709193, -0.52709193, -0.52709193, -0.52709193,\n        -0.52709193, -0.52709193, -0.52709193, -0.5258751 , -0.5258751 ,\n        -0.5258751 , -0.5258751 , -0.5258751 , -0.5258751 , -0.5258751 ,\n        -0.5258751 , -0.5258751 , -0.5258751 , -0.5258751 , -0.5258751 ,\n        -0.5258751 , -0.5258751 , -0.5258751 , -0.5258751 , -0.5258751 ,\n        -0.5258751 , -0.5258751 , -0.52672672, -0.52672672, -0.52672672,\n        -0.52672672, -0.52672672, -0.52768308, -0.5222733 , -0.51969298,\n        -0.5203552 , -0.5203552 , -0.51915087, -0.51915087, -0.51915087,\n        -0.51915087, -0.51915087, -0.52231757, -0.52394726, -0.52726487,\n        -0.52726487, -0.52695678, -0.52645522, -0.52645522, -0.53179793,\n        -0.53179793, -0.53179793, -0.53179793, -0.53167129, -0.53167129,\n        -0.53167129, -0.53527451, -0.53527451, -0.53527451, -0.53527451,\n        -0.53527451, -0.53527451, -0.52384848, -0.52384848, -0.52384848,\n        -0.52384848, -0.52384848, -0.52384848, -0.52290253, -0.52290253,\n        -0.52094596, -0.52094596, -0.52094596, -0.52094596, -0.52094596,\n        -0.52094596, -0.52094596, -0.52094596, -0.52094596, -0.52094596,\n        -0.52089925, -0.52089925, -0.52089925, -0.52089925, -0.52089925,\n        -0.52089925, -0.52089925, -0.52089925, -0.52089925, -0.52175086,\n        -0.52175086, -0.52175086, -0.52175086, -0.52175086, -0.52270723]),\n 'mean_test_score': array([-0.5749047 , -0.5749047 , -0.5749047 , -0.5749047 , -0.5749047 ,\n        -0.5749047 , -0.5749047 , -0.5749047 , -0.5749047 , -0.5749047 ,\n        -0.57076787, -0.5714314 , -0.5714314 , -0.57053243, -0.57053243,\n        -0.57053243, -0.57053243, -0.57053243, -0.57053243, -0.57053243,\n        -0.57053243, -0.57053243, -0.57053243, -0.57053243, -0.57053243,\n        -0.57053243, -0.57053243, -0.57053243, -0.57053243, -0.57053243,\n        -0.57053243, -0.57053243, -0.57053243, -0.57053243, -0.57053243,\n        -0.57053243, -0.57053243, -0.57053243, -0.57053243, -0.57053243,\n        -0.57053243, -0.57053243, -0.57053243, -0.57053243, -0.57053243,\n        -0.57053243, -0.57053243, -0.57053243, -0.57053243, -0.57053243,\n        -0.57053243, -0.57053243, -0.57053243, -0.57053243, -0.57053243,\n        -0.57053243, -0.57053243, -0.57053243, -0.57018844, -0.57018844,\n        -0.57018844, -0.57018844, -0.56201196, -0.56201196, -0.56201196,\n        -0.5624637 , -0.5624637 , -0.5624637 , -0.5624637 , -0.5624637 ,\n        -0.5624637 , -0.5624637 , -0.55832687, -0.55899039, -0.55899039,\n        -0.55754947, -0.55744388, -0.55680306, -0.55696776, -0.55696776,\n        -0.55696776, -0.556985  , -0.556985  , -0.556985  , -0.556985  ,\n        -0.556985  , -0.556985  , -0.556985  , -0.55719259, -0.55718421,\n        -0.55719159, -0.55719159, -0.55719159, -0.55719159, -0.55719159,\n        -0.55719159, -0.55719159, -0.55719159, -0.55719159, -0.55700463,\n        -0.55700463, -0.55700463, -0.55700463, -0.55700463, -0.55700463,\n        -0.55700463, -0.55830479, -0.55830479, -0.55919341, -0.55701099,\n        -0.55701099, -0.55701099, -0.55701099, -0.55701099, -0.55701099,\n        -0.55701099, -0.55701099, -0.55701099, -0.55701099, -0.55701099,\n        -0.556667  , -0.556667  , -0.556667  , -0.556667  , -0.55647151,\n        -0.5566286 , -0.5566286 , -0.55708034, -0.55708034, -0.5554651 ,\n        -0.55611864, -0.55611864, -0.55611864, -0.55727582, -0.55310003,\n        -0.55375827, -0.55375827, -0.55207431, -0.551974  , -0.55133318,\n        -0.55133271, -0.55133271, -0.55130788, -0.55132513, -0.55145934,\n        -0.55151282, -0.55151282, -0.55325194, -0.55209836, -0.55209836,\n        -0.55231344, -0.55230505, -0.55231243, -0.55139024, -0.55139024,\n        -0.55101758, -0.55101758, -0.55101758, -0.55066919, -0.55066919,\n        -0.55087313, -0.55068617, -0.55096811, -0.55040267, -0.55040267,\n        -0.55040267, -0.55040267, -0.55040267, -0.55170284, -0.55170284,\n        -0.55259145, -0.55040904, -0.55040904, -0.55040904, -0.55040904,\n        -0.55040904, -0.55040904, -0.55040904, -0.55040904, -0.55040904,\n        -0.55040904, -0.55040904, -0.55006504, -0.55006504, -0.55006504,\n        -0.55044197, -0.56179046, -0.56169909, -0.56122921, -0.56168094,\n        -0.56144996, -0.55983473, -0.56048826, -0.56048826, -0.56048826,\n        -0.56165073, -0.55696147, -0.55827118, -0.55810589, -0.55704839,\n        -0.55694807, -0.55630726, -0.55631207, -0.55631207, -0.55628724,\n        -0.55535674, -0.55533142, -0.5555976 , -0.55606761, -0.55833466,\n        -0.5570516 , -0.55656185, -0.55652033, -0.5563054 , -0.55631278,\n        -0.55314342, -0.55314342, -0.5527568 , -0.55320955, -0.55320955,\n        -0.55286115, -0.55286115, -0.55306509, -0.55282172, -0.55310367,\n        -0.55200956, -0.55200956, -0.55185955, -0.55185955, -0.55185955,\n        -0.55315971, -0.55315971, -0.55404833, -0.55186591, -0.55186591,\n        -0.55186591, -0.55186591, -0.55186591, -0.55190121, -0.55111676,\n        -0.55111676, -0.55111676, -0.55128708, -0.55132602, -0.55098202,\n        -0.55098202, -0.55098202, -0.55135895, -0.55976525, -0.5598409 ,\n        -0.55936792, -0.55950908, -0.55968852, -0.55807329, -0.55929935,\n        -0.55940914, -0.55944739, -0.56060986, -0.55536445, -0.55787435,\n        -0.55830488, -0.5572421 , -0.55789293, -0.55657744, -0.55733574,\n        -0.55733574, -0.55731092, -0.55638042, -0.55606245, -0.55632864,\n        -0.55770508, -0.56069278, -0.55883719, -0.56020319, -0.55858538,\n        -0.56034415, -0.56009728, -0.5570212 , -0.55685075, -0.55646413,\n        -0.55571516, -0.55603184, -0.55516726, -0.55497807, -0.55518201,\n        -0.55479069, -0.55556363, -0.55446952, -0.55446952, -0.55431951,\n        -0.55422374, -0.55337172, -0.55467189, -0.55397916, -0.55498671,\n        -0.55279495, -0.55284233, -0.55203803, -0.55136943, -0.55136943,\n        -0.55140473, -0.55027321, -0.55015858, -0.55015858, -0.55037688,\n        -0.55041582, -0.54788801, -0.54788801, -0.54788801, -0.54826493]),\n 'std_test_score': array([0.03049295, 0.03049295, 0.03049295, 0.03049295, 0.03049295,\n        0.03049295, 0.03049295, 0.03049295, 0.03049295, 0.03049295,\n        0.02666586, 0.02558456, 0.02558456, 0.02485178, 0.02485178,\n        0.02485178, 0.02485178, 0.02485178, 0.02485178, 0.02485178,\n        0.02485178, 0.02485178, 0.02485178, 0.02485178, 0.02485178,\n        0.02485178, 0.02485178, 0.02485178, 0.02485178, 0.02485178,\n        0.02485178, 0.02485178, 0.02485178, 0.02485178, 0.02485178,\n        0.02485178, 0.02485178, 0.02485178, 0.02485178, 0.02485178,\n        0.02485178, 0.02485178, 0.02485178, 0.02485178, 0.02485178,\n        0.02485178, 0.02485178, 0.02485178, 0.02485178, 0.02485178,\n        0.02485178, 0.02485178, 0.02485178, 0.02485178, 0.02485178,\n        0.02485178, 0.02485178, 0.02485178, 0.02507371, 0.02507371,\n        0.02507371, 0.02507371, 0.02658266, 0.02658266, 0.02658266,\n        0.0268487 , 0.0268487 , 0.0268487 , 0.0268487 , 0.0268487 ,\n        0.0268487 , 0.0268487 , 0.02327021, 0.02204406, 0.02204406,\n        0.02105542, 0.02125166, 0.02081115, 0.02050376, 0.02050376,\n        0.02050376, 0.02051408, 0.02051408, 0.02051408, 0.02051408,\n        0.02051408, 0.02051408, 0.02051408, 0.02047339, 0.02047487,\n        0.02047949, 0.02047949, 0.02047949, 0.02047949, 0.02047949,\n        0.02047949, 0.02047949, 0.02047949, 0.02047949, 0.02083088,\n        0.02083088, 0.02083088, 0.02083088, 0.02083088, 0.02083088,\n        0.02083088, 0.02204104, 0.02204104, 0.02280215, 0.02374087,\n        0.02374087, 0.02374087, 0.02374087, 0.02374087, 0.02374087,\n        0.02374087, 0.02374087, 0.02374087, 0.02374087, 0.02374087,\n        0.02395813, 0.02395813, 0.02395813, 0.02395813, 0.02437381,\n        0.02439474, 0.02439474, 0.02447732, 0.02447732, 0.02344529,\n        0.02363347, 0.02363347, 0.02363347, 0.02278315, 0.02109092,\n        0.01987273, 0.01987273, 0.01863219, 0.01882024, 0.01868989,\n        0.01773629, 0.01773629, 0.0177285 , 0.01774848, 0.01749857,\n        0.01751527, 0.01751527, 0.01836891, 0.01734903, 0.01734903,\n        0.01751217, 0.01750564, 0.01750631, 0.01681385, 0.01681385,\n        0.0165841 , 0.0165841 , 0.0165841 , 0.01649844, 0.01649844,\n        0.01654507, 0.01690651, 0.01698864, 0.01652212, 0.01652212,\n        0.01652212, 0.01652212, 0.01652212, 0.01719058, 0.01719058,\n        0.01775876, 0.01698748, 0.01698748, 0.01698748, 0.01698748,\n        0.01698748, 0.01698748, 0.01698748, 0.01698748, 0.01698748,\n        0.01698748, 0.01698748, 0.01696546, 0.01696546, 0.01696546,\n        0.01661063, 0.01765516, 0.01758712, 0.01700891, 0.01738487,\n        0.01778147, 0.01672883, 0.01737481, 0.01737481, 0.01737481,\n        0.01650408, 0.01368345, 0.01328462, 0.01333813, 0.01312386,\n        0.01327504, 0.01261734, 0.01174817, 0.01174817, 0.01175429,\n        0.01215946, 0.01219472, 0.01356324, 0.01461595, 0.01340864,\n        0.01238382, 0.01202035, 0.01208119, 0.0121919 , 0.01220069,\n        0.01503221, 0.01503221, 0.01477581, 0.01484235, 0.01484235,\n        0.01494734, 0.01494734, 0.01488201, 0.0153086 , 0.01524285,\n        0.01485613, 0.01485613, 0.01487837, 0.01487837, 0.01487837,\n        0.01488672, 0.01488672, 0.01517304, 0.0158689 , 0.0158689 ,\n        0.0158689 , 0.0158689 , 0.0158689 , 0.01589012, 0.01500799,\n        0.01500799, 0.01500799, 0.01472268, 0.01469977, 0.01491506,\n        0.01491506, 0.01491506, 0.01448092, 0.02338475, 0.02426998,\n        0.02344767, 0.02363737, 0.0239414 , 0.02238974, 0.02241017,\n        0.02223943, 0.0222672 , 0.02173454, 0.01738228, 0.01710327,\n        0.01779136, 0.01727017, 0.01800378, 0.01815243, 0.01605097,\n        0.01605097, 0.01605316, 0.01627112, 0.01596057, 0.01714662,\n        0.0164464 , 0.01488525, 0.01404525, 0.01409059, 0.01379051,\n        0.0140841 , 0.01417204, 0.01766431, 0.01751371, 0.01726303,\n        0.01690057, 0.01720151, 0.01693695, 0.01728739, 0.01748161,\n        0.01820665, 0.01842617, 0.01793588, 0.01793588, 0.01777806,\n        0.01772511, 0.01689382, 0.01821117, 0.01790569, 0.01872506,\n        0.01853013, 0.01853459, 0.01871643, 0.01846127, 0.01846127,\n        0.01847241, 0.01789082, 0.01788917, 0.01788917, 0.01760074,\n        0.01759224, 0.01475017, 0.01475017, 0.01475017, 0.01437653]),\n 'rank_test_score': array([301, 301, 301, 301, 301, 301, 301, 301, 301, 301, 298, 299, 299,\n        253, 253, 253, 253, 253, 253, 253, 253, 253, 253, 253, 253, 253,\n        253, 253, 253, 253, 253, 253, 253, 253, 253, 253, 253, 253, 253,\n        253, 253, 253, 253, 253, 253, 253, 253, 253, 253, 253, 253, 253,\n        253, 253, 253, 253, 253, 253, 249, 249, 249, 249, 239, 239, 239,\n        242, 242, 242, 242, 242, 242, 242, 209, 213, 213, 199, 198, 145,\n        149, 149, 149, 152, 152, 152, 152, 152, 152, 152, 192, 182, 183,\n        183, 183, 183, 183, 183, 183, 183, 183, 159, 159, 159, 159, 159,\n        159, 159, 206, 206, 215, 166, 166, 166, 166, 166, 166, 166, 166,\n        166, 166, 166, 141, 141, 141, 141, 135, 139, 139, 180, 180, 116,\n        123, 123, 123, 194,  89,  99,  99,  75,  71,  50,  48,  48,  45,\n         46,  57,  58,  58,  97,  76,  76,  80,  78,  79,  54,  54,  38,\n         38,  38,  30,  30,  33,  32,  34,  12,  12,  12,  12,  12,  60,\n         60,  81,  17,  17,  17,  17,  17,  17,  17,  17,  17,  17,  17,\n          5,   5,   5,  29, 238, 237, 233, 236, 234, 223, 228, 228, 228,\n        235, 148, 205, 204, 178, 147, 128, 129, 129, 126, 114, 113, 118,\n        122, 210, 179, 137, 136, 127, 131,  91,  91,  82,  95,  95,  86,\n         86,  88,  84,  90,  72,  72,  62,  62,  62,  93,  93, 102,  65,\n         65,  65,  65,  65,  70,  41,  41,  41,  44,  47,  35,  35,  35,\n         51, 222, 224, 217, 220, 221, 203, 216, 218, 219, 231, 115, 201,\n        208, 193, 202, 138, 196, 196, 195, 133, 121, 132, 200, 232, 212,\n        226, 211, 227, 225, 177, 146, 134, 119, 120, 111, 109, 112, 108,\n        117, 105, 105, 104, 103,  98, 107, 101, 110,  83,  85,  74,  52,\n         52,  56,  10,   8,   8,  11,  28,   1,   1,   1,   4], dtype=int32)}"
     },
     "metadata": {}
    }
   ],
   "execution_count": null
  },
  {
   "cell_type": "code",
   "metadata": {
    "tags": [],
    "cell_id": "00038-155948ac-8416-4672-a044-c2f26f764c1c",
    "deepnote_to_be_reexecuted": false,
    "source_hash": "eb15b496",
    "execution_start": 1620804944842,
    "execution_millis": 41,
    "deepnote_cell_type": "code"
   },
   "source": "print(tree.best_estimator_)\nprint(tree.best_score_)",
   "outputs": [
    {
     "name": "stdout",
     "text": "DecisionTreeRegressor(max_depth=8, min_samples_split=96, random_state=1123)\n-0.5478880072089891\n",
     "output_type": "stream"
    }
   ],
   "execution_count": null
  },
  {
   "cell_type": "code",
   "metadata": {
    "tags": [],
    "cell_id": "00039-ebe73191-7c31-43ba-a21d-b154f6582256",
    "deepnote_to_be_reexecuted": false,
    "source_hash": "f1297cd0",
    "execution_start": 1620804944910,
    "execution_millis": 154,
    "deepnote_cell_type": "code"
   },
   "source": "#v2\n\ndt2_reg = dtr(random_state=1123,max_depth=7,min_samples_split=100)\n\ndt2_reg.fit(X_train,y_train)\ndt2_pred_tr = dt2_reg.predict(X_train)\ndt2_pred_ts = dt2_reg.predict(X_test)\n\nperf,RMSE_dt2_train,RMSE_dt2_test =model_performance(y_train,dt2_pred_tr,y_test,dt2_pred_ts)\nperf\n\n#from sklearn import tree\n#fig, ax = plt.subplots(figsize=(15,15))\n#tree.plot_tree(dt_reg, filled = True, feature_names = X_train.columns )\n#plt.show()",
   "outputs": [
    {
     "output_type": "execute_result",
     "execution_count": 25,
     "data": {
      "application/vnd.deepnote.dataframe.v2+json": {
       "row_count": 6,
       "column_count": 3,
       "columns": [
        {
         "name": "Error_metric",
         "dtype": "object",
         "stats": {
          "unique_count": 6,
          "nan_count": 0,
          "categories": [
           {
            "name": "Mean error",
            "count": 1
           },
           {
            "name": "Mean absolute error",
            "count": 1
           },
           {
            "name": "4 others",
            "count": 4
           }
          ]
         }
        },
        {
         "name": "Train",
         "dtype": "float64",
         "stats": {
          "unique_count": 6,
          "nan_count": 0,
          "min": "-1.1563664953531926e-17",
          "max": "7.583144549543691",
          "histogram": [
           {
            "bin_start": -1.1563664953531926e-17,
            "bin_end": 0.7583144549543691,
            "count": 5
           },
           {
            "bin_start": 0.7583144549543691,
            "bin_end": 1.5166289099087382,
            "count": 0
           },
           {
            "bin_start": 1.5166289099087382,
            "bin_end": 2.274943364863107,
            "count": 0
           },
           {
            "bin_start": 2.274943364863107,
            "bin_end": 3.0332578198174764,
            "count": 0
           },
           {
            "bin_start": 3.0332578198174764,
            "bin_end": 3.7915722747718457,
            "count": 0
           },
           {
            "bin_start": 3.7915722747718457,
            "bin_end": 4.549886729726214,
            "count": 0
           },
           {
            "bin_start": 4.549886729726214,
            "bin_end": 5.308201184680584,
            "count": 0
           },
           {
            "bin_start": 5.308201184680584,
            "bin_end": 6.066515639634953,
            "count": 0
           },
           {
            "bin_start": 6.066515639634953,
            "bin_end": 6.824830094589322,
            "count": 0
           },
           {
            "bin_start": 6.824830094589322,
            "bin_end": 7.583144549543691,
            "count": 1
           }
          ]
         }
        },
        {
         "name": "Test",
         "dtype": "float64",
         "stats": {
          "unique_count": 6,
          "nan_count": 0,
          "min": "0.007228294629476333",
          "max": "7.7503151879177725",
          "histogram": [
           {
            "bin_start": 0.007228294629476333,
            "bin_end": 0.7815369839583061,
            "count": 5
           },
           {
            "bin_start": 0.7815369839583061,
            "bin_end": 1.5558456732871357,
            "count": 0
           },
           {
            "bin_start": 1.5558456732871357,
            "bin_end": 2.3301543626159655,
            "count": 0
           },
           {
            "bin_start": 2.3301543626159655,
            "bin_end": 3.104463051944795,
            "count": 0
           },
           {
            "bin_start": 3.104463051944795,
            "bin_end": 3.8787717412736247,
            "count": 0
           },
           {
            "bin_start": 3.8787717412736247,
            "bin_end": 4.653080430602454,
            "count": 0
           },
           {
            "bin_start": 4.653080430602454,
            "bin_end": 5.427389119931283,
            "count": 0
           },
           {
            "bin_start": 5.427389119931283,
            "bin_end": 6.201697809260113,
            "count": 0
           },
           {
            "bin_start": 6.201697809260113,
            "bin_end": 6.976006498588943,
            "count": 0
           },
           {
            "bin_start": 6.976006498588943,
            "bin_end": 7.7503151879177725,
            "count": 1
           }
          ]
         }
        },
        {
         "name": "_deepnote_index_column",
         "dtype": "int64"
        }
       ],
       "rows_top": [
        {
         "Error_metric": "Mean error",
         "Train": -1.1563664953531926e-17,
         "Test": 0.007228294629476333,
         "_deepnote_index_column": 0
        },
        {
         "Error_metric": "Mean absolute error",
         "Train": 0.5436112738708938,
         "Test": 0.5602104115349665,
         "_deepnote_index_column": 1
        },
        {
         "Error_metric": "Mean squared error",
         "Train": 0.46637687567156433,
         "Test": 0.49818950341131113,
         "_deepnote_index_column": 2
        },
        {
         "Error_metric": "Root mean squared error",
         "Train": 0.6829179128354771,
         "Test": 0.7058254057564881,
         "_deepnote_index_column": 3
        },
        {
         "Error_metric": "Mean absolute percentual error",
         "Train": 7.583144549543691,
         "Test": 7.7503151879177725,
         "_deepnote_index_column": 4
        },
        {
         "Error_metric": "R2",
         "Train": 0.7248169501595499,
         "Test": 0.6909199274696933,
         "_deepnote_index_column": 5
        }
       ],
       "rows_bottom": null
      },
      "text/plain": "                     Error_metric  Train  Test\n0                      Mean error  -0.00  0.01\n1             Mean absolute error   0.54  0.56\n2              Mean squared error   0.47  0.50\n3         Root mean squared error   0.68  0.71\n4  Mean absolute percentual error   7.58  7.75\n5                              R2   0.72  0.69",
      "text/html": "<div>\n<style scoped>\n    .dataframe tbody tr th:only-of-type {\n        vertical-align: middle;\n    }\n\n    .dataframe tbody tr th {\n        vertical-align: top;\n    }\n\n    .dataframe thead th {\n        text-align: right;\n    }\n</style>\n<table border=\"1\" class=\"dataframe\">\n  <thead>\n    <tr style=\"text-align: right;\">\n      <th></th>\n      <th>Error_metric</th>\n      <th>Train</th>\n      <th>Test</th>\n    </tr>\n  </thead>\n  <tbody>\n    <tr>\n      <th>0</th>\n      <td>Mean error</td>\n      <td>-0.00</td>\n      <td>0.01</td>\n    </tr>\n    <tr>\n      <th>1</th>\n      <td>Mean absolute error</td>\n      <td>0.54</td>\n      <td>0.56</td>\n    </tr>\n    <tr>\n      <th>2</th>\n      <td>Mean squared error</td>\n      <td>0.47</td>\n      <td>0.50</td>\n    </tr>\n    <tr>\n      <th>3</th>\n      <td>Root mean squared error</td>\n      <td>0.68</td>\n      <td>0.71</td>\n    </tr>\n    <tr>\n      <th>4</th>\n      <td>Mean absolute percentual error</td>\n      <td>7.58</td>\n      <td>7.75</td>\n    </tr>\n    <tr>\n      <th>5</th>\n      <td>R2</td>\n      <td>0.72</td>\n      <td>0.69</td>\n    </tr>\n  </tbody>\n</table>\n</div>"
     },
     "metadata": {}
    }
   ],
   "execution_count": null
  },
  {
   "cell_type": "markdown",
   "source": "## K-NN Regression",
   "metadata": {
    "tags": [],
    "cell_id": "00042-38af7350-1e3c-4fe1-bcb5-8b45e8a352cf",
    "deepnote_cell_type": "text-cell-h2"
   }
  },
  {
   "cell_type": "code",
   "metadata": {
    "tags": [],
    "cell_id": "00045-aedcc48b-2fcd-4119-95e8-e951e4ebe305",
    "deepnote_to_be_reexecuted": false,
    "source_hash": "ef55d910",
    "execution_start": 1620804945082,
    "execution_millis": 858,
    "deepnote_cell_type": "code"
   },
   "source": "neigh = KNeighborsRegressor(n_neighbors=1)\n\nneigh.fit(X_train, y_train)\n\ny_pred_train_knn = neigh.predict(X_train)\ny_pred_test_knn  = neigh.predict(X_test)\n\nperformance_knn, RMSE_y_pred_train_knn,RMSE_y_pred_test_knn = model_performance(y_train, y_pred_train_knn, y_test, y_pred_test_knn)\nperformance_knn",
   "outputs": [
    {
     "output_type": "execute_result",
     "execution_count": 26,
     "data": {
      "application/vnd.deepnote.dataframe.v2+json": {
       "row_count": 6,
       "column_count": 3,
       "columns": [
        {
         "name": "Error_metric",
         "dtype": "object",
         "stats": {
          "unique_count": 6,
          "nan_count": 0,
          "categories": [
           {
            "name": "Mean error",
            "count": 1
           },
           {
            "name": "Mean absolute error",
            "count": 1
           },
           {
            "name": "4 others",
            "count": 4
           }
          ]
         }
        },
        {
         "name": "Train",
         "dtype": "float64",
         "stats": {
          "unique_count": 2,
          "nan_count": 0,
          "min": "0.0",
          "max": "1.0",
          "histogram": [
           {
            "bin_start": 0,
            "bin_end": 0.1,
            "count": 5
           },
           {
            "bin_start": 0.1,
            "bin_end": 0.2,
            "count": 0
           },
           {
            "bin_start": 0.2,
            "bin_end": 0.30000000000000004,
            "count": 0
           },
           {
            "bin_start": 0.30000000000000004,
            "bin_end": 0.4,
            "count": 0
           },
           {
            "bin_start": 0.4,
            "bin_end": 0.5,
            "count": 0
           },
           {
            "bin_start": 0.5,
            "bin_end": 0.6000000000000001,
            "count": 0
           },
           {
            "bin_start": 0.6000000000000001,
            "bin_end": 0.7000000000000001,
            "count": 0
           },
           {
            "bin_start": 0.7000000000000001,
            "bin_end": 0.8,
            "count": 0
           },
           {
            "bin_start": 0.8,
            "bin_end": 0.9,
            "count": 0
           },
           {
            "bin_start": 0.9,
            "bin_end": 1,
            "count": 1
           }
          ]
         }
        },
        {
         "name": "Test",
         "dtype": "float64",
         "stats": {
          "unique_count": 6,
          "nan_count": 0,
          "min": "-0.05805805805805806",
          "max": "7.0218450774006325",
          "histogram": [
           {
            "bin_start": -0.05805805805805806,
            "bin_end": 0.649932255487811,
            "count": 3
           },
           {
            "bin_start": 0.649932255487811,
            "bin_end": 1.35792256903368,
            "count": 2
           },
           {
            "bin_start": 1.35792256903368,
            "bin_end": 2.0659128825795494,
            "count": 0
           },
           {
            "bin_start": 2.0659128825795494,
            "bin_end": 2.7739031961254184,
            "count": 0
           },
           {
            "bin_start": 2.7739031961254184,
            "bin_end": 3.4818935096712873,
            "count": 0
           },
           {
            "bin_start": 3.4818935096712873,
            "bin_end": 4.189883823217157,
            "count": 0
           },
           {
            "bin_start": 4.189883823217157,
            "bin_end": 4.897874136763026,
            "count": 0
           },
           {
            "bin_start": 4.897874136763026,
            "bin_end": 5.605864450308895,
            "count": 0
           },
           {
            "bin_start": 5.605864450308895,
            "bin_end": 6.3138547638547635,
            "count": 0
           },
           {
            "bin_start": 6.3138547638547635,
            "bin_end": 7.0218450774006325,
            "count": 1
           }
          ]
         }
        },
        {
         "name": "_deepnote_index_column",
         "dtype": "int64"
        }
       ],
       "rows_top": [
        {
         "Error_metric": "Mean error",
         "Train": 0,
         "Test": -0.05805805805805806,
         "_deepnote_index_column": 0
        },
        {
         "Error_metric": "Mean absolute error",
         "Train": 0,
         "Test": 0.4984984984984985,
         "_deepnote_index_column": 1
        },
        {
         "Error_metric": "Mean squared error",
         "Train": 0,
         "Test": 0.6826826826826827,
         "_deepnote_index_column": 2
        },
        {
         "Error_metric": "Root mean squared error",
         "Train": 0,
         "Test": 0.8262461392845856,
         "_deepnote_index_column": 3
        },
        {
         "Error_metric": "Mean absolute percentual error",
         "Train": 0,
         "Test": 7.0218450774006325,
         "_deepnote_index_column": 4
        },
        {
         "Error_metric": "R2",
         "Train": 1,
         "Test": 0.5764591352609434,
         "_deepnote_index_column": 5
        }
       ],
       "rows_bottom": null
      },
      "text/plain": "                     Error_metric  Train  Test\n0                      Mean error   0.00 -0.06\n1             Mean absolute error   0.00  0.50\n2              Mean squared error   0.00  0.68\n3         Root mean squared error   0.00  0.83\n4  Mean absolute percentual error   0.00  7.02\n5                              R2   1.00  0.58",
      "text/html": "<div>\n<style scoped>\n    .dataframe tbody tr th:only-of-type {\n        vertical-align: middle;\n    }\n\n    .dataframe tbody tr th {\n        vertical-align: top;\n    }\n\n    .dataframe thead th {\n        text-align: right;\n    }\n</style>\n<table border=\"1\" class=\"dataframe\">\n  <thead>\n    <tr style=\"text-align: right;\">\n      <th></th>\n      <th>Error_metric</th>\n      <th>Train</th>\n      <th>Test</th>\n    </tr>\n  </thead>\n  <tbody>\n    <tr>\n      <th>0</th>\n      <td>Mean error</td>\n      <td>0.00</td>\n      <td>-0.06</td>\n    </tr>\n    <tr>\n      <th>1</th>\n      <td>Mean absolute error</td>\n      <td>0.00</td>\n      <td>0.50</td>\n    </tr>\n    <tr>\n      <th>2</th>\n      <td>Mean squared error</td>\n      <td>0.00</td>\n      <td>0.68</td>\n    </tr>\n    <tr>\n      <th>3</th>\n      <td>Root mean squared error</td>\n      <td>0.00</td>\n      <td>0.83</td>\n    </tr>\n    <tr>\n      <th>4</th>\n      <td>Mean absolute percentual error</td>\n      <td>0.00</td>\n      <td>7.02</td>\n    </tr>\n    <tr>\n      <th>5</th>\n      <td>R2</td>\n      <td>1.00</td>\n      <td>0.58</td>\n    </tr>\n  </tbody>\n</table>\n</div>"
     },
     "metadata": {}
    }
   ],
   "execution_count": null
  },
  {
   "cell_type": "code",
   "metadata": {
    "tags": [],
    "cell_id": "00045-3391abd9-eb5e-4956-9262-38d792dec721",
    "deepnote_to_be_reexecuted": false,
    "source_hash": "beec339e",
    "execution_start": 1620804945955,
    "execution_millis": 81708,
    "output_cleared": false,
    "deepnote_cell_type": "code"
   },
   "source": "#Playing with parameters\n\n#neigh_mod = KNeighborsRegressor()\n\n#tree = GridSearchCV(neigh_mod,param_grid={'n_neighbors':list(range(11,100))},scoring='neg_mean_squared_error')\n\n#tree.fit(X_train,y_train)\n\n#print(tree.best_estimator_)\n#print(tree.best_score_)\n\n#tree.cv_results_",
   "outputs": [
    {
     "name": "stdout",
     "text": "KNeighborsRegressor(n_neighbors=27)\n-0.5413726333978338\n",
     "output_type": "stream"
    },
    {
     "output_type": "execute_result",
     "execution_count": 27,
     "data": {
      "text/plain": "{'mean_fit_time': array([0.01089468, 0.01064272, 0.01010957, 0.01111975, 0.00732446,\n        0.00822902, 0.00885711, 0.00870342, 0.01252112, 0.00896373,\n        0.00818448, 0.00918827, 0.01144881, 0.01246724, 0.01156988,\n        0.00806937, 0.00671821, 0.00797806, 0.00714641, 0.00952239,\n        0.00870061, 0.00775399, 0.00900807, 0.00875082, 0.01449528,\n        0.01006069, 0.01003251, 0.01604414, 0.01130719, 0.00849457,\n        0.01134133, 0.00955172, 0.00989766, 0.00829844, 0.00735602,\n        0.01007552, 0.0059319 , 0.01559467, 0.01292768, 0.00833716,\n        0.01040387, 0.00953321, 0.00676026, 0.00785985, 0.01020408,\n        0.01341748, 0.00885153, 0.01165466, 0.00826178, 0.00964656,\n        0.00831761, 0.00983453, 0.01015882, 0.00864949, 0.0121974 ,\n        0.01187801, 0.00676556, 0.00767174, 0.00980215, 0.01186085,\n        0.01063714, 0.00907464, 0.00572519, 0.00671878, 0.00638223,\n        0.00768561, 0.00903397, 0.01158199, 0.00913157, 0.00745339,\n        0.00891442, 0.01033678, 0.00991516, 0.01052318, 0.00574532,\n        0.00914097, 0.00645347, 0.01025057, 0.00919704, 0.01006465,\n        0.01120191, 0.00997167, 0.012392  , 0.00954256, 0.0087894 ,\n        0.01109548, 0.00849023, 0.00951438, 0.0128705 ]),\n 'std_fit_time': array([0.00597793, 0.0029748 , 0.00353124, 0.0041203 , 0.00300845,\n        0.00208099, 0.00416849, 0.00267912, 0.00356488, 0.00164667,\n        0.00380381, 0.00331717, 0.00609814, 0.00503276, 0.00469898,\n        0.00320777, 0.00202919, 0.00241104, 0.0034497 , 0.00280199,\n        0.00273747, 0.00167323, 0.00380317, 0.0027862 , 0.00877389,\n        0.00415787, 0.0017496 , 0.00709788, 0.00539085, 0.00038329,\n        0.00156061, 0.00387041, 0.0018264 , 0.00244374, 0.00106603,\n        0.0013726 , 0.00197078, 0.00868565, 0.00356938, 0.00294483,\n        0.002849  , 0.00305523, 0.00204914, 0.00282552, 0.00162104,\n        0.00324252, 0.00401111, 0.00689236, 0.00474285, 0.0035019 ,\n        0.00451571, 0.00208253, 0.00312937, 0.00037201, 0.00648682,\n        0.0045048 , 0.00320173, 0.00279037, 0.0020975 , 0.00161508,\n        0.00163826, 0.0029044 , 0.00190322, 0.00196375, 0.00252698,\n        0.00309474, 0.00160096, 0.00412153, 0.00333968, 0.00305281,\n        0.00444291, 0.00134178, 0.0041819 , 0.00186609, 0.00311352,\n        0.00172265, 0.00183229, 0.00331093, 0.00422741, 0.00328505,\n        0.0029971 , 0.00356621, 0.00388792, 0.00290249, 0.00338174,\n        0.00246676, 0.00228098, 0.00461321, 0.00601558]),\n 'mean_score_time': array([0.15993366, 0.16956162, 0.15454621, 0.1699964 , 0.16076417,\n        0.15913582, 0.14296722, 0.15684748, 0.16429477, 0.16032562,\n        0.16325669, 0.16354041, 0.16133056, 0.15514255, 0.15827432,\n        0.17094102, 0.17931461, 0.16187305, 0.17519755, 0.18032866,\n        0.16677575, 0.16938167, 0.17528191, 0.16112142, 0.16557283,\n        0.16847405, 0.17187467, 0.16987629, 0.1554081 , 0.18110943,\n        0.16943645, 0.16712584, 0.16739106, 0.16656079, 0.17226739,\n        0.16786218, 0.1655829 , 0.17731805, 0.15531483, 0.16534719,\n        0.17530665, 0.16782823, 0.17670922, 0.16183634, 0.16991611,\n        0.1835896 , 0.17259407, 0.19085693, 0.1806716 , 0.17529964,\n        0.1615653 , 0.17031326, 0.17184777, 0.17202744, 0.17687206,\n        0.17171941, 0.15516782, 0.18912797, 0.18584905, 0.16834483,\n        0.16565275, 0.18037863, 0.15842934, 0.17706661, 0.158497  ,\n        0.18208489, 0.16836295, 0.1816    , 0.18878264, 0.17745562,\n        0.19357715, 0.19916682, 0.16093316, 0.17747865, 0.15831194,\n        0.19857526, 0.16619887, 0.18431897, 0.19971762, 0.20059466,\n        0.17908263, 0.17813625, 0.1677649 , 0.17313771, 0.16858382,\n        0.18021793, 0.19788532, 0.17434373, 0.19948421]),\n 'std_score_time': array([0.0126359 , 0.01849281, 0.00561252, 0.01248209, 0.00712252,\n        0.01504036, 0.01041636, 0.02125194, 0.01216838, 0.01068791,\n        0.00292362, 0.01606135, 0.01570698, 0.02872041, 0.01400939,\n        0.01757397, 0.02437816, 0.02291056, 0.00736075, 0.01907566,\n        0.00422697, 0.03011592, 0.02503661, 0.02907669, 0.02251124,\n        0.00641154, 0.02724376, 0.02961684, 0.02371858, 0.012156  ,\n        0.03092681, 0.01275291, 0.01794828, 0.01833543, 0.02744578,\n        0.02488781, 0.02787302, 0.02036865, 0.01273694, 0.00765333,\n        0.02407345, 0.01525405, 0.02826264, 0.0070352 , 0.02008623,\n        0.01681215, 0.01430607, 0.04816677, 0.02073638, 0.01841653,\n        0.01468075, 0.0134094 , 0.03065249, 0.01862842, 0.01411236,\n        0.01539111, 0.01469948, 0.01693135, 0.02108953, 0.01315819,\n        0.01515268, 0.01288174, 0.01556322, 0.00709511, 0.00958338,\n        0.0156772 , 0.02176699, 0.02793763, 0.0203999 , 0.01022299,\n        0.02711387, 0.02139573, 0.01656757, 0.01748107, 0.01116775,\n        0.03057565, 0.02626834, 0.01512246, 0.02469777, 0.04615104,\n        0.0156712 , 0.01587254, 0.01937549, 0.01303761, 0.01400467,\n        0.02054114, 0.0158529 , 0.01313485, 0.03232615]),\n 'param_n_neighbors': masked_array(data=[11, 12, 13, 14, 15, 16, 17, 18, 19, 20, 21, 22, 23, 24,\n                    25, 26, 27, 28, 29, 30, 31, 32, 33, 34, 35, 36, 37, 38,\n                    39, 40, 41, 42, 43, 44, 45, 46, 47, 48, 49, 50, 51, 52,\n                    53, 54, 55, 56, 57, 58, 59, 60, 61, 62, 63, 64, 65, 66,\n                    67, 68, 69, 70, 71, 72, 73, 74, 75, 76, 77, 78, 79, 80,\n                    81, 82, 83, 84, 85, 86, 87, 88, 89, 90, 91, 92, 93, 94,\n                    95, 96, 97, 98, 99],\n              mask=[False, False, False, False, False, False, False, False,\n                    False, False, False, False, False, False, False, False,\n                    False, False, False, False, False, False, False, False,\n                    False, False, False, False, False, False, False, False,\n                    False, False, False, False, False, False, False, False,\n                    False, False, False, False, False, False, False, False,\n                    False, False, False, False, False, False, False, False,\n                    False, False, False, False, False, False, False, False,\n                    False, False, False, False, False, False, False, False,\n                    False, False, False, False, False, False, False, False,\n                    False, False, False, False, False, False, False, False,\n                    False],\n        fill_value='?',\n             dtype=object),\n 'params': [{'n_neighbors': 11},\n  {'n_neighbors': 12},\n  {'n_neighbors': 13},\n  {'n_neighbors': 14},\n  {'n_neighbors': 15},\n  {'n_neighbors': 16},\n  {'n_neighbors': 17},\n  {'n_neighbors': 18},\n  {'n_neighbors': 19},\n  {'n_neighbors': 20},\n  {'n_neighbors': 21},\n  {'n_neighbors': 22},\n  {'n_neighbors': 23},\n  {'n_neighbors': 24},\n  {'n_neighbors': 25},\n  {'n_neighbors': 26},\n  {'n_neighbors': 27},\n  {'n_neighbors': 28},\n  {'n_neighbors': 29},\n  {'n_neighbors': 30},\n  {'n_neighbors': 31},\n  {'n_neighbors': 32},\n  {'n_neighbors': 33},\n  {'n_neighbors': 34},\n  {'n_neighbors': 35},\n  {'n_neighbors': 36},\n  {'n_neighbors': 37},\n  {'n_neighbors': 38},\n  {'n_neighbors': 39},\n  {'n_neighbors': 40},\n  {'n_neighbors': 41},\n  {'n_neighbors': 42},\n  {'n_neighbors': 43},\n  {'n_neighbors': 44},\n  {'n_neighbors': 45},\n  {'n_neighbors': 46},\n  {'n_neighbors': 47},\n  {'n_neighbors': 48},\n  {'n_neighbors': 49},\n  {'n_neighbors': 50},\n  {'n_neighbors': 51},\n  {'n_neighbors': 52},\n  {'n_neighbors': 53},\n  {'n_neighbors': 54},\n  {'n_neighbors': 55},\n  {'n_neighbors': 56},\n  {'n_neighbors': 57},\n  {'n_neighbors': 58},\n  {'n_neighbors': 59},\n  {'n_neighbors': 60},\n  {'n_neighbors': 61},\n  {'n_neighbors': 62},\n  {'n_neighbors': 63},\n  {'n_neighbors': 64},\n  {'n_neighbors': 65},\n  {'n_neighbors': 66},\n  {'n_neighbors': 67},\n  {'n_neighbors': 68},\n  {'n_neighbors': 69},\n  {'n_neighbors': 70},\n  {'n_neighbors': 71},\n  {'n_neighbors': 72},\n  {'n_neighbors': 73},\n  {'n_neighbors': 74},\n  {'n_neighbors': 75},\n  {'n_neighbors': 76},\n  {'n_neighbors': 77},\n  {'n_neighbors': 78},\n  {'n_neighbors': 79},\n  {'n_neighbors': 80},\n  {'n_neighbors': 81},\n  {'n_neighbors': 82},\n  {'n_neighbors': 83},\n  {'n_neighbors': 84},\n  {'n_neighbors': 85},\n  {'n_neighbors': 86},\n  {'n_neighbors': 87},\n  {'n_neighbors': 88},\n  {'n_neighbors': 89},\n  {'n_neighbors': 90},\n  {'n_neighbors': 91},\n  {'n_neighbors': 92},\n  {'n_neighbors': 93},\n  {'n_neighbors': 94},\n  {'n_neighbors': 95},\n  {'n_neighbors': 96},\n  {'n_neighbors': 97},\n  {'n_neighbors': 98},\n  {'n_neighbors': 99}],\n 'split0_test_score': array([-0.56191107, -0.56244785, -0.56175989, -0.56221425, -0.57062439,\n        -0.57228763, -0.5703193 , -0.57101856, -0.5742566 , -0.57417397,\n        -0.57427794, -0.57432069, -0.57218735, -0.57208881, -0.57139825,\n        -0.57015241, -0.57089538, -0.57478098, -0.57667358, -0.57571548,\n        -0.57600356, -0.57627332, -0.57658161, -0.57848262, -0.57825445,\n        -0.57691231, -0.5775106 , -0.57824878, -0.57816847, -0.57847544,\n        -0.57894126, -0.57825258, -0.57742744, -0.57727312, -0.57742425,\n        -0.5775964 , -0.57735705, -0.57843246, -0.57881963, -0.57932566,\n        -0.58007919, -0.58113091, -0.58088408, -0.58215001, -0.58220958,\n        -0.58212753, -0.58317665, -0.584478  , -0.58473695, -0.58480775,\n        -0.58668976, -0.58774593, -0.58829016, -0.58934539, -0.58985803,\n        -0.59029423, -0.59106937, -0.59157884, -0.59245449, -0.59342826,\n        -0.59430716, -0.59468143, -0.59481699, -0.59504759, -0.59516039,\n        -0.59514035, -0.59615188, -0.59618121, -0.59700447, -0.5974824 ,\n        -0.5980437 , -0.59773966, -0.59716775, -0.59798583, -0.59852393,\n        -0.59870132, -0.59929731, -0.59973146, -0.59928543, -0.60005022,\n        -0.6011575 , -0.60217536, -0.60238453, -0.60270024, -0.60291569,\n        -0.60317992, -0.60326138, -0.60314186, -0.6029126 ]),\n 'split1_test_score': array([-0.56447626, -0.55263524, -0.55440603, -0.55160149, -0.55153386,\n        -0.55487817, -0.55524856, -0.55019392, -0.5468886 , -0.54564143,\n        -0.54480232, -0.54305744, -0.53886829, -0.53718841, -0.53600401,\n        -0.53482719, -0.53142903, -0.52963047, -0.53040587, -0.53092616,\n        -0.53078836, -0.52984199, -0.53107477, -0.53015881, -0.53023626,\n        -0.53040645, -0.53037809, -0.53022823, -0.52981579, -0.53083307,\n        -0.53023373, -0.5309521 , -0.53198191, -0.5313544 , -0.53100326,\n        -0.53205921, -0.53294153, -0.53459185, -0.53586611, -0.53573417,\n        -0.53625471, -0.53634628, -0.53626039, -0.53738856, -0.53794516,\n        -0.53798674, -0.53806601, -0.53825159, -0.53919669, -0.53778716,\n        -0.53815153, -0.53870212, -0.54022902, -0.54049129, -0.53985026,\n        -0.5412591 , -0.54216077, -0.5440535 , -0.54451466, -0.54585732,\n        -0.54587228, -0.5448907 , -0.54603087, -0.54734804, -0.54719755,\n        -0.54694233, -0.54790638, -0.54917533, -0.54993193, -0.55068288,\n        -0.55122592, -0.55226733, -0.55401793, -0.55409859, -0.55517598,\n        -0.55556652, -0.55630064, -0.55782716, -0.55854094, -0.55803504,\n        -0.55856939, -0.55941486, -0.55981281, -0.5600622 , -0.56050673,\n        -0.56055923, -0.56066802, -0.56140042, -0.5619504 ]),\n 'split2_test_score': array([-0.56444523, -0.55923203, -0.56266339, -0.56627545, -0.56616326,\n        -0.56770181, -0.56844845, -0.57093744, -0.57326506, -0.5745776 ,\n        -0.57647456, -0.57397935, -0.57316447, -0.57450502, -0.57496671,\n        -0.57614548, -0.57429984, -0.57492625, -0.57862459, -0.58049506,\n        -0.57904326, -0.58010379, -0.57799062, -0.57783627, -0.57867028,\n        -0.58000838, -0.58050284, -0.57962169, -0.58191823, -0.58182728,\n        -0.58141535, -0.58146166, -0.58066905, -0.57972388, -0.5805238 ,\n        -0.58006464, -0.58030551, -0.58108606, -0.5815688 , -0.58149787,\n        -0.58096506, -0.57961274, -0.57952558, -0.57997222, -0.58043463,\n        -0.58004146, -0.58042968, -0.58098113, -0.5818955 , -0.58270199,\n        -0.58505509, -0.58587477, -0.58584253, -0.58612389, -0.58570165,\n        -0.58639817, -0.58633076, -0.58770343, -0.58719272, -0.5867679 ,\n        -0.58654651, -0.58691951, -0.58785717, -0.58770345, -0.58913331,\n        -0.59007255, -0.59175145, -0.59218089, -0.59241814, -0.59301901,\n        -0.59273566, -0.59205513, -0.59215023, -0.59185465, -0.59254587,\n        -0.59217241, -0.59269919, -0.59328971, -0.59440764, -0.595249  ,\n        -0.59505761, -0.59465799, -0.59505602, -0.59485955, -0.59505448,\n        -0.59525063, -0.594881  , -0.59504227, -0.59454726]),\n 'split3_test_score': array([-0.53011512, -0.5302896 , -0.53375891, -0.53796838, -0.53818384,\n        -0.53841227, -0.54155497, -0.54127072, -0.53893198, -0.53694931,\n        -0.53559296, -0.53579371, -0.53633914, -0.53613675, -0.53766008,\n        -0.53808014, -0.53737783, -0.53821422, -0.54006866, -0.53915033,\n        -0.53910651, -0.5418113 , -0.54205153, -0.54177367, -0.54145539,\n        -0.54229535, -0.54201152, -0.54227757, -0.54275849, -0.54262437,\n        -0.54428386, -0.54185788, -0.54163499, -0.54194292, -0.54276982,\n        -0.54440156, -0.54458691, -0.54635623, -0.54797203, -0.54983329,\n        -0.54968124, -0.55020421, -0.55094411, -0.55058278, -0.55226306,\n        -0.55166694, -0.55138021, -0.55056633, -0.55212149, -0.55355062,\n        -0.55312355, -0.55355387, -0.55507814, -0.55606282, -0.55727677,\n        -0.55805294, -0.55972115, -0.56147904, -0.56139461, -0.56188373,\n        -0.56280428, -0.56379019, -0.56422752, -0.56446951, -0.56485273,\n        -0.56533314, -0.56549182, -0.56483573, -0.56550258, -0.56555519,\n        -0.56582941, -0.56587019, -0.56509416, -0.56566864, -0.56610452,\n        -0.56565637, -0.56597335, -0.56639498, -0.56553902, -0.56570312,\n        -0.5653503 , -0.56621373, -0.56594604, -0.56625317, -0.56593498,\n        -0.5665077 , -0.567393  , -0.56735499, -0.56668849]),\n 'split4_test_score': array([-0.49882972, -0.50306321, -0.50656226, -0.5050445 , -0.50067391,\n        -0.50142935, -0.50049865, -0.50120672, -0.49738612, -0.4979104 ,\n        -0.49539381, -0.49452402, -0.49458476, -0.49362991, -0.49171729,\n        -0.49086659, -0.4928611 , -0.49428258, -0.49529442, -0.4975188 ,\n        -0.49803098, -0.49964266, -0.49951555, -0.49977994, -0.49760626,\n        -0.4964862 , -0.49660217, -0.49860194, -0.50168403, -0.50263393,\n        -0.50179583, -0.50301562, -0.50408878, -0.5023082 , -0.50273771,\n        -0.50321337, -0.50398461, -0.50369685, -0.5037166 , -0.50389875,\n        -0.50387455, -0.50427845, -0.5043911 , -0.50386039, -0.50447689,\n        -0.50349726, -0.50251398, -0.50234348, -0.50251959, -0.50281711,\n        -0.50351861, -0.5035876 , -0.50432171, -0.50537262, -0.50562946,\n        -0.50580192, -0.50659842, -0.50557243, -0.50623618, -0.50717534,\n        -0.50750189, -0.5069882 , -0.50801568, -0.50916943, -0.5090484 ,\n        -0.51004958, -0.51072169, -0.51189076, -0.51253675, -0.51177592,\n        -0.51173563, -0.51241932, -0.51232814, -0.51150765, -0.51149639,\n        -0.51108724, -0.511357  , -0.51108514, -0.51121381, -0.50975371,\n        -0.50911166, -0.50927457, -0.5102976 , -0.50998351, -0.50966127,\n        -0.50998182, -0.51053862, -0.5108116 , -0.5106834 ]),\n 'mean_test_score': array([-0.54395548, -0.54153359, -0.5438301 , -0.54462081, -0.54543585,\n        -0.54694185, -0.54721399, -0.54692547, -0.54614567, -0.54585054,\n        -0.54530832, -0.54433504, -0.5430288 , -0.54270978, -0.54234927,\n        -0.54201436, -0.54137263, -0.5423669 , -0.54421342, -0.54476116,\n        -0.54459453, -0.54553461, -0.54544282, -0.54560626, -0.54524453,\n        -0.54522174, -0.54540104, -0.54579564, -0.546869  , -0.54727882,\n        -0.54733401, -0.54710797, -0.54716043, -0.5465205 , -0.54689177,\n        -0.54746704, -0.54783512, -0.54883269, -0.54958863, -0.55005795,\n        -0.55017095, -0.55031452, -0.55040105, -0.55079079, -0.55146586,\n        -0.55106399, -0.5511133 , -0.5513241 , -0.55209404, -0.55233293,\n        -0.55330771, -0.55389286, -0.55475231, -0.5554792 , -0.55566323,\n        -0.55636127, -0.55717609, -0.55807745, -0.55835853, -0.55902251,\n        -0.55940643, -0.55945401, -0.56018964, -0.5607476 , -0.56107848,\n        -0.56150759, -0.56240464, -0.56285278, -0.56347877, -0.56370308,\n        -0.56391406, -0.56407033, -0.56415164, -0.56422307, -0.56476934,\n        -0.56463677, -0.5651255 , -0.56566569, -0.56579737, -0.56575822,\n        -0.56584929, -0.5663473 , -0.5666994 , -0.56677173, -0.56681463,\n        -0.56709586, -0.5673484 , -0.56755023, -0.56735643]),\n 'std_test_score': array([0.02604314, 0.02227234, 0.02134639, 0.02208041, 0.02512965,\n        0.02561449, 0.02554862, 0.02565118, 0.02812745, 0.02830192,\n        0.02965359, 0.02944028, 0.02886959, 0.02951809, 0.03011175,\n        0.0304628 , 0.02974557, 0.03033924, 0.03110848, 0.03062617,\n        0.03020641, 0.03002029, 0.02951691, 0.02990984, 0.03071138,\n        0.03104066, 0.03124634, 0.03059207, 0.03019104, 0.02983997,\n        0.03011977, 0.02960701, 0.02882709, 0.02916806, 0.02926555,\n        0.02889833, 0.02856959, 0.02885344, 0.02888718, 0.02891699,\n        0.0289138 , 0.02871403, 0.02861686, 0.02904163, 0.02889904,\n        0.02911566, 0.02973115, 0.03016384, 0.03025774, 0.03046891,\n        0.03108362, 0.0314018 , 0.03113091, 0.0310537 , 0.03107289,\n        0.03111542, 0.03094766, 0.0315121 , 0.03134184, 0.03105866,\n        0.03112377, 0.03155591, 0.03131595, 0.03084418, 0.03118559,\n        0.03105424, 0.03127609, 0.03085143, 0.03080312, 0.0312085 ,\n        0.03124984, 0.03074785, 0.03053928, 0.03094168, 0.03112148,\n        0.03120726, 0.03129751, 0.03151055, 0.03153438, 0.0323784 ,\n        0.03277865, 0.03283449, 0.03257816, 0.03271077, 0.03288722,\n        0.03286286, 0.0326183 , 0.03249525, 0.03238854]),\n 'rank_test_score': array([ 9,  2,  8, 13, 19, 30, 33, 29, 25, 24, 17, 11,  7,  6,  4,  3,  1,\n         5, 10, 14, 12, 21, 20, 22, 16, 15, 18, 23, 27, 34, 35, 31, 32, 26,\n        28, 36, 37, 38, 39, 40, 41, 42, 43, 44, 48, 45, 46, 47, 49, 50, 51,\n        52, 53, 54, 55, 56, 57, 58, 59, 60, 61, 62, 63, 64, 65, 66, 67, 68,\n        69, 70, 71, 72, 73, 74, 76, 75, 77, 78, 80, 79, 81, 82, 83, 84, 85,\n        86, 87, 89, 88], dtype=int32)}"
     },
     "metadata": {}
    }
   ],
   "execution_count": null
  },
  {
   "cell_type": "code",
   "metadata": {
    "tags": [],
    "cell_id": "00043-5362229f-96ed-4108-b35a-57a53f6f87f5",
    "deepnote_to_be_reexecuted": false,
    "source_hash": "1ea41b06",
    "execution_start": 1620805027657,
    "execution_millis": 1512,
    "deepnote_cell_type": "code"
   },
   "source": "#v2\n\nneigh2 = KNeighborsRegressor(n_neighbors=11)\n\nneigh2.fit(X_train, y_train)\n\ny_pred_train_knn2 = neigh2.predict(X_train)\ny_pred_test_knn2  = neigh2.predict(X_test)\n\nperformance_knn, RMSE_y_pred_train_knn2,RMSE_y_pred_test_knn2 = model_performance(y_train, y_pred_train_knn2, y_test, y_pred_test_knn2)\nperformance_knn",
   "outputs": [
    {
     "output_type": "execute_result",
     "execution_count": 28,
     "data": {
      "application/vnd.deepnote.dataframe.v2+json": {
       "row_count": 6,
       "column_count": 3,
       "columns": [
        {
         "name": "Error_metric",
         "dtype": "object",
         "stats": {
          "unique_count": 6,
          "nan_count": 0,
          "categories": [
           {
            "name": "Mean error",
            "count": 1
           },
           {
            "name": "Mean absolute error",
            "count": 1
           },
           {
            "name": "4 others",
            "count": 4
           }
          ]
         }
        },
        {
         "name": "Train",
         "dtype": "float64",
         "stats": {
          "unique_count": 6,
          "nan_count": 0,
          "min": "-0.047002321664314686",
          "max": "7.276542437294929",
          "histogram": [
           {
            "bin_start": -0.047002321664314686,
            "bin_end": 0.6853521542316097,
            "count": 4
           },
           {
            "bin_start": 0.6853521542316097,
            "bin_end": 1.417706630127534,
            "count": 1
           },
           {
            "bin_start": 1.417706630127534,
            "bin_end": 2.1500611060234585,
            "count": 0
           },
           {
            "bin_start": 2.1500611060234585,
            "bin_end": 2.882415581919383,
            "count": 0
           },
           {
            "bin_start": 2.882415581919383,
            "bin_end": 3.6147700578153072,
            "count": 0
           },
           {
            "bin_start": 3.6147700578153072,
            "bin_end": 4.347124533711232,
            "count": 0
           },
           {
            "bin_start": 4.347124533711232,
            "bin_end": 5.079479009607156,
            "count": 0
           },
           {
            "bin_start": 5.079479009607156,
            "bin_end": 5.81183348550308,
            "count": 0
           },
           {
            "bin_start": 5.81183348550308,
            "bin_end": 6.544187961399005,
            "count": 0
           },
           {
            "bin_start": 6.544187961399005,
            "bin_end": 7.276542437294929,
            "count": 1
           }
          ]
         }
        },
        {
         "name": "Test",
         "dtype": "float64",
         "stats": {
          "unique_count": 6,
          "nan_count": 0,
          "min": "-0.03621803621803624",
          "max": "7.55831818963132",
          "histogram": [
           {
            "bin_start": -0.03621803621803624,
            "bin_end": 0.7232355863668994,
            "count": 5
           },
           {
            "bin_start": 0.7232355863668994,
            "bin_end": 1.482689208951835,
            "count": 0
           },
           {
            "bin_start": 1.482689208951835,
            "bin_end": 2.2421428315367704,
            "count": 0
           },
           {
            "bin_start": 2.2421428315367704,
            "bin_end": 3.001596454121706,
            "count": 0
           },
           {
            "bin_start": 3.001596454121706,
            "bin_end": 3.761050076706642,
            "count": 0
           },
           {
            "bin_start": 3.761050076706642,
            "bin_end": 4.520503699291577,
            "count": 0
           },
           {
            "bin_start": 4.520503699291577,
            "bin_end": 5.2799573218765135,
            "count": 0
           },
           {
            "bin_start": 5.2799573218765135,
            "bin_end": 6.039410944461449,
            "count": 0
           },
           {
            "bin_start": 6.039410944461449,
            "bin_end": 6.798864567046384,
            "count": 0
           },
           {
            "bin_start": 6.798864567046384,
            "bin_end": 7.55831818963132,
            "count": 1
           }
          ]
         }
        },
        {
         "name": "_deepnote_index_column",
         "dtype": "int64"
        }
       ],
       "rows_top": [
        {
         "Error_metric": "Mean error",
         "Train": -0.047002321664314686,
         "Test": -0.03621803621803624,
         "_deepnote_index_column": 0
        },
        {
         "Error_metric": "Mean absolute error",
         "Train": 0.5094687485774115,
         "Test": 0.5399945399945401,
         "_deepnote_index_column": 1
        },
        {
         "Error_metric": "Mean squared error",
         "Train": 0.43573417978206974,
         "Test": 0.48273066454884633,
         "_deepnote_index_column": 2
        },
        {
         "Error_metric": "Root mean squared error",
         "Train": 0.6601016435232302,
         "Test": 0.6947882156087899,
         "_deepnote_index_column": 3
        },
        {
         "Error_metric": "Mean absolute percentual error",
         "Train": 7.276542437294929,
         "Test": 7.55831818963132,
         "_deepnote_index_column": 4
        },
        {
         "Error_metric": "R2",
         "Train": 0.7428975003542015,
         "Test": 0.7005106936422599,
         "_deepnote_index_column": 5
        }
       ],
       "rows_bottom": null
      },
      "text/plain": "                     Error_metric  Train  Test\n0                      Mean error  -0.05 -0.04\n1             Mean absolute error   0.51  0.54\n2              Mean squared error   0.44  0.48\n3         Root mean squared error   0.66  0.69\n4  Mean absolute percentual error   7.28  7.56\n5                              R2   0.74  0.70",
      "text/html": "<div>\n<style scoped>\n    .dataframe tbody tr th:only-of-type {\n        vertical-align: middle;\n    }\n\n    .dataframe tbody tr th {\n        vertical-align: top;\n    }\n\n    .dataframe thead th {\n        text-align: right;\n    }\n</style>\n<table border=\"1\" class=\"dataframe\">\n  <thead>\n    <tr style=\"text-align: right;\">\n      <th></th>\n      <th>Error_metric</th>\n      <th>Train</th>\n      <th>Test</th>\n    </tr>\n  </thead>\n  <tbody>\n    <tr>\n      <th>0</th>\n      <td>Mean error</td>\n      <td>-0.05</td>\n      <td>-0.04</td>\n    </tr>\n    <tr>\n      <th>1</th>\n      <td>Mean absolute error</td>\n      <td>0.51</td>\n      <td>0.54</td>\n    </tr>\n    <tr>\n      <th>2</th>\n      <td>Mean squared error</td>\n      <td>0.44</td>\n      <td>0.48</td>\n    </tr>\n    <tr>\n      <th>3</th>\n      <td>Root mean squared error</td>\n      <td>0.66</td>\n      <td>0.69</td>\n    </tr>\n    <tr>\n      <th>4</th>\n      <td>Mean absolute percentual error</td>\n      <td>7.28</td>\n      <td>7.56</td>\n    </tr>\n    <tr>\n      <th>5</th>\n      <td>R2</td>\n      <td>0.74</td>\n      <td>0.70</td>\n    </tr>\n  </tbody>\n</table>\n</div>"
     },
     "metadata": {}
    }
   ],
   "execution_count": null
  },
  {
   "cell_type": "markdown",
   "source": "## RandomForestRegressor",
   "metadata": {
    "tags": [],
    "cell_id": "00047-3c8139af-1454-4f7b-8974-14af33cae59b",
    "deepnote_cell_type": "text-cell-h2"
   }
  },
  {
   "cell_type": "code",
   "metadata": {
    "tags": [],
    "cell_id": "00048-5080bbd6-f8a5-4f19-a512-99138bc3676f",
    "deepnote_to_be_reexecuted": false,
    "source_hash": "f15e6b3e",
    "execution_start": 1620807022117,
    "execution_millis": 6267,
    "deepnote_cell_type": "code"
   },
   "source": "rf_reg = rfr(random_state=1123)\n\nrf_reg.fit(X_train,y_train)\nrf_pred_tr = rf_reg.predict(X_train)\nrf_pred_ts = rf_reg.predict(X_test)\n\n#y_val_rfr = rf_reg.predict(X_val)\n\n#sub_rfr = X_val.copy()\n#sub_rfr['quality']= y_val_rfr\n\n#sub_rfr.to_csv('./try_rfr.csv')\n\nperf,RMSE_rf_train, RMSE_rf_test =model_performance(y_train,rf_pred_tr,y_test,rf_pred_ts)\nperf",
   "outputs": [
    {
     "output_type": "error",
     "ename": "ValueError",
     "evalue": "X has 16 features, but DecisionTreeRegressor is expecting 17 features as input.",
     "traceback": [
      "\u001b[0;31m---------------------------------------------------------------------------\u001b[0m",
      "\u001b[0;31mValueError\u001b[0m                                Traceback (most recent call last)",
      "\u001b[0;32m<ipython-input-56-6806236bc4a6>\u001b[0m in \u001b[0;36m<module>\u001b[0;34m\u001b[0m\n\u001b[1;32m      5\u001b[0m \u001b[0mrf_pred_ts\u001b[0m \u001b[0;34m=\u001b[0m \u001b[0mrf_reg\u001b[0m\u001b[0;34m.\u001b[0m\u001b[0mpredict\u001b[0m\u001b[0;34m(\u001b[0m\u001b[0mX_test\u001b[0m\u001b[0;34m)\u001b[0m\u001b[0;34m\u001b[0m\u001b[0;34m\u001b[0m\u001b[0m\n\u001b[1;32m      6\u001b[0m \u001b[0;34m\u001b[0m\u001b[0m\n\u001b[0;32m----> 7\u001b[0;31m \u001b[0my_val_rfr\u001b[0m \u001b[0;34m=\u001b[0m \u001b[0mrf_reg\u001b[0m\u001b[0;34m.\u001b[0m\u001b[0mpredict\u001b[0m\u001b[0;34m(\u001b[0m\u001b[0mX_val\u001b[0m\u001b[0;34m)\u001b[0m\u001b[0;34m\u001b[0m\u001b[0;34m\u001b[0m\u001b[0m\n\u001b[0m\u001b[1;32m      8\u001b[0m \u001b[0;34m\u001b[0m\u001b[0m\n\u001b[1;32m      9\u001b[0m \u001b[0msub_rfr\u001b[0m \u001b[0;34m=\u001b[0m \u001b[0mX_val\u001b[0m\u001b[0;34m.\u001b[0m\u001b[0mcopy\u001b[0m\u001b[0;34m(\u001b[0m\u001b[0;34m)\u001b[0m\u001b[0;34m\u001b[0m\u001b[0;34m\u001b[0m\u001b[0m\n",
      "\u001b[0;32m/shared-libs/python3.7/py/lib/python3.7/site-packages/sklearn/ensemble/_forest.py\u001b[0m in \u001b[0;36mpredict\u001b[0;34m(self, X)\u001b[0m\n\u001b[1;32m    782\u001b[0m         \u001b[0mcheck_is_fitted\u001b[0m\u001b[0;34m(\u001b[0m\u001b[0mself\u001b[0m\u001b[0;34m)\u001b[0m\u001b[0;34m\u001b[0m\u001b[0;34m\u001b[0m\u001b[0m\n\u001b[1;32m    783\u001b[0m         \u001b[0;31m# Check data\u001b[0m\u001b[0;34m\u001b[0m\u001b[0;34m\u001b[0m\u001b[0;34m\u001b[0m\u001b[0m\n\u001b[0;32m--> 784\u001b[0;31m         \u001b[0mX\u001b[0m \u001b[0;34m=\u001b[0m \u001b[0mself\u001b[0m\u001b[0;34m.\u001b[0m\u001b[0m_validate_X_predict\u001b[0m\u001b[0;34m(\u001b[0m\u001b[0mX\u001b[0m\u001b[0;34m)\u001b[0m\u001b[0;34m\u001b[0m\u001b[0;34m\u001b[0m\u001b[0m\n\u001b[0m\u001b[1;32m    785\u001b[0m \u001b[0;34m\u001b[0m\u001b[0m\n\u001b[1;32m    786\u001b[0m         \u001b[0;31m# Assign chunk of trees to jobs\u001b[0m\u001b[0;34m\u001b[0m\u001b[0;34m\u001b[0m\u001b[0;34m\u001b[0m\u001b[0m\n",
      "\u001b[0;32m/shared-libs/python3.7/py/lib/python3.7/site-packages/sklearn/ensemble/_forest.py\u001b[0m in \u001b[0;36m_validate_X_predict\u001b[0;34m(self, X)\u001b[0m\n\u001b[1;32m    420\u001b[0m         \u001b[0mcheck_is_fitted\u001b[0m\u001b[0;34m(\u001b[0m\u001b[0mself\u001b[0m\u001b[0;34m)\u001b[0m\u001b[0;34m\u001b[0m\u001b[0;34m\u001b[0m\u001b[0m\n\u001b[1;32m    421\u001b[0m \u001b[0;34m\u001b[0m\u001b[0m\n\u001b[0;32m--> 422\u001b[0;31m         \u001b[0;32mreturn\u001b[0m \u001b[0mself\u001b[0m\u001b[0;34m.\u001b[0m\u001b[0mestimators_\u001b[0m\u001b[0;34m[\u001b[0m\u001b[0;36m0\u001b[0m\u001b[0;34m]\u001b[0m\u001b[0;34m.\u001b[0m\u001b[0m_validate_X_predict\u001b[0m\u001b[0;34m(\u001b[0m\u001b[0mX\u001b[0m\u001b[0;34m,\u001b[0m \u001b[0mcheck_input\u001b[0m\u001b[0;34m=\u001b[0m\u001b[0;32mTrue\u001b[0m\u001b[0;34m)\u001b[0m\u001b[0;34m\u001b[0m\u001b[0;34m\u001b[0m\u001b[0m\n\u001b[0m\u001b[1;32m    423\u001b[0m \u001b[0;34m\u001b[0m\u001b[0m\n\u001b[1;32m    424\u001b[0m     \u001b[0;34m@\u001b[0m\u001b[0mproperty\u001b[0m\u001b[0;34m\u001b[0m\u001b[0;34m\u001b[0m\u001b[0m\n",
      "\u001b[0;32m/shared-libs/python3.7/py/lib/python3.7/site-packages/sklearn/tree/_classes.py\u001b[0m in \u001b[0;36m_validate_X_predict\u001b[0;34m(self, X, check_input)\u001b[0m\n\u001b[1;32m    406\u001b[0m         \u001b[0;32mif\u001b[0m \u001b[0mcheck_input\u001b[0m\u001b[0;34m:\u001b[0m\u001b[0;34m\u001b[0m\u001b[0;34m\u001b[0m\u001b[0m\n\u001b[1;32m    407\u001b[0m             X = self._validate_data(X, dtype=DTYPE, accept_sparse=\"csr\",\n\u001b[0;32m--> 408\u001b[0;31m                                     reset=False)\n\u001b[0m\u001b[1;32m    409\u001b[0m             if issparse(X) and (X.indices.dtype != np.intc or\n\u001b[1;32m    410\u001b[0m                                 X.indptr.dtype != np.intc):\n",
      "\u001b[0;32m/shared-libs/python3.7/py/lib/python3.7/site-packages/sklearn/base.py\u001b[0m in \u001b[0;36m_validate_data\u001b[0;34m(self, X, y, reset, validate_separately, **check_params)\u001b[0m\n\u001b[1;32m    435\u001b[0m \u001b[0;34m\u001b[0m\u001b[0m\n\u001b[1;32m    436\u001b[0m         \u001b[0;32mif\u001b[0m \u001b[0mcheck_params\u001b[0m\u001b[0;34m.\u001b[0m\u001b[0mget\u001b[0m\u001b[0;34m(\u001b[0m\u001b[0;34m'ensure_2d'\u001b[0m\u001b[0;34m,\u001b[0m \u001b[0;32mTrue\u001b[0m\u001b[0;34m)\u001b[0m\u001b[0;34m:\u001b[0m\u001b[0;34m\u001b[0m\u001b[0;34m\u001b[0m\u001b[0m\n\u001b[0;32m--> 437\u001b[0;31m             \u001b[0mself\u001b[0m\u001b[0;34m.\u001b[0m\u001b[0m_check_n_features\u001b[0m\u001b[0;34m(\u001b[0m\u001b[0mX\u001b[0m\u001b[0;34m,\u001b[0m \u001b[0mreset\u001b[0m\u001b[0;34m=\u001b[0m\u001b[0mreset\u001b[0m\u001b[0;34m)\u001b[0m\u001b[0;34m\u001b[0m\u001b[0;34m\u001b[0m\u001b[0m\n\u001b[0m\u001b[1;32m    438\u001b[0m \u001b[0;34m\u001b[0m\u001b[0m\n\u001b[1;32m    439\u001b[0m         \u001b[0;32mreturn\u001b[0m \u001b[0mout\u001b[0m\u001b[0;34m\u001b[0m\u001b[0;34m\u001b[0m\u001b[0m\n",
      "\u001b[0;32m/shared-libs/python3.7/py/lib/python3.7/site-packages/sklearn/base.py\u001b[0m in \u001b[0;36m_check_n_features\u001b[0;34m(self, X, reset)\u001b[0m\n\u001b[1;32m    364\u001b[0m         \u001b[0;32mif\u001b[0m \u001b[0mn_features\u001b[0m \u001b[0;34m!=\u001b[0m \u001b[0mself\u001b[0m\u001b[0;34m.\u001b[0m\u001b[0mn_features_in_\u001b[0m\u001b[0;34m:\u001b[0m\u001b[0;34m\u001b[0m\u001b[0;34m\u001b[0m\u001b[0m\n\u001b[1;32m    365\u001b[0m             raise ValueError(\n\u001b[0;32m--> 366\u001b[0;31m                 \u001b[0;34mf\"X has {n_features} features, but {self.__class__.__name__} \"\u001b[0m\u001b[0;34m\u001b[0m\u001b[0;34m\u001b[0m\u001b[0m\n\u001b[0m\u001b[1;32m    367\u001b[0m                 f\"is expecting {self.n_features_in_} features as input.\")\n\u001b[1;32m    368\u001b[0m \u001b[0;34m\u001b[0m\u001b[0m\n",
      "\u001b[0;31mValueError\u001b[0m: X has 16 features, but DecisionTreeRegressor is expecting 17 features as input."
     ]
    }
   ],
   "execution_count": null
  },
  {
   "cell_type": "code",
   "metadata": {
    "tags": [],
    "cell_id": "00045-c48e8894-a8be-4f3e-96af-1dd5b052243e",
    "deepnote_to_be_reexecuted": false,
    "source_hash": "b7aeba66",
    "execution_start": 1620805054914,
    "execution_millis": 4,
    "deepnote_cell_type": "code"
   },
   "source": "#Playing with parameters\n\n#rfr_mod = rfr(random_state=1123)\n\n#rfr_play = GridSearchCV(rfr_mod,param_grid={'min_samples_split':list(range(2,20))},scoring='neg_mean_squared_error')\n\n#rfr_play.fit(X_train,y_train)\n\n#print(rfr_play.best_estimator_)\n#print(rfr_play.best_score_)\n\n#rfr_play.cv_results_",
   "outputs": [],
   "execution_count": null
  },
  {
   "cell_type": "code",
   "metadata": {
    "tags": [],
    "cell_id": "00049-c66c280b-21ac-4bf2-9de8-a53d5a9ac1e3",
    "deepnote_to_be_reexecuted": false,
    "source_hash": "2c02465e",
    "execution_start": 1620805057293,
    "execution_millis": 4488,
    "deepnote_cell_type": "code"
   },
   "source": "#v2\n\nrf2_reg = rfr(random_state=1123,max_depth=9)\n\nrf2_reg.fit(X_train,y_train)\nrf2_pred_tr = rf2_reg.predict(X_train)\nrf2_pred_ts = rf2_reg.predict(X_test)\n\nperf,RMSE_rf2_train, RMSE_rf2_test =model_performance(y_train,rf2_pred_tr,y_test,rf2_pred_ts)\nperf\n\n",
   "outputs": [
    {
     "output_type": "execute_result",
     "execution_count": 32,
     "data": {
      "application/vnd.deepnote.dataframe.v2+json": {
       "row_count": 6,
       "column_count": 3,
       "columns": [
        {
         "name": "Error_metric",
         "dtype": "object",
         "stats": {
          "unique_count": 6,
          "nan_count": 0,
          "categories": [
           {
            "name": "Mean error",
            "count": 1
           },
           {
            "name": "Mean absolute error",
            "count": 1
           },
           {
            "name": "4 others",
            "count": 4
           }
          ]
         }
        },
        {
         "name": "Train",
         "dtype": "float64",
         "stats": {
          "unique_count": 6,
          "nan_count": 0,
          "min": "-0.004635233156018964",
          "max": "5.665835783851081",
          "histogram": [
           {
            "bin_start": -0.004635233156018964,
            "bin_end": 0.562411868544691,
            "count": 4
           },
           {
            "bin_start": 0.562411868544691,
            "bin_end": 1.1294589702454012,
            "count": 1
           },
           {
            "bin_start": 1.1294589702454012,
            "bin_end": 1.6965060719461111,
            "count": 0
           },
           {
            "bin_start": 1.6965060719461111,
            "bin_end": 2.2635531736468213,
            "count": 0
           },
           {
            "bin_start": 2.2635531736468213,
            "bin_end": 2.8306002753475314,
            "count": 0
           },
           {
            "bin_start": 2.8306002753475314,
            "bin_end": 3.397647377048241,
            "count": 0
           },
           {
            "bin_start": 3.397647377048241,
            "bin_end": 3.9646944787489513,
            "count": 0
           },
           {
            "bin_start": 3.9646944787489513,
            "bin_end": 4.531741580449661,
            "count": 0
           },
           {
            "bin_start": 4.531741580449661,
            "bin_end": 5.098788682150371,
            "count": 0
           },
           {
            "bin_start": 5.098788682150371,
            "bin_end": 5.665835783851081,
            "count": 1
           }
          ]
         }
        },
        {
         "name": "Test",
         "dtype": "float64",
         "stats": {
          "unique_count": 6,
          "nan_count": 0,
          "min": "-0.00996041759471341",
          "max": "6.873595107531075",
          "histogram": [
           {
            "bin_start": -0.00996041759471341,
            "bin_end": 0.6783951349178653,
            "count": 4
           },
           {
            "bin_start": 0.6783951349178653,
            "bin_end": 1.366750687430444,
            "count": 1
           },
           {
            "bin_start": 1.366750687430444,
            "bin_end": 2.0551062399430227,
            "count": 0
           },
           {
            "bin_start": 2.0551062399430227,
            "bin_end": 2.7434617924556015,
            "count": 0
           },
           {
            "bin_start": 2.7434617924556015,
            "bin_end": 3.4318173449681804,
            "count": 0
           },
           {
            "bin_start": 3.4318173449681804,
            "bin_end": 4.120172897480759,
            "count": 0
           },
           {
            "bin_start": 4.120172897480759,
            "bin_end": 4.8085284499933385,
            "count": 0
           },
           {
            "bin_start": 4.8085284499933385,
            "bin_end": 5.496884002505917,
            "count": 0
           },
           {
            "bin_start": 5.496884002505917,
            "bin_end": 6.185239555018495,
            "count": 0
           },
           {
            "bin_start": 6.185239555018495,
            "bin_end": 6.873595107531075,
            "count": 1
           }
          ]
         }
        },
        {
         "name": "_deepnote_index_column",
         "dtype": "int64"
        }
       ],
       "rows_top": [
        {
         "Error_metric": "Mean error",
         "Train": -0.004635233156018964,
         "Test": -0.00996041759471341,
         "_deepnote_index_column": 0
        },
        {
         "Error_metric": "Mean absolute error",
         "Train": 0.41125512718090645,
         "Test": 0.4965693076771392,
         "_deepnote_index_column": 1
        },
        {
         "Error_metric": "Mean squared error",
         "Train": 0.26735205542895496,
         "Test": 0.4090157127600429,
         "_deepnote_index_column": 2
        },
        {
         "Error_metric": "Root mean squared error",
         "Train": 0.5170609784435052,
         "Test": 0.6395433626893824,
         "_deepnote_index_column": 3
        },
        {
         "Error_metric": "Mean absolute percentual error",
         "Train": 5.665835783851081,
         "Test": 6.873595107531075,
         "_deepnote_index_column": 4
        },
        {
         "Error_metric": "R2",
         "Train": 0.8422504248562627,
         "Test": 0.7462439387015016,
         "_deepnote_index_column": 5
        }
       ],
       "rows_bottom": null
      },
      "text/plain": "                     Error_metric  Train  Test\n0                      Mean error  -0.00 -0.01\n1             Mean absolute error   0.41  0.50\n2              Mean squared error   0.27  0.41\n3         Root mean squared error   0.52  0.64\n4  Mean absolute percentual error   5.67  6.87\n5                              R2   0.84  0.75",
      "text/html": "<div>\n<style scoped>\n    .dataframe tbody tr th:only-of-type {\n        vertical-align: middle;\n    }\n\n    .dataframe tbody tr th {\n        vertical-align: top;\n    }\n\n    .dataframe thead th {\n        text-align: right;\n    }\n</style>\n<table border=\"1\" class=\"dataframe\">\n  <thead>\n    <tr style=\"text-align: right;\">\n      <th></th>\n      <th>Error_metric</th>\n      <th>Train</th>\n      <th>Test</th>\n    </tr>\n  </thead>\n  <tbody>\n    <tr>\n      <th>0</th>\n      <td>Mean error</td>\n      <td>-0.00</td>\n      <td>-0.01</td>\n    </tr>\n    <tr>\n      <th>1</th>\n      <td>Mean absolute error</td>\n      <td>0.41</td>\n      <td>0.50</td>\n    </tr>\n    <tr>\n      <th>2</th>\n      <td>Mean squared error</td>\n      <td>0.27</td>\n      <td>0.41</td>\n    </tr>\n    <tr>\n      <th>3</th>\n      <td>Root mean squared error</td>\n      <td>0.52</td>\n      <td>0.64</td>\n    </tr>\n    <tr>\n      <th>4</th>\n      <td>Mean absolute percentual error</td>\n      <td>5.67</td>\n      <td>6.87</td>\n    </tr>\n    <tr>\n      <th>5</th>\n      <td>R2</td>\n      <td>0.84</td>\n      <td>0.75</td>\n    </tr>\n  </tbody>\n</table>\n</div>"
     },
     "metadata": {}
    }
   ],
   "execution_count": null
  },
  {
   "cell_type": "markdown",
   "source": "## AdaBoostRegressor",
   "metadata": {
    "tags": [],
    "cell_id": "00048-b93be543-4f00-4fc3-886d-dd5023c643ce",
    "deepnote_cell_type": "text-cell-h2"
   }
  },
  {
   "cell_type": "code",
   "metadata": {
    "tags": [],
    "cell_id": "00049-36911829-b019-48fa-9cf5-82523d1621ce",
    "deepnote_to_be_reexecuted": false,
    "source_hash": "39d28ddc",
    "execution_start": 1620805061807,
    "execution_millis": 543,
    "deepnote_cell_type": "code"
   },
   "source": "ab_reg = abr(random_state=1123)\n\nab_reg.fit(X_train,y_train)\nab_pred_tr = ab_reg.predict(X_train)\nab_pred_ts = ab_reg.predict(X_test)\n\nperf,RMSE_ab_train, RMSE_ab_test =model_performance(y_train,ab_pred_tr,y_test,ab_pred_ts)\nperf",
   "outputs": [
    {
     "output_type": "execute_result",
     "execution_count": 33,
     "data": {
      "application/vnd.deepnote.dataframe.v2+json": {
       "row_count": 6,
       "column_count": 3,
       "columns": [
        {
         "name": "Error_metric",
         "dtype": "object",
         "stats": {
          "unique_count": 6,
          "nan_count": 0,
          "categories": [
           {
            "name": "Mean error",
            "count": 1
           },
           {
            "name": "Mean absolute error",
            "count": 1
           },
           {
            "name": "4 others",
            "count": 4
           }
          ]
         }
        },
        {
         "name": "Train",
         "dtype": "float64",
         "stats": {
          "unique_count": 6,
          "nan_count": 0,
          "min": "-0.07200652402626105",
          "max": "8.47859691471425",
          "histogram": [
           {
            "bin_start": -0.07200652402626105,
            "bin_end": 0.7830538198477901,
            "count": 5
           },
           {
            "bin_start": 0.7830538198477901,
            "bin_end": 1.6381141637218413,
            "count": 0
           },
           {
            "bin_start": 1.6381141637218413,
            "bin_end": 2.4931745075958927,
            "count": 0
           },
           {
            "bin_start": 2.4931745075958927,
            "bin_end": 3.3482348514699436,
            "count": 0
           },
           {
            "bin_start": 3.3482348514699436,
            "bin_end": 4.203295195343995,
            "count": 0
           },
           {
            "bin_start": 4.203295195343995,
            "bin_end": 5.058355539218047,
            "count": 0
           },
           {
            "bin_start": 5.058355539218047,
            "bin_end": 5.913415883092098,
            "count": 0
           },
           {
            "bin_start": 5.913415883092098,
            "bin_end": 6.768476226966149,
            "count": 0
           },
           {
            "bin_start": 6.768476226966149,
            "bin_end": 7.6235365708402,
            "count": 0
           },
           {
            "bin_start": 7.6235365708402,
            "bin_end": 8.47859691471425,
            "count": 1
           }
          ]
         }
        },
        {
         "name": "Test",
         "dtype": "float64",
         "stats": {
          "unique_count": 6,
          "nan_count": 0,
          "min": "-0.066005409991986",
          "max": "8.014468180058799",
          "histogram": [
           {
            "bin_start": -0.066005409991986,
            "bin_end": 0.7420419490130925,
            "count": 5
           },
           {
            "bin_start": 0.7420419490130925,
            "bin_end": 1.550089308018171,
            "count": 0
           },
           {
            "bin_start": 1.550089308018171,
            "bin_end": 2.35813666702325,
            "count": 0
           },
           {
            "bin_start": 2.35813666702325,
            "bin_end": 3.1661840260283283,
            "count": 0
           },
           {
            "bin_start": 3.1661840260283283,
            "bin_end": 3.9742313850334066,
            "count": 0
           },
           {
            "bin_start": 3.9742313850334066,
            "bin_end": 4.782278744038486,
            "count": 0
           },
           {
            "bin_start": 4.782278744038486,
            "bin_end": 5.590326103043564,
            "count": 0
           },
           {
            "bin_start": 5.590326103043564,
            "bin_end": 6.398373462048642,
            "count": 0
           },
           {
            "bin_start": 6.398373462048642,
            "bin_end": 7.206420821053721,
            "count": 0
           },
           {
            "bin_start": 7.206420821053721,
            "bin_end": 8.014468180058799,
            "count": 1
           }
          ]
         }
        },
        {
         "name": "_deepnote_index_column",
         "dtype": "int64"
        }
       ],
       "rows_top": [
        {
         "Error_metric": "Mean error",
         "Train": -0.07200652402626105,
         "Test": -0.066005409991986,
         "_deepnote_index_column": 0
        },
        {
         "Error_metric": "Mean absolute error",
         "Train": 0.5962450034740167,
         "Test": 0.5722789684156762,
         "_deepnote_index_column": 1
        },
        {
         "Error_metric": "Mean squared error",
         "Train": 0.5593831648357368,
         "Test": 0.5302863802654929,
         "_deepnote_index_column": 2
        },
        {
         "Error_metric": "Root mean squared error",
         "Train": 0.7479192234698456,
         "Test": 0.7282076491396482,
         "_deepnote_index_column": 3
        },
        {
         "Error_metric": "Mean absolute percentual error",
         "Train": 8.47859691471425,
         "Test": 8.014468180058799,
         "_deepnote_index_column": 4
        },
        {
         "Error_metric": "R2",
         "Train": 0.6699391128532173,
         "Test": 0.6710068121628533,
         "_deepnote_index_column": 5
        }
       ],
       "rows_bottom": null
      },
      "text/plain": "                     Error_metric  Train  Test\n0                      Mean error  -0.07 -0.07\n1             Mean absolute error   0.60  0.57\n2              Mean squared error   0.56  0.53\n3         Root mean squared error   0.75  0.73\n4  Mean absolute percentual error   8.48  8.01\n5                              R2   0.67  0.67",
      "text/html": "<div>\n<style scoped>\n    .dataframe tbody tr th:only-of-type {\n        vertical-align: middle;\n    }\n\n    .dataframe tbody tr th {\n        vertical-align: top;\n    }\n\n    .dataframe thead th {\n        text-align: right;\n    }\n</style>\n<table border=\"1\" class=\"dataframe\">\n  <thead>\n    <tr style=\"text-align: right;\">\n      <th></th>\n      <th>Error_metric</th>\n      <th>Train</th>\n      <th>Test</th>\n    </tr>\n  </thead>\n  <tbody>\n    <tr>\n      <th>0</th>\n      <td>Mean error</td>\n      <td>-0.07</td>\n      <td>-0.07</td>\n    </tr>\n    <tr>\n      <th>1</th>\n      <td>Mean absolute error</td>\n      <td>0.60</td>\n      <td>0.57</td>\n    </tr>\n    <tr>\n      <th>2</th>\n      <td>Mean squared error</td>\n      <td>0.56</td>\n      <td>0.53</td>\n    </tr>\n    <tr>\n      <th>3</th>\n      <td>Root mean squared error</td>\n      <td>0.75</td>\n      <td>0.73</td>\n    </tr>\n    <tr>\n      <th>4</th>\n      <td>Mean absolute percentual error</td>\n      <td>8.48</td>\n      <td>8.01</td>\n    </tr>\n    <tr>\n      <th>5</th>\n      <td>R2</td>\n      <td>0.67</td>\n      <td>0.67</td>\n    </tr>\n  </tbody>\n</table>\n</div>"
     },
     "metadata": {}
    }
   ],
   "execution_count": null
  },
  {
   "cell_type": "markdown",
   "source": "## GradientBoostingRegressor",
   "metadata": {
    "tags": [],
    "cell_id": "00051-c0baf64a-241c-4a52-b16a-8b3e2136d6a9",
    "deepnote_cell_type": "text-cell-h2"
   }
  },
  {
   "cell_type": "code",
   "metadata": {
    "tags": [],
    "cell_id": "00052-f6b911e7-826b-4ee6-bfda-cddbde390a08",
    "deepnote_to_be_reexecuted": false,
    "source_hash": "d034edf0",
    "execution_start": 1620805065774,
    "execution_millis": 2322,
    "deepnote_cell_type": "code"
   },
   "source": "gb_reg = gbr(random_state=1123)\n\ngb_reg.fit(X_train,y_train)\ngb_pred_tr = gb_reg.predict(X_train)\ngb_pred_ts = gb_reg.predict(X_test)\n\ny_val_gbr = gb_reg.predict(X_val)\n\nsub_gbr = X_val.copy()\nsub_gbr['quality']= y_val_gbr\n\nsub_gbr.to_csv('./try_gbr.csv')\n\nperf,RMSE_grad_train,RMSE_grad_test =model_performance(y_train,gb_pred_tr,y_test,gb_pred_ts)\nperf",
   "outputs": [
    {
     "output_type": "execute_result",
     "execution_count": 34,
     "data": {
      "application/vnd.deepnote.dataframe.v2+json": {
       "row_count": 6,
       "column_count": 3,
       "columns": [
        {
         "name": "Error_metric",
         "dtype": "object",
         "stats": {
          "unique_count": 6,
          "nan_count": 0,
          "categories": [
           {
            "name": "Mean error",
            "count": 1
           },
           {
            "name": "Mean absolute error",
            "count": 1
           },
           {
            "name": "4 others",
            "count": 4
           }
          ]
         }
        },
        {
         "name": "Train",
         "dtype": "float64",
         "stats": {
          "unique_count": 6,
          "nan_count": 0,
          "min": "7.182814961520792e-16",
          "max": "7.001880493196886",
          "histogram": [
           {
            "bin_start": 7.182814961520792e-16,
            "bin_end": 0.7001880493196891,
            "count": 4
           },
           {
            "bin_start": 0.7001880493196891,
            "bin_end": 1.4003760986393776,
            "count": 1
           },
           {
            "bin_start": 1.4003760986393776,
            "bin_end": 2.100564147959066,
            "count": 0
           },
           {
            "bin_start": 2.100564147959066,
            "bin_end": 2.800752197278755,
            "count": 0
           },
           {
            "bin_start": 2.800752197278755,
            "bin_end": 3.5009402465984434,
            "count": 0
           },
           {
            "bin_start": 3.5009402465984434,
            "bin_end": 4.2011282959181315,
            "count": 0
           },
           {
            "bin_start": 4.2011282959181315,
            "bin_end": 4.90131634523782,
            "count": 0
           },
           {
            "bin_start": 4.90131634523782,
            "bin_end": 5.601504394557509,
            "count": 0
           },
           {
            "bin_start": 5.601504394557509,
            "bin_end": 6.301692443877197,
            "count": 0
           },
           {
            "bin_start": 6.301692443877197,
            "bin_end": 7.001880493196886,
            "count": 1
           }
          ]
         }
        },
        {
         "name": "Test",
         "dtype": "float64",
         "stats": {
          "unique_count": 6,
          "nan_count": 0,
          "min": "0.009257011448747646",
          "max": "7.142786275412696",
          "histogram": [
           {
            "bin_start": 0.009257011448747646,
            "bin_end": 0.7226099378451426,
            "count": 4
           },
           {
            "bin_start": 0.7226099378451426,
            "bin_end": 1.4359628642415374,
            "count": 1
           },
           {
            "bin_start": 1.4359628642415374,
            "bin_end": 2.1493157906379325,
            "count": 0
           },
           {
            "bin_start": 2.1493157906379325,
            "bin_end": 2.8626687170343272,
            "count": 0
           },
           {
            "bin_start": 2.8626687170343272,
            "bin_end": 3.576021643430722,
            "count": 0
           },
           {
            "bin_start": 3.576021643430722,
            "bin_end": 4.2893745698271175,
            "count": 0
           },
           {
            "bin_start": 4.2893745698271175,
            "bin_end": 5.002727496223512,
            "count": 0
           },
           {
            "bin_start": 5.002727496223512,
            "bin_end": 5.716080422619907,
            "count": 0
           },
           {
            "bin_start": 5.716080422619907,
            "bin_end": 6.429433349016302,
            "count": 0
           },
           {
            "bin_start": 6.429433349016302,
            "bin_end": 7.142786275412696,
            "count": 1
           }
          ]
         }
        },
        {
         "name": "_deepnote_index_column",
         "dtype": "int64"
        }
       ],
       "rows_top": [
        {
         "Error_metric": "Mean error",
         "Train": 7.182814961520792e-16,
         "Test": 0.009257011448747646,
         "_deepnote_index_column": 0
        },
        {
         "Error_metric": "Mean absolute error",
         "Train": 0.4989768803702099,
         "Test": 0.5158848728067355,
         "_deepnote_index_column": 1
        },
        {
         "Error_metric": "Mean squared error",
         "Train": 0.3997226509513857,
         "Test": 0.4348181527705102,
         "_deepnote_index_column": 2
        },
        {
         "Error_metric": "Root mean squared error",
         "Train": 0.6322362303375105,
         "Test": 0.6594074254741982,
         "_deepnote_index_column": 3
        },
        {
         "Error_metric": "Mean absolute percentual error",
         "Train": 7.001880493196886,
         "Test": 7.142786275412696,
         "_deepnote_index_column": 4
        },
        {
         "Error_metric": "R2",
         "Train": 0.7641459001998742,
         "Test": 0.730235933765055,
         "_deepnote_index_column": 5
        }
       ],
       "rows_bottom": null
      },
      "text/plain": "                     Error_metric  Train  Test\n0                      Mean error   0.00  0.01\n1             Mean absolute error   0.50  0.52\n2              Mean squared error   0.40  0.43\n3         Root mean squared error   0.63  0.66\n4  Mean absolute percentual error   7.00  7.14\n5                              R2   0.76  0.73",
      "text/html": "<div>\n<style scoped>\n    .dataframe tbody tr th:only-of-type {\n        vertical-align: middle;\n    }\n\n    .dataframe tbody tr th {\n        vertical-align: top;\n    }\n\n    .dataframe thead th {\n        text-align: right;\n    }\n</style>\n<table border=\"1\" class=\"dataframe\">\n  <thead>\n    <tr style=\"text-align: right;\">\n      <th></th>\n      <th>Error_metric</th>\n      <th>Train</th>\n      <th>Test</th>\n    </tr>\n  </thead>\n  <tbody>\n    <tr>\n      <th>0</th>\n      <td>Mean error</td>\n      <td>0.00</td>\n      <td>0.01</td>\n    </tr>\n    <tr>\n      <th>1</th>\n      <td>Mean absolute error</td>\n      <td>0.50</td>\n      <td>0.52</td>\n    </tr>\n    <tr>\n      <th>2</th>\n      <td>Mean squared error</td>\n      <td>0.40</td>\n      <td>0.43</td>\n    </tr>\n    <tr>\n      <th>3</th>\n      <td>Root mean squared error</td>\n      <td>0.63</td>\n      <td>0.66</td>\n    </tr>\n    <tr>\n      <th>4</th>\n      <td>Mean absolute percentual error</td>\n      <td>7.00</td>\n      <td>7.14</td>\n    </tr>\n    <tr>\n      <th>5</th>\n      <td>R2</td>\n      <td>0.76</td>\n      <td>0.73</td>\n    </tr>\n  </tbody>\n</table>\n</div>"
     },
     "metadata": {}
    }
   ],
   "execution_count": null
  },
  {
   "cell_type": "code",
   "metadata": {
    "tags": [],
    "cell_id": "00055-0f4ee345-32fa-4db7-98d7-ad549df0f9c5",
    "deepnote_to_be_reexecuted": false,
    "source_hash": "c9099755",
    "execution_start": 1620805071730,
    "execution_millis": 0,
    "deepnote_cell_type": "code"
   },
   "source": "#Playing with parameters\n\n#gb_mod = gbr(random_state=1123,max_depth=7)\n\n#gb_play = GridSearchCV(gb_mod,param_grid={'n_estimators':list(range(100,500,10))},scoring='neg_mean_squared_error')\n\n#gb_play.fit(X_train,y_train)\n\n#print(gb_play.best_estimator_)\n#print(gb_play.best_score_)\n\n#gb_play.cv_results_",
   "outputs": [],
   "execution_count": null
  },
  {
   "cell_type": "code",
   "metadata": {
    "tags": [],
    "cell_id": "00056-cd1dc9e6-3b73-450a-a4d5-133efac6c92d",
    "deepnote_to_be_reexecuted": false,
    "source_hash": "d4753907",
    "execution_start": 1620806126269,
    "execution_millis": 7758,
    "deepnote_cell_type": "code"
   },
   "source": "gb_reg_v2 = gbr(random_state=1123,max_depth=7,n_estimators=268)\n\ngb_reg_v2.fit(X_train,y_train)\ngb_pred2_tr = gb_reg_v2.predict(X_train)\ngb_pred2_ts = gb_reg_v2.predict(X_test)\n\ny_val_gbr_v2 = gb_reg_v2.predict(X_val)\n\nsub_gbr2 = X_val.copy()\nsub_gbr2['quality']= y_val_gbr_v2\n\nsub_gbr2.to_csv('./try_gbr_v2.csv')\n\nperf,RMSE_grad2_train,RMSE_grad2_test =model_performance(y_train,gb_pred2_tr,y_test,gb_pred2_ts)\nperf",
   "outputs": [
    {
     "output_type": "execute_result",
     "execution_count": 43,
     "data": {
      "application/vnd.deepnote.dataframe.v2+json": {
       "row_count": 6,
       "column_count": 3,
       "columns": [
        {
         "name": "Error_metric",
         "dtype": "object",
         "stats": {
          "unique_count": 6,
          "nan_count": 0,
          "categories": [
           {
            "name": "Mean error",
            "count": 1
           },
           {
            "name": "Mean absolute error",
            "count": 1
           },
           {
            "name": "4 others",
            "count": 4
           }
          ]
         }
        },
        {
         "name": "Train",
         "dtype": "float64",
         "stats": {
          "unique_count": 6,
          "nan_count": 0,
          "min": "-4.02615680737876e-16",
          "max": "1.4926724030145195",
          "histogram": [
           {
            "bin_start": -4.02615680737876e-16,
            "bin_end": 0.14926724030145158,
            "count": 4
           },
           {
            "bin_start": 0.14926724030145158,
            "bin_end": 0.2985344806029036,
            "count": 0
           },
           {
            "bin_start": 0.2985344806029036,
            "bin_end": 0.4478017209043556,
            "count": 0
           },
           {
            "bin_start": 0.4478017209043556,
            "bin_end": 0.5970689612058075,
            "count": 0
           },
           {
            "bin_start": 0.5970689612058075,
            "bin_end": 0.7463362015072595,
            "count": 0
           },
           {
            "bin_start": 0.7463362015072595,
            "bin_end": 0.8956034418087115,
            "count": 0
           },
           {
            "bin_start": 0.8956034418087115,
            "bin_end": 1.0448706821101634,
            "count": 1
           },
           {
            "bin_start": 1.0448706821101634,
            "bin_end": 1.1941379224116155,
            "count": 0
           },
           {
            "bin_start": 1.1941379224116155,
            "bin_end": 1.3434051627130676,
            "count": 0
           },
           {
            "bin_start": 1.3434051627130676,
            "bin_end": 1.4926724030145195,
            "count": 1
           }
          ]
         }
        },
        {
         "name": "Test",
         "dtype": "float64",
         "stats": {
          "unique_count": 6,
          "nan_count": 0,
          "min": "-0.026625873671414224",
          "max": "6.076090340268602",
          "histogram": [
           {
            "bin_start": -0.026625873671414224,
            "bin_end": 0.5836457477225875,
            "count": 3
           },
           {
            "bin_start": 0.5836457477225875,
            "bin_end": 1.1939173691165892,
            "count": 2
           },
           {
            "bin_start": 1.1939173691165892,
            "bin_end": 1.804188990510591,
            "count": 0
           },
           {
            "bin_start": 1.804188990510591,
            "bin_end": 2.414460611904593,
            "count": 0
           },
           {
            "bin_start": 2.414460611904593,
            "bin_end": 3.024732233298594,
            "count": 0
           },
           {
            "bin_start": 3.024732233298594,
            "bin_end": 3.635003854692596,
            "count": 0
           },
           {
            "bin_start": 3.635003854692596,
            "bin_end": 4.245275476086597,
            "count": 0
           },
           {
            "bin_start": 4.245275476086597,
            "bin_end": 4.855547097480599,
            "count": 0
           },
           {
            "bin_start": 4.855547097480599,
            "bin_end": 5.465818718874601,
            "count": 0
           },
           {
            "bin_start": 5.465818718874601,
            "bin_end": 6.076090340268602,
            "count": 1
           }
          ]
         }
        },
        {
         "name": "_deepnote_index_column",
         "dtype": "int64"
        }
       ],
       "rows_top": [
        {
         "Error_metric": "Mean error",
         "Train": -4.02615680737876e-16,
         "Test": -0.026625873671414224,
         "_deepnote_index_column": 0
        },
        {
         "Error_metric": "Mean absolute error",
         "Train": 0.10720836528807165,
         "Test": 0.43242151144837615,
         "_deepnote_index_column": 1
        },
        {
         "Error_metric": "Mean squared error",
         "Train": 0.022161356002999465,
         "Test": 0.366338174666592,
         "_deepnote_index_column": 2
        },
        {
         "Error_metric": "Root mean squared error",
         "Train": 0.14886690701092525,
         "Test": 0.6052587666994936,
         "_deepnote_index_column": 3
        },
        {
         "Error_metric": "Mean absolute percentual error",
         "Train": 1.4926724030145195,
         "Test": 6.076090340268602,
         "_deepnote_index_column": 4
        },
        {
         "Error_metric": "R2",
         "Train": 0.9869238166563815,
         "Test": 0.7727213664253215,
         "_deepnote_index_column": 5
        }
       ],
       "rows_bottom": null
      },
      "text/plain": "                     Error_metric  Train  Test\n0                      Mean error  -0.00 -0.03\n1             Mean absolute error   0.11  0.43\n2              Mean squared error   0.02  0.37\n3         Root mean squared error   0.15  0.61\n4  Mean absolute percentual error   1.49  6.08\n5                              R2   0.99  0.77",
      "text/html": "<div>\n<style scoped>\n    .dataframe tbody tr th:only-of-type {\n        vertical-align: middle;\n    }\n\n    .dataframe tbody tr th {\n        vertical-align: top;\n    }\n\n    .dataframe thead th {\n        text-align: right;\n    }\n</style>\n<table border=\"1\" class=\"dataframe\">\n  <thead>\n    <tr style=\"text-align: right;\">\n      <th></th>\n      <th>Error_metric</th>\n      <th>Train</th>\n      <th>Test</th>\n    </tr>\n  </thead>\n  <tbody>\n    <tr>\n      <th>0</th>\n      <td>Mean error</td>\n      <td>-0.00</td>\n      <td>-0.03</td>\n    </tr>\n    <tr>\n      <th>1</th>\n      <td>Mean absolute error</td>\n      <td>0.11</td>\n      <td>0.43</td>\n    </tr>\n    <tr>\n      <th>2</th>\n      <td>Mean squared error</td>\n      <td>0.02</td>\n      <td>0.37</td>\n    </tr>\n    <tr>\n      <th>3</th>\n      <td>Root mean squared error</td>\n      <td>0.15</td>\n      <td>0.61</td>\n    </tr>\n    <tr>\n      <th>4</th>\n      <td>Mean absolute percentual error</td>\n      <td>1.49</td>\n      <td>6.08</td>\n    </tr>\n    <tr>\n      <th>5</th>\n      <td>R2</td>\n      <td>0.99</td>\n      <td>0.77</td>\n    </tr>\n  </tbody>\n</table>\n</div>"
     },
     "metadata": {}
    }
   ],
   "execution_count": null
  },
  {
   "cell_type": "markdown",
   "source": "## RFE",
   "metadata": {
    "tags": [],
    "cell_id": "00057-23c8f388-a462-4b40-b156-4ea826a2f746",
    "deepnote_cell_type": "text-cell-h2"
   }
  },
  {
   "cell_type": "code",
   "metadata": {
    "tags": [],
    "cell_id": "00058-04bb23d1-7250-4892-a947-7e2dace37655",
    "deepnote_to_be_reexecuted": false,
    "source_hash": "b3e585b6",
    "execution_start": 1620805085716,
    "execution_millis": 66,
    "deepnote_cell_type": "code"
   },
   "source": "from sklearn.feature_selection import RFE\n\n#for i in range(15,16):\n\n #   gb_rfe = gbr(random_state=1123)\n #   selector = RFE(gb_rfe, n_features_to_select=i)\n #   selector.fit(X_train, y_train)\n #   print(selector.ranking_)\n\n  #  X_reduced = X.loc[:,selector.ranking_==1]\n   # X_train_reduced, X_test_reduced, y_train_reduced, y_test_reduced = tts(X_reduced,y,test_size=0.2,random_state=1123)\n\n    #scaler_red = StandardScaler()\n\n    #scaler_red.fit(X_train_reduced)\n\n#    X_train_reduced = scaler_red.transform(X_train_reduced)\n#    X_test_reduced  = scaler_red.transform(X_test_reduced)\n#\n #   gb_red = gbr(random_state=1123)\n#\n #   gb_red.fit(X_train_reduced,y_train_reduced)\n  #  gbred_pred_tr = gb_red.predict(X_train_reduced)\n   # gbred_pred_ts = gb_red.predict(X_test_reduced)\n\n    #perf,RMSEred_grad2_train,RMSEred_grad2_test =model_performance(y_train_reduced,gbred_pred_tr,y_test_reduced,gbred_pred_ts)\n    #print(perf)",
   "outputs": [],
   "execution_count": null
  },
  {
   "cell_type": "markdown",
   "source": "# Ranking",
   "metadata": {
    "tags": [],
    "cell_id": "00047-0e421d01-df58-4a25-89c5-d351a179625c",
    "deepnote_cell_type": "text-cell-h1"
   }
  },
  {
   "cell_type": "code",
   "metadata": {
    "tags": [],
    "cell_id": "00049-c267598a-b7fa-4d80-978b-1f45796e1e4c",
    "deepnote_to_be_reexecuted": false,
    "source_hash": "5c4dc030",
    "execution_start": 1620806168070,
    "execution_millis": 72,
    "deepnote_cell_type": "code"
   },
   "source": "results = {'Model':['LinearRegression'],'RMSE Train':[np.round(RMSE_lin_reg_train,3)],'RMSE Test':[np.round(RMSE_lin_reg_test,3)],'RMSE Final':[np.nan],'R2 Final':[np.nan]}\n\nresults['Model'].append('DecisionTreeRegressor_old')\nresults['RMSE Train'].append(np.round(RMSE_dt_train,3))\nresults['RMSE Test'].append(np.round(RMSE_dt_test,3))\nresults['RMSE Final'].append(np.nan)\nresults['R2 Final'].append(np.nan)\n\nresults['Model'].append('DecisionTreeRegressor_v2')\nresults['RMSE Train'].append(np.round(RMSE_dt2_train,3))\nresults['RMSE Test'].append(np.round(RMSE_dt2_test,3))\nresults['RMSE Final'].append(np.nan)\nresults['R2 Final'].append(np.nan)\n\nresults['Model'].append('K-NN_old')\nresults['RMSE Train'].append(np.round(RMSE_y_pred_train_knn,3))\nresults['RMSE Test'].append(np.round(RMSE_y_pred_test_knn,3))\nresults['RMSE Final'].append(np.nan)\nresults['R2 Final'].append(np.nan)\n\nresults['Model'].append('K-NN_v2')\nresults['RMSE Train'].append(np.round(RMSE_y_pred_train_knn2,3)) \nresults['RMSE Test'].append(np.round(RMSE_y_pred_test_knn2,3))\nresults['RMSE Final'].append(np.nan)\nresults['R2 Final'].append(np.nan)\n\nresults['Model'].append('RandomForestRegressor_old')\nresults['RMSE Train'].append(np.round(RMSE_rf_train,3))\nresults['RMSE Test'].append(np.round(RMSE_rf_test,3))\nresults['RMSE Final'].append(0.663)\nresults['R2 Final'].append(0.632)\n\nresults['Model'].append('RandomForestRegressor_v2')\nresults['RMSE Train'].append(np.round(RMSE_rf2_train,3))\nresults['RMSE Test'].append(np.round(RMSE_rf2_test,3))\nresults['RMSE Final'].append(np.nan)\nresults['R2 Final'].append(np.nan)\n\nresults['Model'].append('RandomForestRegressor_v2_noclean')\nresults['RMSE Train'].append(np.round(RMSE_rf2_train,3))\nresults['RMSE Test'].append(np.round(RMSE_rf2_test,3))\nresults['RMSE Final'].append(0.697)\nresults['R2 Final'].append(0.593)\n\nresults['Model'].append('AdaBoostRegressor')\nresults['RMSE Train'].append(np.round(RMSE_ab_train,3))\nresults['RMSE Test'].append(np.round(RMSE_ab_test,3))\nresults['RMSE Final'].append(np.nan)\nresults['R2 Final'].append(np.nan)\n\nresults['Model'].append('GradientBoostRegressor_OLD')\nresults['RMSE Train'].append(np.round(RMSE_grad_train,3))\nresults['RMSE Test'].append(np.round(RMSE_grad_test,3))\nresults['RMSE Final'].append(0.715)\nresults['R2 Final'].append(0.572)\n\nresults['Model'].append('GradientBoostRegressor_v2')\nresults['RMSE Train'].append(np.round(RMSE_grad2_train,3))\nresults['RMSE Test'].append(np.round(RMSE_grad2_test,3))\nresults['RMSE Final'].append(0.683)\nresults['R2 Final'].append(0.61)\n\npd.DataFrame(results).sort_values('RMSE Test')",
   "outputs": [
    {
     "output_type": "execute_result",
     "execution_count": 44,
     "data": {
      "application/vnd.deepnote.dataframe.v2+json": {
       "row_count": 11,
       "column_count": 5,
       "columns": [
        {
         "name": "Model",
         "dtype": "object",
         "stats": {
          "unique_count": 11,
          "nan_count": 0,
          "categories": [
           {
            "name": "RandomForestRegressor_old",
            "count": 1
           },
           {
            "name": "GradientBoostRegressor_v2",
            "count": 1
           },
           {
            "name": "9 others",
            "count": 9
           }
          ]
         }
        },
        {
         "name": "RMSE Train",
         "dtype": "float64",
         "stats": {
          "unique_count": 9,
          "nan_count": 0,
          "min": "0.0",
          "max": "0.748",
          "histogram": [
           {
            "bin_start": 0,
            "bin_end": 0.0748,
            "count": 2
           },
           {
            "bin_start": 0.0748,
            "bin_end": 0.1496,
            "count": 1
           },
           {
            "bin_start": 0.1496,
            "bin_end": 0.22440000000000002,
            "count": 0
           },
           {
            "bin_start": 0.22440000000000002,
            "bin_end": 0.2992,
            "count": 1
           },
           {
            "bin_start": 0.2992,
            "bin_end": 0.374,
            "count": 0
           },
           {
            "bin_start": 0.374,
            "bin_end": 0.44880000000000003,
            "count": 0
           },
           {
            "bin_start": 0.44880000000000003,
            "bin_end": 0.5236000000000001,
            "count": 2
           },
           {
            "bin_start": 0.5236000000000001,
            "bin_end": 0.5984,
            "count": 0
           },
           {
            "bin_start": 0.5984,
            "bin_end": 0.6732,
            "count": 2
           },
           {
            "bin_start": 0.6732,
            "bin_end": 0.748,
            "count": 3
           }
          ]
         }
        },
        {
         "name": "RMSE Test",
         "dtype": "float64",
         "stats": {
          "unique_count": 10,
          "nan_count": 0,
          "min": "0.6",
          "max": "0.826",
          "histogram": [
           {
            "bin_start": 0.6,
            "bin_end": 0.6225999999999999,
            "count": 2
           },
           {
            "bin_start": 0.6225999999999999,
            "bin_end": 0.6452,
            "count": 2
           },
           {
            "bin_start": 0.6452,
            "bin_end": 0.6678,
            "count": 1
           },
           {
            "bin_start": 0.6678,
            "bin_end": 0.6904,
            "count": 0
           },
           {
            "bin_start": 0.6904,
            "bin_end": 0.713,
            "count": 2
           },
           {
            "bin_start": 0.713,
            "bin_end": 0.7356,
            "count": 2
           },
           {
            "bin_start": 0.7356,
            "bin_end": 0.7582,
            "count": 0
           },
           {
            "bin_start": 0.7582,
            "bin_end": 0.7807999999999999,
            "count": 0
           },
           {
            "bin_start": 0.7807999999999999,
            "bin_end": 0.8034,
            "count": 0
           },
           {
            "bin_start": 0.8034,
            "bin_end": 0.826,
            "count": 2
           }
          ]
         }
        },
        {
         "name": "RMSE Final",
         "dtype": "float64",
         "stats": {
          "unique_count": 4,
          "nan_count": 7,
          "min": "0.663",
          "max": "0.715",
          "histogram": [
           {
            "bin_start": 0.663,
            "bin_end": 0.6682,
            "count": 1
           },
           {
            "bin_start": 0.6682,
            "bin_end": 0.6734,
            "count": 0
           },
           {
            "bin_start": 0.6734,
            "bin_end": 0.6786,
            "count": 0
           },
           {
            "bin_start": 0.6786,
            "bin_end": 0.6838,
            "count": 1
           },
           {
            "bin_start": 0.6838,
            "bin_end": 0.6890000000000001,
            "count": 0
           },
           {
            "bin_start": 0.6890000000000001,
            "bin_end": 0.6942,
            "count": 0
           },
           {
            "bin_start": 0.6942,
            "bin_end": 0.6994,
            "count": 1
           },
           {
            "bin_start": 0.6994,
            "bin_end": 0.7046,
            "count": 0
           },
           {
            "bin_start": 0.7046,
            "bin_end": 0.7098,
            "count": 0
           },
           {
            "bin_start": 0.7098,
            "bin_end": 0.715,
            "count": 1
           }
          ]
         }
        },
        {
         "name": "R2 Final",
         "dtype": "float64",
         "stats": {
          "unique_count": 4,
          "nan_count": 7,
          "min": "0.572",
          "max": "0.632",
          "histogram": [
           {
            "bin_start": 0.572,
            "bin_end": 0.578,
            "count": 1
           },
           {
            "bin_start": 0.578,
            "bin_end": 0.584,
            "count": 0
           },
           {
            "bin_start": 0.584,
            "bin_end": 0.59,
            "count": 0
           },
           {
            "bin_start": 0.59,
            "bin_end": 0.596,
            "count": 1
           },
           {
            "bin_start": 0.596,
            "bin_end": 0.602,
            "count": 0
           },
           {
            "bin_start": 0.602,
            "bin_end": 0.608,
            "count": 0
           },
           {
            "bin_start": 0.608,
            "bin_end": 0.614,
            "count": 1
           },
           {
            "bin_start": 0.614,
            "bin_end": 0.62,
            "count": 0
           },
           {
            "bin_start": 0.62,
            "bin_end": 0.626,
            "count": 0
           },
           {
            "bin_start": 0.626,
            "bin_end": 0.632,
            "count": 1
           }
          ]
         }
        },
        {
         "name": "_deepnote_index_column",
         "dtype": "int64"
        }
       ],
       "rows_top": [
        {
         "Model": "RandomForestRegressor_old",
         "RMSE Train": 0.231,
         "RMSE Test": 0.6,
         "RMSE Final": "0.663",
         "R2 Final": "0.632",
         "_deepnote_index_column": 5
        },
        {
         "Model": "GradientBoostRegressor_v2",
         "RMSE Train": 0.149,
         "RMSE Test": 0.605,
         "RMSE Final": "0.683",
         "R2 Final": "0.61",
         "_deepnote_index_column": 10
        },
        {
         "Model": "RandomForestRegressor_v2",
         "RMSE Train": 0.517,
         "RMSE Test": 0.64,
         "RMSE Final": "nan",
         "R2 Final": "nan",
         "_deepnote_index_column": 6
        },
        {
         "Model": "RandomForestRegressor_v2_noclean",
         "RMSE Train": 0.517,
         "RMSE Test": 0.64,
         "RMSE Final": "0.697",
         "R2 Final": "0.593",
         "_deepnote_index_column": 7
        },
        {
         "Model": "GradientBoostRegressor_OLD",
         "RMSE Train": 0.632,
         "RMSE Test": 0.659,
         "RMSE Final": "0.715",
         "R2 Final": "0.572",
         "_deepnote_index_column": 9
        },
        {
         "Model": "K-NN_v2",
         "RMSE Train": 0.66,
         "RMSE Test": 0.695,
         "RMSE Final": "nan",
         "R2 Final": "nan",
         "_deepnote_index_column": 4
        },
        {
         "Model": "DecisionTreeRegressor_v2",
         "RMSE Train": 0.683,
         "RMSE Test": 0.706,
         "RMSE Final": "nan",
         "R2 Final": "nan",
         "_deepnote_index_column": 2
        },
        {
         "Model": "LinearRegression",
         "RMSE Train": 0.741,
         "RMSE Test": 0.716,
         "RMSE Final": "nan",
         "R2 Final": "nan",
         "_deepnote_index_column": 0
        },
        {
         "Model": "AdaBoostRegressor",
         "RMSE Train": 0.748,
         "RMSE Test": 0.728,
         "RMSE Final": "nan",
         "R2 Final": "nan",
         "_deepnote_index_column": 8
        },
        {
         "Model": "DecisionTreeRegressor_old",
         "RMSE Train": 0,
         "RMSE Test": 0.821,
         "RMSE Final": "nan",
         "R2 Final": "nan",
         "_deepnote_index_column": 1
        },
        {
         "Model": "K-NN_old",
         "RMSE Train": 0,
         "RMSE Test": 0.826,
         "RMSE Final": "nan",
         "R2 Final": "nan",
         "_deepnote_index_column": 3
        }
       ],
       "rows_bottom": null
      },
      "text/plain": "                               Model  RMSE Train  RMSE Test  RMSE Final  \\\n5          RandomForestRegressor_old        0.23       0.60        0.66   \n10         GradientBoostRegressor_v2        0.15       0.60        0.68   \n6           RandomForestRegressor_v2        0.52       0.64         NaN   \n7   RandomForestRegressor_v2_noclean        0.52       0.64        0.70   \n9         GradientBoostRegressor_OLD        0.63       0.66        0.71   \n4                            K-NN_v2        0.66       0.69         NaN   \n2           DecisionTreeRegressor_v2        0.68       0.71         NaN   \n0                   LinearRegression        0.74       0.72         NaN   \n8                  AdaBoostRegressor        0.75       0.73         NaN   \n1          DecisionTreeRegressor_old        0.00       0.82         NaN   \n3                           K-NN_old        0.00       0.83         NaN   \n\n    R2 Final  \n5       0.63  \n10      0.61  \n6        NaN  \n7       0.59  \n9       0.57  \n4        NaN  \n2        NaN  \n0        NaN  \n8        NaN  \n1        NaN  \n3        NaN  ",
      "text/html": "<div>\n<style scoped>\n    .dataframe tbody tr th:only-of-type {\n        vertical-align: middle;\n    }\n\n    .dataframe tbody tr th {\n        vertical-align: top;\n    }\n\n    .dataframe thead th {\n        text-align: right;\n    }\n</style>\n<table border=\"1\" class=\"dataframe\">\n  <thead>\n    <tr style=\"text-align: right;\">\n      <th></th>\n      <th>Model</th>\n      <th>RMSE Train</th>\n      <th>RMSE Test</th>\n      <th>RMSE Final</th>\n      <th>R2 Final</th>\n    </tr>\n  </thead>\n  <tbody>\n    <tr>\n      <th>5</th>\n      <td>RandomForestRegressor_old</td>\n      <td>0.23</td>\n      <td>0.60</td>\n      <td>0.66</td>\n      <td>0.63</td>\n    </tr>\n    <tr>\n      <th>10</th>\n      <td>GradientBoostRegressor_v2</td>\n      <td>0.15</td>\n      <td>0.60</td>\n      <td>0.68</td>\n      <td>0.61</td>\n    </tr>\n    <tr>\n      <th>6</th>\n      <td>RandomForestRegressor_v2</td>\n      <td>0.52</td>\n      <td>0.64</td>\n      <td>NaN</td>\n      <td>NaN</td>\n    </tr>\n    <tr>\n      <th>7</th>\n      <td>RandomForestRegressor_v2_noclean</td>\n      <td>0.52</td>\n      <td>0.64</td>\n      <td>0.70</td>\n      <td>0.59</td>\n    </tr>\n    <tr>\n      <th>9</th>\n      <td>GradientBoostRegressor_OLD</td>\n      <td>0.63</td>\n      <td>0.66</td>\n      <td>0.71</td>\n      <td>0.57</td>\n    </tr>\n    <tr>\n      <th>4</th>\n      <td>K-NN_v2</td>\n      <td>0.66</td>\n      <td>0.69</td>\n      <td>NaN</td>\n      <td>NaN</td>\n    </tr>\n    <tr>\n      <th>2</th>\n      <td>DecisionTreeRegressor_v2</td>\n      <td>0.68</td>\n      <td>0.71</td>\n      <td>NaN</td>\n      <td>NaN</td>\n    </tr>\n    <tr>\n      <th>0</th>\n      <td>LinearRegression</td>\n      <td>0.74</td>\n      <td>0.72</td>\n      <td>NaN</td>\n      <td>NaN</td>\n    </tr>\n    <tr>\n      <th>8</th>\n      <td>AdaBoostRegressor</td>\n      <td>0.75</td>\n      <td>0.73</td>\n      <td>NaN</td>\n      <td>NaN</td>\n    </tr>\n    <tr>\n      <th>1</th>\n      <td>DecisionTreeRegressor_old</td>\n      <td>0.00</td>\n      <td>0.82</td>\n      <td>NaN</td>\n      <td>NaN</td>\n    </tr>\n    <tr>\n      <th>3</th>\n      <td>K-NN_old</td>\n      <td>0.00</td>\n      <td>0.83</td>\n      <td>NaN</td>\n      <td>NaN</td>\n    </tr>\n  </tbody>\n</table>\n</div>"
     },
     "metadata": {}
    }
   ],
   "execution_count": null
  },
  {
   "cell_type": "code",
   "metadata": {
    "tags": [],
    "cell_id": "00057-256ff48c-b5ba-42f9-b9d7-85693c091933",
    "deepnote_to_be_reexecuted": true,
    "source_hash": "f93e316b",
    "execution_start": 1620749646633,
    "execution_millis": 4759,
    "deepnote_cell_type": "code"
   },
   "source": "rf_reg = rfr(random_state=1123,max_depth=10)\n\nrf_reg.fit(X_train,y_train)\nrf_pred_tr = rf_reg.predict(X_train)\nrf_pred_ts = rf_reg.predict(X_test)\n\n\ny_val = rf_reg.predict(X_val)\n\nsub = X_val.copy()\nsub['quality']= y_val\n\nsub.to_csv('./try1.csv')\n\nperf,_,_ =model_performance(y_train,rf_pred_tr,y_test,rf_pred_ts)\nperf",
   "execution_count": null,
   "outputs": [
    {
     "output_type": "execute_result",
     "execution_count": 122,
     "data": {
      "application/vnd.deepnote.dataframe.v2+json": {
       "row_count": 6,
       "column_count": 3,
       "columns": [
        {
         "name": "Error_metric",
         "dtype": "object",
         "stats": {
          "unique_count": 6,
          "nan_count": 0,
          "categories": [
           {
            "name": "Mean error",
            "count": 1
           },
           {
            "name": "Mean absolute error",
            "count": 1
           },
           {
            "name": "4 others",
            "count": 4
           }
          ]
         }
        },
        {
         "name": "Train",
         "dtype": "float64",
         "stats": {
          "unique_count": 6,
          "nan_count": 0,
          "min": "-0.003933481120730352",
          "max": "5.143092743032514",
          "histogram": [
           {
            "bin_start": -0.003933481120730352,
            "bin_end": 0.5107691412945942,
            "count": 4
           },
           {
            "bin_start": 0.5107691412945942,
            "bin_end": 1.0254717637099187,
            "count": 1
           },
           {
            "bin_start": 1.0254717637099187,
            "bin_end": 1.5401743861252433,
            "count": 0
           },
           {
            "bin_start": 1.5401743861252433,
            "bin_end": 2.0548770085405677,
            "count": 0
           },
           {
            "bin_start": 2.0548770085405677,
            "bin_end": 2.569579630955892,
            "count": 0
           },
           {
            "bin_start": 2.569579630955892,
            "bin_end": 3.084282253371217,
            "count": 0
           },
           {
            "bin_start": 3.084282253371217,
            "bin_end": 3.5989848757865412,
            "count": 0
           },
           {
            "bin_start": 3.5989848757865412,
            "bin_end": 4.113687498201865,
            "count": 0
           },
           {
            "bin_start": 4.113687498201865,
            "bin_end": 4.62839012061719,
            "count": 0
           },
           {
            "bin_start": 4.62839012061719,
            "bin_end": 5.143092743032514,
            "count": 1
           }
          ]
         }
        },
        {
         "name": "Test",
         "dtype": "float64",
         "stats": {
          "unique_count": 6,
          "nan_count": 0,
          "min": "-0.012693909182395978",
          "max": "7.394375502184554",
          "histogram": [
           {
            "bin_start": -0.012693909182395978,
            "bin_end": 0.7280130319542989,
            "count": 4
           },
           {
            "bin_start": 0.7280130319542989,
            "bin_end": 1.468719973090994,
            "count": 1
           },
           {
            "bin_start": 1.468719973090994,
            "bin_end": 2.2094269142276883,
            "count": 0
           },
           {
            "bin_start": 2.2094269142276883,
            "bin_end": 2.9501338553643834,
            "count": 0
           },
           {
            "bin_start": 2.9501338553643834,
            "bin_end": 3.6908407965010785,
            "count": 0
           },
           {
            "bin_start": 3.6908407965010785,
            "bin_end": 4.431547737637773,
            "count": 0
           },
           {
            "bin_start": 4.431547737637773,
            "bin_end": 5.172254678774468,
            "count": 0
           },
           {
            "bin_start": 5.172254678774468,
            "bin_end": 5.912961619911163,
            "count": 0
           },
           {
            "bin_start": 5.912961619911163,
            "bin_end": 6.6536685610478585,
            "count": 0
           },
           {
            "bin_start": 6.6536685610478585,
            "bin_end": 7.394375502184554,
            "count": 1
           }
          ]
         }
        },
        {
         "name": "_deepnote_index_column",
         "dtype": "int64"
        }
       ],
       "rows_top": [
        {
         "Error_metric": "Mean error",
         "Train": -0.003933481120730352,
         "Test": -0.012693909182395978,
         "_deepnote_index_column": 0
        },
        {
         "Error_metric": "Mean absolute error",
         "Train": 0.37633207357836224,
         "Test": 0.5153498358707939,
         "_deepnote_index_column": 1
        },
        {
         "Error_metric": "Mean squared error",
         "Train": 0.23069576557649277,
         "Test": 0.46089736207805043,
         "_deepnote_index_column": 2
        },
        {
         "Error_metric": "Root mean squared error",
         "Train": 0.480307990331717,
         "Test": 0.6788942200947438,
         "_deepnote_index_column": 3
        },
        {
         "Error_metric": "Mean absolute percentual error",
         "Train": 5.143092743032514,
         "Test": 7.394375502184554,
         "_deepnote_index_column": 4
        },
        {
         "Error_metric": "R2",
         "Train": 0.85942057800242,
         "Test": 0.7496136716559596,
         "_deepnote_index_column": 5
        }
       ],
       "rows_bottom": null
      },
      "text/plain": "                     Error_metric  Train  Test\n0                      Mean error  -0.00 -0.01\n1             Mean absolute error   0.38  0.52\n2              Mean squared error   0.23  0.46\n3         Root mean squared error   0.48  0.68\n4  Mean absolute percentual error   5.14  7.39\n5                              R2   0.86  0.75",
      "text/html": "<div>\n<style scoped>\n    .dataframe tbody tr th:only-of-type {\n        vertical-align: middle;\n    }\n\n    .dataframe tbody tr th {\n        vertical-align: top;\n    }\n\n    .dataframe thead th {\n        text-align: right;\n    }\n</style>\n<table border=\"1\" class=\"dataframe\">\n  <thead>\n    <tr style=\"text-align: right;\">\n      <th></th>\n      <th>Error_metric</th>\n      <th>Train</th>\n      <th>Test</th>\n    </tr>\n  </thead>\n  <tbody>\n    <tr>\n      <th>0</th>\n      <td>Mean error</td>\n      <td>-0.00</td>\n      <td>-0.01</td>\n    </tr>\n    <tr>\n      <th>1</th>\n      <td>Mean absolute error</td>\n      <td>0.38</td>\n      <td>0.52</td>\n    </tr>\n    <tr>\n      <th>2</th>\n      <td>Mean squared error</td>\n      <td>0.23</td>\n      <td>0.46</td>\n    </tr>\n    <tr>\n      <th>3</th>\n      <td>Root mean squared error</td>\n      <td>0.48</td>\n      <td>0.68</td>\n    </tr>\n    <tr>\n      <th>4</th>\n      <td>Mean absolute percentual error</td>\n      <td>5.14</td>\n      <td>7.39</td>\n    </tr>\n    <tr>\n      <th>5</th>\n      <td>R2</td>\n      <td>0.86</td>\n      <td>0.75</td>\n    </tr>\n  </tbody>\n</table>\n</div>"
     },
     "metadata": {}
    }
   ]
  },
  {
   "cell_type": "markdown",
   "source": "<a style='text-decoration:none;line-height:16px;display:flex;color:#5B5B62;padding:10px;justify-content:end;' href='https://deepnote.com?utm_source=created-in-deepnote-cell&projectId=c366caef-3583-4ad5-838c-f8443c705940' target=\"_blank\">\n<img alt='Created in deepnote.com' style='display:inline;max-height:16px;margin:0px;margin-right:7.5px;' src='data:image/svg+xml;base64,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' > </img>\nCreated in <span style='font-weight:600;margin-left:4px;'>Deepnote</span></a>",
   "metadata": {
    "tags": [],
    "created_in_deepnote_cell": true,
    "deepnote_cell_type": "markdown"
   }
  }
 ],
 "nbformat": 4,
 "nbformat_minor": 2,
 "metadata": {
  "orig_nbformat": 2,
  "deepnote": {
   "is_reactive": false
  },
  "deepnote_notebook_id": "d876aeaa-e6e1-4f0f-8551-077b13268422",
  "deepnote_execution_queue": []
 }
}